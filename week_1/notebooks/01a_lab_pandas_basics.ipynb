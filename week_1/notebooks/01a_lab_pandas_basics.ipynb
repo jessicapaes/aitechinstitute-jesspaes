{
 "cells": [
  {
   "cell_type": "markdown",
   "id": "0084ac83",
   "metadata": {},
   "source": [
    "# **AI TECH INSTITUTE** · *Intermediate AI & Data Science*\n",
    "### Week 01 · Lab 01A — Pandas Basics\n",
    "**Instructor:** Amir Charkhi  |  **Duration:** 45 minutes  |  **Difficulty:** ⭐⭐☆☆☆\n",
    "\n",
    "> **Goal:** Master Series and basic DataFrame operations through hands-on exercises.\n"
   ]
  },
  {
   "cell_type": "markdown",
   "id": "09ab385f",
   "metadata": {},
   "source": [
    "## Learning Objectives\n",
    "- Create and manipulate pandas Series\n",
    "- Build DataFrames from various sources\n",
    "- Perform basic selections and filtering\n",
    "- Apply simple transformations"
   ]
  },
  {
   "cell_type": "markdown",
   "id": "47ed1ac6",
   "metadata": {},
   "source": [
    "## Setup\n",
    "Run this cell first to import libraries and set up your environment."
   ]
  },
  {
   "cell_type": "code",
   "execution_count": 1,
   "id": "6a16aadc",
   "metadata": {},
   "outputs": [
    {
     "name": "stdout",
     "output_type": "stream",
     "text": [
      "🐼 Pandas version: 2.3.2\n",
      "Ready to start!\n"
     ]
    }
   ],
   "source": [
    "import pandas as pd\n",
    "import numpy as np\n",
    "\n",
    "# Display settings\n",
    "pd.set_option('display.max_rows', 10)\n",
    "pd.set_option('display.max_columns', None)\n",
    "\n",
    "print(\"🐼 Pandas version:\", pd.__version__)\n",
    "print(\"Ready to start!\")"
   ]
  },
  {
   "cell_type": "markdown",
   "id": "ed8ecef6",
   "metadata": {},
   "source": [
    "## Part 1: Series Fundamentals (15 minutes)\n",
    "Series are the building blocks of pandas - like enhanced Python lists."
   ]
  },
  {
   "cell_type": "markdown",
   "id": "9d9b16f5",
   "metadata": {},
   "source": [
    "### Exercise 1.1 — Temperature Tracker (easy)\n",
    "Create a Series of daily temperatures for a week and perform basic analysis."
   ]
  },
  {
   "cell_type": "code",
   "execution_count": 26,
   "id": "de95fc13",
   "metadata": {},
   "outputs": [
    {
     "name": "stdout",
     "output_type": "stream",
     "text": [
      "Monday       22.5\n",
      "Tuesday      23.1\n",
      "Wednesday    21.8\n",
      "Thursday     24.2\n",
      "Friday       22.9\n",
      "Saturday     25.5\n",
      "Sunday       20.3\n",
      "dtype: float64\n",
      "Hottest Day: Saturday\n",
      "Hottest Temperature: 25.5 C\n",
      "Days above 23 degrees: Tuesday, Thursday, Saturday\n",
      "Average Temperature: 22.90 C\n"
     ]
    }
   ],
   "source": [
    "# TODO: Create a Series with these temperatures: [22.5, 23.1, 21.8, 24.2, 22.9, 25.5, 20.3]\n",
    "# Use days of the week as the index\n",
    "# Your code here:\n",
    "temperatures = pd.Series([22.5, 23.1, 21.8, 24.2, 22.9, 25.5, 20.3], index=[\"Monday\", \"Tuesday\", \"Wednesday\", \"Thursday\", \"Friday\", \"Saturday\", \"Sunday\"])\n",
    "print(temperatures)\n",
    "\n",
    "# TODO: Find and print:\n",
    "# 1. The hottest day and temperature\n",
    "print(f\"Hottest Day: {temperatures.idxmax()}\")\n",
    "print(f\"Hottest Temperature: {temperatures.max()} C\")\n",
    "# 2. Days above 23 degrees\n",
    "tempabove23 = temperatures[temperatures > 23]\n",
    "print(f\"Days above 23 degrees: {', '.join(tempabove23.index)}\")\n",
    "\n",
    "# 3. Average temperature for the week\n",
    "# Your code here:\n",
    "print(f\"Average Temperature: {temperatures.mean():.2f} C\")"
   ]
  },
  {
   "cell_type": "markdown",
   "id": "3ab97775",
   "metadata": {},
   "source": [
    "<details>\n",
    "<summary><b>Hint</b></summary>\n",
    "\n",
    "- Use `pd.Series(data, index=labels)` to create the Series\n",
    "- `.idxmax()` returns the index of the maximum value\n",
    "- Boolean indexing: `series[series > value]`\n",
    "</details>"
   ]
  },
  {
   "cell_type": "markdown",
   "id": "1936fd22",
   "metadata": {},
   "source": [
    "### Exercise 1.2 — Stock Portfolio (medium)\n",
    "Track stock prices and calculate portfolio value."
   ]
  },
  {
   "cell_type": "code",
   "execution_count": 63,
   "id": "4ef71b9c",
   "metadata": {},
   "outputs": [
    {
     "name": "stdout",
     "output_type": "stream",
     "text": [
      "AAPL      $ 8775.00\n",
      "GOOGL     $ 4284.00\n",
      "MSFT     $ 16208.00\n",
      "AMZN      $ 4458.75\n",
      "dtype: object\n",
      "\n",
      "Total: $ 33725.75\n",
      "\n",
      "Allocation:\n",
      "AAPL      3.00 %\n",
      "GOOGL     7.00 %\n",
      "MSFT      2.00 %\n",
      "AMZN      7.00 %\n",
      "dtype: object\n"
     ]
    }
   ],
   "source": [
    "# Given data\n",
    "stocks = {'AAPL': 175.50, 'GOOGL': 142.80, 'MSFT': 405.20, 'AMZN': 178.35}\n",
    "shares = {'AAPL': 50, 'GOOGL': 30, 'MSFT': 40, 'AMZN': 25}\n",
    "\n",
    "# TODO: Create Series for stocks and shares\n",
    "# Your code here:\n",
    "stocks = pd.Series ({'AAPL': 175.50, 'GOOGL': 142.80, 'MSFT': 405.20, 'AMZN': 178.35})\n",
    "shares = pd.Series ({'AAPL': 50, 'GOOGL': 30, 'MSFT': 40, 'AMZN': 25})\n",
    "\n",
    "# TODO: Calculate:\n",
    "# 1. Portfolio value for each stock (price * shares)\n",
    "portfolio_stocks = stocks*shares\n",
    "formatted_portfolio = portfolio_stocks.apply(lambda x: f\"$ {x:.2f}\")\n",
    "print(f\"{formatted_portfolio}\\n\")\n",
    "\n",
    "# 2. Total portfolio value\n",
    "total_portfolio = sum(portfolio_stocks)\n",
    "print(f\"Total: $ {total_portfolio}\\n\")\n",
    "\n",
    "# 3. Percentage allocation of each stock\n",
    "# Your code here:\n",
    "allocation = total_portfolio//portfolio_stocks\n",
    "print(f\"Allocation:\")\n",
    "print(allocation.apply(lambda x: f\" {x:.2f} %\"))"
   ]
  },
  {
   "cell_type": "markdown",
   "id": "1c380357",
   "metadata": {},
   "source": [
    "### Exercise 1.3 — Sales Growth Analysis (medium)\n",
    "Analyze month-over-month sales growth."
   ]
  },
  {
   "cell_type": "code",
   "execution_count": 71,
   "id": "e2c66958",
   "metadata": {},
   "outputs": [
    {
     "name": "stdout",
     "output_type": "stream",
     "text": [
      "Jan      nan %\n",
      "Feb     6.67 %\n",
      "Mar     8.33 %\n",
      "Apr    -5.77 %\n",
      "May    12.24 %\n",
      "Jun     5.45 %\n",
      "dtype: object\n",
      "Best month: May\n",
      "Worst month: Apr\n",
      "Average monthly growth rate: 5.39%\n"
     ]
    }
   ],
   "source": [
    "# Monthly sales data\n",
    "months = ['Jan', 'Feb', 'Mar', 'Apr', 'May', 'Jun']\n",
    "sales = [45000, 48000, 52000, 49000, 55000, 58000]\n",
    "\n",
    "# TODO: Create a Series and calculate:\n",
    "sales_growth = pd.Series([45000, 48000, 52000, 49000, 55000, 58000], index=['Jan', 'Feb', 'Mar', 'Apr', 'May', 'Jun'])\n",
    "\n",
    "# 1. Month-over-month growth rate (percentage)\n",
    "current_month = sales_growth\n",
    "previous_month = sales_growth.shift(1)\n",
    "growth_rate = (current_month-previous_month)/previous_month*100\n",
    "print(growth_rate.apply(lambda x: f\"{x:.2f} %\"))\n",
    "\n",
    "# 2. Best and worst growth months\n",
    "print(f\"Best month: {growth_rate.idxmax()}\")\n",
    "print(f\"Worst month: {growth_rate.idxmin()}\")\n",
    "\n",
    "# 3. Average monthly growth rate\n",
    "# Your code here:\n",
    "print(f\"Average monthly growth rate: {growth_rate.mean():.2f}%\")"
   ]
  },
  {
   "cell_type": "markdown",
   "id": "90bc80cd",
   "metadata": {},
   "source": [
    "## Part 2: DataFrame Creation & Basic Operations (15 minutes)"
   ]
  },
  {
   "cell_type": "markdown",
   "id": "8bb01191",
   "metadata": {},
   "source": [
    "### Exercise 2.1 — Student Records (easy)\n",
    "Create and explore a student database."
   ]
  },
  {
   "cell_type": "code",
   "execution_count": 81,
   "id": "71f6f321",
   "metadata": {},
   "outputs": [
    {
     "name": "stdout",
     "output_type": "stream",
     "text": [
      "DataFrame:\n",
      "       name  age    major  gpa  credits\n",
      "0    Alice   22       CS  3.8      120\n",
      "1      Bob   24     Math  3.5      115\n",
      "2  Charlie   23       CS  3.9      125\n",
      "3    Diana   22  Physics  3.7      118\n",
      "4      Eve   25     Math  3.6      122\n",
      "\n",
      "First three rows:\n",
      "       name  age major  gpa  credits\n",
      "0    Alice   22    CS  3.8      120\n",
      "1      Bob   24  Math  3.5      115\n",
      "2  Charlie   23    CS  3.9      125\n",
      "<class 'pandas.core.frame.DataFrame'>\n",
      "RangeIndex: 5 entries, 0 to 4\n",
      "Data columns (total 5 columns):\n",
      " #   Column   Non-Null Count  Dtype  \n",
      "---  ------   --------------  -----  \n",
      " 0   name     5 non-null      object \n",
      " 1   age      5 non-null      int64  \n",
      " 2   major    5 non-null      object \n",
      " 3   gpa      5 non-null      float64\n",
      " 4   credits  5 non-null      int64  \n",
      "dtypes: float64(1), int64(2), object(2)\n",
      "memory usage: 332.0+ bytes\n"
     ]
    },
    {
     "data": {
      "text/html": [
       "<div>\n",
       "<style scoped>\n",
       "    .dataframe tbody tr th:only-of-type {\n",
       "        vertical-align: middle;\n",
       "    }\n",
       "\n",
       "    .dataframe tbody tr th {\n",
       "        vertical-align: top;\n",
       "    }\n",
       "\n",
       "    .dataframe thead th {\n",
       "        text-align: right;\n",
       "    }\n",
       "</style>\n",
       "<table border=\"1\" class=\"dataframe\">\n",
       "  <thead>\n",
       "    <tr style=\"text-align: right;\">\n",
       "      <th></th>\n",
       "      <th>name</th>\n",
       "      <th>gpa</th>\n",
       "    </tr>\n",
       "  </thead>\n",
       "  <tbody>\n",
       "    <tr>\n",
       "      <th>0</th>\n",
       "      <td>Alice</td>\n",
       "      <td>3.8</td>\n",
       "    </tr>\n",
       "    <tr>\n",
       "      <th>1</th>\n",
       "      <td>Bob</td>\n",
       "      <td>3.5</td>\n",
       "    </tr>\n",
       "    <tr>\n",
       "      <th>2</th>\n",
       "      <td>Charlie</td>\n",
       "      <td>3.9</td>\n",
       "    </tr>\n",
       "    <tr>\n",
       "      <th>3</th>\n",
       "      <td>Diana</td>\n",
       "      <td>3.7</td>\n",
       "    </tr>\n",
       "    <tr>\n",
       "      <th>4</th>\n",
       "      <td>Eve</td>\n",
       "      <td>3.6</td>\n",
       "    </tr>\n",
       "  </tbody>\n",
       "</table>\n",
       "</div>"
      ],
      "text/plain": [
       "      name  gpa\n",
       "0    Alice  3.8\n",
       "1      Bob  3.5\n",
       "2  Charlie  3.9\n",
       "3    Diana  3.7\n",
       "4      Eve  3.6"
      ]
     },
     "execution_count": 81,
     "metadata": {},
     "output_type": "execute_result"
    }
   ],
   "source": [
    "# Student data\n",
    "data = {\n",
    "    'name': ['Alice', 'Bob', 'Charlie', 'Diana', 'Eve'],\n",
    "    'age': [22, 24, 23, 22, 25],\n",
    "    'major': ['CS', 'Math', 'CS', 'Physics', 'Math'],\n",
    "    'gpa': [3.8, 3.5, 3.9, 3.7, 3.6],\n",
    "    'credits': [120, 115, 125, 118, 122]\n",
    "}\n",
    "\n",
    "# TODO: Create DataFrame and:\n",
    "students = pd.DataFrame(data)\n",
    "print(f\"DataFrame:\\n {students}\\n\")\n",
    "\n",
    "# 1. Display first 3 rows\n",
    "print(f\"First three rows:\\n {students.head(3)}\")\n",
    "\n",
    "# 2. Show DataFrame info and basic statistics\n",
    "students.info()\n",
    "students.describe()\n",
    "\n",
    "# 3. Select only name and gpa columns\n",
    "students[['name', 'gpa']]\n"
   ]
  },
  {
   "cell_type": "markdown",
   "id": "9b113c8e",
   "metadata": {},
   "source": [
    "### Exercise 2.2 — Product Inventory (medium)\n",
    "Manage an electronics store inventory."
   ]
  },
  {
   "cell_type": "code",
   "execution_count": 104,
   "id": "4be97d0a",
   "metadata": {},
   "outputs": [
    {
     "name": "stdout",
     "output_type": "stream",
     "text": [
      "     products  prices  stock categories  inventory  needs_reorder  \\\n",
      "0      Laptop    1200     15   Computer      18000           True   \n",
      "1       Mouse      25    102  Accessory       2550          False   \n",
      "2    Keyboard      80     45  Accessory       3600          False   \n",
      "3     Monitor     350     28   Computer       9800           True   \n",
      "4      Webcam     120     33  Accessory       3960          False   \n",
      "5  Headphones     150     67  Accessory      10050          False   \n",
      "\n",
      "  price_category  \n",
      "0        Premium  \n",
      "1         Budget  \n",
      "2         Budget  \n",
      "3            Mid  \n",
      "4            Mid  \n",
      "5            Mid  \n"
     ]
    }
   ],
   "source": [
    "# Create inventory DataFrame from lists\n",
    "products = ['Laptop', 'Mouse', 'Keyboard', 'Monitor', 'Webcam', 'Headphones']\n",
    "prices = [1200, 25, 80, 350, 120, 150]\n",
    "stock = [15, 102, 45, 28, 33, 67]\n",
    "categories = ['Computer', 'Accessory', 'Accessory', 'Computer', 'Accessory', 'Accessory']\n",
    "\n",
    "# TODO: Create DataFrame with these columns\n",
    "# Your code here:\n",
    "product_inventory = pd.DataFrame({\n",
    "    'products': products,\n",
    "    'prices': prices,\n",
    "    'stock': stock, \n",
    "    'categories': categories\n",
    "})\n",
    "\n",
    "# TODO: Add new columns:\n",
    "# 1. 'inventory_value' = price * stock\n",
    "product_inventory['inventory'] = product_inventory['prices']*product_inventory['stock']\n",
    "\n",
    "# 2. 'needs_reorder' = True if stock < 30\n",
    "product_inventory['needs_reorder'] = product_inventory['stock'] < 30\n",
    "\n",
    "# 3. 'price_category' = 'Budget' (<100), 'Mid' (100-500), 'Premium' (>500)\n",
    "product_inventory['price_category'] = np.where(product_inventory['prices'] < 100, 'Budget',\n",
    "                                      np.where(product_inventory['prices'] <= 500, 'Mid', 'Premium'))\n",
    "print(product_inventory)"
   ]
  },
  {
   "cell_type": "markdown",
   "id": "c5eae2dd",
   "metadata": {},
   "source": [
    "### Exercise 2.3 — Data Filtering Challenge (medium)\n",
    "Practice DataFrame filtering with multiple conditions."
   ]
  },
  {
   "cell_type": "code",
   "execution_count": 116,
   "id": "50ac5807",
   "metadata": {},
   "outputs": [
    {
     "name": "stdout",
     "output_type": "stream",
     "text": [
      "         date product  quantity  price customer_type\n",
      "0  2025-08-01       C         1  44.69       Regular\n",
      "1  2025-08-02       A        12  11.44           VIP\n",
      "2  2025-08-03       C        12  30.78           VIP\n",
      "3  2025-08-04       C        17  31.69       Regular\n",
      "4  2025-08-05       A        10  71.49           VIP\n",
      "..        ...     ...       ...    ...           ...\n",
      "15 2025-08-16       A         7  85.81           VIP\n",
      "16 2025-08-17       B        18  50.48       Regular\n",
      "17 2025-08-18       B         4  45.56           VIP\n",
      "18 2025-08-19       B        14  93.40           VIP\n",
      "19 2025-08-20       B        18  75.45           VIP\n",
      "\n",
      "[20 rows x 5 columns]\n"
     ]
    },
    {
     "data": {
      "text/html": [
       "<div>\n",
       "<style scoped>\n",
       "    .dataframe tbody tr th:only-of-type {\n",
       "        vertical-align: middle;\n",
       "    }\n",
       "\n",
       "    .dataframe tbody tr th {\n",
       "        vertical-align: top;\n",
       "    }\n",
       "\n",
       "    .dataframe thead th {\n",
       "        text-align: right;\n",
       "    }\n",
       "</style>\n",
       "<table border=\"1\" class=\"dataframe\">\n",
       "  <thead>\n",
       "    <tr style=\"text-align: right;\">\n",
       "      <th></th>\n",
       "      <th>date</th>\n",
       "      <th>product</th>\n",
       "      <th>quantity</th>\n",
       "      <th>price</th>\n",
       "      <th>customer_type</th>\n",
       "    </tr>\n",
       "  </thead>\n",
       "  <tbody>\n",
       "    <tr>\n",
       "      <th>4</th>\n",
       "      <td>2025-08-05</td>\n",
       "      <td>A</td>\n",
       "      <td>10</td>\n",
       "      <td>71.49</td>\n",
       "      <td>VIP</td>\n",
       "    </tr>\n",
       "    <tr>\n",
       "      <th>5</th>\n",
       "      <td>2025-08-06</td>\n",
       "      <td>A</td>\n",
       "      <td>16</td>\n",
       "      <td>64.90</td>\n",
       "      <td>Regular</td>\n",
       "    </tr>\n",
       "    <tr>\n",
       "      <th>6</th>\n",
       "      <td>2025-08-07</td>\n",
       "      <td>C</td>\n",
       "      <td>15</td>\n",
       "      <td>84.99</td>\n",
       "      <td>VIP</td>\n",
       "    </tr>\n",
       "  </tbody>\n",
       "</table>\n",
       "</div>"
      ],
      "text/plain": [
       "        date product  quantity  price customer_type\n",
       "4 2025-08-05       A        10  71.49           VIP\n",
       "5 2025-08-06       A        16  64.90       Regular\n",
       "6 2025-08-07       C        15  84.99           VIP"
      ]
     },
     "execution_count": 116,
     "metadata": {},
     "output_type": "execute_result"
    }
   ],
   "source": [
    "# Create sales data\n",
    "np.random.seed(42)\n",
    "sales_data = pd.DataFrame({\n",
    "    'date': pd.date_range('2025-08-01', periods=20),\n",
    "    'product': np.random.choice(['A', 'B', 'C'], 20),\n",
    "    'quantity': np.random.randint(1, 20, 20),\n",
    "    'price': np.random.uniform(10, 100, 20).round(2),\n",
    "    'customer_type': np.random.choice(['Regular', 'VIP'], 20)\n",
    "})\n",
    "\n",
    "# TODO: Find:\n",
    "print(sales_data)\n",
    "\n",
    "# 1. All VIP customer purchases\n",
    "sales_data[sales_data['customer_type'] == 'VIP']\n",
    "\n",
    "# 2. Product A sales with quantity > 10\n",
    "sales_data[(sales_data['product'] == 'A') & (sales_data['quantity'] > 10)]\n",
    "\n",
    "# 3. Sales between Aug 5-10 with price > 50\n",
    "sales_data[(sales_data['date'] >= '2025-08-05') & \n",
    "           (sales_data['date'] <= '2025-08-10') & \n",
    "           (sales_data['price'] > 50)]"
   ]
  },
  {
   "cell_type": "markdown",
   "id": "337a17f5",
   "metadata": {},
   "source": [
    "## Part 3: Data Selection & Indexing (15 minutes)"
   ]
  },
  {
   "cell_type": "markdown",
   "id": "9386db74",
   "metadata": {
    "editable": true,
    "slideshow": {
     "slide_type": ""
    },
    "tags": []
   },
   "source": [
    "### Exercise 3.1 — loc vs iloc Practice (medium)\n",
    "Master the difference between label and position-based selection."
   ]
  },
  {
   "cell_type": "code",
   "execution_count": 132,
   "id": "3fbfe00f",
   "metadata": {},
   "outputs": [
    {
     "name": "stdout",
     "output_type": "stream",
     "text": [
      "Original DataFrame:\n",
      "       A   B   C\n",
      "row1   1   2   3\n",
      "row2   4   5   6\n",
      "row3   7   8   9\n",
      "row4  10  11  12\n",
      "row5  13  14  15\n",
      "\n"
     ]
    },
    {
     "data": {
      "text/html": [
       "<div>\n",
       "<style scoped>\n",
       "    .dataframe tbody tr th:only-of-type {\n",
       "        vertical-align: middle;\n",
       "    }\n",
       "\n",
       "    .dataframe tbody tr th {\n",
       "        vertical-align: top;\n",
       "    }\n",
       "\n",
       "    .dataframe thead th {\n",
       "        text-align: right;\n",
       "    }\n",
       "</style>\n",
       "<table border=\"1\" class=\"dataframe\">\n",
       "  <thead>\n",
       "    <tr style=\"text-align: right;\">\n",
       "      <th></th>\n",
       "      <th>A</th>\n",
       "      <th>B</th>\n",
       "      <th>C</th>\n",
       "    </tr>\n",
       "  </thead>\n",
       "  <tbody>\n",
       "    <tr>\n",
       "      <th>row1</th>\n",
       "      <td>1</td>\n",
       "      <td>2</td>\n",
       "      <td>3</td>\n",
       "    </tr>\n",
       "    <tr>\n",
       "      <th>row3</th>\n",
       "      <td>7</td>\n",
       "      <td>8</td>\n",
       "      <td>9</td>\n",
       "    </tr>\n",
       "    <tr>\n",
       "      <th>row5</th>\n",
       "      <td>13</td>\n",
       "      <td>14</td>\n",
       "      <td>15</td>\n",
       "    </tr>\n",
       "  </tbody>\n",
       "</table>\n",
       "</div>"
      ],
      "text/plain": [
       "       A   B   C\n",
       "row1   1   2   3\n",
       "row3   7   8   9\n",
       "row5  13  14  15"
      ]
     },
     "execution_count": 132,
     "metadata": {},
     "output_type": "execute_result"
    }
   ],
   "source": [
    "# Create sample DataFrame\n",
    "df = pd.DataFrame({\n",
    "    'A': [1, 4, 7, 10, 13],\n",
    "    'B': [2, 5, 8, 11, 14],\n",
    "    'C': [3, 6, 9, 12, 15]\n",
    "}, index=['row1', 'row2', 'row3', 'row4', 'row5'])\n",
    "\n",
    "print(\"Original DataFrame:\")\n",
    "print(df)\n",
    "print()\n",
    "\n",
    "# TODO: Use loc to:\n",
    "# 1. Select row2 to row4, columns A and C\n",
    "df.loc['row2':'row4', ['A','C']]\n",
    "\n",
    "# 2. Select all rows where column B > 8\n",
    "# Your code here:\n",
    "df.loc[df['B']>8, :]\n",
    "\n",
    "# TODO: Use iloc to:\n",
    "# 1. Select first 3 rows and last 2 columns\n",
    "df.iloc[0:3, -2:]\n",
    "\n",
    "# 2. Select every other row\n",
    "# Your code here:\n",
    "df.iloc[::2, :]"
   ]
  },
  {
   "cell_type": "markdown",
   "id": "2e5a6ceb",
   "metadata": {},
   "source": [
    "### Exercise 3.2 — Customer Segmentation (hard)\n",
    "Segment customers based on purchase behavior."
   ]
  },
  {
   "cell_type": "code",
   "execution_count": 151,
   "id": "1455d452-38a2-40e3-8cbc-7d6f1fb0d6e5",
   "metadata": {},
   "outputs": [
    {
     "name": "stdout",
     "output_type": "stream",
     "text": [
      "    customer_id  total_purchases  total_spent  days_since_last_purchase  \\\n",
      "0             1                9       2083.0                        18   \n",
      "1             2               25       2267.0                        46   \n",
      "2             3                4        248.0                        90   \n",
      "3             4               40       3902.0                       174   \n",
      "4             5               24       2800.0                        36   \n",
      "..          ...              ...          ...                       ...   \n",
      "45           46               35       4681.0                        75   \n",
      "46           47               28        268.0                        31   \n",
      "47           48               47       3464.0                        68   \n",
      "48           49               31       2251.0                       157   \n",
      "49           50               49       4891.0                       166   \n",
      "\n",
      "    avg_order_value  \n",
      "0             231.0  \n",
      "1              91.0  \n",
      "2              62.0  \n",
      "3              98.0  \n",
      "4             117.0  \n",
      "..              ...  \n",
      "45            134.0  \n",
      "46             10.0  \n",
      "47             74.0  \n",
      "48             73.0  \n",
      "49            100.0  \n",
      "\n",
      "[50 rows x 5 columns]\n",
      "    customer_id  total_purchases  total_spent  days_since_last_purchase  \\\n",
      "0             1                9       2083.0                        18   \n",
      "1             2               25       2267.0                        46   \n",
      "2             3                4        248.0                        90   \n",
      "3             4               40       3902.0                       174   \n",
      "4             5               24       2800.0                        36   \n",
      "..          ...              ...          ...                       ...   \n",
      "45           46               35       4681.0                        75   \n",
      "46           47               28        268.0                        31   \n",
      "47           48               47       3464.0                        68   \n",
      "48           49               31       2251.0                       157   \n",
      "49           50               49       4891.0                       166   \n",
      "\n",
      "    avg_order_value  segment  \n",
      "0             231.0  Regular  \n",
      "1              91.0    Loyal  \n",
      "2              62.0  Regular  \n",
      "3              98.0  At Risk  \n",
      "4             117.0    Loyal  \n",
      "..              ...      ...  \n",
      "45            134.0  Regular  \n",
      "46             10.0    Loyal  \n",
      "47             74.0  Regular  \n",
      "48             73.0  At Risk  \n",
      "49            100.0  At Risk  \n",
      "\n",
      "[50 rows x 6 columns]\n",
      "segment\n",
      "At Risk      24\n",
      "Regular      17\n",
      "Champions     5\n",
      "Loyal         4\n",
      "Name: count, dtype: int64\n"
     ]
    }
   ],
   "source": [
    "# Generate customer data\n",
    "np.random.seed(100)\n",
    "customers = pd.DataFrame({\n",
    "    'customer_id': range(1, 51),\n",
    "    'total_purchases': np.random.randint(1, 50, 50),\n",
    "    'total_spent': np.random.uniform(100, 5000, 50).round(2),\n",
    "    'days_since_last_purchase': np.random.randint(1, 180, 50)\n",
    "})\n",
    "\n",
    "# TODO: Create customer segments:\n",
    "# 1. Add 'avg_order_value' column\n",
    "customers['avg_order_value'] = (customers['total_spent'] / customers['total_purchases'])\n",
    "print(customers.round())\n",
    "\n",
    "# 2. Add 'segment' column based on:\n",
    "#    - 'Champions': total_spent > 3000 AND days_since_last_purchase < 30\n",
    "#    - 'Loyal': total_purchases > 20 AND days_since_last_purchase < 60\n",
    "#    - 'At Risk': days_since_last_purchase > 90\n",
    "#    - 'Regular': all others\n",
    "import numpy as np\n",
    "champions = (customers['total_spent'] > 3000) & (customers['days_since_last_purchase'] < 30)\n",
    "loyal = (customers['total_purchases'] > 20) & (customers['days_since_last_purchase'] < 60)\n",
    "at_risk = customers['days_since_last_purchase'] > 90\n",
    "conditions = [champions, loyal, at_risk]\n",
    "choices = ['Champions', 'Loyal', 'At Risk']\n",
    "customers['segment'] = np.select(conditions, choices, default='Regular')\n",
    "print(customers.round())\n",
    "\n",
    "# 3. Count customers in each segment\n",
    "print(customers['segment'].value_counts())"
   ]
  },
  {
   "cell_type": "markdown",
   "id": "f6fa37f5",
   "metadata": {},
   "source": [
    "## Part 4: Challenge Problems (15 minutes)"
   ]
  },
  {
   "cell_type": "markdown",
   "id": "551f0e57",
   "metadata": {},
   "source": [
    "### Challenge 1 — Missing Data Handler (hard)\n",
    "Clean and impute missing values intelligently."
   ]
  },
  {
   "cell_type": "code",
   "execution_count": 164,
   "id": "4408f617",
   "metadata": {},
   "outputs": [
    {
     "name": "stdout",
     "output_type": "stream",
     "text": [
      "Messy data:\n",
      "  product  price  stock     category  rating\n",
      "0       A  100.0   50.0  Electronics     4.5\n",
      "1       B    NaN   30.0  Electronics     4.2\n",
      "2       C  150.0    NaN         None     NaN\n",
      "3       D  200.0   45.0     Clothing     3.8\n",
      "4       E    NaN   60.0     Clothing     4.6\n",
      "5       F  180.0    NaN  Electronics     NaN\n",
      "\n",
      "             count   mean   std    min    25%    50%    75%    max\n",
      "category                                                          \n",
      "Clothing       2.0  200.0   0.0  200.0  200.0  200.0  200.0  200.0\n",
      "Electronics    3.0  140.0  40.0  100.0  120.0  140.0  160.0  180.0\n",
      "Missing values per column:\n",
      "product     0\n",
      "price       0\n",
      "stock       0\n",
      "category    0\n",
      "rating      0\n",
      "dtype: int64\n",
      "Data Cleaning Report:\n",
      "- Filled missing prices with category averages\n",
      "- Filled missing stock with median values\n",
      "- Filled missing categories based on price ranges\n",
      "- Filled missing ratings with overall average\n",
      "Cleaned Dataset:\n",
      "  product  price  stock     category  rating\n",
      "0       A  100.0   50.0  Electronics   4.500\n",
      "1       B  140.0   30.0  Electronics   4.200\n",
      "2       C  150.0   47.5  Electronics   4.275\n",
      "3       D  200.0   45.0     Clothing   3.800\n",
      "4       E  200.0   60.0     Clothing   4.600\n",
      "5       F  180.0   47.5  Electronics   4.275\n",
      "\n",
      "Total missing values remaining: 0\n"
     ]
    }
   ],
   "source": [
    "# Create data with missing values\n",
    "messy_data = pd.DataFrame({\n",
    "    'product': ['A', 'B', 'C', 'D', 'E', 'F'],\n",
    "    'price': [100, None, 150, 200, None, 180],\n",
    "    'stock': [50, 30, None, 45, 60, None],\n",
    "    'category': ['Electronics', 'Electronics', None, 'Clothing', 'Clothing', 'Electronics'],\n",
    "    'rating': [4.5, 4.2, None, 3.8, 4.6, None]\n",
    "})\n",
    "\n",
    "print(\"Messy data:\")\n",
    "print(messy_data)\n",
    "print()\n",
    "\n",
    "# TODO: Clean the data:\n",
    "# 1. Fill missing prices with category average\n",
    "messy_data['price'] = messy_data['price'].fillna(messy_data.groupby('category')['price'].transform('mean'))\n",
    "\n",
    "\n",
    "# 2. Fill missing stock with median stock\n",
    "messy_data['stock'] = messy_data['stock'].fillna(messy_data['stock'].median())\n",
    "\n",
    "\n",
    "# 3. Fill missing categories by looking at similar price ranges\n",
    "print(messy_data.groupby('category')['price'].describe())\n",
    "# Create a mask for missing categories\n",
    "missing_cat = messy_data['category'].isna()\n",
    "# Fill based on price ranges \n",
    "messy_data.loc[missing_cat & (messy_data['price'] <= 180), 'category'] = 'Electronics'\n",
    "messy_data.loc[missing_cat & (messy_data['price'] > 180), 'category'] = 'Clothing'\n",
    "\n",
    "\n",
    "# 4. Fill missing ratings with overall average\n",
    "messy_data['rating'] = messy_data['rating'].fillna(messy_data['rating'].mean())\n",
    "\n",
    "\n",
    "# 5. Create a report showing what was fixed\n",
    "# Your code here:\n",
    "# Show missing values in each column\n",
    "print(\"Missing values per column:\")\n",
    "print(messy_data.isnull().sum())\n",
    "\n",
    "print(\"Data Cleaning Report:\")\n",
    "print(\"- Filled missing prices with category averages\")\n",
    "print(\"- Filled missing stock with median values\") \n",
    "print(\"- Filled missing categories based on price ranges\")\n",
    "print(\"- Filled missing ratings with overall average\")\n",
    "\n",
    "print(\"Cleaned Dataset:\")\n",
    "print(messy_data)\n",
    "print(f\"\\nTotal missing values remaining: {messy_data.isnull().sum().sum()}\")"
   ]
  },
  {
   "cell_type": "markdown",
   "id": "b26f9b89",
   "metadata": {},
   "source": [
    "### Challenge 2 — Time Series Basics (hard)\n",
    "Analyze daily sales patterns."
   ]
  },
  {
   "cell_type": "code",
   "execution_count": 169,
   "id": "1e55e3cf",
   "metadata": {},
   "outputs": [
    {
     "name": "stdout",
     "output_type": "stream",
     "text": [
      "         date        sales day_of_week  rolling_avg\n",
      "0  2025-07-01  3113.000000     Tuesday          NaN\n",
      "1  2025-07-02  1714.915741   Wednesday          NaN\n",
      "2  2025-07-03  3717.463956    Thursday          NaN\n",
      "3  2025-07-04  3904.941870      Friday          NaN\n",
      "4  2025-07-05  3174.058130    Saturday          NaN\n",
      "..        ...          ...         ...          ...\n",
      "25 2025-07-26  1692.058130    Saturday  3575.000000\n",
      "26 2025-07-27  3233.536044      Sunday  3652.285714\n",
      "27 2025-07-28  2288.084259      Monday  3447.714286\n",
      "28 2025-07-29  4217.000000     Tuesday  3657.142857\n",
      "29 2025-07-30  2758.915741   Wednesday  3476.285714\n",
      "\n",
      "[30 rows x 4 columns]\n",
      "Best day: Friday\n",
      "Worst day: Saturday\n",
      "date\n",
      "2025-07-06          NaN\n",
      "2025-07-13    25.208974\n",
      "2025-07-20   -19.211047\n",
      "2025-07-27    42.341740\n",
      "2025-08-03   -63.764375\n",
      "Freq: W-SUN, Name: sales, dtype: float64\n"
     ]
    }
   ],
   "source": [
    "# Generate time series data\n",
    "dates = pd.date_range('2025-07-01', periods=30)\n",
    "daily_sales = pd.DataFrame({\n",
    "    'date': dates,\n",
    "    'sales': np.random.randint(1000, 5000, 30) + \n",
    "             np.sin(np.arange(30) * 2 * np.pi / 7) * 500  # Weekly pattern\n",
    "})\n",
    "\n",
    "# TODO: Analyze the time series:\n",
    "# 1. Add day_of_week column\n",
    "daily_sales['day_of_week'] = daily_sales['date'].dt.day_name()\n",
    "\n",
    "# 2. Calculate 7-day rolling average\n",
    "daily_sales['rolling_avg'] = daily_sales['sales'].rolling(window=7).mean()\n",
    "print(daily_sales)\n",
    "\n",
    "# 3. Find best and worst days of the week\n",
    "daily_avg = daily_sales.groupby('day_of_week')['sales'].mean()\n",
    "best_day = daily_avg.idxmax()\n",
    "worst_day = daily_avg.idxmin()\n",
    "print(f\"Best day: {best_day}\")\n",
    "print(f\"Worst day: {worst_day}\")\n",
    "\n",
    "# 4. Calculate week-over-week growth\n",
    "# Your code here:\n",
    "weekly_sales = daily_sales.set_index('date').resample('W')['sales'].sum()\n",
    "weekly_growth = weekly_sales.pct_change() * 100\n",
    "print(weekly_growth)"
   ]
  },
  {
   "cell_type": "markdown",
   "id": "47769abf",
   "metadata": {},
   "source": [
    "### Challenge 3 — Data Aggregation Pipeline (hard)\n",
    "Build a complete analysis pipeline."
   ]
  },
  {
   "cell_type": "code",
   "execution_count": 179,
   "id": "86cc26e1",
   "metadata": {
    "scrolled": true
   },
   "outputs": [
    {
     "name": "stdout",
     "output_type": "stream",
     "text": [
      "  Product  Total_Revenue\n",
      "0  Laptop       24941.12\n",
      "1   Phone       23487.18\n",
      "2  Tablet       30381.74\n",
      "3   Watch       25319.93\n"
     ]
    }
   ],
   "source": [
    "# E-commerce transaction data\n",
    "np.random.seed(42)\n",
    "transactions = pd.DataFrame({\n",
    "    'transaction_id': range(1, 101),\n",
    "    'customer_id': np.random.randint(1, 21, 100),\n",
    "    'product': np.random.choice(['Laptop', 'Phone', 'Tablet', 'Watch'], 100),\n",
    "    'amount': np.random.uniform(100, 2000, 100).round(2),\n",
    "    'date': pd.date_range('2025-08-01', periods=100, freq='h')\n",
    "})\n",
    "\n",
    "# TODO: Create a comprehensive analysis:\n",
    "# 1. Calculate total revenue by product\n",
    "total_revenue = transactions.groupby('product')['amount'].sum()\n",
    "\n",
    "# 2. Find top 5 customers by total spending  \n",
    "top_5_cust = transactions.groupby('customer_id')['amount'].sum().nlargest(5)\n",
    "\n",
    "# 3. Identify peak shopping hours\n",
    "peak_hours = transactions.groupby(transactions['date'].dt.hour).size()\n",
    "busiest_hour = peak_hours.idxmax()\n",
    "\n",
    "# 4. Skip customer metrics for now\n",
    "\n",
    "# 5. Create a summary report DataFrame\n",
    "summary_report = pd.DataFrame({\n",
    "    'Product': total_revenue.index,\n",
    "    'Total_Revenue': total_revenue.values\n",
    "})\n",
    "print(summary_report)"
   ]
  },
  {
   "cell_type": "markdown",
   "id": "8e83438c",
   "metadata": {},
   "source": [
    "## 🎯 Bonus Challenge: Real-World Mini Project\n",
    "Combine everything you've learned!"
   ]
  },
  {
   "cell_type": "code",
   "execution_count": 184,
   "id": "04b9cbdf",
   "metadata": {},
   "outputs": [
    {
     "name": "stdout",
     "output_type": "stream",
     "text": [
      "     order_id  location     item  quantity  price day_of_week  meal_type  \\\n",
      "0           1   Airport     Fish         2  24.88         Fri  Breakfast   \n",
      "1           2  Downtown    Pizza         2  18.35         Tue     Dinner   \n",
      "2           3  Downtown    Salad         2  42.52         Tue     Dinner   \n",
      "3           4   Airport  Dessert         1  19.63         Sat  Breakfast   \n",
      "4           5   Airport   Burger         1  41.66         Fri     Dinner   \n",
      "..        ...       ...      ...       ...    ...         ...        ...   \n",
      "195       196   Airport    Pasta         2  24.51         Sun     Dinner   \n",
      "196       197  Downtown     Soup         2  32.55         Wed     Dinner   \n",
      "197       198   Airport     Soup         3  28.33         Fri      Lunch   \n",
      "198       199      Mall    Salad         4   9.02         Mon     Dinner   \n",
      "199       200  Downtown    Pasta         3   9.18         Wed     Dinner   \n",
      "\n",
      "     order_value  \n",
      "0          49.76  \n",
      "1          36.70  \n",
      "2          85.04  \n",
      "3          19.63  \n",
      "4          41.66  \n",
      "..           ...  \n",
      "195        49.02  \n",
      "196        65.10  \n",
      "197        84.99  \n",
      "198        36.08  \n",
      "199        27.54  \n",
      "\n",
      "[200 rows x 8 columns]\n",
      "         order_value                 quantity  price\n",
      "               count      sum   mean      sum   mean\n",
      "location                                            \n",
      "Airport           54  3417.62  63.29      134  25.34\n",
      "Downtown          49  3379.27  68.96      126  26.15\n",
      "Mall              56  3893.16  69.52      144  27.45\n",
      "Suburb            41  2747.74  67.02      102  26.67\n"
     ]
    }
   ],
   "source": [
    "# Restaurant order analysis\n",
    "# You're analyzing data for a restaurant chain\n",
    "\n",
    "# Generate realistic restaurant data\n",
    "np.random.seed(123)\n",
    "menu_items = ['Burger', 'Pizza', 'Salad', 'Pasta', 'Steak', 'Fish', 'Soup', 'Dessert']\n",
    "locations = ['Downtown', 'Mall', 'Airport', 'Suburb']\n",
    "\n",
    "orders = pd.DataFrame({\n",
    "    'order_id': range(1, 201),\n",
    "    'location': np.random.choice(locations, 200, p=[0.3, 0.25, 0.2, 0.25]),\n",
    "    'item': np.random.choice(menu_items, 200),\n",
    "    'quantity': np.random.randint(1, 5, 200),\n",
    "    'price': np.random.uniform(8, 45, 200).round(2),\n",
    "    'day_of_week': np.random.choice(['Mon', 'Tue', 'Wed', 'Thu', 'Fri', 'Sat', 'Sun'], 200),\n",
    "    'meal_type': np.random.choice(['Breakfast', 'Lunch', 'Dinner'], 200, p=[0.2, 0.35, 0.45])\n",
    "})\n",
    "\n",
    "# TODO: Complete analysis to answer these business questions:\n",
    "# 1. Which location has the highest average order value?\n",
    "orders ['order_value'] = orders['price'] * orders['quantity']\n",
    "aov_by_location = orders.groupby('location')['order_value'].mean()\n",
    "print(orders)\n",
    "\n",
    "# 2. What's the most popular item at each location?\n",
    "item_counts = orders.groupby(['location', 'item']).size()\n",
    "most_popular = item_counts.groupby('location').idxmax()\n",
    "\n",
    "# 3. Which meal type generates the most revenue?\n",
    "highest_revenue_meal = orders.groupby('meal_type')['order_value'].sum().idxmax()\n",
    "\n",
    "# 4. What's the busiest day of the week?\n",
    "busiest_day = orders.groupby('day_of_week').size().idxmax()\n",
    "\n",
    "# 5. Create a location performance summary with key metrics\n",
    "location_summary = orders.groupby('location').agg({\n",
    "    'order_value': ['count', 'sum', 'mean'],  # Order count, total revenue, avg order value\n",
    "    'quantity': 'sum',                         # Total items sold\n",
    "    'price': 'mean'                           # Average item price\n",
    "}).round(2)\n",
    "print(location_summary)"
   ]
  },
  {
   "cell_type": "markdown",
   "id": "9bc427af",
   "metadata": {},
   "source": [
    "## 📊 Lab Summary Checklist\n",
    "Before submitting, ensure you've completed:\n",
    "\n",
    "- [ ] All Series exercises (1.1 - 1.3)\n",
    "- [ ] DataFrame creation and operations (2.1 - 2.3)\n",
    "- [ ] Selection and indexing practice (3.1 - 3.2)\n",
    "- [ ] At least 2 challenge problems\n",
    "- [ ] Bonus challenge (optional)\n",
    "\n",
    "**Self-Assessment:**\n",
    "- I can create and manipulate Series ✅\n",
    "- I can build DataFrames from various sources ✅\n",
    "- I understand loc vs iloc selection ✅\n",
    "- I can filter data with multiple conditions ✅\n",
    "- I can add and modify columns ✅"
   ]
  },
  {
   "cell_type": "markdown",
   "id": "85d6cd36",
   "metadata": {
    "editable": true,
    "slideshow": {
     "slide_type": ""
    },
    "tags": []
   },
   "source": [
    "## 🚀 What's Next?\n",
    "**Lab 01B:** Data wrangling with groupby, merge, and pivot operations!"
   ]
  }
 ],
 "metadata": {
  "kernelspec": {
   "display_name": "Python [conda env:venv]",
   "language": "python",
   "name": "conda-env-venv-py"
  },
  "language_info": {
   "codemirror_mode": {
    "name": "ipython",
    "version": 3
   },
   "file_extension": ".py",
   "mimetype": "text/x-python",
   "name": "python",
   "nbconvert_exporter": "python",
   "pygments_lexer": "ipython3",
   "version": "3.12.0"
  }
 },
 "nbformat": 4,
 "nbformat_minor": 5
}
