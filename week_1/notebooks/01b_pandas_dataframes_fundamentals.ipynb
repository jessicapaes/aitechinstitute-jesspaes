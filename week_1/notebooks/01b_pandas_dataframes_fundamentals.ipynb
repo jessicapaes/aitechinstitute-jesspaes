{
 "cells": [
  {
   "cell_type": "markdown",
   "id": "6e8287c6",
   "metadata": {},
   "source": [
    "# **AI TECH INSTITUTE** · *Intermediate AI & Data Science*\n",
    "### Week 01 · Notebook 02 — DataFrames Fundamentals\n",
    "**Instructor:** Amir Charkhi  |  **Goal:** Master DataFrame creation, selection, and basic operations.\n",
    "\n",
    "> Format: build on Series knowledge → explore 2D data → practice real operations.\n"
   ]
  },
  {
   "cell_type": "markdown",
   "id": "4a35e8bb",
   "metadata": {},
   "source": [
    "---\n",
    "## From Series to DataFrames\n",
    "Think of a DataFrame as a collection of Series sharing the same index - like a spreadsheet!"
   ]
  },
  {
   "cell_type": "code",
   "execution_count": 2,
   "id": "da6e4326",
   "metadata": {},
   "outputs": [
    {
     "name": "stdout",
     "output_type": "stream",
     "text": [
      "Our first DataFrame:\n",
      "      name  age  grade\n",
      "0    Alice   22     85\n",
      "1      Bob   24     78\n",
      "2  Charlie   23     92\n",
      "\n",
      "Shape: (3, 3) (rows, columns)\n",
      "Columns: ['name', 'age', 'grade']\n",
      "Data types:\n",
      "name     object\n",
      "age       int64\n",
      "grade     int64\n",
      "dtype: object\n"
     ]
    }
   ],
   "source": [
    "import pandas as pd\n",
    "import numpy as np\n",
    "\n",
    "# Remember Week 0: list of dictionaries?\n",
    "students_list = [\n",
    "    {'name': 'Alice', 'age': 22, 'grade': 85},\n",
    "    {'name': 'Bob', 'age': 24, 'grade': 78},\n",
    "    {'name': 'Charlie', 'age': 23, 'grade': 92}\n",
    "]\n",
    "\n",
    "# Now as a DataFrame!\n",
    "df = pd.DataFrame(students_list)\n",
    "print(\"Our first DataFrame:\")\n",
    "print(df)\n",
    "print(f\"\\nShape: {df.shape} (rows, columns)\")\n",
    "print(f\"Columns: {df.columns.tolist()}\")\n",
    "print(f\"Data types:\\n{df.dtypes}\")"
   ]
  },
  {
   "cell_type": "markdown",
   "id": "5b4f40a1",
   "metadata": {},
   "source": [
    "## 1. Creating DataFrames - Multiple Ways"
   ]
  },
  {
   "cell_type": "code",
<<<<<<< HEAD
   "execution_count": 3,
=======
   "execution_count": null,
   "id": "ecc75b0f-aac0-43ca-8061-f3dd27017a00",
   "metadata": {},
   "outputs": [],
   "source": [
    "data_dict = {\n",
    "    'Product': ['Laptop', 'Mouse', 'Keyboard', 'Monitor', 'Webcam'],\n",
    "    'Price': [1200, 25, 80, 350, 120],\n",
    "    'Stock': [15, 102, 45, 28, 33],\n",
    "    'Category': ['Electronics', 'Accessories', 'Accessories', 'Electronics', 'Accessories']\n",
    "}\n",
    "\n",
    "pd.DataFrame(data_dict)"
   ]
  },
  {
   "cell_type": "code",
   "execution_count": null,
   "id": "963f8553-02c5-4fee-adc6-8a408d9980e0",
   "metadata": {},
   "outputs": [],
   "source": [
    "pd.DataFrame(np.array([[25, 180, 68], [28, 175, 72], [22, 165, 58]]),\n",
    "            columns=['Age', 'Height_cm', 'Weight_kg'],\n",
    "            index=['Person_1', 'Person_2', 'Person_3']).reset_index(inplace=True)"
   ]
  },
  {
   "cell_type": "code",
   "execution_count": null,
>>>>>>> 524cceb99e5c22223fdfc7c583c293eac4e1c354
   "id": "d0037003",
   "metadata": {},
   "outputs": [
    {
     "name": "stdout",
     "output_type": "stream",
     "text": [
      "Products DataFrame:\n",
      "    Product  Price  Stock     Category\n",
      "0    Laptop   1200     15  Electronics\n",
      "1     Mouse     25    102  Accessories\n",
      "2  Keyboard     80     45  Accessories\n",
      "3   Monitor    350     28  Electronics\n",
      "4    Webcam    120     33  Accessories\n",
      "\n",
      "People DataFrame:\n",
      "          Age  Height_cm  Weight_kg\n",
      "Person_1   25        180         68\n",
      "Person_2   28        175         72\n",
      "Person_3   22        165         58\n"
     ]
    }
   ],
   "source": [
    "# Method 1: From dictionary of lists\n",
    "data_dict = {\n",
    "    'Product': ['Laptop', 'Mouse', 'Keyboard', 'Monitor', 'Webcam'],\n",
    "    'Price': [1200, 25, 80, 350, 120],\n",
    "    'Stock': [15, 102, 45, 28, 33],\n",
    "    'Category': ['Electronics', 'Accessories', 'Accessories', 'Electronics', 'Accessories']\n",
    "}\n",
    "\n",
    "products_df = pd.DataFrame(data_dict)\n",
    "print(\"Products DataFrame:\")\n",
    "print(products_df)\n",
    "\n",
    "# Method 2: From NumPy array with custom columns and index\n",
    "data_array = np.array([[25, 180, 68], [28, 175, 72], [22, 165, 58]])\n",
    "people_df = pd.DataFrame(\n",
    "    data_array,\n",
    "    columns=['Age', 'Height_cm', 'Weight_kg'],\n",
    "    index=['Person_1', 'Person_2', 'Person_3']\n",
    ")\n",
    "print(\"\\nPeople DataFrame:\")\n",
    "print(people_df)"
   ]
  },
  {
   "cell_type": "markdown",
   "id": "741c1c71",
   "metadata": {},
   "source": [
    "**Exercise 1 — Sales Dashboard (easy)**  \n",
    "Create a DataFrame with 5 days of sales data: date, revenue, customers, avg_order_value.\n"
   ]
  },
  {
   "cell_type": "code",
   "execution_count": 6,
   "id": "127850d0",
   "metadata": {},
   "outputs": [
    {
     "name": "stdout",
     "output_type": "stream",
     "text": [
      "        Date  Revenue  Customers  avg_order_value\n",
      "0     Monday     1200         20              130\n",
      "1    Tuesday     3000         45              150\n",
      "2  Wednesday     1500         10              120\n",
      "3   Thursday     5000         60              300\n",
      "4     Friday     8000         80              450\n"
     ]
    }
   ],
   "source": [
    "# Your turn\n",
    "sales_dict = {\n",
    "    'Date': ['Monday', 'Tuesday', 'Wednesday', 'Thursday', 'Friday'],\n",
    "    'Revenue': [1200, 3000, 1500, 5000, 8000],\n",
    "    'Customers': [20, 45, 10, 60, 80],\n",
    "    'avg_order_value': [130, 150, 120, 300, 450]\n",
    "}\n",
    "sales_df = pd.DataFrame(sales_dict)\n",
    "print(sales_df)"
   ]
  },
  {
   "cell_type": "markdown",
   "id": "5265e60a",
   "metadata": {},
   "source": [
    "<details>\n",
    "<summary><b>Solution</b></summary>\n",
    "\n",
    "```python\n",
    "sales_data = {\n",
    "    'date': ['2025-08-19', '2025-08-20', '2025-08-21', '2025-08-22', '2025-08-23'],\n",
    "    'revenue': [5420, 6100, 4850, 7200, 8900],\n",
    "    'customers': [45, 52, 41, 58, 72],\n",
    "    'avg_order_value': [120.44, 117.31, 118.29, 124.14, 123.61]\n",
    "}\n",
    "sales_df = pd.DataFrame(sales_data)\n",
    "print(sales_df)\n",
    "print(f\"\\nTotal revenue: ${sales_df['revenue'].sum():,.2f}\")\n",
    "```\n",
    "</details>"
   ]
  },
  {
   "cell_type": "markdown",
   "id": "582c78e3",
   "metadata": {},
   "source": [
    "## 2. Selecting Data - Columns and Rows"
   ]
  },
  {
   "cell_type": "code",
   "execution_count": null,
   "id": "dd91af14",
   "metadata": {},
   "outputs": [],
   "source": [
    "# Using our products DataFrame\n",
    "print(\"Select single column (returns Series):\")\n",
    "print(products_df['Price'])\n",
    "\n",
    "print(\"\\nSelect multiple columns (returns DataFrame):\")\n",
    "print(products_df[['Product', 'Price']])\n",
    "\n",
    "# Selecting rows by condition\n",
    "print(\"\\nProducts under $100:\")\n",
    "affordable = products_df[products_df['Price'] < 100]\n",
    "print(affordable)\n",
    "\n",
    "# Multiple conditions\n",
    "print(\"\\nElectronics with stock > 20:\")\n",
    "electronics_available = products_df[\n",
    "    (products_df['Category'] == 'Electronics') & \n",
    "    (products_df['Stock'] > 20)\n",
    "]\n",
    "print(electronics_available)"
   ]
  },
  {
   "cell_type": "markdown",
   "id": "b93cc6d3",
   "metadata": {},
   "source": [
    "## 3. loc vs iloc - Precise Selection"
   ]
  },
  {
   "cell_type": "code",
   "execution_count": null,
   "id": "86ac1848",
   "metadata": {},
   "outputs": [],
   "source": [
    "# Create sample data\n",
    "df = pd.DataFrame({\n",
    "    'A': [1, 2, 3, 4],\n",
    "    'B': [5, 6, 7, 8],\n",
    "    'C': [9, 10, 11, 12]\n",
    "}, index=['row1', 'row2', 'row3', 'row4'])\n",
    "\n",
    "print(\"Original DataFrame:\")\n",
    "print(df)\n",
    "\n",
    "# loc: label-based selection\n",
    "print(\"\\nUsing loc (labels):\")\n",
    "print(\"df.loc['row2', 'B']:\", df.loc['row2', 'B'])\n",
    "print(\"\\ndf.loc['row1':'row3', 'A':'B']:\")\n",
    "print(df.loc['row1':'row3', 'A':'B'])\n",
    "\n",
    "# iloc: position-based selection\n",
    "print(\"\\nUsing iloc (positions):\")\n",
    "print(\"df.iloc[1, 1]:\", df.iloc[1, 1])\n",
    "print(\"\\ndf.iloc[0:3, 0:2]:\")\n",
    "print(df.iloc[0:3, 0:2])"
   ]
  },
  {
   "cell_type": "markdown",
   "id": "22f25302",
   "metadata": {},
   "source": [
    "**Exercise 2 — Data Extraction (medium)**  \n",
    "From products_df: 1) Get prices of first 3 products, 2) Get all info for products with stock < 40.\n"
   ]
  },
  {
   "cell_type": "code",
   "execution_count": null,
   "id": "ddf3b8ab",
   "metadata": {},
   "outputs": [],
   "source": [
    "# Your turn\n"
   ]
  },
  {
   "cell_type": "markdown",
   "id": "17f39466",
   "metadata": {},
   "source": [
    "<details>\n",
    "<summary><b>Solution</b></summary>\n",
    "\n",
    "```python\n",
    "# 1) Prices of first 3 products\n",
    "first_three_prices = products_df.iloc[:3]['Price']\n",
    "# or products_df.loc[:2, 'Price'] if using default index\n",
    "print(\"First 3 prices:\")\n",
    "print(first_three_prices)\n",
    "\n",
    "# 2) Products with stock < 40\n",
    "low_stock = products_df[products_df['Stock'] < 40]\n",
    "print(\"\\nLow stock products:\")\n",
    "print(low_stock)\n",
    "```\n",
    "</details>"
   ]
  },
  {
   "cell_type": "markdown",
   "id": "f8c85c5e",
   "metadata": {},
   "source": [
    "## 4. Adding and Modifying Columns"
   ]
  },
  {
   "cell_type": "code",
   "execution_count": null,
   "id": "afdbd6b9",
   "metadata": {},
   "outputs": [],
   "source": [
    "# Calculate new columns\n",
    "products_df['Total_Value'] = products_df['Price'] * products_df['Stock']\n",
    "products_df['Needs_Restock'] = products_df['Stock'] < 30\n",
    "\n",
    "print(\"Enhanced products DataFrame:\")\n",
    "print(products_df)\n",
    "\n",
    "# Modify existing column\n",
    "products_df['Price_After_Tax'] = products_df['Price'] * 1.1\n",
    "products_df['Price_After_Tax'] = products_df['Price_After_Tax'].round(2)\n",
    "\n",
    "# Using apply for complex operations\n",
    "def categorize_price(price):\n",
    "    if price < 50: return 'Budget'\n",
    "    elif price < 200: return 'Mid-range'\n",
    "    else: return 'Premium'\n",
    "\n",
    "products_df['Price_Category'] = products_df['Price'].apply(categorize_price)\n",
    "print(\"\\nWith price categories:\")\n",
    "print(products_df[['Product', 'Price', 'Price_Category']])"
   ]
  },
  {
   "cell_type": "markdown",
   "id": "64f3255a",
   "metadata": {},
   "source": [
    "## 5. Basic DataFrame Operations"
   ]
  },
  {
   "cell_type": "code",
   "execution_count": null,
   "id": "a54870cb",
   "metadata": {},
   "outputs": [],
   "source": [
    "# Summary statistics\n",
    "print(\"Numeric columns summary:\")\n",
    "print(products_df.describe())\n",
    "\n",
    "# Info about DataFrame\n",
    "print(\"\\nDataFrame info:\")\n",
    "print(products_df.info())\n",
    "\n",
    "# Sorting\n",
    "print(\"\\nSorted by price (descending):\")\n",
    "sorted_df = products_df.sort_values('Price', ascending=False)\n",
    "print(sorted_df[['Product', 'Price']])\n",
    "\n",
    "# Value counts\n",
    "print(\"\\nCategory distribution:\")\n",
    "print(products_df['Category'].value_counts())"
   ]
  },
  {
   "cell_type": "markdown",
   "id": "b93813ac",
   "metadata": {},
   "source": [
    "**Exercise 3 — Employee Analysis (hard)**  \n",
    "Create an employee DataFrame with: name, department, salary, years_experience.\n",
    "Add columns for: salary_level (Low/Mid/High), bonus (10% of salary if years > 3).\n",
    "Find average salary by department.\n"
   ]
  },
  {
   "cell_type": "code",
   "execution_count": null,
   "id": "9f70e311",
   "metadata": {},
   "outputs": [],
   "source": [
    "# Your turn\n"
   ]
  },
  {
   "cell_type": "markdown",
   "id": "4cecfa82",
   "metadata": {},
   "source": [
    "<details>\n",
    "<summary><b>Solution</b></summary>\n",
    "\n",
    "```python\n",
    "employees = pd.DataFrame({\n",
    "    'name': ['Alice', 'Bob', 'Charlie', 'Diana', 'Eve'],\n",
    "    'department': ['IT', 'Sales', 'IT', 'HR', 'Sales'],\n",
    "    'salary': [75000, 65000, 82000, 58000, 71000],\n",
    "    'years_experience': [5, 2, 7, 3, 4]\n",
    "})\n",
    "\n",
    "# Add salary level\n",
    "def salary_level(sal):\n",
    "    if sal < 60000: return 'Low'\n",
    "    elif sal < 75000: return 'Mid'\n",
    "    else: return 'High'\n",
    "\n",
    "employees['salary_level'] = employees['salary'].apply(salary_level)\n",
    "\n",
    "# Add bonus\n",
    "employees['bonus'] = employees.apply(\n",
    "    lambda row: row['salary'] * 0.1 if row['years_experience'] > 3 else 0, \n",
    "    axis=1\n",
    ")\n",
    "\n",
    "print(\"Employee data:\")\n",
    "print(employees)\n",
    "\n",
    "# Average salary by department\n",
    "print(\"\\nAverage salary by department:\")\n",
    "print(employees.groupby('department')['salary'].mean())\n",
    "```\n",
    "</details>"
   ]
  },
  {
   "cell_type": "markdown",
   "id": "de98963a",
   "metadata": {},
   "source": [
    "## 6. Handling Missing Data in DataFrames"
   ]
  },
  {
   "cell_type": "code",
   "execution_count": null,
   "id": "9b7b1b10",
   "metadata": {},
   "outputs": [],
   "source": [
    "# Create DataFrame with missing values\n",
    "data_with_gaps = pd.DataFrame({\n",
    "    'Date': pd.date_range('2025-08-19', periods=5),\n",
    "    'Sales': [1200, None, 1450, 1380, None],\n",
    "    'Visitors': [120, 115, None, 135, 142],\n",
    "    'Conversion': [0.10, 0.09, 0.11, None, 0.08]\n",
    "})\n",
    "\n",
    "print(\"Data with missing values:\")\n",
    "print(data_with_gaps)\n",
    "print(f\"\\nMissing values per column:\")\n",
    "print(data_with_gaps.isnull().sum())\n",
    "\n",
    "# Different filling strategies\n",
    "filled_df = data_with_gaps.copy()\n",
    "filled_df['Sales'].fillna(filled_df['Sales'].mean(), inplace=True)\n",
    "filled_df['Visitors'].fillna(method='ffill', inplace=True)  # forward fill\n",
    "filled_df['Conversion'].fillna(filled_df['Conversion'].median(), inplace=True)\n",
    "\n",
    "print(\"\\nAfter filling:\")\n",
    "print(filled_df)"
   ]
  },
  {
   "cell_type": "markdown",
   "id": "8f88bba8",
   "metadata": {},
   "source": [
    "## 7. Mini-Challenges\n",
    "- **M1 (easy):** Create a DataFrame of your favorite movies with title, year, rating\n",
    "- **M2 (medium):** Add a 'decade' column and find average rating per decade\n",
    "- **M3 (hard):** Create a function that highlights rows where rating > average"
   ]
  },
  {
   "cell_type": "code",
   "execution_count": null,
   "id": "0f834bfd",
   "metadata": {},
   "outputs": [],
   "source": [
    "# Your turn - try the challenges!\n"
   ]
  },
  {
   "cell_type": "markdown",
   "id": "b1a2e9d0",
   "metadata": {},
   "source": [
    "<details>\n",
    "<summary><b>Solutions</b></summary>\n",
    "\n",
    "```python\n",
    "# M1 & M2\n",
    "movies = pd.DataFrame({\n",
    "    'title': ['Inception', 'Matrix', 'Interstellar', 'Arrival', 'Blade Runner'],\n",
    "    'year': [2010, 1999, 2014, 2016, 1982],\n",
    "    'rating': [8.8, 8.7, 8.6, 7.9, 8.1]\n",
    "})\n",
    "\n",
    "# Add decade\n",
    "movies['decade'] = (movies['year'] // 10) * 10\n",
    "print(\"Movies with decades:\")\n",
    "print(movies)\n",
    "\n",
    "# Average per decade\n",
    "print(\"\\nAverage rating per decade:\")\n",
    "print(movies.groupby('decade')['rating'].mean())\n",
    "\n",
    "# M3\n",
    "avg_rating = movies['rating'].mean()\n",
    "above_avg = movies[movies['rating'] > avg_rating]\n",
    "print(f\"\\nMovies above average ({avg_rating:.1f}):\")\n",
    "print(above_avg[['title', 'rating']])\n",
    "```\n",
    "</details>"
   ]
  },
  {
   "cell_type": "markdown",
   "id": "aba28e65",
   "metadata": {},
   "source": [
    "## Wrap-Up\n",
    "✅ You can create DataFrames from various sources  \n",
    "✅ You mastered selection with [], loc, and iloc  \n",
    "✅ You can add columns and handle missing data  \n",
    "\n",
    "**Next:** Data wrangling - merging, grouping, and reshaping!\n"
   ]
  }
 ],
 "metadata": {
  "kernelspec": {
   "display_name": "Python [conda env:venv]",
   "language": "python",
   "name": "conda-env-venv-py"
  },
  "language_info": {
   "codemirror_mode": {
    "name": "ipython",
    "version": 3
   },
   "file_extension": ".py",
   "mimetype": "text/x-python",
   "name": "python",
   "nbconvert_exporter": "python",
   "pygments_lexer": "ipython3",
   "version": "3.12.0"
  }
 },
 "nbformat": 4,
 "nbformat_minor": 5
}
