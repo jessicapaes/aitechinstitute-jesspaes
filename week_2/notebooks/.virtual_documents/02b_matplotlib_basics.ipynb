





import matplotlib.pyplot as plt
import pandas as pd
import numpy as np

# We'll use our housing data from the previous notebook
np.random.seed(42)
print("Ready to visualize! 📊")





# METHOD 1: The "Quick and Dirty" Way
# This is what most tutorials show you

prices = [500000, 750000, 900000, 1200000, 650000]
cities = ['Adelaide', 'Brisbane', 'Melbourne', 'Sydney', 'Perth']

plt.bar(cities, prices)
plt.show()

print("✅ It works! But we have no control...")


# METHOD 2: The "Professional" Way - Understanding What's Happening

# Step 1: Create the canvas (figure)
fig = plt.figure(figsize=(10, 6))  # Width=10 inches, Height=6 inches

# Step 2: Add a room (axes) to the canvas
ax = fig.add_subplot(111)  # 1 row, 1 column, plot #1

# Step 3: Put furniture (plot) in the room
ax.bar(cities, prices)

# Step 4: Decorate the room
ax.set_title('House Prices by City')
ax.set_xlabel('City')
ax.set_ylabel('Price ($)')

plt.show()

print("✅ Now we have FULL control!")





# Create 4 different views of the same data
# Think of it as 4 rooms in a 2x2 house layout

fig, axes = plt.subplots(2, 2, figsize=(12, 10))  # 2 rows, 2 columns

# Now 'axes' is a 2x2 array of rooms!
# Access them like: axes[row, column]

# Room 1 (top-left): Bar chart
axes[0, 0].bar(cities, prices, color='skyblue')
axes[0, 0].set_title('Bar Chart')
axes[0, 0].set_ylabel('Price ($)')

# Room 2 (top-right): Horizontal bar
axes[0, 1].barh(cities, prices, color='lightcoral')
axes[0, 1].set_title('Horizontal Bar Chart')
axes[0, 1].set_xlabel('Price ($)')

# Room 3 (bottom-left): Line plot
axes[1, 0].plot(cities, prices, marker='o', color='green', linewidth=2)
axes[1, 0].set_title('Line Chart')
axes[1, 0].set_ylabel('Price ($)')

# Room 4 (bottom-right): Scatter plot
axes[1, 1].scatter(cities, prices, s=200, color='purple', alpha=0.6)
axes[1, 1].set_title('Scatter Plot')
axes[1, 1].set_ylabel('Price ($)')

# Adjust spacing between rooms
plt.tight_layout()
plt.show()

print("✅ Four different visualizations of the same data!")


# PRO TIP: When you have just one row or column, axes is 1D!

fig, axes = plt.subplots(1, 3, figsize=(15, 4))  # 1 row, 3 columns

# Now axes is just a 1D array: axes[0], axes[1], axes[2]
axes[0].bar(cities, prices)
axes[0].set_title('First Plot')

axes[1].plot(cities, prices, 'ro-')
axes[1].set_title('Second Plot')

axes[2].scatter(range(len(cities)), prices)
axes[2].set_title('Third Plot')

plt.tight_layout()
plt.show()





# Let's create a smaller version of our housing dataset for visualization
np.random.seed(42)
n_properties = 1000

cities = ['Sydney', 'Melbourne', 'Brisbane', 'Perth', 'Adelaide', 'Hobart', 'Darwin', 'Canberra']
city_weights = [0.25, 0.22, 0.15, 0.12, 0.10, 0.06, 0.04, 0.06]

housing_data = pd.DataFrame({
    'city': np.random.choice(cities, n_properties, p=city_weights),
    'property_type': np.random.choice(['House', 'Apartment', 'Townhouse', 'Villa'], 
                                     n_properties, p=[0.45, 0.35, 0.15, 0.05]),
    'bedrooms': np.random.choice([1, 2, 3, 4, 5], n_properties, p=[0.1, 0.25, 0.35, 0.25, 0.05]),
    'distance_cbd': np.random.exponential(15, n_properties),
})

# Add realistic prices
base_price = {
    'Sydney': 1200000, 'Melbourne': 950000, 'Brisbane': 750000, 'Perth': 650000,
    'Adelaide': 600000, 'Hobart': 550000, 'Darwin': 600000, 'Canberra': 850000
}

housing_data['price'] = housing_data.apply(lambda row: 
    base_price[row['city']] * 
    (1 + 0.15 * row['bedrooms']) * 
    (1 - 0.01 * row['distance_cbd']) *
    (1 + np.random.normal(0, 0.15)), axis=1
)

print("Dataset created!")
print(housing_data.head())





# Prepare data: Average price by city
city_avg_prices = housing_data.groupby('city')['price'].mean().sort_values()

# Create our 2x3 grid of visualizations
fig, axes = plt.subplots(2, 3, figsize=(15, 10))

# 1. POSITION (Bar Chart) - Most Accurate
axes[0, 0].bar(range(len(city_avg_prices)), city_avg_prices.values)
axes[0, 0].set_xticks(range(len(city_avg_prices)))
axes[0, 0].set_xticklabels(city_avg_prices.index, rotation=45)
axes[0, 0].set_title('Position (Bar Chart) - Most Accurate')
axes[0, 0].set_ylabel('Average Price ($)')

# 2. LENGTH (Horizontal Bar)
axes[0, 1].barh(range(len(city_avg_prices)), city_avg_prices.values)
axes[0, 1].set_yticks(range(len(city_avg_prices)))
axes[0, 1].set_yticklabels(city_avg_prices.index)
axes[0, 1].set_title('Length (Horizontal Bar)')
axes[0, 1].set_xlabel('Average Price ($)')

# 3. AREA (Bubble) - Less Accurate
# Make bubble sizes proportional to price
sizes = (city_avg_prices.values / city_avg_prices.values.min() * 100) ** 2
axes[0, 2].scatter(range(len(city_avg_prices)), [1]*len(city_avg_prices), 
                   s=sizes, alpha=0.6)
axes[0, 2].set_xticks(range(len(city_avg_prices)))
axes[0, 2].set_xticklabels(city_avg_prices.index, rotation=45)
axes[0, 2].set_title('Area (Bubble) - Less Accurate')
axes[0, 2].set_ylim(0, 2)

# 4. COLOR (Sequential) - Good for Categories
colors = plt.cm.viridis(np.linspace(0, 1, len(city_avg_prices)))
axes[1, 0].bar(range(len(city_avg_prices)), city_avg_prices.values, color=colors)
axes[1, 0].set_xticks(range(len(city_avg_prices)))
axes[1, 0].set_xticklabels(city_avg_prices.index, rotation=45)
axes[1, 0].set_title('Color (Sequential) - Good for Categories')

# 5. SHAPE - Limited Distinct Values
markers = ['o', 's', '^', 'D', 'v', '<', '>', 'p']
for i, (city, value) in enumerate(city_avg_prices.items()):
    axes[1, 1].scatter(i, value, s=200, marker=markers[i], label=city)
axes[1, 1].set_title('Shape - Limited Distinct Values')
axes[1, 1].legend(bbox_to_anchor=(1.05, 1), loc='upper left')

# 6. COMBINATION - Most Effective
axes[1, 2].bar(range(len(city_avg_prices)), city_avg_prices.values, 
               color=colors, edgecolor='black', linewidth=2)
axes[1, 2].set_xticks(range(len(city_avg_prices)))
axes[1, 2].set_xticklabels(city_avg_prices.index, rotation=45)
axes[1, 2].set_title('Combined Encodings - Most Effective')

plt.tight_layout()
plt.show()

print("Key Insight: Position and length are most accurate for quantitative comparisons.")
print("Color works well for categories, area/volume can be misleading.")





# A professional-looking plot with all the customizations

fig, ax = plt.subplots(figsize=(12, 6))

# Plot the data
bars = ax.bar(city_avg_prices.index, city_avg_prices.values, 
               color='steelblue', edgecolor='navy', linewidth=1.5)

# Customize the plot
ax.set_title('Average House Prices Across Australian Cities', 
             fontsize=16, fontweight='bold', pad=20)
ax.set_xlabel('City', fontsize=12)
ax.set_ylabel('Average Price ($)', fontsize=12)

# Format y-axis as currency
ax.yaxis.set_major_formatter(plt.FuncFormatter(lambda x, p: f'${x/1e6:.1f}M'))

# Add value labels on top of bars
for bar in bars:
    height = bar.get_height()
    ax.text(bar.get_x() + bar.get_width()/2., height,
            f'${height/1e6:.1f}M',
            ha='center', va='bottom', fontsize=10)

# Add a grid for easier reading
ax.grid(True, axis='y', alpha=0.3, linestyle='--')
ax.set_axisbelow(True)  # Grid behind bars

# Rotate x-labels if needed
plt.xticks(rotation=45, ha='right')

# Remove top and right spines for cleaner look
ax.spines['top'].set_visible(False)
ax.spines['right'].set_visible(False)

plt.tight_layout()
plt.show()

print("✅ This is publication-ready!")





# COMMON MISTAKE 1: Forgetting to set figure size
# This creates a tiny, unreadable plot

# Bad:
plt.figure()  # No size specified!
plt.plot([1, 2, 3, 4], [1, 4, 2, 3])
plt.title('Too Small!')
plt.show()

# Good:
plt.figure(figsize=(10, 6))  # Always specify size!
plt.plot([1, 2, 3, 4], [1, 4, 2, 3])
plt.title('Perfect Size!')
plt.show()


# COMMON MISTAKE 2: Not using tight_layout() with subplots

# Create comparison
fig, (ax1, ax2) = plt.subplots(1, 2, figsize=(12, 4))

# Without tight_layout - labels overlap!
ax1.bar(['Sydney', 'Melbourne', 'Brisbane'], [1.2, 0.95, 0.75])
ax1.set_title('WITHOUT tight_layout()')
ax1.set_ylabel('Price (millions)')
ax1.set_xlabel('City')

ax2.bar(['Sydney', 'Melbourne', 'Brisbane'], [1.2, 0.95, 0.75])
ax2.set_title('WITH tight_layout()')
ax2.set_ylabel('Price (millions)')
ax2.set_xlabel('City')

# This fixes overlapping!
plt.tight_layout()
plt.show()





# YOUR SOLUTION HERE
# Start with: fig, axes = plt.subplots(2, 2, figsize=(12, 10))

# Hint structure:
# axes[0, 0] - property type bar chart
# axes[0, 1] - price histogram
# axes[1, 0] - scatter plot
# axes[1, 1] - pie chart



