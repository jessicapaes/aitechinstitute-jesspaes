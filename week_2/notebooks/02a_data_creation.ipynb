{
 "cells": [
  {
   "cell_type": "markdown",
   "metadata": {},
   "source": [
    "# **AI TECH INSTITUTE** · *Building Your First Synthetic Dataset*\n",
    "### From Zero to Real Australian Housing Data\n",
    "**Instructor:** Amir Charkhi  |  **Goal:** Learn to create realistic datasets for analysis\n",
    "\n",
    "> \"Why synthetic data? Because real data is messy, private, and sometimes unavailable. But we still need to learn!\"\n"
   ]
  },
  {
   "cell_type": "markdown",
   "metadata": {},
   "source": [
    "## 🎯 Today's Mission\n",
    "Build a complete Australian housing dataset from scratch. No magic, just understanding every single line.\n",
    "\n",
    "**What you'll learn:**\n",
    "- How to think about data structure\n",
    "- Using NumPy's random functions wisely\n",
    "- Building DataFrames step-by-step\n",
    "- Making data realistic (not just random!)"
   ]
  },
  {
   "cell_type": "markdown",
   "metadata": {},
   "source": [
    "## Part 1: The Simplest Dataset Ever\n",
    "Let's start with 5 houses. Just 5. We'll build up from here."
   ]
  },
  {
   "cell_type": "code",
   "execution_count": 7,
   "metadata": {},
   "outputs": [
    {
     "name": "stdout",
     "output_type": "stream",
     "text": [
      "Libraries loaded! Let's build some data 🏗️\n"
     ]
    }
   ],
   "source": [
    "# Import what we need (and understand why)\n",
    "import pandas as pd\n",
    "import numpy as np\n",
    "\n",
    "# ALWAYS set a seed - this makes your random numbers repeatable!\n",
    "# Think of it as a recipe - same seed = same \"random\" results\n",
    "np.random.seed(42)\n",
    "\n",
    "print(\"Libraries loaded! Let's build some data 🏗️\")"
   ]
  },
  {
   "cell_type": "code",
   "execution_count": 8,
   "metadata": {},
   "outputs": [
    {
     "name": "stdout",
     "output_type": "stream",
     "text": [
      "Our first dataset:\n",
      "   house_id       city  bedrooms    price\n",
      "0         1     Sydney         3  1200000\n",
      "1         2  Melbourne         2   950000\n",
      "2         3   Brisbane         4   750000\n",
      "3         4      Perth         3   650000\n",
      "4         5   Adelaide         2   600000\n",
      "\n",
      "✅ Success! But typing 5000 houses would take forever...\n"
     ]
    }
   ],
   "source": [
    "# METHOD 1: The Manual Way (Good for understanding)\n",
    "# Let's create 5 houses manually first\n",
    "\n",
    "simple_houses = pd.DataFrame({\n",
    "    'house_id': [1, 2, 3, 4, 5],\n",
    "    'city': ['Sydney', 'Melbourne', 'Brisbane', 'Perth', 'Adelaide'],\n",
    "    'bedrooms': [3, 2, 4, 3, 2],\n",
    "    'price': [1200000, 950000, 750000, 650000, 600000]\n",
    "})\n",
    "\n",
    "print(\"Our first dataset:\")\n",
    "print(simple_houses)\n",
    "print(\"\\n✅ Success! But typing 5000 houses would take forever...\")"
   ]
  },
  {
   "cell_type": "markdown",
   "metadata": {},
   "source": [
    "## Part 2: Understanding Random Choices\n",
    "The key to synthetic data is `np.random.choice()` - let's master it!"
   ]
  },
  {
   "cell_type": "code",
   "execution_count": 9,
   "metadata": {},
   "outputs": [
    {
     "name": "stdout",
     "output_type": "stream",
     "text": [
      "Random city: Brisbane\n",
      "\n",
      "5 random cities: ['Sydney' 'Brisbane' 'Brisbane' 'Sydney' 'Sydney']\n",
      "\n",
      "10 realistic cities: ['Sydney' 'Sydney' 'Sydney' 'Brisbane' 'Melbourne' 'Melbourne' 'Sydney'\n",
      " 'Brisbane' 'Brisbane' 'Sydney']\n",
      "Sydney appeared 5 times (should be ~5)\n"
     ]
    }
   ],
   "source": [
    "# Let's understand np.random.choice step by step\n",
    "\n",
    "# 1. Simple random choice\n",
    "cities = ['Sydney', 'Melbourne', 'Brisbane']\n",
    "random_city = np.random.choice(cities)\n",
    "print(f\"Random city: {random_city}\")\n",
    "\n",
    "# 2. Multiple random choices\n",
    "five_cities = np.random.choice(cities, size=5)\n",
    "print(f\"\\n5 random cities: {five_cities}\")\n",
    "\n",
    "# 3. WITH PROBABILITIES (This is the secret sauce!)\n",
    "# Sydney appears more because more people live there\n",
    "realistic_cities = np.random.choice(\n",
    "    cities, \n",
    "    size=10, \n",
    "    p=[0.5, 0.3, 0.2]  # 50% Sydney, 30% Melbourne, 20% Brisbane\n",
    ")\n",
    "print(f\"\\n10 realistic cities: {realistic_cities}\")\n",
    "print(f\"Sydney appeared {sum(realistic_cities == 'Sydney')} times (should be ~5)\")"
   ]
  },
  {
   "cell_type": "code",
   "execution_count": 10,
   "metadata": {},
   "outputs": [
    {
     "name": "stdout",
     "output_type": "stream",
     "text": [
      "['House' 'House' 'House' 'House' 'House' 'House' 'Apartment' 'House'\n",
      " 'House' 'House' 'House' 'Apartment' 'House' 'House' 'House' 'House'\n",
      " 'Apartment' 'House' 'House' 'Townhouse']\n"
     ]
    }
   ],
   "source": [
    "# EXERCISE: Try it yourself!\n",
    "# Create 20 property types where:\n",
    "# - 60% are Houses\n",
    "# - 30% are Apartments  \n",
    "# - 10% are Townhouses\n",
    "\n",
    "property_types = ['House', 'Apartment', 'Townhouse']\n",
    "\n",
    "# YOUR CODE HERE:\n",
    "my_properties = np.random.choice(property_types, size=20, p=[0.6, 0.30, 0.10])\n",
    "print(my_properties)\n",
    "\n",
    "# Uncomment to see solution:\n",
    "# my_properties = np.random.choice(property_types, size=20, p=[0.6, 0.3, 0.1])\n",
    "# print(my_properties)"
   ]
  },
  {
   "cell_type": "markdown",
   "metadata": {},
   "source": [
    "## Part 3: Building Our First Real Dataset (100 Houses)\n",
    "Now let's combine everything and build something useful!"
   ]
  },
  {
   "cell_type": "code",
   "execution_count": 11,
   "metadata": {},
   "outputs": [
    {
     "name": "stdout",
     "output_type": "stream",
     "text": [
      "First 10 houses:\n",
      "   property_id       city property_type  bedrooms\n",
      "0            1  Melbourne         House         3\n",
      "1            2   Adelaide     Apartment         1\n",
      "2            3   Brisbane         House         2\n",
      "3            4   Brisbane     Apartment         4\n",
      "4            5     Sydney     Townhouse         3\n",
      "5            6     Sydney         House         1\n",
      "6            7     Sydney         House         2\n",
      "7            8      Perth     Apartment         3\n",
      "8            9   Brisbane         House         1\n",
      "9           10   Brisbane         House         2\n",
      "\n",
      "Dataset shape: (100, 4)\n",
      "\n",
      "✅ We have 100 houses! But no prices yet...\n"
     ]
    }
   ],
   "source": [
    "# Reset our random seed for consistency\n",
    "np.random.seed(42)\n",
    "\n",
    "# Let's build 100 houses step by step\n",
    "n_houses = 100\n",
    "\n",
    "# Step 1: Define our options and their probabilities\n",
    "cities = ['Sydney', 'Melbourne', 'Brisbane', 'Perth', 'Adelaide']\n",
    "city_probabilities = [0.3, 0.25, 0.2, 0.15, 0.1]  # Based on real population!\n",
    "\n",
    "property_types = ['House', 'Apartment', 'Townhouse']\n",
    "type_probabilities = [0.5, 0.35, 0.15]\n",
    "\n",
    "# Step 2: Generate the data\n",
    "housing_data_v1 = pd.DataFrame({\n",
    "    'property_id': range(1, n_houses + 1),  # IDs from 1 to 100\n",
    "    'city': np.random.choice(cities, n_houses, p=city_probabilities),\n",
    "    'property_type': np.random.choice(property_types, n_houses, p=type_probabilities),\n",
    "    'bedrooms': np.random.choice([1, 2, 3, 4], n_houses, p=[0.1, 0.3, 0.4, 0.2])\n",
    "})\n",
    "\n",
    "print(\"First 10 houses:\")\n",
    "print(housing_data_v1.head(10))\n",
    "print(f\"\\nDataset shape: {housing_data_v1.shape}\")\n",
    "print(\"\\n✅ We have 100 houses! But no prices yet...\")"
   ]
  },
  {
   "cell_type": "code",
   "execution_count": 12,
   "metadata": {},
   "outputs": [
    {
     "name": "stdout",
     "output_type": "stream",
     "text": [
      "City distribution:\n",
      "city\n",
      "Sydney       0.34\n",
      "Melbourne    0.25\n",
      "Brisbane     0.17\n",
      "Perth        0.15\n",
      "Adelaide     0.09\n",
      "Name: proportion, dtype: float64\n",
      "\n",
      "Property type distribution:\n",
      "property_type\n",
      "House        0.49\n",
      "Apartment    0.33\n",
      "Townhouse    0.18\n",
      "Name: proportion, dtype: float64\n",
      "\n",
      "✅ Close to our target probabilities!\n"
     ]
    }
   ],
   "source": [
    "# Let's check if our probabilities worked\n",
    "print(\"City distribution:\")\n",
    "print(housing_data_v1['city'].value_counts(normalize=True).round(2))\n",
    "print(\"\\nProperty type distribution:\")\n",
    "print(housing_data_v1['property_type'].value_counts(normalize=True).round(2))\n",
    "print(\"\\n✅ Close to our target probabilities!\")"
   ]
  },
  {
   "cell_type": "markdown",
   "metadata": {},
   "source": [
    "## Part 4: Adding Realistic Prices\n",
    "Random prices are boring. Let's make them REALISTIC based on city and bedrooms!"
   ]
  },
  {
   "cell_type": "code",
   "execution_count": 13,
   "metadata": {},
   "outputs": [
    {
     "name": "stdout",
     "output_type": "stream",
     "text": [
      "Sample of our data with prices:\n",
      "        city  bedrooms      price\n",
      "0  Melbourne         3  1130000.0\n",
      "1   Adelaide         1   699000.0\n",
      "2   Brisbane         2   991000.0\n",
      "3   Brisbane         4  1266000.0\n",
      "4     Sydney         3  1897000.0\n",
      "5     Sydney         1  1643000.0\n",
      "6     Sydney         2  1570000.0\n",
      "7      Perth         3   876000.0\n",
      "8   Brisbane         1   964000.0\n",
      "9   Brisbane         2   886000.0\n",
      "\n",
      "Price range: $638,000 to $2,259,000\n"
     ]
    }
   ],
   "source": [
    "# Method 1: Simple base price per city\n",
    "base_prices = {\n",
    "    'Sydney': 1200000,\n",
    "    'Melbourne': 950000,\n",
    "    'Brisbane': 750000,\n",
    "    'Perth': 650000,\n",
    "    'Adelaide': 600000\n",
    "}\n",
    "\n",
    "# Map city to base price\n",
    "housing_data_v1['base_price'] = housing_data_v1['city'].map(base_prices)\n",
    "\n",
    "# Adjust for bedrooms (each bedroom adds 15% to price)\n",
    "housing_data_v1['price'] = housing_data_v1['base_price'] * (1 + 0.15 * housing_data_v1['bedrooms'])\n",
    "\n",
    "# Add some random variation (+/- 20%)\n",
    "random_variation = np.random.uniform(0.8, 1.2, n_houses)\n",
    "housing_data_v1['price'] = housing_data_v1['price'] * random_variation\n",
    "\n",
    "# Round to nearest $1000\n",
    "housing_data_v1['price'] = (housing_data_v1['price'] / 1000).round() * 1000\n",
    "\n",
    "print(\"Sample of our data with prices:\")\n",
    "print(housing_data_v1[['city', 'bedrooms', 'price']].head(10))\n",
    "print(f\"\\nPrice range: ${housing_data_v1['price'].min():,.0f} to ${housing_data_v1['price'].max():,.0f}\")"
   ]
  },
  {
   "cell_type": "markdown",
   "metadata": {},
   "source": [
    "## Part 5: Understanding Different Random Distributions\n",
    "Not everything should be uniformly random! Let's learn about distributions."
   ]
  },
  {
   "cell_type": "code",
   "execution_count": 14,
   "metadata": {},
   "outputs": [
    {
     "name": "stdout",
     "output_type": "stream",
     "text": [
      "Uniform (all equally likely):\n",
      "[10.3 90.3 50.5 82.6 32.  89.6 38.9  1.1 90.5  9.1]\n",
      "\n",
      "Normal distribution (bell curve):\n",
      "[2001 1992 1996 2006 1978 2036 1974 1970 2018 2010]\n",
      "\n",
      "Exponential (many small, few large):\n",
      "[23.5 23.4  1.4 10.2  0.9 12.   8.7 32.8  6.5  1.9]\n",
      "\n",
      "Lognormal (skewed to right):\n",
      "[561. 257. 209. 490. 491. 269. 277. 486. 127. 131.]\n"
     ]
    }
   ],
   "source": [
    "# Different types of random numbers for different purposes\n",
    "\n",
    "# 1. UNIFORM: Equal chance for any value (good for IDs)\n",
    "uniform_numbers = np.random.uniform(low=0, high=100, size=10)\n",
    "print(\"Uniform (all equally likely):\")\n",
    "print(uniform_numbers.round(1))\n",
    "\n",
    "# 2. NORMAL: Bell curve (good for human characteristics)\n",
    "# Example: Year built - most houses built around 1995, fewer very old or very new\n",
    "years_built = np.random.normal(loc=1995, scale=20, size=10).astype(int)\n",
    "print(\"\\nNormal distribution (bell curve):\")\n",
    "print(years_built)\n",
    "\n",
    "# 3. EXPONENTIAL: Many small values, few large (good for distances)\n",
    "# Example: Distance from CBD - many properties close, fewer far away\n",
    "distances = np.random.exponential(scale=15, size=10)\n",
    "print(\"\\nExponential (many small, few large):\")\n",
    "print(distances.round(1))\n",
    "\n",
    "# 4. LOGNORMAL: Like normal but skewed (good for sizes, prices)\n",
    "# Example: Land size - most properties moderate, some mansions\n",
    "land_sizes = np.random.lognormal(mean=6, sigma=0.8, size=10)\n",
    "print(\"\\nLognormal (skewed to right):\")\n",
    "print(land_sizes.round(0))"
   ]
  },
  {
   "cell_type": "markdown",
   "metadata": {},
   "source": [
    "## Part 6: Building the Complete Dataset (5000 Houses)\n",
    "Now let's build the full dataset with ALL features!"
   ]
  },
  {
   "cell_type": "code",
   "execution_count": 15,
   "metadata": {},
   "outputs": [
    {
     "name": "stdout",
     "output_type": "stream",
     "text": [
      "Building dataset...\n",
      "✅ Basic features created!\n",
      "Dataset shape: (5000, 15)\n"
     ]
    }
   ],
   "source": [
    "# The COMPLETE Australian Housing Dataset\n",
    "# This is what your students showed, but explained step-by-step\n",
    "\n",
    "np.random.seed(42)\n",
    "n_properties = 5000\n",
    "\n",
    "# Cities with realistic population distribution\n",
    "cities = ['Sydney', 'Melbourne', 'Brisbane', 'Perth', 'Adelaide', 'Hobart', 'Darwin', 'Canberra']\n",
    "city_weights = [0.25, 0.22, 0.15, 0.12, 0.10, 0.06, 0.04, 0.06]\n",
    "\n",
    "print(\"Building dataset...\")\n",
    "\n",
    "# Generate all features\n",
    "housing_data = pd.DataFrame({\n",
    "    # Identifiers\n",
    "    'property_id': range(1, n_properties + 1),\n",
    "    \n",
    "    # Location\n",
    "    'city': np.random.choice(cities, n_properties, p=city_weights),\n",
    "    'suburb': ['Suburb_' + str(i % 50) for i in range(n_properties)],  # 50 suburbs cycling\n",
    "    \n",
    "    # Property characteristics\n",
    "    'property_type': np.random.choice(\n",
    "        ['House', 'Apartment', 'Townhouse', 'Villa'], \n",
    "        n_properties, \n",
    "        p=[0.45, 0.35, 0.15, 0.05]\n",
    "    ),\n",
    "    'bedrooms': np.random.choice([1, 2, 3, 4, 5], n_properties, p=[0.1, 0.25, 0.35, 0.25, 0.05]),\n",
    "    'bathrooms': np.random.choice([1, 2, 3], n_properties, p=[0.4, 0.45, 0.15]),\n",
    "    'car_spaces': np.random.choice([0, 1, 2, 3], n_properties, p=[0.15, 0.35, 0.40, 0.10]),\n",
    "    \n",
    "    # Sizes (using lognormal for realistic distribution)\n",
    "    'land_size': np.random.lognormal(6, 0.8, n_properties),\n",
    "    'building_size': np.random.lognormal(5, 0.6, n_properties),\n",
    "    \n",
    "    # Age (normal distribution around 1995)\n",
    "    'year_built': np.random.normal(1995, 20, n_properties).astype(int).clip(1950, 2024),\n",
    "    \n",
    "    # Distances (exponential - most properties close to amenities)\n",
    "    'distance_cbd': np.random.exponential(15, n_properties),\n",
    "    'distance_school': np.random.exponential(2, n_properties),\n",
    "    'distance_station': np.random.exponential(3, n_properties),\n",
    "    \n",
    "    # Crime rate (lower is better)\n",
    "    'crime_rate': np.random.exponential(5, n_properties),\n",
    "    \n",
    "    # Sale dates (spread over 2024)\n",
    "    'sale_date': pd.date_range(end='2024-12-31', periods=n_properties),\n",
    "})\n",
    "\n",
    "print(\"✅ Basic features created!\")\n",
    "print(f\"Dataset shape: {housing_data.shape}\")"
   ]
  },
  {
   "cell_type": "code",
   "execution_count": 16,
   "metadata": {},
   "outputs": [
    {
     "name": "stdout",
     "output_type": "stream",
     "text": [
      "Sample of complete dataset:\n",
      "   property_id       city    suburb property_type  bedrooms  bathrooms  \\\n",
      "0            1  Melbourne  Suburb_0         House         3          2   \n",
      "1            2   Canberra  Suburb_1     Apartment         2          2   \n",
      "2            3      Perth  Suburb_2     Townhouse         2          2   \n",
      "3            4   Brisbane  Suburb_3         House         3          1   \n",
      "4            5     Sydney  Suburb_4     Townhouse         3          1   \n",
      "\n",
      "   car_spaces   land_size  building_size  year_built  distance_cbd  \\\n",
      "0           2  563.487485      47.540102        1965      7.487102   \n",
      "1           1  434.715657     199.567613        2008     41.373288   \n",
      "2           1  238.044705      62.230882        2024     15.322877   \n",
      "3           2  404.722241     159.342301        2005     27.254424   \n",
      "4           1  227.805171     255.390690        2024     14.529193   \n",
      "\n",
      "   distance_school  distance_station  crime_rate  sale_date         price  \\\n",
      "0         1.811689          1.807011   12.790542 2011-04-25  1.418937e+06   \n",
      "1         4.572500          4.585069    3.206000 2011-04-26  7.394745e+05   \n",
      "2         2.114387          3.098454    3.794798 2011-04-27  5.607647e+05   \n",
      "3         5.584743          1.726245    0.194969 2011-04-28  7.471170e+05   \n",
      "4         4.025356          0.901794   11.524003 2011-04-29  1.401290e+06   \n",
      "\n",
      "   price_per_sqm  age  quarter  month  \n",
      "0   29847.164160   59        2      4  \n",
      "1    3705.383127   16        2      4  \n",
      "2    9011.035617    0        2      4  \n",
      "3    4688.754733   19        2      4  \n",
      "4    5486.848097    0        2      4  \n",
      "\n",
      "Price statistics:\n",
      "count    5.000000e+03\n",
      "mean     1.249839e+06\n",
      "std      4.686616e+05\n",
      "min     -1.067539e+06\n",
      "25%      9.091215e+05\n",
      "50%      1.179889e+06\n",
      "75%      1.550391e+06\n",
      "max      3.225949e+06\n",
      "Name: price, dtype: float64\n"
     ]
    }
   ],
   "source": [
    "# Now add REALISTIC prices based on multiple factors\n",
    "base_price = {\n",
    "    'Sydney': 1200000, 'Melbourne': 950000, 'Brisbane': 750000, 'Perth': 650000,\n",
    "    'Adelaide': 600000, 'Hobart': 550000, 'Darwin': 600000, 'Canberra': 850000\n",
    "}\n",
    "\n",
    "# This is the MAGIC FORMULA that makes prices realistic!\n",
    "housing_data['price'] = housing_data.apply(lambda row: \n",
    "    base_price[row['city']] *                    # Start with city base\n",
    "    (1 + 0.15 * row['bedrooms']) *              # More bedrooms = higher price\n",
    "    (1 + 0.1 * row['bathrooms']) *              # More bathrooms = higher price\n",
    "    (1 - 0.01 * row['distance_cbd']) *          # Closer to CBD = higher price\n",
    "    (1 + np.random.normal(0, 0.15)),            # Random variation +/- 15%\n",
    "    axis=1\n",
    ")\n",
    "\n",
    "# Add derived features (these are calculated from other columns)\n",
    "housing_data['price_per_sqm'] = housing_data['price'] / housing_data['building_size']\n",
    "housing_data['age'] = 2024 - housing_data['year_built']\n",
    "housing_data['quarter'] = housing_data['sale_date'].dt.quarter\n",
    "housing_data['month'] = housing_data['sale_date'].dt.month\n",
    "\n",
    "print(\"Sample of complete dataset:\")\n",
    "print(housing_data.head())\n",
    "print(f\"\\nPrice statistics:\")\n",
    "print(housing_data['price'].describe())"
   ]
  },
  {
   "cell_type": "markdown",
   "metadata": {},
   "source": [
    "## Part 7: Quick Data Validation\n",
    "Always check if your synthetic data makes sense!"
   ]
  },
  {
   "cell_type": "code",
   "execution_count": 17,
   "metadata": {},
   "outputs": [
    {
     "name": "stdout",
     "output_type": "stream",
     "text": [
      "Average price by city:\n",
      "city\n",
      "Sydney       1709427.0\n",
      "Melbourne    1353123.0\n",
      "Canberra     1259475.0\n",
      "Brisbane     1062834.0\n",
      "Perth         956535.0\n",
      "Adelaide      875677.0\n",
      "Darwin        864603.0\n",
      "Hobart        811218.0\n",
      "Name: price, dtype: float64\n",
      "\n",
      "==================================================\n",
      "\n",
      "Average price by bedrooms:\n",
      "bedrooms\n",
      "1    1000395.0\n",
      "2    1137099.0\n",
      "3    1249685.0\n",
      "4    1392349.0\n",
      "5    1576355.0\n",
      "Name: price, dtype: float64\n",
      "\n",
      "==================================================\n",
      "\n",
      "Data types:\n",
      "property_id                  int64\n",
      "city                        object\n",
      "suburb                      object\n",
      "property_type               object\n",
      "bedrooms                     int64\n",
      "bathrooms                    int64\n",
      "car_spaces                   int64\n",
      "land_size                  float64\n",
      "building_size              float64\n",
      "year_built                   int64\n",
      "distance_cbd               float64\n",
      "distance_school            float64\n",
      "distance_station           float64\n",
      "crime_rate                 float64\n",
      "sale_date           datetime64[ns]\n",
      "price                      float64\n",
      "price_per_sqm              float64\n",
      "age                          int64\n",
      "quarter                      int32\n",
      "month                        int32\n",
      "dtype: object\n",
      "\n",
      "✅ Data looks realistic and ready for analysis!\n"
     ]
    }
   ],
   "source": [
    "# Check 1: Do prices make sense by city?\n",
    "print(\"Average price by city:\")\n",
    "print(housing_data.groupby('city')['price'].mean().sort_values(ascending=False).round(0))\n",
    "\n",
    "print(\"\\n\" + \"=\"*50)\n",
    "\n",
    "# Check 2: Do bedrooms affect price?\n",
    "print(\"\\nAverage price by bedrooms:\")\n",
    "print(housing_data.groupby('bedrooms')['price'].mean().round(0))\n",
    "\n",
    "print(\"\\n\" + \"=\"*50)\n",
    "\n",
    "# Check 3: Data types\n",
    "print(\"\\nData types:\")\n",
    "print(housing_data.dtypes)\n",
    "\n",
    "print(\"\\n✅ Data looks realistic and ready for analysis!\")"
   ]
  },
  {
   "cell_type": "markdown",
   "metadata": {},
   "source": [
    "## 🎯 Exercise: Create Your Own Dataset\n",
    "Now create a dataset for Australian car sales with:\n",
    "- 1000 cars\n",
    "- Brands: Toyota (30%), Mazda (20%), Ford (15%), BMW (10%), others\n",
    "- Years: Normal distribution around 2018\n",
    "- Prices: Based on brand and age\n",
    "- Kilometeres: Exponential distribution"
   ]
  },
  {
   "cell_type": "code",
   "execution_count": 22,
   "metadata": {},
   "outputs": [
    {
     "name": "stdout",
     "output_type": "stream",
     "text": [
      "   car_id car_brand  car_year         car_km  base_price  car_age  \\\n",
      "0       1     Mazda      2018  160154.950465       35000        6   \n",
      "1       2     Tesla      2013   18112.052189       60000       11   \n",
      "2       3       BMW      2019   29603.668618       50000        5   \n",
      "3       4      Ford      2019    9822.489770       38000        5   \n",
      "4       5    Toyota      2019   42462.482631       30000        5   \n",
      "\n",
      "   current_price  \n",
      "0    6984.504953  \n",
      "1   36188.794781  \n",
      "2   37039.633138  \n",
      "3   27017.751023  \n",
      "4   15753.751737  \n"
     ]
    }
   ],
   "source": [
    "# YOUR SOLUTION HERE\n",
    "# Hint: Follow the same pattern we used for housing!\n",
    "\n",
    "np.random.seed(42)\n",
    "n_cars = 1000\n",
    "\n",
    "# Step 1: Create base DataFrame with basic features\n",
    "car_data = pd.DataFrame({\n",
    "    'car_id': range(1, n_cars + 1),\n",
    "    'car_brand': np.random.choice(['Toyota', 'Mazda', 'Ford', 'BMW', 'Tesla'], \n",
    "                                  n_cars, p=[0.3, 0.2, 0.15, 0.1, 0.25]),\n",
    "    'car_year': np.random.normal(2018, 3, n_cars).astype(int).clip(2010, 2024),\n",
    "    'car_km': np.random.exponential(45000, n_cars)\n",
    "})\n",
    "\n",
    "# Step 2: Add derived columns using the data we just created\n",
    "base_prices = {\n",
    "    'Toyota': 30000, 'Mazda': 35000, 'Ford': 38000, 'BMW': 50000, 'Tesla': 60000\n",
    "}\n",
    "\n",
    "car_data['base_price'] = car_data['car_brand'].map(base_prices)\n",
    "car_data['car_age'] = 2024 - car_data['car_year']\n",
    "car_data['current_price'] = car_data['base_price'] - (car_data['car_age'] * 2000) - (car_data['car_km'] * 0.1)\n",
    "\n",
    "# Make sure prices don't go negative\n",
    "car_data['current_price'] = car_data['current_price'].clip(lower=5000)\n",
    "\n",
    "print(car_data.head())                                "
   ]
  },
  {
   "cell_type": "markdown",
   "metadata": {},
   "source": [
    "## 📝 Key Takeaways\n",
    "\n",
    "1. **Always set a seed** for reproducible \"random\" data\n",
    "2. **Use probabilities** to make data realistic (not uniform)\n",
    "3. **Different distributions** for different features:\n",
    "   - Uniform: IDs\n",
    "   - Normal: Ages, years\n",
    "   - Exponential: Distances\n",
    "   - Lognormal: Sizes, prices\n",
    "4. **Base + adjustments** formula for realistic relationships\n",
    "5. **Always validate** your synthetic data\n",
    "\n",
    "### Next notebook: Basic Matplotlib - Understanding Axes and Figures!"
   ]
  }
 ],
 "metadata": {
  "kernelspec": {
   "display_name": "Python [conda env:venv]",
   "language": "python",
   "name": "conda-env-venv-py"
  },
  "language_info": {
   "codemirror_mode": {
    "name": "ipython",
    "version": 3
   },
   "file_extension": ".py",
   "mimetype": "text/x-python",
   "name": "python",
   "nbconvert_exporter": "python",
   "pygments_lexer": "ipython3",
   "version": "3.12.0"
  }
 },
 "nbformat": 4,
 "nbformat_minor": 4
}
