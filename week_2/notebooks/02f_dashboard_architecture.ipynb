{
 "cells": [
  {
   "cell_type": "markdown",
   "metadata": {},
   "source": [
    "# **AI TECH INSTITUTE** · *Intermediate AI & Data Science*\n",
    "### Week 02 · Notebook 4 — Dashboard Architecture & Design Patterns\n",
    "**Instructor:** Amir Charkhi  |  **Goal:** Build production-ready dashboards that drive decisions.\n",
    "\n",
    "> Format: design patterns → layout principles → interactive components → state management → optimization.\n"
   ]
  },
  {
   "cell_type": "markdown",
   "metadata": {},
   "source": [
    "---\n",
    "## From Visualization to Impact\n",
    "Dashboards transform data into decisions. Let's architect dashboards that inform, engage, and influence."
   ]
  },
  {
   "cell_type": "markdown",
   "metadata": {},
   "source": [
    "## Setup and Imports"
   ]
  },
  {
   "cell_type": "code",
   "execution_count": 4,
   "metadata": {},
   "outputs": [
    {
     "name": "stdout",
     "output_type": "stream",
     "text": [
      "Collecting seaborn\n",
      "  Downloading seaborn-0.13.2-py3-none-any.whl.metadata (5.4 kB)\n",
      "Requirement already satisfied: numpy!=1.24.0,>=1.20 in c:\\code\\venv\\lib\\site-packages (from seaborn) (2.3.2)\n",
      "Requirement already satisfied: pandas>=1.2 in c:\\code\\venv\\lib\\site-packages (from seaborn) (2.3.2)\n",
      "Requirement already satisfied: matplotlib!=3.6.1,>=3.4 in c:\\code\\venv\\lib\\site-packages (from seaborn) (3.10.6)\n",
      "Requirement already satisfied: contourpy>=1.0.1 in c:\\code\\venv\\lib\\site-packages (from matplotlib!=3.6.1,>=3.4->seaborn) (1.3.3)\n",
      "Requirement already satisfied: cycler>=0.10 in c:\\code\\venv\\lib\\site-packages (from matplotlib!=3.6.1,>=3.4->seaborn) (0.12.1)\n",
      "Requirement already satisfied: fonttools>=4.22.0 in c:\\code\\venv\\lib\\site-packages (from matplotlib!=3.6.1,>=3.4->seaborn) (4.59.2)\n",
      "Requirement already satisfied: kiwisolver>=1.3.1 in c:\\code\\venv\\lib\\site-packages (from matplotlib!=3.6.1,>=3.4->seaborn) (1.4.9)\n",
      "Requirement already satisfied: packaging>=20.0 in c:\\code\\venv\\lib\\site-packages (from matplotlib!=3.6.1,>=3.4->seaborn) (25.0)\n",
      "Requirement already satisfied: pillow>=8 in c:\\code\\venv\\lib\\site-packages (from matplotlib!=3.6.1,>=3.4->seaborn) (11.3.0)\n",
      "Requirement already satisfied: pyparsing>=2.3.1 in c:\\code\\venv\\lib\\site-packages (from matplotlib!=3.6.1,>=3.4->seaborn) (3.2.3)\n",
      "Requirement already satisfied: python-dateutil>=2.7 in c:\\code\\venv\\lib\\site-packages (from matplotlib!=3.6.1,>=3.4->seaborn) (2.9.0.post0)\n",
      "Requirement already satisfied: pytz>=2020.1 in c:\\code\\venv\\lib\\site-packages (from pandas>=1.2->seaborn) (2025.2)\n",
      "Requirement already satisfied: tzdata>=2022.7 in c:\\code\\venv\\lib\\site-packages (from pandas>=1.2->seaborn) (2025.2)\n",
      "Requirement already satisfied: six>=1.5 in c:\\code\\venv\\lib\\site-packages (from python-dateutil>=2.7->matplotlib!=3.6.1,>=3.4->seaborn) (1.17.0)\n",
      "Downloading seaborn-0.13.2-py3-none-any.whl (294 kB)\n",
      "Installing collected packages: seaborn\n",
      "Successfully installed seaborn-0.13.2\n",
      "Note: you may need to restart the kernel to use updated packages.\n"
     ]
    }
   ],
   "source": [
    "pip install seaborn"
   ]
  },
  {
   "cell_type": "code",
   "execution_count": 2,
   "metadata": {},
   "outputs": [
    {
     "name": "stdout",
     "output_type": "stream",
     "text": [
      "Collecting plotly\n",
      "  Downloading plotly-6.3.0-py3-none-any.whl.metadata (8.5 kB)\n",
      "Collecting narwhals>=1.15.1 (from plotly)\n",
      "  Downloading narwhals-2.3.0-py3-none-any.whl.metadata (11 kB)\n",
      "Requirement already satisfied: packaging in c:\\code\\venv\\lib\\site-packages (from plotly) (25.0)\n",
      "Downloading plotly-6.3.0-py3-none-any.whl (9.8 MB)\n",
      "   ---------------------------------------- 0.0/9.8 MB ? eta -:--:--\n",
      "   ---- ----------------------------------- 1.0/9.8 MB 10.1 MB/s eta 0:00:01\n",
      "   ------------- -------------------------- 3.4/9.8 MB 10.6 MB/s eta 0:00:01\n",
      "   ----------------------- ---------------- 5.8/9.8 MB 11.0 MB/s eta 0:00:01\n",
      "   ---------------------------------- ----- 8.4/9.8 MB 11.3 MB/s eta 0:00:01\n",
      "   ---------------------------------------- 9.8/9.8 MB 10.7 MB/s eta 0:00:00\n",
      "Downloading narwhals-2.3.0-py3-none-any.whl (404 kB)\n",
      "Installing collected packages: narwhals, plotly\n",
      "\n",
      "   ---------------------------------------- 0/2 [narwhals]\n",
      "   ---------------------------------------- 0/2 [narwhals]\n",
      "   ---------------------------------------- 0/2 [narwhals]\n",
      "   ---------------------------------------- 0/2 [narwhals]\n",
      "   ---------------------------------------- 0/2 [narwhals]\n",
      "   ---------------------------------------- 0/2 [narwhals]\n",
      "   ---------------------------------------- 0/2 [narwhals]\n",
      "   ---------------------------------------- 0/2 [narwhals]\n",
      "   ---------------------------------------- 0/2 [narwhals]\n",
      "   ---------------------------------------- 0/2 [narwhals]\n",
      "   ---------------------------------------- 0/2 [narwhals]\n",
      "   ---------------------------------------- 0/2 [narwhals]\n",
      "   ---------------------------------------- 0/2 [narwhals]\n",
      "   ---------------------------------------- 0/2 [narwhals]\n",
      "   ---------------------------------------- 0/2 [narwhals]\n",
      "   ---------------------------------------- 0/2 [narwhals]\n",
      "   ---------------------------------------- 0/2 [narwhals]\n",
      "   ---------------------------------------- 0/2 [narwhals]\n",
      "   ---------------------------------------- 0/2 [narwhals]\n",
      "   ---------------------------------------- 0/2 [narwhals]\n",
      "   ---------------------------------------- 0/2 [narwhals]\n",
      "   ---------------------------------------- 0/2 [narwhals]\n",
      "   ---------------------------------------- 0/2 [narwhals]\n",
      "   ---------------------------------------- 0/2 [narwhals]\n",
      "   ---------------------------------------- 0/2 [narwhals]\n",
      "   ---------------------------------------- 0/2 [narwhals]\n",
      "   ---------------------------------------- 0/2 [narwhals]\n",
      "   ---------------------------------------- 0/2 [narwhals]\n",
      "   -------------------- ------------------- 1/2 [plotly]\n",
      "   -------------------- ------------------- 1/2 [plotly]\n",
      "   -------------------- ------------------- 1/2 [plotly]\n",
      "   -------------------- ------------------- 1/2 [plotly]\n",
      "   -------------------- ------------------- 1/2 [plotly]\n",
      "   -------------------- ------------------- 1/2 [plotly]\n",
      "   -------------------- ------------------- 1/2 [plotly]\n",
      "   -------------------- ------------------- 1/2 [plotly]\n",
      "   -------------------- ------------------- 1/2 [plotly]\n",
      "   -------------------- ------------------- 1/2 [plotly]\n",
      "   -------------------- ------------------- 1/2 [plotly]\n",
      "   -------------------- ------------------- 1/2 [plotly]\n",
      "   -------------------- ------------------- 1/2 [plotly]\n",
      "   -------------------- ------------------- 1/2 [plotly]\n",
      "   -------------------- ------------------- 1/2 [plotly]\n",
      "   -------------------- ------------------- 1/2 [plotly]\n",
      "   -------------------- ------------------- 1/2 [plotly]\n",
      "   -------------------- ------------------- 1/2 [plotly]\n",
      "   -------------------- ------------------- 1/2 [plotly]\n",
      "   -------------------- ------------------- 1/2 [plotly]\n",
      "   -------------------- ------------------- 1/2 [plotly]\n",
      "   -------------------- ------------------- 1/2 [plotly]\n",
      "   -------------------- ------------------- 1/2 [plotly]\n",
      "   -------------------- ------------------- 1/2 [plotly]\n",
      "   -------------------- ------------------- 1/2 [plotly]\n",
      "   -------------------- ------------------- 1/2 [plotly]\n",
      "   -------------------- ------------------- 1/2 [plotly]\n",
      "   -------------------- ------------------- 1/2 [plotly]\n",
      "   -------------------- ------------------- 1/2 [plotly]\n",
      "   -------------------- ------------------- 1/2 [plotly]\n",
      "   -------------------- ------------------- 1/2 [plotly]\n",
      "   -------------------- ------------------- 1/2 [plotly]\n",
      "   -------------------- ------------------- 1/2 [plotly]\n",
      "   -------------------- ------------------- 1/2 [plotly]\n",
      "   -------------------- ------------------- 1/2 [plotly]\n",
      "   -------------------- ------------------- 1/2 [plotly]\n",
      "   -------------------- ------------------- 1/2 [plotly]\n",
      "   -------------------- ------------------- 1/2 [plotly]\n",
      "   -------------------- ------------------- 1/2 [plotly]\n",
      "   -------------------- ------------------- 1/2 [plotly]\n",
      "   -------------------- ------------------- 1/2 [plotly]\n",
      "   -------------------- ------------------- 1/2 [plotly]\n",
      "   -------------------- ------------------- 1/2 [plotly]\n",
      "   -------------------- ------------------- 1/2 [plotly]\n",
      "   -------------------- ------------------- 1/2 [plotly]\n",
      "   -------------------- ------------------- 1/2 [plotly]\n",
      "   -------------------- ------------------- 1/2 [plotly]\n",
      "   -------------------- ------------------- 1/2 [plotly]\n",
      "   -------------------- ------------------- 1/2 [plotly]\n",
      "   -------------------- ------------------- 1/2 [plotly]\n",
      "   -------------------- ------------------- 1/2 [plotly]\n",
      "   -------------------- ------------------- 1/2 [plotly]\n",
      "   -------------------- ------------------- 1/2 [plotly]\n",
      "   -------------------- ------------------- 1/2 [plotly]\n",
      "   -------------------- ------------------- 1/2 [plotly]\n",
      "   -------------------- ------------------- 1/2 [plotly]\n",
      "   -------------------- ------------------- 1/2 [plotly]\n",
      "   -------------------- ------------------- 1/2 [plotly]\n",
      "   -------------------- ------------------- 1/2 [plotly]\n",
      "   -------------------- ------------------- 1/2 [plotly]\n",
      "   -------------------- ------------------- 1/2 [plotly]\n",
      "   -------------------- ------------------- 1/2 [plotly]\n",
      "   -------------------- ------------------- 1/2 [plotly]\n",
      "   -------------------- ------------------- 1/2 [plotly]\n",
      "   -------------------- ------------------- 1/2 [plotly]\n",
      "   -------------------- ------------------- 1/2 [plotly]\n",
      "   -------------------- ------------------- 1/2 [plotly]\n",
      "   -------------------- ------------------- 1/2 [plotly]\n",
      "   -------------------- ------------------- 1/2 [plotly]\n",
      "   -------------------- ------------------- 1/2 [plotly]\n",
      "   -------------------- ------------------- 1/2 [plotly]\n",
      "   -------------------- ------------------- 1/2 [plotly]\n",
      "   -------------------- ------------------- 1/2 [plotly]\n",
      "   -------------------- ------------------- 1/2 [plotly]\n",
      "   -------------------- ------------------- 1/2 [plotly]\n",
      "   -------------------- ------------------- 1/2 [plotly]\n",
      "   -------------------- ------------------- 1/2 [plotly]\n",
      "   -------------------- ------------------- 1/2 [plotly]\n",
      "   -------------------- ------------------- 1/2 [plotly]\n",
      "   -------------------- ------------------- 1/2 [plotly]\n",
      "   -------------------- ------------------- 1/2 [plotly]\n",
      "   -------------------- ------------------- 1/2 [plotly]\n",
      "   -------------------- ------------------- 1/2 [plotly]\n",
      "   -------------------- ------------------- 1/2 [plotly]\n",
      "   -------------------- ------------------- 1/2 [plotly]\n",
      "   -------------------- ------------------- 1/2 [plotly]\n",
      "   -------------------- ------------------- 1/2 [plotly]\n",
      "   -------------------- ------------------- 1/2 [plotly]\n",
      "   -------------------- ------------------- 1/2 [plotly]\n",
      "   -------------------- ------------------- 1/2 [plotly]\n",
      "   -------------------- ------------------- 1/2 [plotly]\n",
      "   -------------------- ------------------- 1/2 [plotly]\n",
      "   -------------------- ------------------- 1/2 [plotly]\n",
      "   -------------------- ------------------- 1/2 [plotly]\n",
      "   -------------------- ------------------- 1/2 [plotly]\n",
      "   -------------------- ------------------- 1/2 [plotly]\n",
      "   -------------------- ------------------- 1/2 [plotly]\n",
      "   -------------------- ------------------- 1/2 [plotly]\n",
      "   -------------------- ------------------- 1/2 [plotly]\n",
      "   -------------------- ------------------- 1/2 [plotly]\n",
      "   -------------------- ------------------- 1/2 [plotly]\n",
      "   -------------------- ------------------- 1/2 [plotly]\n",
      "   -------------------- ------------------- 1/2 [plotly]\n",
      "   -------------------- ------------------- 1/2 [plotly]\n",
      "   -------------------- ------------------- 1/2 [plotly]\n",
      "   -------------------- ------------------- 1/2 [plotly]\n",
      "   -------------------- ------------------- 1/2 [plotly]\n",
      "   -------------------- ------------------- 1/2 [plotly]\n",
      "   -------------------- ------------------- 1/2 [plotly]\n",
      "   -------------------- ------------------- 1/2 [plotly]\n",
      "   -------------------- ------------------- 1/2 [plotly]\n",
      "   -------------------- ------------------- 1/2 [plotly]\n",
      "   -------------------- ------------------- 1/2 [plotly]\n",
      "   -------------------- ------------------- 1/2 [plotly]\n",
      "   -------------------- ------------------- 1/2 [plotly]\n",
      "   -------------------- ------------------- 1/2 [plotly]\n",
      "   -------------------- ------------------- 1/2 [plotly]\n",
      "   -------------------- ------------------- 1/2 [plotly]\n",
      "   -------------------- ------------------- 1/2 [plotly]\n",
      "   -------------------- ------------------- 1/2 [plotly]\n",
      "   -------------------- ------------------- 1/2 [plotly]\n",
      "   -------------------- ------------------- 1/2 [plotly]\n",
      "   -------------------- ------------------- 1/2 [plotly]\n",
      "   -------------------- ------------------- 1/2 [plotly]\n",
      "   -------------------- ------------------- 1/2 [plotly]\n",
      "   -------------------- ------------------- 1/2 [plotly]\n",
      "   -------------------- ------------------- 1/2 [plotly]\n",
      "   -------------------- ------------------- 1/2 [plotly]\n",
      "   -------------------- ------------------- 1/2 [plotly]\n",
      "   -------------------- ------------------- 1/2 [plotly]\n",
      "   -------------------- ------------------- 1/2 [plotly]\n",
      "   -------------------- ------------------- 1/2 [plotly]\n",
      "   -------------------- ------------------- 1/2 [plotly]\n",
      "   -------------------- ------------------- 1/2 [plotly]\n",
      "   -------------------- ------------------- 1/2 [plotly]\n",
      "   -------------------- ------------------- 1/2 [plotly]\n",
      "   -------------------- ------------------- 1/2 [plotly]\n",
      "   -------------------- ------------------- 1/2 [plotly]\n",
      "   -------------------- ------------------- 1/2 [plotly]\n",
      "   -------------------- ------------------- 1/2 [plotly]\n",
      "   -------------------- ------------------- 1/2 [plotly]\n",
      "   -------------------- ------------------- 1/2 [plotly]\n",
      "   -------------------- ------------------- 1/2 [plotly]\n",
      "   -------------------- ------------------- 1/2 [plotly]\n",
      "   -------------------- ------------------- 1/2 [plotly]\n",
      "   -------------------- ------------------- 1/2 [plotly]\n",
      "   -------------------- ------------------- 1/2 [plotly]\n",
      "   -------------------- ------------------- 1/2 [plotly]\n",
      "   -------------------- ------------------- 1/2 [plotly]\n",
      "   -------------------- ------------------- 1/2 [plotly]\n",
      "   -------------------- ------------------- 1/2 [plotly]\n",
      "   -------------------- ------------------- 1/2 [plotly]\n",
      "   -------------------- ------------------- 1/2 [plotly]\n",
      "   -------------------- ------------------- 1/2 [plotly]\n",
      "   -------------------- ------------------- 1/2 [plotly]\n",
      "   -------------------- ------------------- 1/2 [plotly]\n",
      "   -------------------- ------------------- 1/2 [plotly]\n",
      "   -------------------- ------------------- 1/2 [plotly]\n",
      "   -------------------- ------------------- 1/2 [plotly]\n",
      "   -------------------- ------------------- 1/2 [plotly]\n",
      "   -------------------- ------------------- 1/2 [plotly]\n",
      "   -------------------- ------------------- 1/2 [plotly]\n",
      "   -------------------- ------------------- 1/2 [plotly]\n",
      "   -------------------- ------------------- 1/2 [plotly]\n",
      "   -------------------- ------------------- 1/2 [plotly]\n",
      "   -------------------- ------------------- 1/2 [plotly]\n",
      "   -------------------- ------------------- 1/2 [plotly]\n",
      "   -------------------- ------------------- 1/2 [plotly]\n",
      "   -------------------- ------------------- 1/2 [plotly]\n",
      "   -------------------- ------------------- 1/2 [plotly]\n",
      "   -------------------- ------------------- 1/2 [plotly]\n",
      "   -------------------- ------------------- 1/2 [plotly]\n",
      "   -------------------- ------------------- 1/2 [plotly]\n",
      "   -------------------- ------------------- 1/2 [plotly]\n",
      "   -------------------- ------------------- 1/2 [plotly]\n",
      "   -------------------- ------------------- 1/2 [plotly]\n",
      "   -------------------- ------------------- 1/2 [plotly]\n",
      "   -------------------- ------------------- 1/2 [plotly]\n",
      "   -------------------- ------------------- 1/2 [plotly]\n",
      "   -------------------- ------------------- 1/2 [plotly]\n",
      "   -------------------- ------------------- 1/2 [plotly]\n",
      "   -------------------- ------------------- 1/2 [plotly]\n",
      "   -------------------- ------------------- 1/2 [plotly]\n",
      "   -------------------- ------------------- 1/2 [plotly]\n",
      "   -------------------- ------------------- 1/2 [plotly]\n",
      "   -------------------- ------------------- 1/2 [plotly]\n",
      "   -------------------- ------------------- 1/2 [plotly]\n",
      "   -------------------- ------------------- 1/2 [plotly]\n",
      "   -------------------- ------------------- 1/2 [plotly]\n",
      "   -------------------- ------------------- 1/2 [plotly]\n",
      "   -------------------- ------------------- 1/2 [plotly]\n",
      "   -------------------- ------------------- 1/2 [plotly]\n",
      "   -------------------- ------------------- 1/2 [plotly]\n",
      "   -------------------- ------------------- 1/2 [plotly]\n",
      "   -------------------- ------------------- 1/2 [plotly]\n",
      "   -------------------- ------------------- 1/2 [plotly]\n",
      "   -------------------- ------------------- 1/2 [plotly]\n",
      "   -------------------- ------------------- 1/2 [plotly]\n",
      "   -------------------- ------------------- 1/2 [plotly]\n",
      "   -------------------- ------------------- 1/2 [plotly]\n",
      "   -------------------- ------------------- 1/2 [plotly]\n",
      "   -------------------- ------------------- 1/2 [plotly]\n",
      "   -------------------- ------------------- 1/2 [plotly]\n",
      "   -------------------- ------------------- 1/2 [plotly]\n",
      "   -------------------- ------------------- 1/2 [plotly]\n",
      "   -------------------- ------------------- 1/2 [plotly]\n",
      "   -------------------- ------------------- 1/2 [plotly]\n",
      "   -------------------- ------------------- 1/2 [plotly]\n",
      "   -------------------- ------------------- 1/2 [plotly]\n",
      "   -------------------- ------------------- 1/2 [plotly]\n",
      "   -------------------- ------------------- 1/2 [plotly]\n",
      "   -------------------- ------------------- 1/2 [plotly]\n",
      "   -------------------- ------------------- 1/2 [plotly]\n",
      "   -------------------- ------------------- 1/2 [plotly]\n",
      "   -------------------- ------------------- 1/2 [plotly]\n",
      "   -------------------- ------------------- 1/2 [plotly]\n",
      "   -------------------- ------------------- 1/2 [plotly]\n",
      "   -------------------- ------------------- 1/2 [plotly]\n",
      "   -------------------- ------------------- 1/2 [plotly]\n",
      "   -------------------- ------------------- 1/2 [plotly]\n",
      "   -------------------- ------------------- 1/2 [plotly]\n",
      "   -------------------- ------------------- 1/2 [plotly]\n",
      "   -------------------- ------------------- 1/2 [plotly]\n",
      "   -------------------- ------------------- 1/2 [plotly]\n",
      "   -------------------- ------------------- 1/2 [plotly]\n",
      "   -------------------- ------------------- 1/2 [plotly]\n",
      "   -------------------- ------------------- 1/2 [plotly]\n",
      "   -------------------- ------------------- 1/2 [plotly]\n",
      "   -------------------- ------------------- 1/2 [plotly]\n",
      "   -------------------- ------------------- 1/2 [plotly]\n",
      "   -------------------- ------------------- 1/2 [plotly]\n",
      "   -------------------- ------------------- 1/2 [plotly]\n",
      "   -------------------- ------------------- 1/2 [plotly]\n",
      "   -------------------- ------------------- 1/2 [plotly]\n",
      "   -------------------- ------------------- 1/2 [plotly]\n",
      "   -------------------- ------------------- 1/2 [plotly]\n",
      "   -------------------- ------------------- 1/2 [plotly]\n",
      "   -------------------- ------------------- 1/2 [plotly]\n",
      "   -------------------- ------------------- 1/2 [plotly]\n",
      "   -------------------- ------------------- 1/2 [plotly]\n",
      "   -------------------- ------------------- 1/2 [plotly]\n",
      "   -------------------- ------------------- 1/2 [plotly]\n",
      "   -------------------- ------------------- 1/2 [plotly]\n",
      "   -------------------- ------------------- 1/2 [plotly]\n",
      "   -------------------- ------------------- 1/2 [plotly]\n",
      "   -------------------- ------------------- 1/2 [plotly]\n",
      "   -------------------- ------------------- 1/2 [plotly]\n",
      "   -------------------- ------------------- 1/2 [plotly]\n",
      "   -------------------- ------------------- 1/2 [plotly]\n",
      "   -------------------- ------------------- 1/2 [plotly]\n",
      "   -------------------- ------------------- 1/2 [plotly]\n",
      "   -------------------- ------------------- 1/2 [plotly]\n",
      "   -------------------- ------------------- 1/2 [plotly]\n",
      "   -------------------- ------------------- 1/2 [plotly]\n",
      "   -------------------- ------------------- 1/2 [plotly]\n",
      "   -------------------- ------------------- 1/2 [plotly]\n",
      "   -------------------- ------------------- 1/2 [plotly]\n",
      "   -------------------- ------------------- 1/2 [plotly]\n",
      "   -------------------- ------------------- 1/2 [plotly]\n",
      "   -------------------- ------------------- 1/2 [plotly]\n",
      "   -------------------- ------------------- 1/2 [plotly]\n",
      "   -------------------- ------------------- 1/2 [plotly]\n",
      "   -------------------- ------------------- 1/2 [plotly]\n",
      "   -------------------- ------------------- 1/2 [plotly]\n",
      "   -------------------- ------------------- 1/2 [plotly]\n",
      "   -------------------- ------------------- 1/2 [plotly]\n",
      "   -------------------- ------------------- 1/2 [plotly]\n",
      "   -------------------- ------------------- 1/2 [plotly]\n",
      "   -------------------- ------------------- 1/2 [plotly]\n",
      "   -------------------- ------------------- 1/2 [plotly]\n",
      "   -------------------- ------------------- 1/2 [plotly]\n",
      "   -------------------- ------------------- 1/2 [plotly]\n",
      "   -------------------- ------------------- 1/2 [plotly]\n",
      "   -------------------- ------------------- 1/2 [plotly]\n",
      "   -------------------- ------------------- 1/2 [plotly]\n",
      "   -------------------- ------------------- 1/2 [plotly]\n",
      "   -------------------- ------------------- 1/2 [plotly]\n",
      "   -------------------- ------------------- 1/2 [plotly]\n",
      "   -------------------- ------------------- 1/2 [plotly]\n",
      "   -------------------- ------------------- 1/2 [plotly]\n",
      "   -------------------- ------------------- 1/2 [plotly]\n",
      "   -------------------- ------------------- 1/2 [plotly]\n",
      "   -------------------- ------------------- 1/2 [plotly]\n",
      "   -------------------- ------------------- 1/2 [plotly]\n",
      "   -------------------- ------------------- 1/2 [plotly]\n",
      "   -------------------- ------------------- 1/2 [plotly]\n",
      "   -------------------- ------------------- 1/2 [plotly]\n",
      "   -------------------- ------------------- 1/2 [plotly]\n",
      "   -------------------- ------------------- 1/2 [plotly]\n",
      "   -------------------- ------------------- 1/2 [plotly]\n",
      "   -------------------- ------------------- 1/2 [plotly]\n",
      "   -------------------- ------------------- 1/2 [plotly]\n",
      "   -------------------- ------------------- 1/2 [plotly]\n",
      "   -------------------- ------------------- 1/2 [plotly]\n",
      "   -------------------- ------------------- 1/2 [plotly]\n",
      "   -------------------- ------------------- 1/2 [plotly]\n",
      "   -------------------- ------------------- 1/2 [plotly]\n",
      "   -------------------- ------------------- 1/2 [plotly]\n",
      "   -------------------- ------------------- 1/2 [plotly]\n",
      "   -------------------- ------------------- 1/2 [plotly]\n",
      "   -------------------- ------------------- 1/2 [plotly]\n",
      "   -------------------- ------------------- 1/2 [plotly]\n",
      "   -------------------- ------------------- 1/2 [plotly]\n",
      "   -------------------- ------------------- 1/2 [plotly]\n",
      "   -------------------- ------------------- 1/2 [plotly]\n",
      "   -------------------- ------------------- 1/2 [plotly]\n",
      "   -------------------- ------------------- 1/2 [plotly]\n",
      "   -------------------- ------------------- 1/2 [plotly]\n",
      "   -------------------- ------------------- 1/2 [plotly]\n",
      "   -------------------- ------------------- 1/2 [plotly]\n",
      "   ---------------------------------------- 2/2 [plotly]\n",
      "\n",
      "Successfully installed narwhals-2.3.0 plotly-6.3.0\n",
      "Note: you may need to restart the kernel to use updated packages.\n"
     ]
    }
   ],
   "source": [
    "pip install plotly"
   ]
  },
  {
   "cell_type": "code",
   "execution_count": 4,
   "metadata": {},
   "outputs": [
    {
     "name": "stdout",
     "output_type": "stream",
     "text": [
      "Collecting ipywidgets\n",
      "  Downloading ipywidgets-8.1.7-py3-none-any.whl.metadata (2.4 kB)\n",
      "Requirement already satisfied: comm>=0.1.3 in c:\\code\\venv\\lib\\site-packages (from ipywidgets) (0.2.3)\n",
      "Requirement already satisfied: ipython>=6.1.0 in c:\\code\\venv\\lib\\site-packages (from ipywidgets) (9.4.0)\n",
      "Requirement already satisfied: traitlets>=4.3.1 in c:\\code\\venv\\lib\\site-packages (from ipywidgets) (5.14.3)\n",
      "Collecting widgetsnbextension~=4.0.14 (from ipywidgets)\n",
      "  Downloading widgetsnbextension-4.0.14-py3-none-any.whl.metadata (1.6 kB)\n",
      "Collecting jupyterlab_widgets~=3.0.15 (from ipywidgets)\n",
      "  Downloading jupyterlab_widgets-3.0.15-py3-none-any.whl.metadata (20 kB)\n",
      "Requirement already satisfied: colorama in c:\\code\\venv\\lib\\site-packages (from ipython>=6.1.0->ipywidgets) (0.4.6)\n",
      "Requirement already satisfied: decorator in c:\\code\\venv\\lib\\site-packages (from ipython>=6.1.0->ipywidgets) (5.2.1)\n",
      "Requirement already satisfied: ipython-pygments-lexers in c:\\code\\venv\\lib\\site-packages (from ipython>=6.1.0->ipywidgets) (1.1.1)\n",
      "Requirement already satisfied: jedi>=0.16 in c:\\code\\venv\\lib\\site-packages (from ipython>=6.1.0->ipywidgets) (0.19.2)\n",
      "Requirement already satisfied: matplotlib-inline in c:\\code\\venv\\lib\\site-packages (from ipython>=6.1.0->ipywidgets) (0.1.7)\n",
      "Requirement already satisfied: prompt_toolkit<3.1.0,>=3.0.41 in c:\\code\\venv\\lib\\site-packages (from ipython>=6.1.0->ipywidgets) (3.0.51)\n",
      "Requirement already satisfied: pygments>=2.4.0 in c:\\code\\venv\\lib\\site-packages (from ipython>=6.1.0->ipywidgets) (2.19.2)\n",
      "Requirement already satisfied: stack_data in c:\\code\\venv\\lib\\site-packages (from ipython>=6.1.0->ipywidgets) (0.6.3)\n",
      "Requirement already satisfied: wcwidth in c:\\code\\venv\\lib\\site-packages (from prompt_toolkit<3.1.0,>=3.0.41->ipython>=6.1.0->ipywidgets) (0.2.13)\n",
      "Requirement already satisfied: parso<0.9.0,>=0.8.4 in c:\\code\\venv\\lib\\site-packages (from jedi>=0.16->ipython>=6.1.0->ipywidgets) (0.8.4)\n",
      "Requirement already satisfied: executing>=1.2.0 in c:\\code\\venv\\lib\\site-packages (from stack_data->ipython>=6.1.0->ipywidgets) (2.2.0)\n",
      "Requirement already satisfied: asttokens>=2.1.0 in c:\\code\\venv\\lib\\site-packages (from stack_data->ipython>=6.1.0->ipywidgets) (3.0.0)\n",
      "Requirement already satisfied: pure-eval in c:\\code\\venv\\lib\\site-packages (from stack_data->ipython>=6.1.0->ipywidgets) (0.2.3)\n",
      "Downloading ipywidgets-8.1.7-py3-none-any.whl (139 kB)\n",
      "Downloading jupyterlab_widgets-3.0.15-py3-none-any.whl (216 kB)\n",
      "Downloading widgetsnbextension-4.0.14-py3-none-any.whl (2.2 MB)\n",
      "   ---------------------------------------- 0.0/2.2 MB ? eta -:--:--\n",
      "   ---------------------------------------- 2.2/2.2 MB 12.3 MB/s eta 0:00:00\n",
      "Installing collected packages: widgetsnbextension, jupyterlab_widgets, ipywidgets\n",
      "\n",
      "   ------------- -------------------------- 1/3 [jupyterlab_widgets]\n",
      "   -------------------------- ------------- 2/3 [ipywidgets]\n",
      "   -------------------------- ------------- 2/3 [ipywidgets]\n",
      "   -------------------------- ------------- 2/3 [ipywidgets]\n",
      "   -------------------------- ------------- 2/3 [ipywidgets]\n",
      "   -------------------------- ------------- 2/3 [ipywidgets]\n",
      "   -------------------------- ------------- 2/3 [ipywidgets]\n",
      "   -------------------------- ------------- 2/3 [ipywidgets]\n",
      "   -------------------------- ------------- 2/3 [ipywidgets]\n",
      "   -------------------------- ------------- 2/3 [ipywidgets]\n",
      "   -------------------------- ------------- 2/3 [ipywidgets]\n",
      "   ---------------------------------------- 3/3 [ipywidgets]\n",
      "\n",
      "Successfully installed ipywidgets-8.1.7 jupyterlab_widgets-3.0.15 widgetsnbextension-4.0.14\n",
      "Note: you may need to restart the kernel to use updated packages.\n"
     ]
    }
   ],
   "source": [
    "pip install ipywidgets"
   ]
  },
  {
   "cell_type": "code",
   "execution_count": 1,
   "metadata": {},
   "outputs": [
    {
     "name": "stdout",
     "output_type": "stream",
     "text": [
      "Dashboard architecture toolkit loaded!\n"
     ]
    }
   ],
   "source": [
    "# Core libraries\n",
    "import pandas as pd\n",
    "import numpy as np\n",
    "import matplotlib.pyplot as plt\n",
    "import seaborn as sns\n",
    "import plotly.express as px\n",
    "import plotly.graph_objects as go\n",
    "from plotly.subplots import make_subplots\n",
    "from datetime import datetime, timedelta\n",
    "import json\n",
    "import time\n",
    "import warnings\n",
    "warnings.filterwarnings('ignore')\n",
    "\n",
    "# For dashboard examples\n",
    "from IPython.display import HTML, display, IFrame\n",
    "import ipywidgets as widgets\n",
    "from ipywidgets import interact, interactive, fixed, VBox, HBox\n",
    "\n",
    "# Configure plotting\n",
    "plt.style.use('seaborn-v0_8-darkgrid')\n",
    "sns.set_palette('husl')\n",
    "px.defaults.template = 'plotly_white'\n",
    "\n",
    "print(\"Dashboard architecture toolkit loaded!\")"
   ]
  },
  {
   "cell_type": "markdown",
   "metadata": {},
   "source": [
    "## 1. Dashboard Design Patterns\n",
    "\n",
    "Understanding the three fundamental dashboard types and their use cases."
   ]
  },
  {
   "cell_type": "markdown",
   "metadata": {},
   "source": [
    "### 1.1 Monitoring Dashboard Pattern\n",
    "\n",
    "**Purpose:** Real-time system health and KPI tracking  \n",
    "**Update Frequency:** Real-time to minutes  \n",
    "**Key Elements:** Alerts, gauges, time series, status indicators"
   ]
  },
  {
   "cell_type": "code",
   "execution_count": 2,
   "metadata": {},
   "outputs": [
    {
     "name": "stdout",
     "output_type": "stream",
     "text": [
      "Monitoring data shape: (1440, 6)\n"
     ]
    },
    {
     "data": {
      "text/html": [
       "<div>\n",
       "<style scoped>\n",
       "    .dataframe tbody tr th:only-of-type {\n",
       "        vertical-align: middle;\n",
       "    }\n",
       "\n",
       "    .dataframe tbody tr th {\n",
       "        vertical-align: top;\n",
       "    }\n",
       "\n",
       "    .dataframe thead th {\n",
       "        text-align: right;\n",
       "    }\n",
       "</style>\n",
       "<table border=\"1\" class=\"dataframe\">\n",
       "  <thead>\n",
       "    <tr style=\"text-align: right;\">\n",
       "      <th></th>\n",
       "      <th>timestamp</th>\n",
       "      <th>cpu_usage</th>\n",
       "      <th>memory_usage</th>\n",
       "      <th>response_time</th>\n",
       "      <th>error_rate</th>\n",
       "      <th>requests_per_sec</th>\n",
       "    </tr>\n",
       "  </thead>\n",
       "  <tbody>\n",
       "    <tr>\n",
       "      <th>0</th>\n",
       "      <td>2024-01-01 00:00:00</td>\n",
       "      <td>35.367666</td>\n",
       "      <td>52.133704</td>\n",
       "      <td>96.729755</td>\n",
       "      <td>0.00</td>\n",
       "      <td>99</td>\n",
       "    </tr>\n",
       "    <tr>\n",
       "      <th>1</th>\n",
       "      <td>2024-01-01 00:01:00</td>\n",
       "      <td>24.855807</td>\n",
       "      <td>35.493918</td>\n",
       "      <td>63.238428</td>\n",
       "      <td>0.03</td>\n",
       "      <td>96</td>\n",
       "    </tr>\n",
       "    <tr>\n",
       "      <th>2</th>\n",
       "      <td>2024-01-01 00:02:00</td>\n",
       "      <td>41.595909</td>\n",
       "      <td>32.257268</td>\n",
       "      <td>69.595681</td>\n",
       "      <td>0.03</td>\n",
       "      <td>102</td>\n",
       "    </tr>\n",
       "    <tr>\n",
       "      <th>3</th>\n",
       "      <td>2024-01-01 00:03:00</td>\n",
       "      <td>15.996758</td>\n",
       "      <td>50.391926</td>\n",
       "      <td>157.513455</td>\n",
       "      <td>0.03</td>\n",
       "      <td>96</td>\n",
       "    </tr>\n",
       "    <tr>\n",
       "      <th>4</th>\n",
       "      <td>2024-01-01 00:04:00</td>\n",
       "      <td>55.028308</td>\n",
       "      <td>82.163458</td>\n",
       "      <td>185.771309</td>\n",
       "      <td>0.01</td>\n",
       "      <td>103</td>\n",
       "    </tr>\n",
       "  </tbody>\n",
       "</table>\n",
       "</div>"
      ],
      "text/plain": [
       "            timestamp  cpu_usage  memory_usage  response_time  error_rate  \\\n",
       "0 2024-01-01 00:00:00  35.367666     52.133704      96.729755        0.00   \n",
       "1 2024-01-01 00:01:00  24.855807     35.493918      63.238428        0.03   \n",
       "2 2024-01-01 00:02:00  41.595909     32.257268      69.595681        0.03   \n",
       "3 2024-01-01 00:03:00  15.996758     50.391926     157.513455        0.03   \n",
       "4 2024-01-01 00:04:00  55.028308     82.163458     185.771309        0.01   \n",
       "\n",
       "   requests_per_sec  \n",
       "0                99  \n",
       "1                96  \n",
       "2               102  \n",
       "3                96  \n",
       "4               103  "
      ]
     },
     "execution_count": 2,
     "metadata": {},
     "output_type": "execute_result"
    }
   ],
   "source": [
    "# Generate monitoring data\n",
    "np.random.seed(42)\n",
    "timestamps = pd.date_range(start='2024-01-01', periods=1440, freq='1min')\n",
    "\n",
    "monitoring_data = pd.DataFrame({\n",
    "    'timestamp': timestamps,\n",
    "    'cpu_usage': np.random.beta(2, 5, 1440) * 100,\n",
    "    'memory_usage': np.random.beta(3, 2, 1440) * 100,\n",
    "    'response_time': np.random.gamma(2, 50, 1440),\n",
    "    'error_rate': np.random.poisson(2, 1440) / 100,\n",
    "    'requests_per_sec': np.random.poisson(100, 1440)\n",
    "})\n",
    "\n",
    "# Add anomalies\n",
    "anomaly_indices = np.random.choice(1440, 10, replace=False)\n",
    "monitoring_data.loc[anomaly_indices, 'response_time'] *= 5\n",
    "\n",
    "print(\"Monitoring data shape:\", monitoring_data.shape)\n",
    "monitoring_data.head()"
   ]
  },
  {
   "cell_type": "code",
   "execution_count": 3,
   "metadata": {},
   "outputs": [
    {
     "data": {
      "application/vnd.plotly.v1+json": {
       "config": {
        "plotlyServerURL": "https://plot.ly"
       },
       "data": [
        {
         "domain": {
          "x": [
           0,
           0.2888888888888889
          ],
          "y": [
           0.625,
           1
          ]
         },
         "gauge": {
          "axis": {
           "range": [
            0,
            100
           ]
          },
          "bar": {
           "color": "darkblue"
          },
          "steps": [
           {
            "color": "lightgray",
            "range": [
             0,
             50
            ]
           },
           {
            "color": "yellow",
            "range": [
             50,
             80
            ]
           },
           {
            "color": "red",
            "range": [
             80,
             100
            ]
           }
          ]
         },
         "mode": "gauge+number",
         "title": {
          "text": "CPU %"
         },
         "type": "indicator",
         "value": 19.35168773138802
        },
        {
         "domain": {
          "x": [
           0.35555555555555557,
           0.6444444444444445
          ],
          "y": [
           0.625,
           1
          ]
         },
         "gauge": {
          "axis": {
           "range": [
            0,
            100
           ]
          },
          "bar": {
           "color": "darkgreen"
          }
         },
         "mode": "gauge+number",
         "title": {
          "text": "Memory %"
         },
         "type": "indicator",
         "value": 43.40511905800808
        },
        {
         "mode": "lines",
         "name": "Response Time",
         "type": "scatter",
         "x": [
          "2024-01-01T00:00:00.000000000",
          "2024-01-01T00:01:00.000000000",
          "2024-01-01T00:02:00.000000000",
          "2024-01-01T00:03:00.000000000",
          "2024-01-01T00:04:00.000000000",
          "2024-01-01T00:05:00.000000000",
          "2024-01-01T00:06:00.000000000",
          "2024-01-01T00:07:00.000000000",
          "2024-01-01T00:08:00.000000000",
          "2024-01-01T00:09:00.000000000",
          "2024-01-01T00:10:00.000000000",
          "2024-01-01T00:11:00.000000000",
          "2024-01-01T00:12:00.000000000",
          "2024-01-01T00:13:00.000000000",
          "2024-01-01T00:14:00.000000000",
          "2024-01-01T00:15:00.000000000",
          "2024-01-01T00:16:00.000000000",
          "2024-01-01T00:17:00.000000000",
          "2024-01-01T00:18:00.000000000",
          "2024-01-01T00:19:00.000000000",
          "2024-01-01T00:20:00.000000000",
          "2024-01-01T00:21:00.000000000",
          "2024-01-01T00:22:00.000000000",
          "2024-01-01T00:23:00.000000000",
          "2024-01-01T00:24:00.000000000",
          "2024-01-01T00:25:00.000000000",
          "2024-01-01T00:26:00.000000000",
          "2024-01-01T00:27:00.000000000",
          "2024-01-01T00:28:00.000000000",
          "2024-01-01T00:29:00.000000000",
          "2024-01-01T00:30:00.000000000",
          "2024-01-01T00:31:00.000000000",
          "2024-01-01T00:32:00.000000000",
          "2024-01-01T00:33:00.000000000",
          "2024-01-01T00:34:00.000000000",
          "2024-01-01T00:35:00.000000000",
          "2024-01-01T00:36:00.000000000",
          "2024-01-01T00:37:00.000000000",
          "2024-01-01T00:38:00.000000000",
          "2024-01-01T00:39:00.000000000",
          "2024-01-01T00:40:00.000000000",
          "2024-01-01T00:41:00.000000000",
          "2024-01-01T00:42:00.000000000",
          "2024-01-01T00:43:00.000000000",
          "2024-01-01T00:44:00.000000000",
          "2024-01-01T00:45:00.000000000",
          "2024-01-01T00:46:00.000000000",
          "2024-01-01T00:47:00.000000000",
          "2024-01-01T00:48:00.000000000",
          "2024-01-01T00:49:00.000000000",
          "2024-01-01T00:50:00.000000000",
          "2024-01-01T00:51:00.000000000",
          "2024-01-01T00:52:00.000000000",
          "2024-01-01T00:53:00.000000000",
          "2024-01-01T00:54:00.000000000",
          "2024-01-01T00:55:00.000000000",
          "2024-01-01T00:56:00.000000000",
          "2024-01-01T00:57:00.000000000",
          "2024-01-01T00:58:00.000000000",
          "2024-01-01T00:59:00.000000000",
          "2024-01-01T01:00:00.000000000",
          "2024-01-01T01:01:00.000000000",
          "2024-01-01T01:02:00.000000000",
          "2024-01-01T01:03:00.000000000",
          "2024-01-01T01:04:00.000000000",
          "2024-01-01T01:05:00.000000000",
          "2024-01-01T01:06:00.000000000",
          "2024-01-01T01:07:00.000000000",
          "2024-01-01T01:08:00.000000000",
          "2024-01-01T01:09:00.000000000",
          "2024-01-01T01:10:00.000000000",
          "2024-01-01T01:11:00.000000000",
          "2024-01-01T01:12:00.000000000",
          "2024-01-01T01:13:00.000000000",
          "2024-01-01T01:14:00.000000000",
          "2024-01-01T01:15:00.000000000",
          "2024-01-01T01:16:00.000000000",
          "2024-01-01T01:17:00.000000000",
          "2024-01-01T01:18:00.000000000",
          "2024-01-01T01:19:00.000000000",
          "2024-01-01T01:20:00.000000000",
          "2024-01-01T01:21:00.000000000",
          "2024-01-01T01:22:00.000000000",
          "2024-01-01T01:23:00.000000000",
          "2024-01-01T01:24:00.000000000",
          "2024-01-01T01:25:00.000000000",
          "2024-01-01T01:26:00.000000000",
          "2024-01-01T01:27:00.000000000",
          "2024-01-01T01:28:00.000000000",
          "2024-01-01T01:29:00.000000000",
          "2024-01-01T01:30:00.000000000",
          "2024-01-01T01:31:00.000000000",
          "2024-01-01T01:32:00.000000000",
          "2024-01-01T01:33:00.000000000",
          "2024-01-01T01:34:00.000000000",
          "2024-01-01T01:35:00.000000000",
          "2024-01-01T01:36:00.000000000",
          "2024-01-01T01:37:00.000000000",
          "2024-01-01T01:38:00.000000000",
          "2024-01-01T01:39:00.000000000",
          "2024-01-01T01:40:00.000000000",
          "2024-01-01T01:41:00.000000000",
          "2024-01-01T01:42:00.000000000",
          "2024-01-01T01:43:00.000000000",
          "2024-01-01T01:44:00.000000000",
          "2024-01-01T01:45:00.000000000",
          "2024-01-01T01:46:00.000000000",
          "2024-01-01T01:47:00.000000000",
          "2024-01-01T01:48:00.000000000",
          "2024-01-01T01:49:00.000000000",
          "2024-01-01T01:50:00.000000000",
          "2024-01-01T01:51:00.000000000",
          "2024-01-01T01:52:00.000000000",
          "2024-01-01T01:53:00.000000000",
          "2024-01-01T01:54:00.000000000",
          "2024-01-01T01:55:00.000000000",
          "2024-01-01T01:56:00.000000000",
          "2024-01-01T01:57:00.000000000",
          "2024-01-01T01:58:00.000000000",
          "2024-01-01T01:59:00.000000000",
          "2024-01-01T02:00:00.000000000",
          "2024-01-01T02:01:00.000000000",
          "2024-01-01T02:02:00.000000000",
          "2024-01-01T02:03:00.000000000",
          "2024-01-01T02:04:00.000000000",
          "2024-01-01T02:05:00.000000000",
          "2024-01-01T02:06:00.000000000",
          "2024-01-01T02:07:00.000000000",
          "2024-01-01T02:08:00.000000000",
          "2024-01-01T02:09:00.000000000",
          "2024-01-01T02:10:00.000000000",
          "2024-01-01T02:11:00.000000000",
          "2024-01-01T02:12:00.000000000",
          "2024-01-01T02:13:00.000000000",
          "2024-01-01T02:14:00.000000000",
          "2024-01-01T02:15:00.000000000",
          "2024-01-01T02:16:00.000000000",
          "2024-01-01T02:17:00.000000000",
          "2024-01-01T02:18:00.000000000",
          "2024-01-01T02:19:00.000000000",
          "2024-01-01T02:20:00.000000000",
          "2024-01-01T02:21:00.000000000",
          "2024-01-01T02:22:00.000000000",
          "2024-01-01T02:23:00.000000000",
          "2024-01-01T02:24:00.000000000",
          "2024-01-01T02:25:00.000000000",
          "2024-01-01T02:26:00.000000000",
          "2024-01-01T02:27:00.000000000",
          "2024-01-01T02:28:00.000000000",
          "2024-01-01T02:29:00.000000000",
          "2024-01-01T02:30:00.000000000",
          "2024-01-01T02:31:00.000000000",
          "2024-01-01T02:32:00.000000000",
          "2024-01-01T02:33:00.000000000",
          "2024-01-01T02:34:00.000000000",
          "2024-01-01T02:35:00.000000000",
          "2024-01-01T02:36:00.000000000",
          "2024-01-01T02:37:00.000000000",
          "2024-01-01T02:38:00.000000000",
          "2024-01-01T02:39:00.000000000",
          "2024-01-01T02:40:00.000000000",
          "2024-01-01T02:41:00.000000000",
          "2024-01-01T02:42:00.000000000",
          "2024-01-01T02:43:00.000000000",
          "2024-01-01T02:44:00.000000000",
          "2024-01-01T02:45:00.000000000",
          "2024-01-01T02:46:00.000000000",
          "2024-01-01T02:47:00.000000000",
          "2024-01-01T02:48:00.000000000",
          "2024-01-01T02:49:00.000000000",
          "2024-01-01T02:50:00.000000000",
          "2024-01-01T02:51:00.000000000",
          "2024-01-01T02:52:00.000000000",
          "2024-01-01T02:53:00.000000000",
          "2024-01-01T02:54:00.000000000",
          "2024-01-01T02:55:00.000000000",
          "2024-01-01T02:56:00.000000000",
          "2024-01-01T02:57:00.000000000",
          "2024-01-01T02:58:00.000000000",
          "2024-01-01T02:59:00.000000000",
          "2024-01-01T03:00:00.000000000",
          "2024-01-01T03:01:00.000000000",
          "2024-01-01T03:02:00.000000000",
          "2024-01-01T03:03:00.000000000",
          "2024-01-01T03:04:00.000000000",
          "2024-01-01T03:05:00.000000000",
          "2024-01-01T03:06:00.000000000",
          "2024-01-01T03:07:00.000000000",
          "2024-01-01T03:08:00.000000000",
          "2024-01-01T03:09:00.000000000",
          "2024-01-01T03:10:00.000000000",
          "2024-01-01T03:11:00.000000000",
          "2024-01-01T03:12:00.000000000",
          "2024-01-01T03:13:00.000000000",
          "2024-01-01T03:14:00.000000000",
          "2024-01-01T03:15:00.000000000",
          "2024-01-01T03:16:00.000000000",
          "2024-01-01T03:17:00.000000000",
          "2024-01-01T03:18:00.000000000",
          "2024-01-01T03:19:00.000000000",
          "2024-01-01T03:20:00.000000000",
          "2024-01-01T03:21:00.000000000",
          "2024-01-01T03:22:00.000000000",
          "2024-01-01T03:23:00.000000000",
          "2024-01-01T03:24:00.000000000",
          "2024-01-01T03:25:00.000000000",
          "2024-01-01T03:26:00.000000000",
          "2024-01-01T03:27:00.000000000",
          "2024-01-01T03:28:00.000000000",
          "2024-01-01T03:29:00.000000000",
          "2024-01-01T03:30:00.000000000",
          "2024-01-01T03:31:00.000000000",
          "2024-01-01T03:32:00.000000000",
          "2024-01-01T03:33:00.000000000",
          "2024-01-01T03:34:00.000000000",
          "2024-01-01T03:35:00.000000000",
          "2024-01-01T03:36:00.000000000",
          "2024-01-01T03:37:00.000000000",
          "2024-01-01T03:38:00.000000000",
          "2024-01-01T03:39:00.000000000",
          "2024-01-01T03:40:00.000000000",
          "2024-01-01T03:41:00.000000000",
          "2024-01-01T03:42:00.000000000",
          "2024-01-01T03:43:00.000000000",
          "2024-01-01T03:44:00.000000000",
          "2024-01-01T03:45:00.000000000",
          "2024-01-01T03:46:00.000000000",
          "2024-01-01T03:47:00.000000000",
          "2024-01-01T03:48:00.000000000",
          "2024-01-01T03:49:00.000000000",
          "2024-01-01T03:50:00.000000000",
          "2024-01-01T03:51:00.000000000",
          "2024-01-01T03:52:00.000000000",
          "2024-01-01T03:53:00.000000000",
          "2024-01-01T03:54:00.000000000",
          "2024-01-01T03:55:00.000000000",
          "2024-01-01T03:56:00.000000000",
          "2024-01-01T03:57:00.000000000",
          "2024-01-01T03:58:00.000000000",
          "2024-01-01T03:59:00.000000000",
          "2024-01-01T04:00:00.000000000",
          "2024-01-01T04:01:00.000000000",
          "2024-01-01T04:02:00.000000000",
          "2024-01-01T04:03:00.000000000",
          "2024-01-01T04:04:00.000000000",
          "2024-01-01T04:05:00.000000000",
          "2024-01-01T04:06:00.000000000",
          "2024-01-01T04:07:00.000000000",
          "2024-01-01T04:08:00.000000000",
          "2024-01-01T04:09:00.000000000",
          "2024-01-01T04:10:00.000000000",
          "2024-01-01T04:11:00.000000000",
          "2024-01-01T04:12:00.000000000",
          "2024-01-01T04:13:00.000000000",
          "2024-01-01T04:14:00.000000000",
          "2024-01-01T04:15:00.000000000",
          "2024-01-01T04:16:00.000000000",
          "2024-01-01T04:17:00.000000000",
          "2024-01-01T04:18:00.000000000",
          "2024-01-01T04:19:00.000000000",
          "2024-01-01T04:20:00.000000000",
          "2024-01-01T04:21:00.000000000",
          "2024-01-01T04:22:00.000000000",
          "2024-01-01T04:23:00.000000000",
          "2024-01-01T04:24:00.000000000",
          "2024-01-01T04:25:00.000000000",
          "2024-01-01T04:26:00.000000000",
          "2024-01-01T04:27:00.000000000",
          "2024-01-01T04:28:00.000000000",
          "2024-01-01T04:29:00.000000000",
          "2024-01-01T04:30:00.000000000",
          "2024-01-01T04:31:00.000000000",
          "2024-01-01T04:32:00.000000000",
          "2024-01-01T04:33:00.000000000",
          "2024-01-01T04:34:00.000000000",
          "2024-01-01T04:35:00.000000000",
          "2024-01-01T04:36:00.000000000",
          "2024-01-01T04:37:00.000000000",
          "2024-01-01T04:38:00.000000000",
          "2024-01-01T04:39:00.000000000",
          "2024-01-01T04:40:00.000000000",
          "2024-01-01T04:41:00.000000000",
          "2024-01-01T04:42:00.000000000",
          "2024-01-01T04:43:00.000000000",
          "2024-01-01T04:44:00.000000000",
          "2024-01-01T04:45:00.000000000",
          "2024-01-01T04:46:00.000000000",
          "2024-01-01T04:47:00.000000000",
          "2024-01-01T04:48:00.000000000",
          "2024-01-01T04:49:00.000000000",
          "2024-01-01T04:50:00.000000000",
          "2024-01-01T04:51:00.000000000",
          "2024-01-01T04:52:00.000000000",
          "2024-01-01T04:53:00.000000000",
          "2024-01-01T04:54:00.000000000",
          "2024-01-01T04:55:00.000000000",
          "2024-01-01T04:56:00.000000000",
          "2024-01-01T04:57:00.000000000",
          "2024-01-01T04:58:00.000000000",
          "2024-01-01T04:59:00.000000000",
          "2024-01-01T05:00:00.000000000",
          "2024-01-01T05:01:00.000000000",
          "2024-01-01T05:02:00.000000000",
          "2024-01-01T05:03:00.000000000",
          "2024-01-01T05:04:00.000000000",
          "2024-01-01T05:05:00.000000000",
          "2024-01-01T05:06:00.000000000",
          "2024-01-01T05:07:00.000000000",
          "2024-01-01T05:08:00.000000000",
          "2024-01-01T05:09:00.000000000",
          "2024-01-01T05:10:00.000000000",
          "2024-01-01T05:11:00.000000000",
          "2024-01-01T05:12:00.000000000",
          "2024-01-01T05:13:00.000000000",
          "2024-01-01T05:14:00.000000000",
          "2024-01-01T05:15:00.000000000",
          "2024-01-01T05:16:00.000000000",
          "2024-01-01T05:17:00.000000000",
          "2024-01-01T05:18:00.000000000",
          "2024-01-01T05:19:00.000000000",
          "2024-01-01T05:20:00.000000000",
          "2024-01-01T05:21:00.000000000",
          "2024-01-01T05:22:00.000000000",
          "2024-01-01T05:23:00.000000000",
          "2024-01-01T05:24:00.000000000",
          "2024-01-01T05:25:00.000000000",
          "2024-01-01T05:26:00.000000000",
          "2024-01-01T05:27:00.000000000",
          "2024-01-01T05:28:00.000000000",
          "2024-01-01T05:29:00.000000000",
          "2024-01-01T05:30:00.000000000",
          "2024-01-01T05:31:00.000000000",
          "2024-01-01T05:32:00.000000000",
          "2024-01-01T05:33:00.000000000",
          "2024-01-01T05:34:00.000000000",
          "2024-01-01T05:35:00.000000000",
          "2024-01-01T05:36:00.000000000",
          "2024-01-01T05:37:00.000000000",
          "2024-01-01T05:38:00.000000000",
          "2024-01-01T05:39:00.000000000",
          "2024-01-01T05:40:00.000000000",
          "2024-01-01T05:41:00.000000000",
          "2024-01-01T05:42:00.000000000",
          "2024-01-01T05:43:00.000000000",
          "2024-01-01T05:44:00.000000000",
          "2024-01-01T05:45:00.000000000",
          "2024-01-01T05:46:00.000000000",
          "2024-01-01T05:47:00.000000000",
          "2024-01-01T05:48:00.000000000",
          "2024-01-01T05:49:00.000000000",
          "2024-01-01T05:50:00.000000000",
          "2024-01-01T05:51:00.000000000",
          "2024-01-01T05:52:00.000000000",
          "2024-01-01T05:53:00.000000000",
          "2024-01-01T05:54:00.000000000",
          "2024-01-01T05:55:00.000000000",
          "2024-01-01T05:56:00.000000000",
          "2024-01-01T05:57:00.000000000",
          "2024-01-01T05:58:00.000000000",
          "2024-01-01T05:59:00.000000000",
          "2024-01-01T06:00:00.000000000",
          "2024-01-01T06:01:00.000000000",
          "2024-01-01T06:02:00.000000000",
          "2024-01-01T06:03:00.000000000",
          "2024-01-01T06:04:00.000000000",
          "2024-01-01T06:05:00.000000000",
          "2024-01-01T06:06:00.000000000",
          "2024-01-01T06:07:00.000000000",
          "2024-01-01T06:08:00.000000000",
          "2024-01-01T06:09:00.000000000",
          "2024-01-01T06:10:00.000000000",
          "2024-01-01T06:11:00.000000000",
          "2024-01-01T06:12:00.000000000",
          "2024-01-01T06:13:00.000000000",
          "2024-01-01T06:14:00.000000000",
          "2024-01-01T06:15:00.000000000",
          "2024-01-01T06:16:00.000000000",
          "2024-01-01T06:17:00.000000000",
          "2024-01-01T06:18:00.000000000",
          "2024-01-01T06:19:00.000000000",
          "2024-01-01T06:20:00.000000000",
          "2024-01-01T06:21:00.000000000",
          "2024-01-01T06:22:00.000000000",
          "2024-01-01T06:23:00.000000000",
          "2024-01-01T06:24:00.000000000",
          "2024-01-01T06:25:00.000000000",
          "2024-01-01T06:26:00.000000000",
          "2024-01-01T06:27:00.000000000",
          "2024-01-01T06:28:00.000000000",
          "2024-01-01T06:29:00.000000000",
          "2024-01-01T06:30:00.000000000",
          "2024-01-01T06:31:00.000000000",
          "2024-01-01T06:32:00.000000000",
          "2024-01-01T06:33:00.000000000",
          "2024-01-01T06:34:00.000000000",
          "2024-01-01T06:35:00.000000000",
          "2024-01-01T06:36:00.000000000",
          "2024-01-01T06:37:00.000000000",
          "2024-01-01T06:38:00.000000000",
          "2024-01-01T06:39:00.000000000",
          "2024-01-01T06:40:00.000000000",
          "2024-01-01T06:41:00.000000000",
          "2024-01-01T06:42:00.000000000",
          "2024-01-01T06:43:00.000000000",
          "2024-01-01T06:44:00.000000000",
          "2024-01-01T06:45:00.000000000",
          "2024-01-01T06:46:00.000000000",
          "2024-01-01T06:47:00.000000000",
          "2024-01-01T06:48:00.000000000",
          "2024-01-01T06:49:00.000000000",
          "2024-01-01T06:50:00.000000000",
          "2024-01-01T06:51:00.000000000",
          "2024-01-01T06:52:00.000000000",
          "2024-01-01T06:53:00.000000000",
          "2024-01-01T06:54:00.000000000",
          "2024-01-01T06:55:00.000000000",
          "2024-01-01T06:56:00.000000000",
          "2024-01-01T06:57:00.000000000",
          "2024-01-01T06:58:00.000000000",
          "2024-01-01T06:59:00.000000000",
          "2024-01-01T07:00:00.000000000",
          "2024-01-01T07:01:00.000000000",
          "2024-01-01T07:02:00.000000000",
          "2024-01-01T07:03:00.000000000",
          "2024-01-01T07:04:00.000000000",
          "2024-01-01T07:05:00.000000000",
          "2024-01-01T07:06:00.000000000",
          "2024-01-01T07:07:00.000000000",
          "2024-01-01T07:08:00.000000000",
          "2024-01-01T07:09:00.000000000",
          "2024-01-01T07:10:00.000000000",
          "2024-01-01T07:11:00.000000000",
          "2024-01-01T07:12:00.000000000",
          "2024-01-01T07:13:00.000000000",
          "2024-01-01T07:14:00.000000000",
          "2024-01-01T07:15:00.000000000",
          "2024-01-01T07:16:00.000000000",
          "2024-01-01T07:17:00.000000000",
          "2024-01-01T07:18:00.000000000",
          "2024-01-01T07:19:00.000000000",
          "2024-01-01T07:20:00.000000000",
          "2024-01-01T07:21:00.000000000",
          "2024-01-01T07:22:00.000000000",
          "2024-01-01T07:23:00.000000000",
          "2024-01-01T07:24:00.000000000",
          "2024-01-01T07:25:00.000000000",
          "2024-01-01T07:26:00.000000000",
          "2024-01-01T07:27:00.000000000",
          "2024-01-01T07:28:00.000000000",
          "2024-01-01T07:29:00.000000000",
          "2024-01-01T07:30:00.000000000",
          "2024-01-01T07:31:00.000000000",
          "2024-01-01T07:32:00.000000000",
          "2024-01-01T07:33:00.000000000",
          "2024-01-01T07:34:00.000000000",
          "2024-01-01T07:35:00.000000000",
          "2024-01-01T07:36:00.000000000",
          "2024-01-01T07:37:00.000000000",
          "2024-01-01T07:38:00.000000000",
          "2024-01-01T07:39:00.000000000",
          "2024-01-01T07:40:00.000000000",
          "2024-01-01T07:41:00.000000000",
          "2024-01-01T07:42:00.000000000",
          "2024-01-01T07:43:00.000000000",
          "2024-01-01T07:44:00.000000000",
          "2024-01-01T07:45:00.000000000",
          "2024-01-01T07:46:00.000000000",
          "2024-01-01T07:47:00.000000000",
          "2024-01-01T07:48:00.000000000",
          "2024-01-01T07:49:00.000000000",
          "2024-01-01T07:50:00.000000000",
          "2024-01-01T07:51:00.000000000",
          "2024-01-01T07:52:00.000000000",
          "2024-01-01T07:53:00.000000000",
          "2024-01-01T07:54:00.000000000",
          "2024-01-01T07:55:00.000000000",
          "2024-01-01T07:56:00.000000000",
          "2024-01-01T07:57:00.000000000",
          "2024-01-01T07:58:00.000000000",
          "2024-01-01T07:59:00.000000000",
          "2024-01-01T08:00:00.000000000",
          "2024-01-01T08:01:00.000000000",
          "2024-01-01T08:02:00.000000000",
          "2024-01-01T08:03:00.000000000",
          "2024-01-01T08:04:00.000000000",
          "2024-01-01T08:05:00.000000000",
          "2024-01-01T08:06:00.000000000",
          "2024-01-01T08:07:00.000000000",
          "2024-01-01T08:08:00.000000000",
          "2024-01-01T08:09:00.000000000",
          "2024-01-01T08:10:00.000000000",
          "2024-01-01T08:11:00.000000000",
          "2024-01-01T08:12:00.000000000",
          "2024-01-01T08:13:00.000000000",
          "2024-01-01T08:14:00.000000000",
          "2024-01-01T08:15:00.000000000",
          "2024-01-01T08:16:00.000000000",
          "2024-01-01T08:17:00.000000000",
          "2024-01-01T08:18:00.000000000",
          "2024-01-01T08:19:00.000000000",
          "2024-01-01T08:20:00.000000000",
          "2024-01-01T08:21:00.000000000",
          "2024-01-01T08:22:00.000000000",
          "2024-01-01T08:23:00.000000000",
          "2024-01-01T08:24:00.000000000",
          "2024-01-01T08:25:00.000000000",
          "2024-01-01T08:26:00.000000000",
          "2024-01-01T08:27:00.000000000",
          "2024-01-01T08:28:00.000000000",
          "2024-01-01T08:29:00.000000000",
          "2024-01-01T08:30:00.000000000",
          "2024-01-01T08:31:00.000000000",
          "2024-01-01T08:32:00.000000000",
          "2024-01-01T08:33:00.000000000",
          "2024-01-01T08:34:00.000000000",
          "2024-01-01T08:35:00.000000000",
          "2024-01-01T08:36:00.000000000",
          "2024-01-01T08:37:00.000000000",
          "2024-01-01T08:38:00.000000000",
          "2024-01-01T08:39:00.000000000",
          "2024-01-01T08:40:00.000000000",
          "2024-01-01T08:41:00.000000000",
          "2024-01-01T08:42:00.000000000",
          "2024-01-01T08:43:00.000000000",
          "2024-01-01T08:44:00.000000000",
          "2024-01-01T08:45:00.000000000",
          "2024-01-01T08:46:00.000000000",
          "2024-01-01T08:47:00.000000000",
          "2024-01-01T08:48:00.000000000",
          "2024-01-01T08:49:00.000000000",
          "2024-01-01T08:50:00.000000000",
          "2024-01-01T08:51:00.000000000",
          "2024-01-01T08:52:00.000000000",
          "2024-01-01T08:53:00.000000000",
          "2024-01-01T08:54:00.000000000",
          "2024-01-01T08:55:00.000000000",
          "2024-01-01T08:56:00.000000000",
          "2024-01-01T08:57:00.000000000",
          "2024-01-01T08:58:00.000000000",
          "2024-01-01T08:59:00.000000000",
          "2024-01-01T09:00:00.000000000",
          "2024-01-01T09:01:00.000000000",
          "2024-01-01T09:02:00.000000000",
          "2024-01-01T09:03:00.000000000",
          "2024-01-01T09:04:00.000000000",
          "2024-01-01T09:05:00.000000000",
          "2024-01-01T09:06:00.000000000",
          "2024-01-01T09:07:00.000000000",
          "2024-01-01T09:08:00.000000000",
          "2024-01-01T09:09:00.000000000",
          "2024-01-01T09:10:00.000000000",
          "2024-01-01T09:11:00.000000000",
          "2024-01-01T09:12:00.000000000",
          "2024-01-01T09:13:00.000000000",
          "2024-01-01T09:14:00.000000000",
          "2024-01-01T09:15:00.000000000",
          "2024-01-01T09:16:00.000000000",
          "2024-01-01T09:17:00.000000000",
          "2024-01-01T09:18:00.000000000",
          "2024-01-01T09:19:00.000000000",
          "2024-01-01T09:20:00.000000000",
          "2024-01-01T09:21:00.000000000",
          "2024-01-01T09:22:00.000000000",
          "2024-01-01T09:23:00.000000000",
          "2024-01-01T09:24:00.000000000",
          "2024-01-01T09:25:00.000000000",
          "2024-01-01T09:26:00.000000000",
          "2024-01-01T09:27:00.000000000",
          "2024-01-01T09:28:00.000000000",
          "2024-01-01T09:29:00.000000000",
          "2024-01-01T09:30:00.000000000",
          "2024-01-01T09:31:00.000000000",
          "2024-01-01T09:32:00.000000000",
          "2024-01-01T09:33:00.000000000",
          "2024-01-01T09:34:00.000000000",
          "2024-01-01T09:35:00.000000000",
          "2024-01-01T09:36:00.000000000",
          "2024-01-01T09:37:00.000000000",
          "2024-01-01T09:38:00.000000000",
          "2024-01-01T09:39:00.000000000",
          "2024-01-01T09:40:00.000000000",
          "2024-01-01T09:41:00.000000000",
          "2024-01-01T09:42:00.000000000",
          "2024-01-01T09:43:00.000000000",
          "2024-01-01T09:44:00.000000000",
          "2024-01-01T09:45:00.000000000",
          "2024-01-01T09:46:00.000000000",
          "2024-01-01T09:47:00.000000000",
          "2024-01-01T09:48:00.000000000",
          "2024-01-01T09:49:00.000000000",
          "2024-01-01T09:50:00.000000000",
          "2024-01-01T09:51:00.000000000",
          "2024-01-01T09:52:00.000000000",
          "2024-01-01T09:53:00.000000000",
          "2024-01-01T09:54:00.000000000",
          "2024-01-01T09:55:00.000000000",
          "2024-01-01T09:56:00.000000000",
          "2024-01-01T09:57:00.000000000",
          "2024-01-01T09:58:00.000000000",
          "2024-01-01T09:59:00.000000000",
          "2024-01-01T10:00:00.000000000",
          "2024-01-01T10:01:00.000000000",
          "2024-01-01T10:02:00.000000000",
          "2024-01-01T10:03:00.000000000",
          "2024-01-01T10:04:00.000000000",
          "2024-01-01T10:05:00.000000000",
          "2024-01-01T10:06:00.000000000",
          "2024-01-01T10:07:00.000000000",
          "2024-01-01T10:08:00.000000000",
          "2024-01-01T10:09:00.000000000",
          "2024-01-01T10:10:00.000000000",
          "2024-01-01T10:11:00.000000000",
          "2024-01-01T10:12:00.000000000",
          "2024-01-01T10:13:00.000000000",
          "2024-01-01T10:14:00.000000000",
          "2024-01-01T10:15:00.000000000",
          "2024-01-01T10:16:00.000000000",
          "2024-01-01T10:17:00.000000000",
          "2024-01-01T10:18:00.000000000",
          "2024-01-01T10:19:00.000000000",
          "2024-01-01T10:20:00.000000000",
          "2024-01-01T10:21:00.000000000",
          "2024-01-01T10:22:00.000000000",
          "2024-01-01T10:23:00.000000000",
          "2024-01-01T10:24:00.000000000",
          "2024-01-01T10:25:00.000000000",
          "2024-01-01T10:26:00.000000000",
          "2024-01-01T10:27:00.000000000",
          "2024-01-01T10:28:00.000000000",
          "2024-01-01T10:29:00.000000000",
          "2024-01-01T10:30:00.000000000",
          "2024-01-01T10:31:00.000000000",
          "2024-01-01T10:32:00.000000000",
          "2024-01-01T10:33:00.000000000",
          "2024-01-01T10:34:00.000000000",
          "2024-01-01T10:35:00.000000000",
          "2024-01-01T10:36:00.000000000",
          "2024-01-01T10:37:00.000000000",
          "2024-01-01T10:38:00.000000000",
          "2024-01-01T10:39:00.000000000",
          "2024-01-01T10:40:00.000000000",
          "2024-01-01T10:41:00.000000000",
          "2024-01-01T10:42:00.000000000",
          "2024-01-01T10:43:00.000000000",
          "2024-01-01T10:44:00.000000000",
          "2024-01-01T10:45:00.000000000",
          "2024-01-01T10:46:00.000000000",
          "2024-01-01T10:47:00.000000000",
          "2024-01-01T10:48:00.000000000",
          "2024-01-01T10:49:00.000000000",
          "2024-01-01T10:50:00.000000000",
          "2024-01-01T10:51:00.000000000",
          "2024-01-01T10:52:00.000000000",
          "2024-01-01T10:53:00.000000000",
          "2024-01-01T10:54:00.000000000",
          "2024-01-01T10:55:00.000000000",
          "2024-01-01T10:56:00.000000000",
          "2024-01-01T10:57:00.000000000",
          "2024-01-01T10:58:00.000000000",
          "2024-01-01T10:59:00.000000000",
          "2024-01-01T11:00:00.000000000",
          "2024-01-01T11:01:00.000000000",
          "2024-01-01T11:02:00.000000000",
          "2024-01-01T11:03:00.000000000",
          "2024-01-01T11:04:00.000000000",
          "2024-01-01T11:05:00.000000000",
          "2024-01-01T11:06:00.000000000",
          "2024-01-01T11:07:00.000000000",
          "2024-01-01T11:08:00.000000000",
          "2024-01-01T11:09:00.000000000",
          "2024-01-01T11:10:00.000000000",
          "2024-01-01T11:11:00.000000000",
          "2024-01-01T11:12:00.000000000",
          "2024-01-01T11:13:00.000000000",
          "2024-01-01T11:14:00.000000000",
          "2024-01-01T11:15:00.000000000",
          "2024-01-01T11:16:00.000000000",
          "2024-01-01T11:17:00.000000000",
          "2024-01-01T11:18:00.000000000",
          "2024-01-01T11:19:00.000000000",
          "2024-01-01T11:20:00.000000000",
          "2024-01-01T11:21:00.000000000",
          "2024-01-01T11:22:00.000000000",
          "2024-01-01T11:23:00.000000000",
          "2024-01-01T11:24:00.000000000",
          "2024-01-01T11:25:00.000000000",
          "2024-01-01T11:26:00.000000000",
          "2024-01-01T11:27:00.000000000",
          "2024-01-01T11:28:00.000000000",
          "2024-01-01T11:29:00.000000000",
          "2024-01-01T11:30:00.000000000",
          "2024-01-01T11:31:00.000000000",
          "2024-01-01T11:32:00.000000000",
          "2024-01-01T11:33:00.000000000",
          "2024-01-01T11:34:00.000000000",
          "2024-01-01T11:35:00.000000000",
          "2024-01-01T11:36:00.000000000",
          "2024-01-01T11:37:00.000000000",
          "2024-01-01T11:38:00.000000000",
          "2024-01-01T11:39:00.000000000",
          "2024-01-01T11:40:00.000000000",
          "2024-01-01T11:41:00.000000000",
          "2024-01-01T11:42:00.000000000",
          "2024-01-01T11:43:00.000000000",
          "2024-01-01T11:44:00.000000000",
          "2024-01-01T11:45:00.000000000",
          "2024-01-01T11:46:00.000000000",
          "2024-01-01T11:47:00.000000000",
          "2024-01-01T11:48:00.000000000",
          "2024-01-01T11:49:00.000000000",
          "2024-01-01T11:50:00.000000000",
          "2024-01-01T11:51:00.000000000",
          "2024-01-01T11:52:00.000000000",
          "2024-01-01T11:53:00.000000000",
          "2024-01-01T11:54:00.000000000",
          "2024-01-01T11:55:00.000000000",
          "2024-01-01T11:56:00.000000000",
          "2024-01-01T11:57:00.000000000",
          "2024-01-01T11:58:00.000000000",
          "2024-01-01T11:59:00.000000000",
          "2024-01-01T12:00:00.000000000",
          "2024-01-01T12:01:00.000000000",
          "2024-01-01T12:02:00.000000000",
          "2024-01-01T12:03:00.000000000",
          "2024-01-01T12:04:00.000000000",
          "2024-01-01T12:05:00.000000000",
          "2024-01-01T12:06:00.000000000",
          "2024-01-01T12:07:00.000000000",
          "2024-01-01T12:08:00.000000000",
          "2024-01-01T12:09:00.000000000",
          "2024-01-01T12:10:00.000000000",
          "2024-01-01T12:11:00.000000000",
          "2024-01-01T12:12:00.000000000",
          "2024-01-01T12:13:00.000000000",
          "2024-01-01T12:14:00.000000000",
          "2024-01-01T12:15:00.000000000",
          "2024-01-01T12:16:00.000000000",
          "2024-01-01T12:17:00.000000000",
          "2024-01-01T12:18:00.000000000",
          "2024-01-01T12:19:00.000000000",
          "2024-01-01T12:20:00.000000000",
          "2024-01-01T12:21:00.000000000",
          "2024-01-01T12:22:00.000000000",
          "2024-01-01T12:23:00.000000000",
          "2024-01-01T12:24:00.000000000",
          "2024-01-01T12:25:00.000000000",
          "2024-01-01T12:26:00.000000000",
          "2024-01-01T12:27:00.000000000",
          "2024-01-01T12:28:00.000000000",
          "2024-01-01T12:29:00.000000000",
          "2024-01-01T12:30:00.000000000",
          "2024-01-01T12:31:00.000000000",
          "2024-01-01T12:32:00.000000000",
          "2024-01-01T12:33:00.000000000",
          "2024-01-01T12:34:00.000000000",
          "2024-01-01T12:35:00.000000000",
          "2024-01-01T12:36:00.000000000",
          "2024-01-01T12:37:00.000000000",
          "2024-01-01T12:38:00.000000000",
          "2024-01-01T12:39:00.000000000",
          "2024-01-01T12:40:00.000000000",
          "2024-01-01T12:41:00.000000000",
          "2024-01-01T12:42:00.000000000",
          "2024-01-01T12:43:00.000000000",
          "2024-01-01T12:44:00.000000000",
          "2024-01-01T12:45:00.000000000",
          "2024-01-01T12:46:00.000000000",
          "2024-01-01T12:47:00.000000000",
          "2024-01-01T12:48:00.000000000",
          "2024-01-01T12:49:00.000000000",
          "2024-01-01T12:50:00.000000000",
          "2024-01-01T12:51:00.000000000",
          "2024-01-01T12:52:00.000000000",
          "2024-01-01T12:53:00.000000000",
          "2024-01-01T12:54:00.000000000",
          "2024-01-01T12:55:00.000000000",
          "2024-01-01T12:56:00.000000000",
          "2024-01-01T12:57:00.000000000",
          "2024-01-01T12:58:00.000000000",
          "2024-01-01T12:59:00.000000000",
          "2024-01-01T13:00:00.000000000",
          "2024-01-01T13:01:00.000000000",
          "2024-01-01T13:02:00.000000000",
          "2024-01-01T13:03:00.000000000",
          "2024-01-01T13:04:00.000000000",
          "2024-01-01T13:05:00.000000000",
          "2024-01-01T13:06:00.000000000",
          "2024-01-01T13:07:00.000000000",
          "2024-01-01T13:08:00.000000000",
          "2024-01-01T13:09:00.000000000",
          "2024-01-01T13:10:00.000000000",
          "2024-01-01T13:11:00.000000000",
          "2024-01-01T13:12:00.000000000",
          "2024-01-01T13:13:00.000000000",
          "2024-01-01T13:14:00.000000000",
          "2024-01-01T13:15:00.000000000",
          "2024-01-01T13:16:00.000000000",
          "2024-01-01T13:17:00.000000000",
          "2024-01-01T13:18:00.000000000",
          "2024-01-01T13:19:00.000000000",
          "2024-01-01T13:20:00.000000000",
          "2024-01-01T13:21:00.000000000",
          "2024-01-01T13:22:00.000000000",
          "2024-01-01T13:23:00.000000000",
          "2024-01-01T13:24:00.000000000",
          "2024-01-01T13:25:00.000000000",
          "2024-01-01T13:26:00.000000000",
          "2024-01-01T13:27:00.000000000",
          "2024-01-01T13:28:00.000000000",
          "2024-01-01T13:29:00.000000000",
          "2024-01-01T13:30:00.000000000",
          "2024-01-01T13:31:00.000000000",
          "2024-01-01T13:32:00.000000000",
          "2024-01-01T13:33:00.000000000",
          "2024-01-01T13:34:00.000000000",
          "2024-01-01T13:35:00.000000000",
          "2024-01-01T13:36:00.000000000",
          "2024-01-01T13:37:00.000000000",
          "2024-01-01T13:38:00.000000000",
          "2024-01-01T13:39:00.000000000",
          "2024-01-01T13:40:00.000000000",
          "2024-01-01T13:41:00.000000000",
          "2024-01-01T13:42:00.000000000",
          "2024-01-01T13:43:00.000000000",
          "2024-01-01T13:44:00.000000000",
          "2024-01-01T13:45:00.000000000",
          "2024-01-01T13:46:00.000000000",
          "2024-01-01T13:47:00.000000000",
          "2024-01-01T13:48:00.000000000",
          "2024-01-01T13:49:00.000000000",
          "2024-01-01T13:50:00.000000000",
          "2024-01-01T13:51:00.000000000",
          "2024-01-01T13:52:00.000000000",
          "2024-01-01T13:53:00.000000000",
          "2024-01-01T13:54:00.000000000",
          "2024-01-01T13:55:00.000000000",
          "2024-01-01T13:56:00.000000000",
          "2024-01-01T13:57:00.000000000",
          "2024-01-01T13:58:00.000000000",
          "2024-01-01T13:59:00.000000000",
          "2024-01-01T14:00:00.000000000",
          "2024-01-01T14:01:00.000000000",
          "2024-01-01T14:02:00.000000000",
          "2024-01-01T14:03:00.000000000",
          "2024-01-01T14:04:00.000000000",
          "2024-01-01T14:05:00.000000000",
          "2024-01-01T14:06:00.000000000",
          "2024-01-01T14:07:00.000000000",
          "2024-01-01T14:08:00.000000000",
          "2024-01-01T14:09:00.000000000",
          "2024-01-01T14:10:00.000000000",
          "2024-01-01T14:11:00.000000000",
          "2024-01-01T14:12:00.000000000",
          "2024-01-01T14:13:00.000000000",
          "2024-01-01T14:14:00.000000000",
          "2024-01-01T14:15:00.000000000",
          "2024-01-01T14:16:00.000000000",
          "2024-01-01T14:17:00.000000000",
          "2024-01-01T14:18:00.000000000",
          "2024-01-01T14:19:00.000000000",
          "2024-01-01T14:20:00.000000000",
          "2024-01-01T14:21:00.000000000",
          "2024-01-01T14:22:00.000000000",
          "2024-01-01T14:23:00.000000000",
          "2024-01-01T14:24:00.000000000",
          "2024-01-01T14:25:00.000000000",
          "2024-01-01T14:26:00.000000000",
          "2024-01-01T14:27:00.000000000",
          "2024-01-01T14:28:00.000000000",
          "2024-01-01T14:29:00.000000000",
          "2024-01-01T14:30:00.000000000",
          "2024-01-01T14:31:00.000000000",
          "2024-01-01T14:32:00.000000000",
          "2024-01-01T14:33:00.000000000",
          "2024-01-01T14:34:00.000000000",
          "2024-01-01T14:35:00.000000000",
          "2024-01-01T14:36:00.000000000",
          "2024-01-01T14:37:00.000000000",
          "2024-01-01T14:38:00.000000000",
          "2024-01-01T14:39:00.000000000",
          "2024-01-01T14:40:00.000000000",
          "2024-01-01T14:41:00.000000000",
          "2024-01-01T14:42:00.000000000",
          "2024-01-01T14:43:00.000000000",
          "2024-01-01T14:44:00.000000000",
          "2024-01-01T14:45:00.000000000",
          "2024-01-01T14:46:00.000000000",
          "2024-01-01T14:47:00.000000000",
          "2024-01-01T14:48:00.000000000",
          "2024-01-01T14:49:00.000000000",
          "2024-01-01T14:50:00.000000000",
          "2024-01-01T14:51:00.000000000",
          "2024-01-01T14:52:00.000000000",
          "2024-01-01T14:53:00.000000000",
          "2024-01-01T14:54:00.000000000",
          "2024-01-01T14:55:00.000000000",
          "2024-01-01T14:56:00.000000000",
          "2024-01-01T14:57:00.000000000",
          "2024-01-01T14:58:00.000000000",
          "2024-01-01T14:59:00.000000000",
          "2024-01-01T15:00:00.000000000",
          "2024-01-01T15:01:00.000000000",
          "2024-01-01T15:02:00.000000000",
          "2024-01-01T15:03:00.000000000",
          "2024-01-01T15:04:00.000000000",
          "2024-01-01T15:05:00.000000000",
          "2024-01-01T15:06:00.000000000",
          "2024-01-01T15:07:00.000000000",
          "2024-01-01T15:08:00.000000000",
          "2024-01-01T15:09:00.000000000",
          "2024-01-01T15:10:00.000000000",
          "2024-01-01T15:11:00.000000000",
          "2024-01-01T15:12:00.000000000",
          "2024-01-01T15:13:00.000000000",
          "2024-01-01T15:14:00.000000000",
          "2024-01-01T15:15:00.000000000",
          "2024-01-01T15:16:00.000000000",
          "2024-01-01T15:17:00.000000000",
          "2024-01-01T15:18:00.000000000",
          "2024-01-01T15:19:00.000000000",
          "2024-01-01T15:20:00.000000000",
          "2024-01-01T15:21:00.000000000",
          "2024-01-01T15:22:00.000000000",
          "2024-01-01T15:23:00.000000000",
          "2024-01-01T15:24:00.000000000",
          "2024-01-01T15:25:00.000000000",
          "2024-01-01T15:26:00.000000000",
          "2024-01-01T15:27:00.000000000",
          "2024-01-01T15:28:00.000000000",
          "2024-01-01T15:29:00.000000000",
          "2024-01-01T15:30:00.000000000",
          "2024-01-01T15:31:00.000000000",
          "2024-01-01T15:32:00.000000000",
          "2024-01-01T15:33:00.000000000",
          "2024-01-01T15:34:00.000000000",
          "2024-01-01T15:35:00.000000000",
          "2024-01-01T15:36:00.000000000",
          "2024-01-01T15:37:00.000000000",
          "2024-01-01T15:38:00.000000000",
          "2024-01-01T15:39:00.000000000",
          "2024-01-01T15:40:00.000000000",
          "2024-01-01T15:41:00.000000000",
          "2024-01-01T15:42:00.000000000",
          "2024-01-01T15:43:00.000000000",
          "2024-01-01T15:44:00.000000000",
          "2024-01-01T15:45:00.000000000",
          "2024-01-01T15:46:00.000000000",
          "2024-01-01T15:47:00.000000000",
          "2024-01-01T15:48:00.000000000",
          "2024-01-01T15:49:00.000000000",
          "2024-01-01T15:50:00.000000000",
          "2024-01-01T15:51:00.000000000",
          "2024-01-01T15:52:00.000000000",
          "2024-01-01T15:53:00.000000000",
          "2024-01-01T15:54:00.000000000",
          "2024-01-01T15:55:00.000000000",
          "2024-01-01T15:56:00.000000000",
          "2024-01-01T15:57:00.000000000",
          "2024-01-01T15:58:00.000000000",
          "2024-01-01T15:59:00.000000000",
          "2024-01-01T16:00:00.000000000",
          "2024-01-01T16:01:00.000000000",
          "2024-01-01T16:02:00.000000000",
          "2024-01-01T16:03:00.000000000",
          "2024-01-01T16:04:00.000000000",
          "2024-01-01T16:05:00.000000000",
          "2024-01-01T16:06:00.000000000",
          "2024-01-01T16:07:00.000000000",
          "2024-01-01T16:08:00.000000000",
          "2024-01-01T16:09:00.000000000",
          "2024-01-01T16:10:00.000000000",
          "2024-01-01T16:11:00.000000000",
          "2024-01-01T16:12:00.000000000",
          "2024-01-01T16:13:00.000000000",
          "2024-01-01T16:14:00.000000000",
          "2024-01-01T16:15:00.000000000",
          "2024-01-01T16:16:00.000000000",
          "2024-01-01T16:17:00.000000000",
          "2024-01-01T16:18:00.000000000",
          "2024-01-01T16:19:00.000000000",
          "2024-01-01T16:20:00.000000000",
          "2024-01-01T16:21:00.000000000",
          "2024-01-01T16:22:00.000000000",
          "2024-01-01T16:23:00.000000000",
          "2024-01-01T16:24:00.000000000",
          "2024-01-01T16:25:00.000000000",
          "2024-01-01T16:26:00.000000000",
          "2024-01-01T16:27:00.000000000",
          "2024-01-01T16:28:00.000000000",
          "2024-01-01T16:29:00.000000000",
          "2024-01-01T16:30:00.000000000",
          "2024-01-01T16:31:00.000000000",
          "2024-01-01T16:32:00.000000000",
          "2024-01-01T16:33:00.000000000",
          "2024-01-01T16:34:00.000000000",
          "2024-01-01T16:35:00.000000000",
          "2024-01-01T16:36:00.000000000",
          "2024-01-01T16:37:00.000000000",
          "2024-01-01T16:38:00.000000000",
          "2024-01-01T16:39:00.000000000",
          "2024-01-01T16:40:00.000000000",
          "2024-01-01T16:41:00.000000000",
          "2024-01-01T16:42:00.000000000",
          "2024-01-01T16:43:00.000000000",
          "2024-01-01T16:44:00.000000000",
          "2024-01-01T16:45:00.000000000",
          "2024-01-01T16:46:00.000000000",
          "2024-01-01T16:47:00.000000000",
          "2024-01-01T16:48:00.000000000",
          "2024-01-01T16:49:00.000000000",
          "2024-01-01T16:50:00.000000000",
          "2024-01-01T16:51:00.000000000",
          "2024-01-01T16:52:00.000000000",
          "2024-01-01T16:53:00.000000000",
          "2024-01-01T16:54:00.000000000",
          "2024-01-01T16:55:00.000000000",
          "2024-01-01T16:56:00.000000000",
          "2024-01-01T16:57:00.000000000",
          "2024-01-01T16:58:00.000000000",
          "2024-01-01T16:59:00.000000000",
          "2024-01-01T17:00:00.000000000",
          "2024-01-01T17:01:00.000000000",
          "2024-01-01T17:02:00.000000000",
          "2024-01-01T17:03:00.000000000",
          "2024-01-01T17:04:00.000000000",
          "2024-01-01T17:05:00.000000000",
          "2024-01-01T17:06:00.000000000",
          "2024-01-01T17:07:00.000000000",
          "2024-01-01T17:08:00.000000000",
          "2024-01-01T17:09:00.000000000",
          "2024-01-01T17:10:00.000000000",
          "2024-01-01T17:11:00.000000000",
          "2024-01-01T17:12:00.000000000",
          "2024-01-01T17:13:00.000000000",
          "2024-01-01T17:14:00.000000000",
          "2024-01-01T17:15:00.000000000",
          "2024-01-01T17:16:00.000000000",
          "2024-01-01T17:17:00.000000000",
          "2024-01-01T17:18:00.000000000",
          "2024-01-01T17:19:00.000000000",
          "2024-01-01T17:20:00.000000000",
          "2024-01-01T17:21:00.000000000",
          "2024-01-01T17:22:00.000000000",
          "2024-01-01T17:23:00.000000000",
          "2024-01-01T17:24:00.000000000",
          "2024-01-01T17:25:00.000000000",
          "2024-01-01T17:26:00.000000000",
          "2024-01-01T17:27:00.000000000",
          "2024-01-01T17:28:00.000000000",
          "2024-01-01T17:29:00.000000000",
          "2024-01-01T17:30:00.000000000",
          "2024-01-01T17:31:00.000000000",
          "2024-01-01T17:32:00.000000000",
          "2024-01-01T17:33:00.000000000",
          "2024-01-01T17:34:00.000000000",
          "2024-01-01T17:35:00.000000000",
          "2024-01-01T17:36:00.000000000",
          "2024-01-01T17:37:00.000000000",
          "2024-01-01T17:38:00.000000000",
          "2024-01-01T17:39:00.000000000",
          "2024-01-01T17:40:00.000000000",
          "2024-01-01T17:41:00.000000000",
          "2024-01-01T17:42:00.000000000",
          "2024-01-01T17:43:00.000000000",
          "2024-01-01T17:44:00.000000000",
          "2024-01-01T17:45:00.000000000",
          "2024-01-01T17:46:00.000000000",
          "2024-01-01T17:47:00.000000000",
          "2024-01-01T17:48:00.000000000",
          "2024-01-01T17:49:00.000000000",
          "2024-01-01T17:50:00.000000000",
          "2024-01-01T17:51:00.000000000",
          "2024-01-01T17:52:00.000000000",
          "2024-01-01T17:53:00.000000000",
          "2024-01-01T17:54:00.000000000",
          "2024-01-01T17:55:00.000000000",
          "2024-01-01T17:56:00.000000000",
          "2024-01-01T17:57:00.000000000",
          "2024-01-01T17:58:00.000000000",
          "2024-01-01T17:59:00.000000000",
          "2024-01-01T18:00:00.000000000",
          "2024-01-01T18:01:00.000000000",
          "2024-01-01T18:02:00.000000000",
          "2024-01-01T18:03:00.000000000",
          "2024-01-01T18:04:00.000000000",
          "2024-01-01T18:05:00.000000000",
          "2024-01-01T18:06:00.000000000",
          "2024-01-01T18:07:00.000000000",
          "2024-01-01T18:08:00.000000000",
          "2024-01-01T18:09:00.000000000",
          "2024-01-01T18:10:00.000000000",
          "2024-01-01T18:11:00.000000000",
          "2024-01-01T18:12:00.000000000",
          "2024-01-01T18:13:00.000000000",
          "2024-01-01T18:14:00.000000000",
          "2024-01-01T18:15:00.000000000",
          "2024-01-01T18:16:00.000000000",
          "2024-01-01T18:17:00.000000000",
          "2024-01-01T18:18:00.000000000",
          "2024-01-01T18:19:00.000000000",
          "2024-01-01T18:20:00.000000000",
          "2024-01-01T18:21:00.000000000",
          "2024-01-01T18:22:00.000000000",
          "2024-01-01T18:23:00.000000000",
          "2024-01-01T18:24:00.000000000",
          "2024-01-01T18:25:00.000000000",
          "2024-01-01T18:26:00.000000000",
          "2024-01-01T18:27:00.000000000",
          "2024-01-01T18:28:00.000000000",
          "2024-01-01T18:29:00.000000000",
          "2024-01-01T18:30:00.000000000",
          "2024-01-01T18:31:00.000000000",
          "2024-01-01T18:32:00.000000000",
          "2024-01-01T18:33:00.000000000",
          "2024-01-01T18:34:00.000000000",
          "2024-01-01T18:35:00.000000000",
          "2024-01-01T18:36:00.000000000",
          "2024-01-01T18:37:00.000000000",
          "2024-01-01T18:38:00.000000000",
          "2024-01-01T18:39:00.000000000",
          "2024-01-01T18:40:00.000000000",
          "2024-01-01T18:41:00.000000000",
          "2024-01-01T18:42:00.000000000",
          "2024-01-01T18:43:00.000000000",
          "2024-01-01T18:44:00.000000000",
          "2024-01-01T18:45:00.000000000",
          "2024-01-01T18:46:00.000000000",
          "2024-01-01T18:47:00.000000000",
          "2024-01-01T18:48:00.000000000",
          "2024-01-01T18:49:00.000000000",
          "2024-01-01T18:50:00.000000000",
          "2024-01-01T18:51:00.000000000",
          "2024-01-01T18:52:00.000000000",
          "2024-01-01T18:53:00.000000000",
          "2024-01-01T18:54:00.000000000",
          "2024-01-01T18:55:00.000000000",
          "2024-01-01T18:56:00.000000000",
          "2024-01-01T18:57:00.000000000",
          "2024-01-01T18:58:00.000000000",
          "2024-01-01T18:59:00.000000000",
          "2024-01-01T19:00:00.000000000",
          "2024-01-01T19:01:00.000000000",
          "2024-01-01T19:02:00.000000000",
          "2024-01-01T19:03:00.000000000",
          "2024-01-01T19:04:00.000000000",
          "2024-01-01T19:05:00.000000000",
          "2024-01-01T19:06:00.000000000",
          "2024-01-01T19:07:00.000000000",
          "2024-01-01T19:08:00.000000000",
          "2024-01-01T19:09:00.000000000",
          "2024-01-01T19:10:00.000000000",
          "2024-01-01T19:11:00.000000000",
          "2024-01-01T19:12:00.000000000",
          "2024-01-01T19:13:00.000000000",
          "2024-01-01T19:14:00.000000000",
          "2024-01-01T19:15:00.000000000",
          "2024-01-01T19:16:00.000000000",
          "2024-01-01T19:17:00.000000000",
          "2024-01-01T19:18:00.000000000",
          "2024-01-01T19:19:00.000000000",
          "2024-01-01T19:20:00.000000000",
          "2024-01-01T19:21:00.000000000",
          "2024-01-01T19:22:00.000000000",
          "2024-01-01T19:23:00.000000000",
          "2024-01-01T19:24:00.000000000",
          "2024-01-01T19:25:00.000000000",
          "2024-01-01T19:26:00.000000000",
          "2024-01-01T19:27:00.000000000",
          "2024-01-01T19:28:00.000000000",
          "2024-01-01T19:29:00.000000000",
          "2024-01-01T19:30:00.000000000",
          "2024-01-01T19:31:00.000000000",
          "2024-01-01T19:32:00.000000000",
          "2024-01-01T19:33:00.000000000",
          "2024-01-01T19:34:00.000000000",
          "2024-01-01T19:35:00.000000000",
          "2024-01-01T19:36:00.000000000",
          "2024-01-01T19:37:00.000000000",
          "2024-01-01T19:38:00.000000000",
          "2024-01-01T19:39:00.000000000",
          "2024-01-01T19:40:00.000000000",
          "2024-01-01T19:41:00.000000000",
          "2024-01-01T19:42:00.000000000",
          "2024-01-01T19:43:00.000000000",
          "2024-01-01T19:44:00.000000000",
          "2024-01-01T19:45:00.000000000",
          "2024-01-01T19:46:00.000000000",
          "2024-01-01T19:47:00.000000000",
          "2024-01-01T19:48:00.000000000",
          "2024-01-01T19:49:00.000000000",
          "2024-01-01T19:50:00.000000000",
          "2024-01-01T19:51:00.000000000",
          "2024-01-01T19:52:00.000000000",
          "2024-01-01T19:53:00.000000000",
          "2024-01-01T19:54:00.000000000",
          "2024-01-01T19:55:00.000000000",
          "2024-01-01T19:56:00.000000000",
          "2024-01-01T19:57:00.000000000",
          "2024-01-01T19:58:00.000000000",
          "2024-01-01T19:59:00.000000000",
          "2024-01-01T20:00:00.000000000",
          "2024-01-01T20:01:00.000000000",
          "2024-01-01T20:02:00.000000000",
          "2024-01-01T20:03:00.000000000",
          "2024-01-01T20:04:00.000000000",
          "2024-01-01T20:05:00.000000000",
          "2024-01-01T20:06:00.000000000",
          "2024-01-01T20:07:00.000000000",
          "2024-01-01T20:08:00.000000000",
          "2024-01-01T20:09:00.000000000",
          "2024-01-01T20:10:00.000000000",
          "2024-01-01T20:11:00.000000000",
          "2024-01-01T20:12:00.000000000",
          "2024-01-01T20:13:00.000000000",
          "2024-01-01T20:14:00.000000000",
          "2024-01-01T20:15:00.000000000",
          "2024-01-01T20:16:00.000000000",
          "2024-01-01T20:17:00.000000000",
          "2024-01-01T20:18:00.000000000",
          "2024-01-01T20:19:00.000000000",
          "2024-01-01T20:20:00.000000000",
          "2024-01-01T20:21:00.000000000",
          "2024-01-01T20:22:00.000000000",
          "2024-01-01T20:23:00.000000000",
          "2024-01-01T20:24:00.000000000",
          "2024-01-01T20:25:00.000000000",
          "2024-01-01T20:26:00.000000000",
          "2024-01-01T20:27:00.000000000",
          "2024-01-01T20:28:00.000000000",
          "2024-01-01T20:29:00.000000000",
          "2024-01-01T20:30:00.000000000",
          "2024-01-01T20:31:00.000000000",
          "2024-01-01T20:32:00.000000000",
          "2024-01-01T20:33:00.000000000",
          "2024-01-01T20:34:00.000000000",
          "2024-01-01T20:35:00.000000000",
          "2024-01-01T20:36:00.000000000",
          "2024-01-01T20:37:00.000000000",
          "2024-01-01T20:38:00.000000000",
          "2024-01-01T20:39:00.000000000",
          "2024-01-01T20:40:00.000000000",
          "2024-01-01T20:41:00.000000000",
          "2024-01-01T20:42:00.000000000",
          "2024-01-01T20:43:00.000000000",
          "2024-01-01T20:44:00.000000000",
          "2024-01-01T20:45:00.000000000",
          "2024-01-01T20:46:00.000000000",
          "2024-01-01T20:47:00.000000000",
          "2024-01-01T20:48:00.000000000",
          "2024-01-01T20:49:00.000000000",
          "2024-01-01T20:50:00.000000000",
          "2024-01-01T20:51:00.000000000",
          "2024-01-01T20:52:00.000000000",
          "2024-01-01T20:53:00.000000000",
          "2024-01-01T20:54:00.000000000",
          "2024-01-01T20:55:00.000000000",
          "2024-01-01T20:56:00.000000000",
          "2024-01-01T20:57:00.000000000",
          "2024-01-01T20:58:00.000000000",
          "2024-01-01T20:59:00.000000000",
          "2024-01-01T21:00:00.000000000",
          "2024-01-01T21:01:00.000000000",
          "2024-01-01T21:02:00.000000000",
          "2024-01-01T21:03:00.000000000",
          "2024-01-01T21:04:00.000000000",
          "2024-01-01T21:05:00.000000000",
          "2024-01-01T21:06:00.000000000",
          "2024-01-01T21:07:00.000000000",
          "2024-01-01T21:08:00.000000000",
          "2024-01-01T21:09:00.000000000",
          "2024-01-01T21:10:00.000000000",
          "2024-01-01T21:11:00.000000000",
          "2024-01-01T21:12:00.000000000",
          "2024-01-01T21:13:00.000000000",
          "2024-01-01T21:14:00.000000000",
          "2024-01-01T21:15:00.000000000",
          "2024-01-01T21:16:00.000000000",
          "2024-01-01T21:17:00.000000000",
          "2024-01-01T21:18:00.000000000",
          "2024-01-01T21:19:00.000000000",
          "2024-01-01T21:20:00.000000000",
          "2024-01-01T21:21:00.000000000",
          "2024-01-01T21:22:00.000000000",
          "2024-01-01T21:23:00.000000000",
          "2024-01-01T21:24:00.000000000",
          "2024-01-01T21:25:00.000000000",
          "2024-01-01T21:26:00.000000000",
          "2024-01-01T21:27:00.000000000",
          "2024-01-01T21:28:00.000000000",
          "2024-01-01T21:29:00.000000000",
          "2024-01-01T21:30:00.000000000",
          "2024-01-01T21:31:00.000000000",
          "2024-01-01T21:32:00.000000000",
          "2024-01-01T21:33:00.000000000",
          "2024-01-01T21:34:00.000000000",
          "2024-01-01T21:35:00.000000000",
          "2024-01-01T21:36:00.000000000",
          "2024-01-01T21:37:00.000000000",
          "2024-01-01T21:38:00.000000000",
          "2024-01-01T21:39:00.000000000",
          "2024-01-01T21:40:00.000000000",
          "2024-01-01T21:41:00.000000000",
          "2024-01-01T21:42:00.000000000",
          "2024-01-01T21:43:00.000000000",
          "2024-01-01T21:44:00.000000000",
          "2024-01-01T21:45:00.000000000",
          "2024-01-01T21:46:00.000000000",
          "2024-01-01T21:47:00.000000000",
          "2024-01-01T21:48:00.000000000",
          "2024-01-01T21:49:00.000000000",
          "2024-01-01T21:50:00.000000000",
          "2024-01-01T21:51:00.000000000",
          "2024-01-01T21:52:00.000000000",
          "2024-01-01T21:53:00.000000000",
          "2024-01-01T21:54:00.000000000",
          "2024-01-01T21:55:00.000000000",
          "2024-01-01T21:56:00.000000000",
          "2024-01-01T21:57:00.000000000",
          "2024-01-01T21:58:00.000000000",
          "2024-01-01T21:59:00.000000000",
          "2024-01-01T22:00:00.000000000",
          "2024-01-01T22:01:00.000000000",
          "2024-01-01T22:02:00.000000000",
          "2024-01-01T22:03:00.000000000",
          "2024-01-01T22:04:00.000000000",
          "2024-01-01T22:05:00.000000000",
          "2024-01-01T22:06:00.000000000",
          "2024-01-01T22:07:00.000000000",
          "2024-01-01T22:08:00.000000000",
          "2024-01-01T22:09:00.000000000",
          "2024-01-01T22:10:00.000000000",
          "2024-01-01T22:11:00.000000000",
          "2024-01-01T22:12:00.000000000",
          "2024-01-01T22:13:00.000000000",
          "2024-01-01T22:14:00.000000000",
          "2024-01-01T22:15:00.000000000",
          "2024-01-01T22:16:00.000000000",
          "2024-01-01T22:17:00.000000000",
          "2024-01-01T22:18:00.000000000",
          "2024-01-01T22:19:00.000000000",
          "2024-01-01T22:20:00.000000000",
          "2024-01-01T22:21:00.000000000",
          "2024-01-01T22:22:00.000000000",
          "2024-01-01T22:23:00.000000000",
          "2024-01-01T22:24:00.000000000",
          "2024-01-01T22:25:00.000000000",
          "2024-01-01T22:26:00.000000000",
          "2024-01-01T22:27:00.000000000",
          "2024-01-01T22:28:00.000000000",
          "2024-01-01T22:29:00.000000000",
          "2024-01-01T22:30:00.000000000",
          "2024-01-01T22:31:00.000000000",
          "2024-01-01T22:32:00.000000000",
          "2024-01-01T22:33:00.000000000",
          "2024-01-01T22:34:00.000000000",
          "2024-01-01T22:35:00.000000000",
          "2024-01-01T22:36:00.000000000",
          "2024-01-01T22:37:00.000000000",
          "2024-01-01T22:38:00.000000000",
          "2024-01-01T22:39:00.000000000",
          "2024-01-01T22:40:00.000000000",
          "2024-01-01T22:41:00.000000000",
          "2024-01-01T22:42:00.000000000",
          "2024-01-01T22:43:00.000000000",
          "2024-01-01T22:44:00.000000000",
          "2024-01-01T22:45:00.000000000",
          "2024-01-01T22:46:00.000000000",
          "2024-01-01T22:47:00.000000000",
          "2024-01-01T22:48:00.000000000",
          "2024-01-01T22:49:00.000000000",
          "2024-01-01T22:50:00.000000000",
          "2024-01-01T22:51:00.000000000",
          "2024-01-01T22:52:00.000000000",
          "2024-01-01T22:53:00.000000000",
          "2024-01-01T22:54:00.000000000",
          "2024-01-01T22:55:00.000000000",
          "2024-01-01T22:56:00.000000000",
          "2024-01-01T22:57:00.000000000",
          "2024-01-01T22:58:00.000000000",
          "2024-01-01T22:59:00.000000000",
          "2024-01-01T23:00:00.000000000",
          "2024-01-01T23:01:00.000000000",
          "2024-01-01T23:02:00.000000000",
          "2024-01-01T23:03:00.000000000",
          "2024-01-01T23:04:00.000000000",
          "2024-01-01T23:05:00.000000000",
          "2024-01-01T23:06:00.000000000",
          "2024-01-01T23:07:00.000000000",
          "2024-01-01T23:08:00.000000000",
          "2024-01-01T23:09:00.000000000",
          "2024-01-01T23:10:00.000000000",
          "2024-01-01T23:11:00.000000000",
          "2024-01-01T23:12:00.000000000",
          "2024-01-01T23:13:00.000000000",
          "2024-01-01T23:14:00.000000000",
          "2024-01-01T23:15:00.000000000",
          "2024-01-01T23:16:00.000000000",
          "2024-01-01T23:17:00.000000000",
          "2024-01-01T23:18:00.000000000",
          "2024-01-01T23:19:00.000000000",
          "2024-01-01T23:20:00.000000000",
          "2024-01-01T23:21:00.000000000",
          "2024-01-01T23:22:00.000000000",
          "2024-01-01T23:23:00.000000000",
          "2024-01-01T23:24:00.000000000",
          "2024-01-01T23:25:00.000000000",
          "2024-01-01T23:26:00.000000000",
          "2024-01-01T23:27:00.000000000",
          "2024-01-01T23:28:00.000000000",
          "2024-01-01T23:29:00.000000000",
          "2024-01-01T23:30:00.000000000",
          "2024-01-01T23:31:00.000000000",
          "2024-01-01T23:32:00.000000000",
          "2024-01-01T23:33:00.000000000",
          "2024-01-01T23:34:00.000000000",
          "2024-01-01T23:35:00.000000000",
          "2024-01-01T23:36:00.000000000",
          "2024-01-01T23:37:00.000000000",
          "2024-01-01T23:38:00.000000000",
          "2024-01-01T23:39:00.000000000",
          "2024-01-01T23:40:00.000000000",
          "2024-01-01T23:41:00.000000000",
          "2024-01-01T23:42:00.000000000",
          "2024-01-01T23:43:00.000000000",
          "2024-01-01T23:44:00.000000000",
          "2024-01-01T23:45:00.000000000",
          "2024-01-01T23:46:00.000000000",
          "2024-01-01T23:47:00.000000000",
          "2024-01-01T23:48:00.000000000",
          "2024-01-01T23:49:00.000000000",
          "2024-01-01T23:50:00.000000000",
          "2024-01-01T23:51:00.000000000",
          "2024-01-01T23:52:00.000000000",
          "2024-01-01T23:53:00.000000000",
          "2024-01-01T23:54:00.000000000",
          "2024-01-01T23:55:00.000000000",
          "2024-01-01T23:56:00.000000000",
          "2024-01-01T23:57:00.000000000",
          "2024-01-01T23:58:00.000000000",
          "2024-01-01T23:59:00.000000000"
         ],
         "xaxis": "x",
         "y": {
          "bdata": "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",
          "dtype": "f8"
         },
         "yaxis": "y"
        },
        {
         "line": {
          "color": "red"
         },
         "mode": "lines",
         "name": "Error Rate",
         "type": "scatter",
         "x": [
          "2024-01-01T00:00:00.000000000",
          "2024-01-01T00:01:00.000000000",
          "2024-01-01T00:02:00.000000000",
          "2024-01-01T00:03:00.000000000",
          "2024-01-01T00:04:00.000000000",
          "2024-01-01T00:05:00.000000000",
          "2024-01-01T00:06:00.000000000",
          "2024-01-01T00:07:00.000000000",
          "2024-01-01T00:08:00.000000000",
          "2024-01-01T00:09:00.000000000",
          "2024-01-01T00:10:00.000000000",
          "2024-01-01T00:11:00.000000000",
          "2024-01-01T00:12:00.000000000",
          "2024-01-01T00:13:00.000000000",
          "2024-01-01T00:14:00.000000000",
          "2024-01-01T00:15:00.000000000",
          "2024-01-01T00:16:00.000000000",
          "2024-01-01T00:17:00.000000000",
          "2024-01-01T00:18:00.000000000",
          "2024-01-01T00:19:00.000000000",
          "2024-01-01T00:20:00.000000000",
          "2024-01-01T00:21:00.000000000",
          "2024-01-01T00:22:00.000000000",
          "2024-01-01T00:23:00.000000000",
          "2024-01-01T00:24:00.000000000",
          "2024-01-01T00:25:00.000000000",
          "2024-01-01T00:26:00.000000000",
          "2024-01-01T00:27:00.000000000",
          "2024-01-01T00:28:00.000000000",
          "2024-01-01T00:29:00.000000000",
          "2024-01-01T00:30:00.000000000",
          "2024-01-01T00:31:00.000000000",
          "2024-01-01T00:32:00.000000000",
          "2024-01-01T00:33:00.000000000",
          "2024-01-01T00:34:00.000000000",
          "2024-01-01T00:35:00.000000000",
          "2024-01-01T00:36:00.000000000",
          "2024-01-01T00:37:00.000000000",
          "2024-01-01T00:38:00.000000000",
          "2024-01-01T00:39:00.000000000",
          "2024-01-01T00:40:00.000000000",
          "2024-01-01T00:41:00.000000000",
          "2024-01-01T00:42:00.000000000",
          "2024-01-01T00:43:00.000000000",
          "2024-01-01T00:44:00.000000000",
          "2024-01-01T00:45:00.000000000",
          "2024-01-01T00:46:00.000000000",
          "2024-01-01T00:47:00.000000000",
          "2024-01-01T00:48:00.000000000",
          "2024-01-01T00:49:00.000000000",
          "2024-01-01T00:50:00.000000000",
          "2024-01-01T00:51:00.000000000",
          "2024-01-01T00:52:00.000000000",
          "2024-01-01T00:53:00.000000000",
          "2024-01-01T00:54:00.000000000",
          "2024-01-01T00:55:00.000000000",
          "2024-01-01T00:56:00.000000000",
          "2024-01-01T00:57:00.000000000",
          "2024-01-01T00:58:00.000000000",
          "2024-01-01T00:59:00.000000000",
          "2024-01-01T01:00:00.000000000",
          "2024-01-01T01:01:00.000000000",
          "2024-01-01T01:02:00.000000000",
          "2024-01-01T01:03:00.000000000",
          "2024-01-01T01:04:00.000000000",
          "2024-01-01T01:05:00.000000000",
          "2024-01-01T01:06:00.000000000",
          "2024-01-01T01:07:00.000000000",
          "2024-01-01T01:08:00.000000000",
          "2024-01-01T01:09:00.000000000",
          "2024-01-01T01:10:00.000000000",
          "2024-01-01T01:11:00.000000000",
          "2024-01-01T01:12:00.000000000",
          "2024-01-01T01:13:00.000000000",
          "2024-01-01T01:14:00.000000000",
          "2024-01-01T01:15:00.000000000",
          "2024-01-01T01:16:00.000000000",
          "2024-01-01T01:17:00.000000000",
          "2024-01-01T01:18:00.000000000",
          "2024-01-01T01:19:00.000000000",
          "2024-01-01T01:20:00.000000000",
          "2024-01-01T01:21:00.000000000",
          "2024-01-01T01:22:00.000000000",
          "2024-01-01T01:23:00.000000000",
          "2024-01-01T01:24:00.000000000",
          "2024-01-01T01:25:00.000000000",
          "2024-01-01T01:26:00.000000000",
          "2024-01-01T01:27:00.000000000",
          "2024-01-01T01:28:00.000000000",
          "2024-01-01T01:29:00.000000000",
          "2024-01-01T01:30:00.000000000",
          "2024-01-01T01:31:00.000000000",
          "2024-01-01T01:32:00.000000000",
          "2024-01-01T01:33:00.000000000",
          "2024-01-01T01:34:00.000000000",
          "2024-01-01T01:35:00.000000000",
          "2024-01-01T01:36:00.000000000",
          "2024-01-01T01:37:00.000000000",
          "2024-01-01T01:38:00.000000000",
          "2024-01-01T01:39:00.000000000",
          "2024-01-01T01:40:00.000000000",
          "2024-01-01T01:41:00.000000000",
          "2024-01-01T01:42:00.000000000",
          "2024-01-01T01:43:00.000000000",
          "2024-01-01T01:44:00.000000000",
          "2024-01-01T01:45:00.000000000",
          "2024-01-01T01:46:00.000000000",
          "2024-01-01T01:47:00.000000000",
          "2024-01-01T01:48:00.000000000",
          "2024-01-01T01:49:00.000000000",
          "2024-01-01T01:50:00.000000000",
          "2024-01-01T01:51:00.000000000",
          "2024-01-01T01:52:00.000000000",
          "2024-01-01T01:53:00.000000000",
          "2024-01-01T01:54:00.000000000",
          "2024-01-01T01:55:00.000000000",
          "2024-01-01T01:56:00.000000000",
          "2024-01-01T01:57:00.000000000",
          "2024-01-01T01:58:00.000000000",
          "2024-01-01T01:59:00.000000000",
          "2024-01-01T02:00:00.000000000",
          "2024-01-01T02:01:00.000000000",
          "2024-01-01T02:02:00.000000000",
          "2024-01-01T02:03:00.000000000",
          "2024-01-01T02:04:00.000000000",
          "2024-01-01T02:05:00.000000000",
          "2024-01-01T02:06:00.000000000",
          "2024-01-01T02:07:00.000000000",
          "2024-01-01T02:08:00.000000000",
          "2024-01-01T02:09:00.000000000",
          "2024-01-01T02:10:00.000000000",
          "2024-01-01T02:11:00.000000000",
          "2024-01-01T02:12:00.000000000",
          "2024-01-01T02:13:00.000000000",
          "2024-01-01T02:14:00.000000000",
          "2024-01-01T02:15:00.000000000",
          "2024-01-01T02:16:00.000000000",
          "2024-01-01T02:17:00.000000000",
          "2024-01-01T02:18:00.000000000",
          "2024-01-01T02:19:00.000000000",
          "2024-01-01T02:20:00.000000000",
          "2024-01-01T02:21:00.000000000",
          "2024-01-01T02:22:00.000000000",
          "2024-01-01T02:23:00.000000000",
          "2024-01-01T02:24:00.000000000",
          "2024-01-01T02:25:00.000000000",
          "2024-01-01T02:26:00.000000000",
          "2024-01-01T02:27:00.000000000",
          "2024-01-01T02:28:00.000000000",
          "2024-01-01T02:29:00.000000000",
          "2024-01-01T02:30:00.000000000",
          "2024-01-01T02:31:00.000000000",
          "2024-01-01T02:32:00.000000000",
          "2024-01-01T02:33:00.000000000",
          "2024-01-01T02:34:00.000000000",
          "2024-01-01T02:35:00.000000000",
          "2024-01-01T02:36:00.000000000",
          "2024-01-01T02:37:00.000000000",
          "2024-01-01T02:38:00.000000000",
          "2024-01-01T02:39:00.000000000",
          "2024-01-01T02:40:00.000000000",
          "2024-01-01T02:41:00.000000000",
          "2024-01-01T02:42:00.000000000",
          "2024-01-01T02:43:00.000000000",
          "2024-01-01T02:44:00.000000000",
          "2024-01-01T02:45:00.000000000",
          "2024-01-01T02:46:00.000000000",
          "2024-01-01T02:47:00.000000000",
          "2024-01-01T02:48:00.000000000",
          "2024-01-01T02:49:00.000000000",
          "2024-01-01T02:50:00.000000000",
          "2024-01-01T02:51:00.000000000",
          "2024-01-01T02:52:00.000000000",
          "2024-01-01T02:53:00.000000000",
          "2024-01-01T02:54:00.000000000",
          "2024-01-01T02:55:00.000000000",
          "2024-01-01T02:56:00.000000000",
          "2024-01-01T02:57:00.000000000",
          "2024-01-01T02:58:00.000000000",
          "2024-01-01T02:59:00.000000000",
          "2024-01-01T03:00:00.000000000",
          "2024-01-01T03:01:00.000000000",
          "2024-01-01T03:02:00.000000000",
          "2024-01-01T03:03:00.000000000",
          "2024-01-01T03:04:00.000000000",
          "2024-01-01T03:05:00.000000000",
          "2024-01-01T03:06:00.000000000",
          "2024-01-01T03:07:00.000000000",
          "2024-01-01T03:08:00.000000000",
          "2024-01-01T03:09:00.000000000",
          "2024-01-01T03:10:00.000000000",
          "2024-01-01T03:11:00.000000000",
          "2024-01-01T03:12:00.000000000",
          "2024-01-01T03:13:00.000000000",
          "2024-01-01T03:14:00.000000000",
          "2024-01-01T03:15:00.000000000",
          "2024-01-01T03:16:00.000000000",
          "2024-01-01T03:17:00.000000000",
          "2024-01-01T03:18:00.000000000",
          "2024-01-01T03:19:00.000000000",
          "2024-01-01T03:20:00.000000000",
          "2024-01-01T03:21:00.000000000",
          "2024-01-01T03:22:00.000000000",
          "2024-01-01T03:23:00.000000000",
          "2024-01-01T03:24:00.000000000",
          "2024-01-01T03:25:00.000000000",
          "2024-01-01T03:26:00.000000000",
          "2024-01-01T03:27:00.000000000",
          "2024-01-01T03:28:00.000000000",
          "2024-01-01T03:29:00.000000000",
          "2024-01-01T03:30:00.000000000",
          "2024-01-01T03:31:00.000000000",
          "2024-01-01T03:32:00.000000000",
          "2024-01-01T03:33:00.000000000",
          "2024-01-01T03:34:00.000000000",
          "2024-01-01T03:35:00.000000000",
          "2024-01-01T03:36:00.000000000",
          "2024-01-01T03:37:00.000000000",
          "2024-01-01T03:38:00.000000000",
          "2024-01-01T03:39:00.000000000",
          "2024-01-01T03:40:00.000000000",
          "2024-01-01T03:41:00.000000000",
          "2024-01-01T03:42:00.000000000",
          "2024-01-01T03:43:00.000000000",
          "2024-01-01T03:44:00.000000000",
          "2024-01-01T03:45:00.000000000",
          "2024-01-01T03:46:00.000000000",
          "2024-01-01T03:47:00.000000000",
          "2024-01-01T03:48:00.000000000",
          "2024-01-01T03:49:00.000000000",
          "2024-01-01T03:50:00.000000000",
          "2024-01-01T03:51:00.000000000",
          "2024-01-01T03:52:00.000000000",
          "2024-01-01T03:53:00.000000000",
          "2024-01-01T03:54:00.000000000",
          "2024-01-01T03:55:00.000000000",
          "2024-01-01T03:56:00.000000000",
          "2024-01-01T03:57:00.000000000",
          "2024-01-01T03:58:00.000000000",
          "2024-01-01T03:59:00.000000000",
          "2024-01-01T04:00:00.000000000",
          "2024-01-01T04:01:00.000000000",
          "2024-01-01T04:02:00.000000000",
          "2024-01-01T04:03:00.000000000",
          "2024-01-01T04:04:00.000000000",
          "2024-01-01T04:05:00.000000000",
          "2024-01-01T04:06:00.000000000",
          "2024-01-01T04:07:00.000000000",
          "2024-01-01T04:08:00.000000000",
          "2024-01-01T04:09:00.000000000",
          "2024-01-01T04:10:00.000000000",
          "2024-01-01T04:11:00.000000000",
          "2024-01-01T04:12:00.000000000",
          "2024-01-01T04:13:00.000000000",
          "2024-01-01T04:14:00.000000000",
          "2024-01-01T04:15:00.000000000",
          "2024-01-01T04:16:00.000000000",
          "2024-01-01T04:17:00.000000000",
          "2024-01-01T04:18:00.000000000",
          "2024-01-01T04:19:00.000000000",
          "2024-01-01T04:20:00.000000000",
          "2024-01-01T04:21:00.000000000",
          "2024-01-01T04:22:00.000000000",
          "2024-01-01T04:23:00.000000000",
          "2024-01-01T04:24:00.000000000",
          "2024-01-01T04:25:00.000000000",
          "2024-01-01T04:26:00.000000000",
          "2024-01-01T04:27:00.000000000",
          "2024-01-01T04:28:00.000000000",
          "2024-01-01T04:29:00.000000000",
          "2024-01-01T04:30:00.000000000",
          "2024-01-01T04:31:00.000000000",
          "2024-01-01T04:32:00.000000000",
          "2024-01-01T04:33:00.000000000",
          "2024-01-01T04:34:00.000000000",
          "2024-01-01T04:35:00.000000000",
          "2024-01-01T04:36:00.000000000",
          "2024-01-01T04:37:00.000000000",
          "2024-01-01T04:38:00.000000000",
          "2024-01-01T04:39:00.000000000",
          "2024-01-01T04:40:00.000000000",
          "2024-01-01T04:41:00.000000000",
          "2024-01-01T04:42:00.000000000",
          "2024-01-01T04:43:00.000000000",
          "2024-01-01T04:44:00.000000000",
          "2024-01-01T04:45:00.000000000",
          "2024-01-01T04:46:00.000000000",
          "2024-01-01T04:47:00.000000000",
          "2024-01-01T04:48:00.000000000",
          "2024-01-01T04:49:00.000000000",
          "2024-01-01T04:50:00.000000000",
          "2024-01-01T04:51:00.000000000",
          "2024-01-01T04:52:00.000000000",
          "2024-01-01T04:53:00.000000000",
          "2024-01-01T04:54:00.000000000",
          "2024-01-01T04:55:00.000000000",
          "2024-01-01T04:56:00.000000000",
          "2024-01-01T04:57:00.000000000",
          "2024-01-01T04:58:00.000000000",
          "2024-01-01T04:59:00.000000000",
          "2024-01-01T05:00:00.000000000",
          "2024-01-01T05:01:00.000000000",
          "2024-01-01T05:02:00.000000000",
          "2024-01-01T05:03:00.000000000",
          "2024-01-01T05:04:00.000000000",
          "2024-01-01T05:05:00.000000000",
          "2024-01-01T05:06:00.000000000",
          "2024-01-01T05:07:00.000000000",
          "2024-01-01T05:08:00.000000000",
          "2024-01-01T05:09:00.000000000",
          "2024-01-01T05:10:00.000000000",
          "2024-01-01T05:11:00.000000000",
          "2024-01-01T05:12:00.000000000",
          "2024-01-01T05:13:00.000000000",
          "2024-01-01T05:14:00.000000000",
          "2024-01-01T05:15:00.000000000",
          "2024-01-01T05:16:00.000000000",
          "2024-01-01T05:17:00.000000000",
          "2024-01-01T05:18:00.000000000",
          "2024-01-01T05:19:00.000000000",
          "2024-01-01T05:20:00.000000000",
          "2024-01-01T05:21:00.000000000",
          "2024-01-01T05:22:00.000000000",
          "2024-01-01T05:23:00.000000000",
          "2024-01-01T05:24:00.000000000",
          "2024-01-01T05:25:00.000000000",
          "2024-01-01T05:26:00.000000000",
          "2024-01-01T05:27:00.000000000",
          "2024-01-01T05:28:00.000000000",
          "2024-01-01T05:29:00.000000000",
          "2024-01-01T05:30:00.000000000",
          "2024-01-01T05:31:00.000000000",
          "2024-01-01T05:32:00.000000000",
          "2024-01-01T05:33:00.000000000",
          "2024-01-01T05:34:00.000000000",
          "2024-01-01T05:35:00.000000000",
          "2024-01-01T05:36:00.000000000",
          "2024-01-01T05:37:00.000000000",
          "2024-01-01T05:38:00.000000000",
          "2024-01-01T05:39:00.000000000",
          "2024-01-01T05:40:00.000000000",
          "2024-01-01T05:41:00.000000000",
          "2024-01-01T05:42:00.000000000",
          "2024-01-01T05:43:00.000000000",
          "2024-01-01T05:44:00.000000000",
          "2024-01-01T05:45:00.000000000",
          "2024-01-01T05:46:00.000000000",
          "2024-01-01T05:47:00.000000000",
          "2024-01-01T05:48:00.000000000",
          "2024-01-01T05:49:00.000000000",
          "2024-01-01T05:50:00.000000000",
          "2024-01-01T05:51:00.000000000",
          "2024-01-01T05:52:00.000000000",
          "2024-01-01T05:53:00.000000000",
          "2024-01-01T05:54:00.000000000",
          "2024-01-01T05:55:00.000000000",
          "2024-01-01T05:56:00.000000000",
          "2024-01-01T05:57:00.000000000",
          "2024-01-01T05:58:00.000000000",
          "2024-01-01T05:59:00.000000000",
          "2024-01-01T06:00:00.000000000",
          "2024-01-01T06:01:00.000000000",
          "2024-01-01T06:02:00.000000000",
          "2024-01-01T06:03:00.000000000",
          "2024-01-01T06:04:00.000000000",
          "2024-01-01T06:05:00.000000000",
          "2024-01-01T06:06:00.000000000",
          "2024-01-01T06:07:00.000000000",
          "2024-01-01T06:08:00.000000000",
          "2024-01-01T06:09:00.000000000",
          "2024-01-01T06:10:00.000000000",
          "2024-01-01T06:11:00.000000000",
          "2024-01-01T06:12:00.000000000",
          "2024-01-01T06:13:00.000000000",
          "2024-01-01T06:14:00.000000000",
          "2024-01-01T06:15:00.000000000",
          "2024-01-01T06:16:00.000000000",
          "2024-01-01T06:17:00.000000000",
          "2024-01-01T06:18:00.000000000",
          "2024-01-01T06:19:00.000000000",
          "2024-01-01T06:20:00.000000000",
          "2024-01-01T06:21:00.000000000",
          "2024-01-01T06:22:00.000000000",
          "2024-01-01T06:23:00.000000000",
          "2024-01-01T06:24:00.000000000",
          "2024-01-01T06:25:00.000000000",
          "2024-01-01T06:26:00.000000000",
          "2024-01-01T06:27:00.000000000",
          "2024-01-01T06:28:00.000000000",
          "2024-01-01T06:29:00.000000000",
          "2024-01-01T06:30:00.000000000",
          "2024-01-01T06:31:00.000000000",
          "2024-01-01T06:32:00.000000000",
          "2024-01-01T06:33:00.000000000",
          "2024-01-01T06:34:00.000000000",
          "2024-01-01T06:35:00.000000000",
          "2024-01-01T06:36:00.000000000",
          "2024-01-01T06:37:00.000000000",
          "2024-01-01T06:38:00.000000000",
          "2024-01-01T06:39:00.000000000",
          "2024-01-01T06:40:00.000000000",
          "2024-01-01T06:41:00.000000000",
          "2024-01-01T06:42:00.000000000",
          "2024-01-01T06:43:00.000000000",
          "2024-01-01T06:44:00.000000000",
          "2024-01-01T06:45:00.000000000",
          "2024-01-01T06:46:00.000000000",
          "2024-01-01T06:47:00.000000000",
          "2024-01-01T06:48:00.000000000",
          "2024-01-01T06:49:00.000000000",
          "2024-01-01T06:50:00.000000000",
          "2024-01-01T06:51:00.000000000",
          "2024-01-01T06:52:00.000000000",
          "2024-01-01T06:53:00.000000000",
          "2024-01-01T06:54:00.000000000",
          "2024-01-01T06:55:00.000000000",
          "2024-01-01T06:56:00.000000000",
          "2024-01-01T06:57:00.000000000",
          "2024-01-01T06:58:00.000000000",
          "2024-01-01T06:59:00.000000000",
          "2024-01-01T07:00:00.000000000",
          "2024-01-01T07:01:00.000000000",
          "2024-01-01T07:02:00.000000000",
          "2024-01-01T07:03:00.000000000",
          "2024-01-01T07:04:00.000000000",
          "2024-01-01T07:05:00.000000000",
          "2024-01-01T07:06:00.000000000",
          "2024-01-01T07:07:00.000000000",
          "2024-01-01T07:08:00.000000000",
          "2024-01-01T07:09:00.000000000",
          "2024-01-01T07:10:00.000000000",
          "2024-01-01T07:11:00.000000000",
          "2024-01-01T07:12:00.000000000",
          "2024-01-01T07:13:00.000000000",
          "2024-01-01T07:14:00.000000000",
          "2024-01-01T07:15:00.000000000",
          "2024-01-01T07:16:00.000000000",
          "2024-01-01T07:17:00.000000000",
          "2024-01-01T07:18:00.000000000",
          "2024-01-01T07:19:00.000000000",
          "2024-01-01T07:20:00.000000000",
          "2024-01-01T07:21:00.000000000",
          "2024-01-01T07:22:00.000000000",
          "2024-01-01T07:23:00.000000000",
          "2024-01-01T07:24:00.000000000",
          "2024-01-01T07:25:00.000000000",
          "2024-01-01T07:26:00.000000000",
          "2024-01-01T07:27:00.000000000",
          "2024-01-01T07:28:00.000000000",
          "2024-01-01T07:29:00.000000000",
          "2024-01-01T07:30:00.000000000",
          "2024-01-01T07:31:00.000000000",
          "2024-01-01T07:32:00.000000000",
          "2024-01-01T07:33:00.000000000",
          "2024-01-01T07:34:00.000000000",
          "2024-01-01T07:35:00.000000000",
          "2024-01-01T07:36:00.000000000",
          "2024-01-01T07:37:00.000000000",
          "2024-01-01T07:38:00.000000000",
          "2024-01-01T07:39:00.000000000",
          "2024-01-01T07:40:00.000000000",
          "2024-01-01T07:41:00.000000000",
          "2024-01-01T07:42:00.000000000",
          "2024-01-01T07:43:00.000000000",
          "2024-01-01T07:44:00.000000000",
          "2024-01-01T07:45:00.000000000",
          "2024-01-01T07:46:00.000000000",
          "2024-01-01T07:47:00.000000000",
          "2024-01-01T07:48:00.000000000",
          "2024-01-01T07:49:00.000000000",
          "2024-01-01T07:50:00.000000000",
          "2024-01-01T07:51:00.000000000",
          "2024-01-01T07:52:00.000000000",
          "2024-01-01T07:53:00.000000000",
          "2024-01-01T07:54:00.000000000",
          "2024-01-01T07:55:00.000000000",
          "2024-01-01T07:56:00.000000000",
          "2024-01-01T07:57:00.000000000",
          "2024-01-01T07:58:00.000000000",
          "2024-01-01T07:59:00.000000000",
          "2024-01-01T08:00:00.000000000",
          "2024-01-01T08:01:00.000000000",
          "2024-01-01T08:02:00.000000000",
          "2024-01-01T08:03:00.000000000",
          "2024-01-01T08:04:00.000000000",
          "2024-01-01T08:05:00.000000000",
          "2024-01-01T08:06:00.000000000",
          "2024-01-01T08:07:00.000000000",
          "2024-01-01T08:08:00.000000000",
          "2024-01-01T08:09:00.000000000",
          "2024-01-01T08:10:00.000000000",
          "2024-01-01T08:11:00.000000000",
          "2024-01-01T08:12:00.000000000",
          "2024-01-01T08:13:00.000000000",
          "2024-01-01T08:14:00.000000000",
          "2024-01-01T08:15:00.000000000",
          "2024-01-01T08:16:00.000000000",
          "2024-01-01T08:17:00.000000000",
          "2024-01-01T08:18:00.000000000",
          "2024-01-01T08:19:00.000000000",
          "2024-01-01T08:20:00.000000000",
          "2024-01-01T08:21:00.000000000",
          "2024-01-01T08:22:00.000000000",
          "2024-01-01T08:23:00.000000000",
          "2024-01-01T08:24:00.000000000",
          "2024-01-01T08:25:00.000000000",
          "2024-01-01T08:26:00.000000000",
          "2024-01-01T08:27:00.000000000",
          "2024-01-01T08:28:00.000000000",
          "2024-01-01T08:29:00.000000000",
          "2024-01-01T08:30:00.000000000",
          "2024-01-01T08:31:00.000000000",
          "2024-01-01T08:32:00.000000000",
          "2024-01-01T08:33:00.000000000",
          "2024-01-01T08:34:00.000000000",
          "2024-01-01T08:35:00.000000000",
          "2024-01-01T08:36:00.000000000",
          "2024-01-01T08:37:00.000000000",
          "2024-01-01T08:38:00.000000000",
          "2024-01-01T08:39:00.000000000",
          "2024-01-01T08:40:00.000000000",
          "2024-01-01T08:41:00.000000000",
          "2024-01-01T08:42:00.000000000",
          "2024-01-01T08:43:00.000000000",
          "2024-01-01T08:44:00.000000000",
          "2024-01-01T08:45:00.000000000",
          "2024-01-01T08:46:00.000000000",
          "2024-01-01T08:47:00.000000000",
          "2024-01-01T08:48:00.000000000",
          "2024-01-01T08:49:00.000000000",
          "2024-01-01T08:50:00.000000000",
          "2024-01-01T08:51:00.000000000",
          "2024-01-01T08:52:00.000000000",
          "2024-01-01T08:53:00.000000000",
          "2024-01-01T08:54:00.000000000",
          "2024-01-01T08:55:00.000000000",
          "2024-01-01T08:56:00.000000000",
          "2024-01-01T08:57:00.000000000",
          "2024-01-01T08:58:00.000000000",
          "2024-01-01T08:59:00.000000000",
          "2024-01-01T09:00:00.000000000",
          "2024-01-01T09:01:00.000000000",
          "2024-01-01T09:02:00.000000000",
          "2024-01-01T09:03:00.000000000",
          "2024-01-01T09:04:00.000000000",
          "2024-01-01T09:05:00.000000000",
          "2024-01-01T09:06:00.000000000",
          "2024-01-01T09:07:00.000000000",
          "2024-01-01T09:08:00.000000000",
          "2024-01-01T09:09:00.000000000",
          "2024-01-01T09:10:00.000000000",
          "2024-01-01T09:11:00.000000000",
          "2024-01-01T09:12:00.000000000",
          "2024-01-01T09:13:00.000000000",
          "2024-01-01T09:14:00.000000000",
          "2024-01-01T09:15:00.000000000",
          "2024-01-01T09:16:00.000000000",
          "2024-01-01T09:17:00.000000000",
          "2024-01-01T09:18:00.000000000",
          "2024-01-01T09:19:00.000000000",
          "2024-01-01T09:20:00.000000000",
          "2024-01-01T09:21:00.000000000",
          "2024-01-01T09:22:00.000000000",
          "2024-01-01T09:23:00.000000000",
          "2024-01-01T09:24:00.000000000",
          "2024-01-01T09:25:00.000000000",
          "2024-01-01T09:26:00.000000000",
          "2024-01-01T09:27:00.000000000",
          "2024-01-01T09:28:00.000000000",
          "2024-01-01T09:29:00.000000000",
          "2024-01-01T09:30:00.000000000",
          "2024-01-01T09:31:00.000000000",
          "2024-01-01T09:32:00.000000000",
          "2024-01-01T09:33:00.000000000",
          "2024-01-01T09:34:00.000000000",
          "2024-01-01T09:35:00.000000000",
          "2024-01-01T09:36:00.000000000",
          "2024-01-01T09:37:00.000000000",
          "2024-01-01T09:38:00.000000000",
          "2024-01-01T09:39:00.000000000",
          "2024-01-01T09:40:00.000000000",
          "2024-01-01T09:41:00.000000000",
          "2024-01-01T09:42:00.000000000",
          "2024-01-01T09:43:00.000000000",
          "2024-01-01T09:44:00.000000000",
          "2024-01-01T09:45:00.000000000",
          "2024-01-01T09:46:00.000000000",
          "2024-01-01T09:47:00.000000000",
          "2024-01-01T09:48:00.000000000",
          "2024-01-01T09:49:00.000000000",
          "2024-01-01T09:50:00.000000000",
          "2024-01-01T09:51:00.000000000",
          "2024-01-01T09:52:00.000000000",
          "2024-01-01T09:53:00.000000000",
          "2024-01-01T09:54:00.000000000",
          "2024-01-01T09:55:00.000000000",
          "2024-01-01T09:56:00.000000000",
          "2024-01-01T09:57:00.000000000",
          "2024-01-01T09:58:00.000000000",
          "2024-01-01T09:59:00.000000000",
          "2024-01-01T10:00:00.000000000",
          "2024-01-01T10:01:00.000000000",
          "2024-01-01T10:02:00.000000000",
          "2024-01-01T10:03:00.000000000",
          "2024-01-01T10:04:00.000000000",
          "2024-01-01T10:05:00.000000000",
          "2024-01-01T10:06:00.000000000",
          "2024-01-01T10:07:00.000000000",
          "2024-01-01T10:08:00.000000000",
          "2024-01-01T10:09:00.000000000",
          "2024-01-01T10:10:00.000000000",
          "2024-01-01T10:11:00.000000000",
          "2024-01-01T10:12:00.000000000",
          "2024-01-01T10:13:00.000000000",
          "2024-01-01T10:14:00.000000000",
          "2024-01-01T10:15:00.000000000",
          "2024-01-01T10:16:00.000000000",
          "2024-01-01T10:17:00.000000000",
          "2024-01-01T10:18:00.000000000",
          "2024-01-01T10:19:00.000000000",
          "2024-01-01T10:20:00.000000000",
          "2024-01-01T10:21:00.000000000",
          "2024-01-01T10:22:00.000000000",
          "2024-01-01T10:23:00.000000000",
          "2024-01-01T10:24:00.000000000",
          "2024-01-01T10:25:00.000000000",
          "2024-01-01T10:26:00.000000000",
          "2024-01-01T10:27:00.000000000",
          "2024-01-01T10:28:00.000000000",
          "2024-01-01T10:29:00.000000000",
          "2024-01-01T10:30:00.000000000",
          "2024-01-01T10:31:00.000000000",
          "2024-01-01T10:32:00.000000000",
          "2024-01-01T10:33:00.000000000",
          "2024-01-01T10:34:00.000000000",
          "2024-01-01T10:35:00.000000000",
          "2024-01-01T10:36:00.000000000",
          "2024-01-01T10:37:00.000000000",
          "2024-01-01T10:38:00.000000000",
          "2024-01-01T10:39:00.000000000",
          "2024-01-01T10:40:00.000000000",
          "2024-01-01T10:41:00.000000000",
          "2024-01-01T10:42:00.000000000",
          "2024-01-01T10:43:00.000000000",
          "2024-01-01T10:44:00.000000000",
          "2024-01-01T10:45:00.000000000",
          "2024-01-01T10:46:00.000000000",
          "2024-01-01T10:47:00.000000000",
          "2024-01-01T10:48:00.000000000",
          "2024-01-01T10:49:00.000000000",
          "2024-01-01T10:50:00.000000000",
          "2024-01-01T10:51:00.000000000",
          "2024-01-01T10:52:00.000000000",
          "2024-01-01T10:53:00.000000000",
          "2024-01-01T10:54:00.000000000",
          "2024-01-01T10:55:00.000000000",
          "2024-01-01T10:56:00.000000000",
          "2024-01-01T10:57:00.000000000",
          "2024-01-01T10:58:00.000000000",
          "2024-01-01T10:59:00.000000000",
          "2024-01-01T11:00:00.000000000",
          "2024-01-01T11:01:00.000000000",
          "2024-01-01T11:02:00.000000000",
          "2024-01-01T11:03:00.000000000",
          "2024-01-01T11:04:00.000000000",
          "2024-01-01T11:05:00.000000000",
          "2024-01-01T11:06:00.000000000",
          "2024-01-01T11:07:00.000000000",
          "2024-01-01T11:08:00.000000000",
          "2024-01-01T11:09:00.000000000",
          "2024-01-01T11:10:00.000000000",
          "2024-01-01T11:11:00.000000000",
          "2024-01-01T11:12:00.000000000",
          "2024-01-01T11:13:00.000000000",
          "2024-01-01T11:14:00.000000000",
          "2024-01-01T11:15:00.000000000",
          "2024-01-01T11:16:00.000000000",
          "2024-01-01T11:17:00.000000000",
          "2024-01-01T11:18:00.000000000",
          "2024-01-01T11:19:00.000000000",
          "2024-01-01T11:20:00.000000000",
          "2024-01-01T11:21:00.000000000",
          "2024-01-01T11:22:00.000000000",
          "2024-01-01T11:23:00.000000000",
          "2024-01-01T11:24:00.000000000",
          "2024-01-01T11:25:00.000000000",
          "2024-01-01T11:26:00.000000000",
          "2024-01-01T11:27:00.000000000",
          "2024-01-01T11:28:00.000000000",
          "2024-01-01T11:29:00.000000000",
          "2024-01-01T11:30:00.000000000",
          "2024-01-01T11:31:00.000000000",
          "2024-01-01T11:32:00.000000000",
          "2024-01-01T11:33:00.000000000",
          "2024-01-01T11:34:00.000000000",
          "2024-01-01T11:35:00.000000000",
          "2024-01-01T11:36:00.000000000",
          "2024-01-01T11:37:00.000000000",
          "2024-01-01T11:38:00.000000000",
          "2024-01-01T11:39:00.000000000",
          "2024-01-01T11:40:00.000000000",
          "2024-01-01T11:41:00.000000000",
          "2024-01-01T11:42:00.000000000",
          "2024-01-01T11:43:00.000000000",
          "2024-01-01T11:44:00.000000000",
          "2024-01-01T11:45:00.000000000",
          "2024-01-01T11:46:00.000000000",
          "2024-01-01T11:47:00.000000000",
          "2024-01-01T11:48:00.000000000",
          "2024-01-01T11:49:00.000000000",
          "2024-01-01T11:50:00.000000000",
          "2024-01-01T11:51:00.000000000",
          "2024-01-01T11:52:00.000000000",
          "2024-01-01T11:53:00.000000000",
          "2024-01-01T11:54:00.000000000",
          "2024-01-01T11:55:00.000000000",
          "2024-01-01T11:56:00.000000000",
          "2024-01-01T11:57:00.000000000",
          "2024-01-01T11:58:00.000000000",
          "2024-01-01T11:59:00.000000000",
          "2024-01-01T12:00:00.000000000",
          "2024-01-01T12:01:00.000000000",
          "2024-01-01T12:02:00.000000000",
          "2024-01-01T12:03:00.000000000",
          "2024-01-01T12:04:00.000000000",
          "2024-01-01T12:05:00.000000000",
          "2024-01-01T12:06:00.000000000",
          "2024-01-01T12:07:00.000000000",
          "2024-01-01T12:08:00.000000000",
          "2024-01-01T12:09:00.000000000",
          "2024-01-01T12:10:00.000000000",
          "2024-01-01T12:11:00.000000000",
          "2024-01-01T12:12:00.000000000",
          "2024-01-01T12:13:00.000000000",
          "2024-01-01T12:14:00.000000000",
          "2024-01-01T12:15:00.000000000",
          "2024-01-01T12:16:00.000000000",
          "2024-01-01T12:17:00.000000000",
          "2024-01-01T12:18:00.000000000",
          "2024-01-01T12:19:00.000000000",
          "2024-01-01T12:20:00.000000000",
          "2024-01-01T12:21:00.000000000",
          "2024-01-01T12:22:00.000000000",
          "2024-01-01T12:23:00.000000000",
          "2024-01-01T12:24:00.000000000",
          "2024-01-01T12:25:00.000000000",
          "2024-01-01T12:26:00.000000000",
          "2024-01-01T12:27:00.000000000",
          "2024-01-01T12:28:00.000000000",
          "2024-01-01T12:29:00.000000000",
          "2024-01-01T12:30:00.000000000",
          "2024-01-01T12:31:00.000000000",
          "2024-01-01T12:32:00.000000000",
          "2024-01-01T12:33:00.000000000",
          "2024-01-01T12:34:00.000000000",
          "2024-01-01T12:35:00.000000000",
          "2024-01-01T12:36:00.000000000",
          "2024-01-01T12:37:00.000000000",
          "2024-01-01T12:38:00.000000000",
          "2024-01-01T12:39:00.000000000",
          "2024-01-01T12:40:00.000000000",
          "2024-01-01T12:41:00.000000000",
          "2024-01-01T12:42:00.000000000",
          "2024-01-01T12:43:00.000000000",
          "2024-01-01T12:44:00.000000000",
          "2024-01-01T12:45:00.000000000",
          "2024-01-01T12:46:00.000000000",
          "2024-01-01T12:47:00.000000000",
          "2024-01-01T12:48:00.000000000",
          "2024-01-01T12:49:00.000000000",
          "2024-01-01T12:50:00.000000000",
          "2024-01-01T12:51:00.000000000",
          "2024-01-01T12:52:00.000000000",
          "2024-01-01T12:53:00.000000000",
          "2024-01-01T12:54:00.000000000",
          "2024-01-01T12:55:00.000000000",
          "2024-01-01T12:56:00.000000000",
          "2024-01-01T12:57:00.000000000",
          "2024-01-01T12:58:00.000000000",
          "2024-01-01T12:59:00.000000000",
          "2024-01-01T13:00:00.000000000",
          "2024-01-01T13:01:00.000000000",
          "2024-01-01T13:02:00.000000000",
          "2024-01-01T13:03:00.000000000",
          "2024-01-01T13:04:00.000000000",
          "2024-01-01T13:05:00.000000000",
          "2024-01-01T13:06:00.000000000",
          "2024-01-01T13:07:00.000000000",
          "2024-01-01T13:08:00.000000000",
          "2024-01-01T13:09:00.000000000",
          "2024-01-01T13:10:00.000000000",
          "2024-01-01T13:11:00.000000000",
          "2024-01-01T13:12:00.000000000",
          "2024-01-01T13:13:00.000000000",
          "2024-01-01T13:14:00.000000000",
          "2024-01-01T13:15:00.000000000",
          "2024-01-01T13:16:00.000000000",
          "2024-01-01T13:17:00.000000000",
          "2024-01-01T13:18:00.000000000",
          "2024-01-01T13:19:00.000000000",
          "2024-01-01T13:20:00.000000000",
          "2024-01-01T13:21:00.000000000",
          "2024-01-01T13:22:00.000000000",
          "2024-01-01T13:23:00.000000000",
          "2024-01-01T13:24:00.000000000",
          "2024-01-01T13:25:00.000000000",
          "2024-01-01T13:26:00.000000000",
          "2024-01-01T13:27:00.000000000",
          "2024-01-01T13:28:00.000000000",
          "2024-01-01T13:29:00.000000000",
          "2024-01-01T13:30:00.000000000",
          "2024-01-01T13:31:00.000000000",
          "2024-01-01T13:32:00.000000000",
          "2024-01-01T13:33:00.000000000",
          "2024-01-01T13:34:00.000000000",
          "2024-01-01T13:35:00.000000000",
          "2024-01-01T13:36:00.000000000",
          "2024-01-01T13:37:00.000000000",
          "2024-01-01T13:38:00.000000000",
          "2024-01-01T13:39:00.000000000",
          "2024-01-01T13:40:00.000000000",
          "2024-01-01T13:41:00.000000000",
          "2024-01-01T13:42:00.000000000",
          "2024-01-01T13:43:00.000000000",
          "2024-01-01T13:44:00.000000000",
          "2024-01-01T13:45:00.000000000",
          "2024-01-01T13:46:00.000000000",
          "2024-01-01T13:47:00.000000000",
          "2024-01-01T13:48:00.000000000",
          "2024-01-01T13:49:00.000000000",
          "2024-01-01T13:50:00.000000000",
          "2024-01-01T13:51:00.000000000",
          "2024-01-01T13:52:00.000000000",
          "2024-01-01T13:53:00.000000000",
          "2024-01-01T13:54:00.000000000",
          "2024-01-01T13:55:00.000000000",
          "2024-01-01T13:56:00.000000000",
          "2024-01-01T13:57:00.000000000",
          "2024-01-01T13:58:00.000000000",
          "2024-01-01T13:59:00.000000000",
          "2024-01-01T14:00:00.000000000",
          "2024-01-01T14:01:00.000000000",
          "2024-01-01T14:02:00.000000000",
          "2024-01-01T14:03:00.000000000",
          "2024-01-01T14:04:00.000000000",
          "2024-01-01T14:05:00.000000000",
          "2024-01-01T14:06:00.000000000",
          "2024-01-01T14:07:00.000000000",
          "2024-01-01T14:08:00.000000000",
          "2024-01-01T14:09:00.000000000",
          "2024-01-01T14:10:00.000000000",
          "2024-01-01T14:11:00.000000000",
          "2024-01-01T14:12:00.000000000",
          "2024-01-01T14:13:00.000000000",
          "2024-01-01T14:14:00.000000000",
          "2024-01-01T14:15:00.000000000",
          "2024-01-01T14:16:00.000000000",
          "2024-01-01T14:17:00.000000000",
          "2024-01-01T14:18:00.000000000",
          "2024-01-01T14:19:00.000000000",
          "2024-01-01T14:20:00.000000000",
          "2024-01-01T14:21:00.000000000",
          "2024-01-01T14:22:00.000000000",
          "2024-01-01T14:23:00.000000000",
          "2024-01-01T14:24:00.000000000",
          "2024-01-01T14:25:00.000000000",
          "2024-01-01T14:26:00.000000000",
          "2024-01-01T14:27:00.000000000",
          "2024-01-01T14:28:00.000000000",
          "2024-01-01T14:29:00.000000000",
          "2024-01-01T14:30:00.000000000",
          "2024-01-01T14:31:00.000000000",
          "2024-01-01T14:32:00.000000000",
          "2024-01-01T14:33:00.000000000",
          "2024-01-01T14:34:00.000000000",
          "2024-01-01T14:35:00.000000000",
          "2024-01-01T14:36:00.000000000",
          "2024-01-01T14:37:00.000000000",
          "2024-01-01T14:38:00.000000000",
          "2024-01-01T14:39:00.000000000",
          "2024-01-01T14:40:00.000000000",
          "2024-01-01T14:41:00.000000000",
          "2024-01-01T14:42:00.000000000",
          "2024-01-01T14:43:00.000000000",
          "2024-01-01T14:44:00.000000000",
          "2024-01-01T14:45:00.000000000",
          "2024-01-01T14:46:00.000000000",
          "2024-01-01T14:47:00.000000000",
          "2024-01-01T14:48:00.000000000",
          "2024-01-01T14:49:00.000000000",
          "2024-01-01T14:50:00.000000000",
          "2024-01-01T14:51:00.000000000",
          "2024-01-01T14:52:00.000000000",
          "2024-01-01T14:53:00.000000000",
          "2024-01-01T14:54:00.000000000",
          "2024-01-01T14:55:00.000000000",
          "2024-01-01T14:56:00.000000000",
          "2024-01-01T14:57:00.000000000",
          "2024-01-01T14:58:00.000000000",
          "2024-01-01T14:59:00.000000000",
          "2024-01-01T15:00:00.000000000",
          "2024-01-01T15:01:00.000000000",
          "2024-01-01T15:02:00.000000000",
          "2024-01-01T15:03:00.000000000",
          "2024-01-01T15:04:00.000000000",
          "2024-01-01T15:05:00.000000000",
          "2024-01-01T15:06:00.000000000",
          "2024-01-01T15:07:00.000000000",
          "2024-01-01T15:08:00.000000000",
          "2024-01-01T15:09:00.000000000",
          "2024-01-01T15:10:00.000000000",
          "2024-01-01T15:11:00.000000000",
          "2024-01-01T15:12:00.000000000",
          "2024-01-01T15:13:00.000000000",
          "2024-01-01T15:14:00.000000000",
          "2024-01-01T15:15:00.000000000",
          "2024-01-01T15:16:00.000000000",
          "2024-01-01T15:17:00.000000000",
          "2024-01-01T15:18:00.000000000",
          "2024-01-01T15:19:00.000000000",
          "2024-01-01T15:20:00.000000000",
          "2024-01-01T15:21:00.000000000",
          "2024-01-01T15:22:00.000000000",
          "2024-01-01T15:23:00.000000000",
          "2024-01-01T15:24:00.000000000",
          "2024-01-01T15:25:00.000000000",
          "2024-01-01T15:26:00.000000000",
          "2024-01-01T15:27:00.000000000",
          "2024-01-01T15:28:00.000000000",
          "2024-01-01T15:29:00.000000000",
          "2024-01-01T15:30:00.000000000",
          "2024-01-01T15:31:00.000000000",
          "2024-01-01T15:32:00.000000000",
          "2024-01-01T15:33:00.000000000",
          "2024-01-01T15:34:00.000000000",
          "2024-01-01T15:35:00.000000000",
          "2024-01-01T15:36:00.000000000",
          "2024-01-01T15:37:00.000000000",
          "2024-01-01T15:38:00.000000000",
          "2024-01-01T15:39:00.000000000",
          "2024-01-01T15:40:00.000000000",
          "2024-01-01T15:41:00.000000000",
          "2024-01-01T15:42:00.000000000",
          "2024-01-01T15:43:00.000000000",
          "2024-01-01T15:44:00.000000000",
          "2024-01-01T15:45:00.000000000",
          "2024-01-01T15:46:00.000000000",
          "2024-01-01T15:47:00.000000000",
          "2024-01-01T15:48:00.000000000",
          "2024-01-01T15:49:00.000000000",
          "2024-01-01T15:50:00.000000000",
          "2024-01-01T15:51:00.000000000",
          "2024-01-01T15:52:00.000000000",
          "2024-01-01T15:53:00.000000000",
          "2024-01-01T15:54:00.000000000",
          "2024-01-01T15:55:00.000000000",
          "2024-01-01T15:56:00.000000000",
          "2024-01-01T15:57:00.000000000",
          "2024-01-01T15:58:00.000000000",
          "2024-01-01T15:59:00.000000000",
          "2024-01-01T16:00:00.000000000",
          "2024-01-01T16:01:00.000000000",
          "2024-01-01T16:02:00.000000000",
          "2024-01-01T16:03:00.000000000",
          "2024-01-01T16:04:00.000000000",
          "2024-01-01T16:05:00.000000000",
          "2024-01-01T16:06:00.000000000",
          "2024-01-01T16:07:00.000000000",
          "2024-01-01T16:08:00.000000000",
          "2024-01-01T16:09:00.000000000",
          "2024-01-01T16:10:00.000000000",
          "2024-01-01T16:11:00.000000000",
          "2024-01-01T16:12:00.000000000",
          "2024-01-01T16:13:00.000000000",
          "2024-01-01T16:14:00.000000000",
          "2024-01-01T16:15:00.000000000",
          "2024-01-01T16:16:00.000000000",
          "2024-01-01T16:17:00.000000000",
          "2024-01-01T16:18:00.000000000",
          "2024-01-01T16:19:00.000000000",
          "2024-01-01T16:20:00.000000000",
          "2024-01-01T16:21:00.000000000",
          "2024-01-01T16:22:00.000000000",
          "2024-01-01T16:23:00.000000000",
          "2024-01-01T16:24:00.000000000",
          "2024-01-01T16:25:00.000000000",
          "2024-01-01T16:26:00.000000000",
          "2024-01-01T16:27:00.000000000",
          "2024-01-01T16:28:00.000000000",
          "2024-01-01T16:29:00.000000000",
          "2024-01-01T16:30:00.000000000",
          "2024-01-01T16:31:00.000000000",
          "2024-01-01T16:32:00.000000000",
          "2024-01-01T16:33:00.000000000",
          "2024-01-01T16:34:00.000000000",
          "2024-01-01T16:35:00.000000000",
          "2024-01-01T16:36:00.000000000",
          "2024-01-01T16:37:00.000000000",
          "2024-01-01T16:38:00.000000000",
          "2024-01-01T16:39:00.000000000",
          "2024-01-01T16:40:00.000000000",
          "2024-01-01T16:41:00.000000000",
          "2024-01-01T16:42:00.000000000",
          "2024-01-01T16:43:00.000000000",
          "2024-01-01T16:44:00.000000000",
          "2024-01-01T16:45:00.000000000",
          "2024-01-01T16:46:00.000000000",
          "2024-01-01T16:47:00.000000000",
          "2024-01-01T16:48:00.000000000",
          "2024-01-01T16:49:00.000000000",
          "2024-01-01T16:50:00.000000000",
          "2024-01-01T16:51:00.000000000",
          "2024-01-01T16:52:00.000000000",
          "2024-01-01T16:53:00.000000000",
          "2024-01-01T16:54:00.000000000",
          "2024-01-01T16:55:00.000000000",
          "2024-01-01T16:56:00.000000000",
          "2024-01-01T16:57:00.000000000",
          "2024-01-01T16:58:00.000000000",
          "2024-01-01T16:59:00.000000000",
          "2024-01-01T17:00:00.000000000",
          "2024-01-01T17:01:00.000000000",
          "2024-01-01T17:02:00.000000000",
          "2024-01-01T17:03:00.000000000",
          "2024-01-01T17:04:00.000000000",
          "2024-01-01T17:05:00.000000000",
          "2024-01-01T17:06:00.000000000",
          "2024-01-01T17:07:00.000000000",
          "2024-01-01T17:08:00.000000000",
          "2024-01-01T17:09:00.000000000",
          "2024-01-01T17:10:00.000000000",
          "2024-01-01T17:11:00.000000000",
          "2024-01-01T17:12:00.000000000",
          "2024-01-01T17:13:00.000000000",
          "2024-01-01T17:14:00.000000000",
          "2024-01-01T17:15:00.000000000",
          "2024-01-01T17:16:00.000000000",
          "2024-01-01T17:17:00.000000000",
          "2024-01-01T17:18:00.000000000",
          "2024-01-01T17:19:00.000000000",
          "2024-01-01T17:20:00.000000000",
          "2024-01-01T17:21:00.000000000",
          "2024-01-01T17:22:00.000000000",
          "2024-01-01T17:23:00.000000000",
          "2024-01-01T17:24:00.000000000",
          "2024-01-01T17:25:00.000000000",
          "2024-01-01T17:26:00.000000000",
          "2024-01-01T17:27:00.000000000",
          "2024-01-01T17:28:00.000000000",
          "2024-01-01T17:29:00.000000000",
          "2024-01-01T17:30:00.000000000",
          "2024-01-01T17:31:00.000000000",
          "2024-01-01T17:32:00.000000000",
          "2024-01-01T17:33:00.000000000",
          "2024-01-01T17:34:00.000000000",
          "2024-01-01T17:35:00.000000000",
          "2024-01-01T17:36:00.000000000",
          "2024-01-01T17:37:00.000000000",
          "2024-01-01T17:38:00.000000000",
          "2024-01-01T17:39:00.000000000",
          "2024-01-01T17:40:00.000000000",
          "2024-01-01T17:41:00.000000000",
          "2024-01-01T17:42:00.000000000",
          "2024-01-01T17:43:00.000000000",
          "2024-01-01T17:44:00.000000000",
          "2024-01-01T17:45:00.000000000",
          "2024-01-01T17:46:00.000000000",
          "2024-01-01T17:47:00.000000000",
          "2024-01-01T17:48:00.000000000",
          "2024-01-01T17:49:00.000000000",
          "2024-01-01T17:50:00.000000000",
          "2024-01-01T17:51:00.000000000",
          "2024-01-01T17:52:00.000000000",
          "2024-01-01T17:53:00.000000000",
          "2024-01-01T17:54:00.000000000",
          "2024-01-01T17:55:00.000000000",
          "2024-01-01T17:56:00.000000000",
          "2024-01-01T17:57:00.000000000",
          "2024-01-01T17:58:00.000000000",
          "2024-01-01T17:59:00.000000000",
          "2024-01-01T18:00:00.000000000",
          "2024-01-01T18:01:00.000000000",
          "2024-01-01T18:02:00.000000000",
          "2024-01-01T18:03:00.000000000",
          "2024-01-01T18:04:00.000000000",
          "2024-01-01T18:05:00.000000000",
          "2024-01-01T18:06:00.000000000",
          "2024-01-01T18:07:00.000000000",
          "2024-01-01T18:08:00.000000000",
          "2024-01-01T18:09:00.000000000",
          "2024-01-01T18:10:00.000000000",
          "2024-01-01T18:11:00.000000000",
          "2024-01-01T18:12:00.000000000",
          "2024-01-01T18:13:00.000000000",
          "2024-01-01T18:14:00.000000000",
          "2024-01-01T18:15:00.000000000",
          "2024-01-01T18:16:00.000000000",
          "2024-01-01T18:17:00.000000000",
          "2024-01-01T18:18:00.000000000",
          "2024-01-01T18:19:00.000000000",
          "2024-01-01T18:20:00.000000000",
          "2024-01-01T18:21:00.000000000",
          "2024-01-01T18:22:00.000000000",
          "2024-01-01T18:23:00.000000000",
          "2024-01-01T18:24:00.000000000",
          "2024-01-01T18:25:00.000000000",
          "2024-01-01T18:26:00.000000000",
          "2024-01-01T18:27:00.000000000",
          "2024-01-01T18:28:00.000000000",
          "2024-01-01T18:29:00.000000000",
          "2024-01-01T18:30:00.000000000",
          "2024-01-01T18:31:00.000000000",
          "2024-01-01T18:32:00.000000000",
          "2024-01-01T18:33:00.000000000",
          "2024-01-01T18:34:00.000000000",
          "2024-01-01T18:35:00.000000000",
          "2024-01-01T18:36:00.000000000",
          "2024-01-01T18:37:00.000000000",
          "2024-01-01T18:38:00.000000000",
          "2024-01-01T18:39:00.000000000",
          "2024-01-01T18:40:00.000000000",
          "2024-01-01T18:41:00.000000000",
          "2024-01-01T18:42:00.000000000",
          "2024-01-01T18:43:00.000000000",
          "2024-01-01T18:44:00.000000000",
          "2024-01-01T18:45:00.000000000",
          "2024-01-01T18:46:00.000000000",
          "2024-01-01T18:47:00.000000000",
          "2024-01-01T18:48:00.000000000",
          "2024-01-01T18:49:00.000000000",
          "2024-01-01T18:50:00.000000000",
          "2024-01-01T18:51:00.000000000",
          "2024-01-01T18:52:00.000000000",
          "2024-01-01T18:53:00.000000000",
          "2024-01-01T18:54:00.000000000",
          "2024-01-01T18:55:00.000000000",
          "2024-01-01T18:56:00.000000000",
          "2024-01-01T18:57:00.000000000",
          "2024-01-01T18:58:00.000000000",
          "2024-01-01T18:59:00.000000000",
          "2024-01-01T19:00:00.000000000",
          "2024-01-01T19:01:00.000000000",
          "2024-01-01T19:02:00.000000000",
          "2024-01-01T19:03:00.000000000",
          "2024-01-01T19:04:00.000000000",
          "2024-01-01T19:05:00.000000000",
          "2024-01-01T19:06:00.000000000",
          "2024-01-01T19:07:00.000000000",
          "2024-01-01T19:08:00.000000000",
          "2024-01-01T19:09:00.000000000",
          "2024-01-01T19:10:00.000000000",
          "2024-01-01T19:11:00.000000000",
          "2024-01-01T19:12:00.000000000",
          "2024-01-01T19:13:00.000000000",
          "2024-01-01T19:14:00.000000000",
          "2024-01-01T19:15:00.000000000",
          "2024-01-01T19:16:00.000000000",
          "2024-01-01T19:17:00.000000000",
          "2024-01-01T19:18:00.000000000",
          "2024-01-01T19:19:00.000000000",
          "2024-01-01T19:20:00.000000000",
          "2024-01-01T19:21:00.000000000",
          "2024-01-01T19:22:00.000000000",
          "2024-01-01T19:23:00.000000000",
          "2024-01-01T19:24:00.000000000",
          "2024-01-01T19:25:00.000000000",
          "2024-01-01T19:26:00.000000000",
          "2024-01-01T19:27:00.000000000",
          "2024-01-01T19:28:00.000000000",
          "2024-01-01T19:29:00.000000000",
          "2024-01-01T19:30:00.000000000",
          "2024-01-01T19:31:00.000000000",
          "2024-01-01T19:32:00.000000000",
          "2024-01-01T19:33:00.000000000",
          "2024-01-01T19:34:00.000000000",
          "2024-01-01T19:35:00.000000000",
          "2024-01-01T19:36:00.000000000",
          "2024-01-01T19:37:00.000000000",
          "2024-01-01T19:38:00.000000000",
          "2024-01-01T19:39:00.000000000",
          "2024-01-01T19:40:00.000000000",
          "2024-01-01T19:41:00.000000000",
          "2024-01-01T19:42:00.000000000",
          "2024-01-01T19:43:00.000000000",
          "2024-01-01T19:44:00.000000000",
          "2024-01-01T19:45:00.000000000",
          "2024-01-01T19:46:00.000000000",
          "2024-01-01T19:47:00.000000000",
          "2024-01-01T19:48:00.000000000",
          "2024-01-01T19:49:00.000000000",
          "2024-01-01T19:50:00.000000000",
          "2024-01-01T19:51:00.000000000",
          "2024-01-01T19:52:00.000000000",
          "2024-01-01T19:53:00.000000000",
          "2024-01-01T19:54:00.000000000",
          "2024-01-01T19:55:00.000000000",
          "2024-01-01T19:56:00.000000000",
          "2024-01-01T19:57:00.000000000",
          "2024-01-01T19:58:00.000000000",
          "2024-01-01T19:59:00.000000000",
          "2024-01-01T20:00:00.000000000",
          "2024-01-01T20:01:00.000000000",
          "2024-01-01T20:02:00.000000000",
          "2024-01-01T20:03:00.000000000",
          "2024-01-01T20:04:00.000000000",
          "2024-01-01T20:05:00.000000000",
          "2024-01-01T20:06:00.000000000",
          "2024-01-01T20:07:00.000000000",
          "2024-01-01T20:08:00.000000000",
          "2024-01-01T20:09:00.000000000",
          "2024-01-01T20:10:00.000000000",
          "2024-01-01T20:11:00.000000000",
          "2024-01-01T20:12:00.000000000",
          "2024-01-01T20:13:00.000000000",
          "2024-01-01T20:14:00.000000000",
          "2024-01-01T20:15:00.000000000",
          "2024-01-01T20:16:00.000000000",
          "2024-01-01T20:17:00.000000000",
          "2024-01-01T20:18:00.000000000",
          "2024-01-01T20:19:00.000000000",
          "2024-01-01T20:20:00.000000000",
          "2024-01-01T20:21:00.000000000",
          "2024-01-01T20:22:00.000000000",
          "2024-01-01T20:23:00.000000000",
          "2024-01-01T20:24:00.000000000",
          "2024-01-01T20:25:00.000000000",
          "2024-01-01T20:26:00.000000000",
          "2024-01-01T20:27:00.000000000",
          "2024-01-01T20:28:00.000000000",
          "2024-01-01T20:29:00.000000000",
          "2024-01-01T20:30:00.000000000",
          "2024-01-01T20:31:00.000000000",
          "2024-01-01T20:32:00.000000000",
          "2024-01-01T20:33:00.000000000",
          "2024-01-01T20:34:00.000000000",
          "2024-01-01T20:35:00.000000000",
          "2024-01-01T20:36:00.000000000",
          "2024-01-01T20:37:00.000000000",
          "2024-01-01T20:38:00.000000000",
          "2024-01-01T20:39:00.000000000",
          "2024-01-01T20:40:00.000000000",
          "2024-01-01T20:41:00.000000000",
          "2024-01-01T20:42:00.000000000",
          "2024-01-01T20:43:00.000000000",
          "2024-01-01T20:44:00.000000000",
          "2024-01-01T20:45:00.000000000",
          "2024-01-01T20:46:00.000000000",
          "2024-01-01T20:47:00.000000000",
          "2024-01-01T20:48:00.000000000",
          "2024-01-01T20:49:00.000000000",
          "2024-01-01T20:50:00.000000000",
          "2024-01-01T20:51:00.000000000",
          "2024-01-01T20:52:00.000000000",
          "2024-01-01T20:53:00.000000000",
          "2024-01-01T20:54:00.000000000",
          "2024-01-01T20:55:00.000000000",
          "2024-01-01T20:56:00.000000000",
          "2024-01-01T20:57:00.000000000",
          "2024-01-01T20:58:00.000000000",
          "2024-01-01T20:59:00.000000000",
          "2024-01-01T21:00:00.000000000",
          "2024-01-01T21:01:00.000000000",
          "2024-01-01T21:02:00.000000000",
          "2024-01-01T21:03:00.000000000",
          "2024-01-01T21:04:00.000000000",
          "2024-01-01T21:05:00.000000000",
          "2024-01-01T21:06:00.000000000",
          "2024-01-01T21:07:00.000000000",
          "2024-01-01T21:08:00.000000000",
          "2024-01-01T21:09:00.000000000",
          "2024-01-01T21:10:00.000000000",
          "2024-01-01T21:11:00.000000000",
          "2024-01-01T21:12:00.000000000",
          "2024-01-01T21:13:00.000000000",
          "2024-01-01T21:14:00.000000000",
          "2024-01-01T21:15:00.000000000",
          "2024-01-01T21:16:00.000000000",
          "2024-01-01T21:17:00.000000000",
          "2024-01-01T21:18:00.000000000",
          "2024-01-01T21:19:00.000000000",
          "2024-01-01T21:20:00.000000000",
          "2024-01-01T21:21:00.000000000",
          "2024-01-01T21:22:00.000000000",
          "2024-01-01T21:23:00.000000000",
          "2024-01-01T21:24:00.000000000",
          "2024-01-01T21:25:00.000000000",
          "2024-01-01T21:26:00.000000000",
          "2024-01-01T21:27:00.000000000",
          "2024-01-01T21:28:00.000000000",
          "2024-01-01T21:29:00.000000000",
          "2024-01-01T21:30:00.000000000",
          "2024-01-01T21:31:00.000000000",
          "2024-01-01T21:32:00.000000000",
          "2024-01-01T21:33:00.000000000",
          "2024-01-01T21:34:00.000000000",
          "2024-01-01T21:35:00.000000000",
          "2024-01-01T21:36:00.000000000",
          "2024-01-01T21:37:00.000000000",
          "2024-01-01T21:38:00.000000000",
          "2024-01-01T21:39:00.000000000",
          "2024-01-01T21:40:00.000000000",
          "2024-01-01T21:41:00.000000000",
          "2024-01-01T21:42:00.000000000",
          "2024-01-01T21:43:00.000000000",
          "2024-01-01T21:44:00.000000000",
          "2024-01-01T21:45:00.000000000",
          "2024-01-01T21:46:00.000000000",
          "2024-01-01T21:47:00.000000000",
          "2024-01-01T21:48:00.000000000",
          "2024-01-01T21:49:00.000000000",
          "2024-01-01T21:50:00.000000000",
          "2024-01-01T21:51:00.000000000",
          "2024-01-01T21:52:00.000000000",
          "2024-01-01T21:53:00.000000000",
          "2024-01-01T21:54:00.000000000",
          "2024-01-01T21:55:00.000000000",
          "2024-01-01T21:56:00.000000000",
          "2024-01-01T21:57:00.000000000",
          "2024-01-01T21:58:00.000000000",
          "2024-01-01T21:59:00.000000000",
          "2024-01-01T22:00:00.000000000",
          "2024-01-01T22:01:00.000000000",
          "2024-01-01T22:02:00.000000000",
          "2024-01-01T22:03:00.000000000",
          "2024-01-01T22:04:00.000000000",
          "2024-01-01T22:05:00.000000000",
          "2024-01-01T22:06:00.000000000",
          "2024-01-01T22:07:00.000000000",
          "2024-01-01T22:08:00.000000000",
          "2024-01-01T22:09:00.000000000",
          "2024-01-01T22:10:00.000000000",
          "2024-01-01T22:11:00.000000000",
          "2024-01-01T22:12:00.000000000",
          "2024-01-01T22:13:00.000000000",
          "2024-01-01T22:14:00.000000000",
          "2024-01-01T22:15:00.000000000",
          "2024-01-01T22:16:00.000000000",
          "2024-01-01T22:17:00.000000000",
          "2024-01-01T22:18:00.000000000",
          "2024-01-01T22:19:00.000000000",
          "2024-01-01T22:20:00.000000000",
          "2024-01-01T22:21:00.000000000",
          "2024-01-01T22:22:00.000000000",
          "2024-01-01T22:23:00.000000000",
          "2024-01-01T22:24:00.000000000",
          "2024-01-01T22:25:00.000000000",
          "2024-01-01T22:26:00.000000000",
          "2024-01-01T22:27:00.000000000",
          "2024-01-01T22:28:00.000000000",
          "2024-01-01T22:29:00.000000000",
          "2024-01-01T22:30:00.000000000",
          "2024-01-01T22:31:00.000000000",
          "2024-01-01T22:32:00.000000000",
          "2024-01-01T22:33:00.000000000",
          "2024-01-01T22:34:00.000000000",
          "2024-01-01T22:35:00.000000000",
          "2024-01-01T22:36:00.000000000",
          "2024-01-01T22:37:00.000000000",
          "2024-01-01T22:38:00.000000000",
          "2024-01-01T22:39:00.000000000",
          "2024-01-01T22:40:00.000000000",
          "2024-01-01T22:41:00.000000000",
          "2024-01-01T22:42:00.000000000",
          "2024-01-01T22:43:00.000000000",
          "2024-01-01T22:44:00.000000000",
          "2024-01-01T22:45:00.000000000",
          "2024-01-01T22:46:00.000000000",
          "2024-01-01T22:47:00.000000000",
          "2024-01-01T22:48:00.000000000",
          "2024-01-01T22:49:00.000000000",
          "2024-01-01T22:50:00.000000000",
          "2024-01-01T22:51:00.000000000",
          "2024-01-01T22:52:00.000000000",
          "2024-01-01T22:53:00.000000000",
          "2024-01-01T22:54:00.000000000",
          "2024-01-01T22:55:00.000000000",
          "2024-01-01T22:56:00.000000000",
          "2024-01-01T22:57:00.000000000",
          "2024-01-01T22:58:00.000000000",
          "2024-01-01T22:59:00.000000000",
          "2024-01-01T23:00:00.000000000",
          "2024-01-01T23:01:00.000000000",
          "2024-01-01T23:02:00.000000000",
          "2024-01-01T23:03:00.000000000",
          "2024-01-01T23:04:00.000000000",
          "2024-01-01T23:05:00.000000000",
          "2024-01-01T23:06:00.000000000",
          "2024-01-01T23:07:00.000000000",
          "2024-01-01T23:08:00.000000000",
          "2024-01-01T23:09:00.000000000",
          "2024-01-01T23:10:00.000000000",
          "2024-01-01T23:11:00.000000000",
          "2024-01-01T23:12:00.000000000",
          "2024-01-01T23:13:00.000000000",
          "2024-01-01T23:14:00.000000000",
          "2024-01-01T23:15:00.000000000",
          "2024-01-01T23:16:00.000000000",
          "2024-01-01T23:17:00.000000000",
          "2024-01-01T23:18:00.000000000",
          "2024-01-01T23:19:00.000000000",
          "2024-01-01T23:20:00.000000000",
          "2024-01-01T23:21:00.000000000",
          "2024-01-01T23:22:00.000000000",
          "2024-01-01T23:23:00.000000000",
          "2024-01-01T23:24:00.000000000",
          "2024-01-01T23:25:00.000000000",
          "2024-01-01T23:26:00.000000000",
          "2024-01-01T23:27:00.000000000",
          "2024-01-01T23:28:00.000000000",
          "2024-01-01T23:29:00.000000000",
          "2024-01-01T23:30:00.000000000",
          "2024-01-01T23:31:00.000000000",
          "2024-01-01T23:32:00.000000000",
          "2024-01-01T23:33:00.000000000",
          "2024-01-01T23:34:00.000000000",
          "2024-01-01T23:35:00.000000000",
          "2024-01-01T23:36:00.000000000",
          "2024-01-01T23:37:00.000000000",
          "2024-01-01T23:38:00.000000000",
          "2024-01-01T23:39:00.000000000",
          "2024-01-01T23:40:00.000000000",
          "2024-01-01T23:41:00.000000000",
          "2024-01-01T23:42:00.000000000",
          "2024-01-01T23:43:00.000000000",
          "2024-01-01T23:44:00.000000000",
          "2024-01-01T23:45:00.000000000",
          "2024-01-01T23:46:00.000000000",
          "2024-01-01T23:47:00.000000000",
          "2024-01-01T23:48:00.000000000",
          "2024-01-01T23:49:00.000000000",
          "2024-01-01T23:50:00.000000000",
          "2024-01-01T23:51:00.000000000",
          "2024-01-01T23:52:00.000000000",
          "2024-01-01T23:53:00.000000000",
          "2024-01-01T23:54:00.000000000",
          "2024-01-01T23:55:00.000000000",
          "2024-01-01T23:56:00.000000000",
          "2024-01-01T23:57:00.000000000",
          "2024-01-01T23:58:00.000000000",
          "2024-01-01T23:59:00.000000000"
         ],
         "xaxis": "x2",
         "y": {
          "bdata": "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",
          "dtype": "f8"
         },
         "yaxis": "y2"
        },
        {
         "line": {
          "color": "green"
         },
         "mode": "lines",
         "name": "Requests/sec",
         "type": "scatter",
         "x": [
          "2024-01-01T00:00:00.000000000",
          "2024-01-01T00:01:00.000000000",
          "2024-01-01T00:02:00.000000000",
          "2024-01-01T00:03:00.000000000",
          "2024-01-01T00:04:00.000000000",
          "2024-01-01T00:05:00.000000000",
          "2024-01-01T00:06:00.000000000",
          "2024-01-01T00:07:00.000000000",
          "2024-01-01T00:08:00.000000000",
          "2024-01-01T00:09:00.000000000",
          "2024-01-01T00:10:00.000000000",
          "2024-01-01T00:11:00.000000000",
          "2024-01-01T00:12:00.000000000",
          "2024-01-01T00:13:00.000000000",
          "2024-01-01T00:14:00.000000000",
          "2024-01-01T00:15:00.000000000",
          "2024-01-01T00:16:00.000000000",
          "2024-01-01T00:17:00.000000000",
          "2024-01-01T00:18:00.000000000",
          "2024-01-01T00:19:00.000000000",
          "2024-01-01T00:20:00.000000000",
          "2024-01-01T00:21:00.000000000",
          "2024-01-01T00:22:00.000000000",
          "2024-01-01T00:23:00.000000000",
          "2024-01-01T00:24:00.000000000",
          "2024-01-01T00:25:00.000000000",
          "2024-01-01T00:26:00.000000000",
          "2024-01-01T00:27:00.000000000",
          "2024-01-01T00:28:00.000000000",
          "2024-01-01T00:29:00.000000000",
          "2024-01-01T00:30:00.000000000",
          "2024-01-01T00:31:00.000000000",
          "2024-01-01T00:32:00.000000000",
          "2024-01-01T00:33:00.000000000",
          "2024-01-01T00:34:00.000000000",
          "2024-01-01T00:35:00.000000000",
          "2024-01-01T00:36:00.000000000",
          "2024-01-01T00:37:00.000000000",
          "2024-01-01T00:38:00.000000000",
          "2024-01-01T00:39:00.000000000",
          "2024-01-01T00:40:00.000000000",
          "2024-01-01T00:41:00.000000000",
          "2024-01-01T00:42:00.000000000",
          "2024-01-01T00:43:00.000000000",
          "2024-01-01T00:44:00.000000000",
          "2024-01-01T00:45:00.000000000",
          "2024-01-01T00:46:00.000000000",
          "2024-01-01T00:47:00.000000000",
          "2024-01-01T00:48:00.000000000",
          "2024-01-01T00:49:00.000000000",
          "2024-01-01T00:50:00.000000000",
          "2024-01-01T00:51:00.000000000",
          "2024-01-01T00:52:00.000000000",
          "2024-01-01T00:53:00.000000000",
          "2024-01-01T00:54:00.000000000",
          "2024-01-01T00:55:00.000000000",
          "2024-01-01T00:56:00.000000000",
          "2024-01-01T00:57:00.000000000",
          "2024-01-01T00:58:00.000000000",
          "2024-01-01T00:59:00.000000000",
          "2024-01-01T01:00:00.000000000",
          "2024-01-01T01:01:00.000000000",
          "2024-01-01T01:02:00.000000000",
          "2024-01-01T01:03:00.000000000",
          "2024-01-01T01:04:00.000000000",
          "2024-01-01T01:05:00.000000000",
          "2024-01-01T01:06:00.000000000",
          "2024-01-01T01:07:00.000000000",
          "2024-01-01T01:08:00.000000000",
          "2024-01-01T01:09:00.000000000",
          "2024-01-01T01:10:00.000000000",
          "2024-01-01T01:11:00.000000000",
          "2024-01-01T01:12:00.000000000",
          "2024-01-01T01:13:00.000000000",
          "2024-01-01T01:14:00.000000000",
          "2024-01-01T01:15:00.000000000",
          "2024-01-01T01:16:00.000000000",
          "2024-01-01T01:17:00.000000000",
          "2024-01-01T01:18:00.000000000",
          "2024-01-01T01:19:00.000000000",
          "2024-01-01T01:20:00.000000000",
          "2024-01-01T01:21:00.000000000",
          "2024-01-01T01:22:00.000000000",
          "2024-01-01T01:23:00.000000000",
          "2024-01-01T01:24:00.000000000",
          "2024-01-01T01:25:00.000000000",
          "2024-01-01T01:26:00.000000000",
          "2024-01-01T01:27:00.000000000",
          "2024-01-01T01:28:00.000000000",
          "2024-01-01T01:29:00.000000000",
          "2024-01-01T01:30:00.000000000",
          "2024-01-01T01:31:00.000000000",
          "2024-01-01T01:32:00.000000000",
          "2024-01-01T01:33:00.000000000",
          "2024-01-01T01:34:00.000000000",
          "2024-01-01T01:35:00.000000000",
          "2024-01-01T01:36:00.000000000",
          "2024-01-01T01:37:00.000000000",
          "2024-01-01T01:38:00.000000000",
          "2024-01-01T01:39:00.000000000",
          "2024-01-01T01:40:00.000000000",
          "2024-01-01T01:41:00.000000000",
          "2024-01-01T01:42:00.000000000",
          "2024-01-01T01:43:00.000000000",
          "2024-01-01T01:44:00.000000000",
          "2024-01-01T01:45:00.000000000",
          "2024-01-01T01:46:00.000000000",
          "2024-01-01T01:47:00.000000000",
          "2024-01-01T01:48:00.000000000",
          "2024-01-01T01:49:00.000000000",
          "2024-01-01T01:50:00.000000000",
          "2024-01-01T01:51:00.000000000",
          "2024-01-01T01:52:00.000000000",
          "2024-01-01T01:53:00.000000000",
          "2024-01-01T01:54:00.000000000",
          "2024-01-01T01:55:00.000000000",
          "2024-01-01T01:56:00.000000000",
          "2024-01-01T01:57:00.000000000",
          "2024-01-01T01:58:00.000000000",
          "2024-01-01T01:59:00.000000000",
          "2024-01-01T02:00:00.000000000",
          "2024-01-01T02:01:00.000000000",
          "2024-01-01T02:02:00.000000000",
          "2024-01-01T02:03:00.000000000",
          "2024-01-01T02:04:00.000000000",
          "2024-01-01T02:05:00.000000000",
          "2024-01-01T02:06:00.000000000",
          "2024-01-01T02:07:00.000000000",
          "2024-01-01T02:08:00.000000000",
          "2024-01-01T02:09:00.000000000",
          "2024-01-01T02:10:00.000000000",
          "2024-01-01T02:11:00.000000000",
          "2024-01-01T02:12:00.000000000",
          "2024-01-01T02:13:00.000000000",
          "2024-01-01T02:14:00.000000000",
          "2024-01-01T02:15:00.000000000",
          "2024-01-01T02:16:00.000000000",
          "2024-01-01T02:17:00.000000000",
          "2024-01-01T02:18:00.000000000",
          "2024-01-01T02:19:00.000000000",
          "2024-01-01T02:20:00.000000000",
          "2024-01-01T02:21:00.000000000",
          "2024-01-01T02:22:00.000000000",
          "2024-01-01T02:23:00.000000000",
          "2024-01-01T02:24:00.000000000",
          "2024-01-01T02:25:00.000000000",
          "2024-01-01T02:26:00.000000000",
          "2024-01-01T02:27:00.000000000",
          "2024-01-01T02:28:00.000000000",
          "2024-01-01T02:29:00.000000000",
          "2024-01-01T02:30:00.000000000",
          "2024-01-01T02:31:00.000000000",
          "2024-01-01T02:32:00.000000000",
          "2024-01-01T02:33:00.000000000",
          "2024-01-01T02:34:00.000000000",
          "2024-01-01T02:35:00.000000000",
          "2024-01-01T02:36:00.000000000",
          "2024-01-01T02:37:00.000000000",
          "2024-01-01T02:38:00.000000000",
          "2024-01-01T02:39:00.000000000",
          "2024-01-01T02:40:00.000000000",
          "2024-01-01T02:41:00.000000000",
          "2024-01-01T02:42:00.000000000",
          "2024-01-01T02:43:00.000000000",
          "2024-01-01T02:44:00.000000000",
          "2024-01-01T02:45:00.000000000",
          "2024-01-01T02:46:00.000000000",
          "2024-01-01T02:47:00.000000000",
          "2024-01-01T02:48:00.000000000",
          "2024-01-01T02:49:00.000000000",
          "2024-01-01T02:50:00.000000000",
          "2024-01-01T02:51:00.000000000",
          "2024-01-01T02:52:00.000000000",
          "2024-01-01T02:53:00.000000000",
          "2024-01-01T02:54:00.000000000",
          "2024-01-01T02:55:00.000000000",
          "2024-01-01T02:56:00.000000000",
          "2024-01-01T02:57:00.000000000",
          "2024-01-01T02:58:00.000000000",
          "2024-01-01T02:59:00.000000000",
          "2024-01-01T03:00:00.000000000",
          "2024-01-01T03:01:00.000000000",
          "2024-01-01T03:02:00.000000000",
          "2024-01-01T03:03:00.000000000",
          "2024-01-01T03:04:00.000000000",
          "2024-01-01T03:05:00.000000000",
          "2024-01-01T03:06:00.000000000",
          "2024-01-01T03:07:00.000000000",
          "2024-01-01T03:08:00.000000000",
          "2024-01-01T03:09:00.000000000",
          "2024-01-01T03:10:00.000000000",
          "2024-01-01T03:11:00.000000000",
          "2024-01-01T03:12:00.000000000",
          "2024-01-01T03:13:00.000000000",
          "2024-01-01T03:14:00.000000000",
          "2024-01-01T03:15:00.000000000",
          "2024-01-01T03:16:00.000000000",
          "2024-01-01T03:17:00.000000000",
          "2024-01-01T03:18:00.000000000",
          "2024-01-01T03:19:00.000000000",
          "2024-01-01T03:20:00.000000000",
          "2024-01-01T03:21:00.000000000",
          "2024-01-01T03:22:00.000000000",
          "2024-01-01T03:23:00.000000000",
          "2024-01-01T03:24:00.000000000",
          "2024-01-01T03:25:00.000000000",
          "2024-01-01T03:26:00.000000000",
          "2024-01-01T03:27:00.000000000",
          "2024-01-01T03:28:00.000000000",
          "2024-01-01T03:29:00.000000000",
          "2024-01-01T03:30:00.000000000",
          "2024-01-01T03:31:00.000000000",
          "2024-01-01T03:32:00.000000000",
          "2024-01-01T03:33:00.000000000",
          "2024-01-01T03:34:00.000000000",
          "2024-01-01T03:35:00.000000000",
          "2024-01-01T03:36:00.000000000",
          "2024-01-01T03:37:00.000000000",
          "2024-01-01T03:38:00.000000000",
          "2024-01-01T03:39:00.000000000",
          "2024-01-01T03:40:00.000000000",
          "2024-01-01T03:41:00.000000000",
          "2024-01-01T03:42:00.000000000",
          "2024-01-01T03:43:00.000000000",
          "2024-01-01T03:44:00.000000000",
          "2024-01-01T03:45:00.000000000",
          "2024-01-01T03:46:00.000000000",
          "2024-01-01T03:47:00.000000000",
          "2024-01-01T03:48:00.000000000",
          "2024-01-01T03:49:00.000000000",
          "2024-01-01T03:50:00.000000000",
          "2024-01-01T03:51:00.000000000",
          "2024-01-01T03:52:00.000000000",
          "2024-01-01T03:53:00.000000000",
          "2024-01-01T03:54:00.000000000",
          "2024-01-01T03:55:00.000000000",
          "2024-01-01T03:56:00.000000000",
          "2024-01-01T03:57:00.000000000",
          "2024-01-01T03:58:00.000000000",
          "2024-01-01T03:59:00.000000000",
          "2024-01-01T04:00:00.000000000",
          "2024-01-01T04:01:00.000000000",
          "2024-01-01T04:02:00.000000000",
          "2024-01-01T04:03:00.000000000",
          "2024-01-01T04:04:00.000000000",
          "2024-01-01T04:05:00.000000000",
          "2024-01-01T04:06:00.000000000",
          "2024-01-01T04:07:00.000000000",
          "2024-01-01T04:08:00.000000000",
          "2024-01-01T04:09:00.000000000",
          "2024-01-01T04:10:00.000000000",
          "2024-01-01T04:11:00.000000000",
          "2024-01-01T04:12:00.000000000",
          "2024-01-01T04:13:00.000000000",
          "2024-01-01T04:14:00.000000000",
          "2024-01-01T04:15:00.000000000",
          "2024-01-01T04:16:00.000000000",
          "2024-01-01T04:17:00.000000000",
          "2024-01-01T04:18:00.000000000",
          "2024-01-01T04:19:00.000000000",
          "2024-01-01T04:20:00.000000000",
          "2024-01-01T04:21:00.000000000",
          "2024-01-01T04:22:00.000000000",
          "2024-01-01T04:23:00.000000000",
          "2024-01-01T04:24:00.000000000",
          "2024-01-01T04:25:00.000000000",
          "2024-01-01T04:26:00.000000000",
          "2024-01-01T04:27:00.000000000",
          "2024-01-01T04:28:00.000000000",
          "2024-01-01T04:29:00.000000000",
          "2024-01-01T04:30:00.000000000",
          "2024-01-01T04:31:00.000000000",
          "2024-01-01T04:32:00.000000000",
          "2024-01-01T04:33:00.000000000",
          "2024-01-01T04:34:00.000000000",
          "2024-01-01T04:35:00.000000000",
          "2024-01-01T04:36:00.000000000",
          "2024-01-01T04:37:00.000000000",
          "2024-01-01T04:38:00.000000000",
          "2024-01-01T04:39:00.000000000",
          "2024-01-01T04:40:00.000000000",
          "2024-01-01T04:41:00.000000000",
          "2024-01-01T04:42:00.000000000",
          "2024-01-01T04:43:00.000000000",
          "2024-01-01T04:44:00.000000000",
          "2024-01-01T04:45:00.000000000",
          "2024-01-01T04:46:00.000000000",
          "2024-01-01T04:47:00.000000000",
          "2024-01-01T04:48:00.000000000",
          "2024-01-01T04:49:00.000000000",
          "2024-01-01T04:50:00.000000000",
          "2024-01-01T04:51:00.000000000",
          "2024-01-01T04:52:00.000000000",
          "2024-01-01T04:53:00.000000000",
          "2024-01-01T04:54:00.000000000",
          "2024-01-01T04:55:00.000000000",
          "2024-01-01T04:56:00.000000000",
          "2024-01-01T04:57:00.000000000",
          "2024-01-01T04:58:00.000000000",
          "2024-01-01T04:59:00.000000000",
          "2024-01-01T05:00:00.000000000",
          "2024-01-01T05:01:00.000000000",
          "2024-01-01T05:02:00.000000000",
          "2024-01-01T05:03:00.000000000",
          "2024-01-01T05:04:00.000000000",
          "2024-01-01T05:05:00.000000000",
          "2024-01-01T05:06:00.000000000",
          "2024-01-01T05:07:00.000000000",
          "2024-01-01T05:08:00.000000000",
          "2024-01-01T05:09:00.000000000",
          "2024-01-01T05:10:00.000000000",
          "2024-01-01T05:11:00.000000000",
          "2024-01-01T05:12:00.000000000",
          "2024-01-01T05:13:00.000000000",
          "2024-01-01T05:14:00.000000000",
          "2024-01-01T05:15:00.000000000",
          "2024-01-01T05:16:00.000000000",
          "2024-01-01T05:17:00.000000000",
          "2024-01-01T05:18:00.000000000",
          "2024-01-01T05:19:00.000000000",
          "2024-01-01T05:20:00.000000000",
          "2024-01-01T05:21:00.000000000",
          "2024-01-01T05:22:00.000000000",
          "2024-01-01T05:23:00.000000000",
          "2024-01-01T05:24:00.000000000",
          "2024-01-01T05:25:00.000000000",
          "2024-01-01T05:26:00.000000000",
          "2024-01-01T05:27:00.000000000",
          "2024-01-01T05:28:00.000000000",
          "2024-01-01T05:29:00.000000000",
          "2024-01-01T05:30:00.000000000",
          "2024-01-01T05:31:00.000000000",
          "2024-01-01T05:32:00.000000000",
          "2024-01-01T05:33:00.000000000",
          "2024-01-01T05:34:00.000000000",
          "2024-01-01T05:35:00.000000000",
          "2024-01-01T05:36:00.000000000",
          "2024-01-01T05:37:00.000000000",
          "2024-01-01T05:38:00.000000000",
          "2024-01-01T05:39:00.000000000",
          "2024-01-01T05:40:00.000000000",
          "2024-01-01T05:41:00.000000000",
          "2024-01-01T05:42:00.000000000",
          "2024-01-01T05:43:00.000000000",
          "2024-01-01T05:44:00.000000000",
          "2024-01-01T05:45:00.000000000",
          "2024-01-01T05:46:00.000000000",
          "2024-01-01T05:47:00.000000000",
          "2024-01-01T05:48:00.000000000",
          "2024-01-01T05:49:00.000000000",
          "2024-01-01T05:50:00.000000000",
          "2024-01-01T05:51:00.000000000",
          "2024-01-01T05:52:00.000000000",
          "2024-01-01T05:53:00.000000000",
          "2024-01-01T05:54:00.000000000",
          "2024-01-01T05:55:00.000000000",
          "2024-01-01T05:56:00.000000000",
          "2024-01-01T05:57:00.000000000",
          "2024-01-01T05:58:00.000000000",
          "2024-01-01T05:59:00.000000000",
          "2024-01-01T06:00:00.000000000",
          "2024-01-01T06:01:00.000000000",
          "2024-01-01T06:02:00.000000000",
          "2024-01-01T06:03:00.000000000",
          "2024-01-01T06:04:00.000000000",
          "2024-01-01T06:05:00.000000000",
          "2024-01-01T06:06:00.000000000",
          "2024-01-01T06:07:00.000000000",
          "2024-01-01T06:08:00.000000000",
          "2024-01-01T06:09:00.000000000",
          "2024-01-01T06:10:00.000000000",
          "2024-01-01T06:11:00.000000000",
          "2024-01-01T06:12:00.000000000",
          "2024-01-01T06:13:00.000000000",
          "2024-01-01T06:14:00.000000000",
          "2024-01-01T06:15:00.000000000",
          "2024-01-01T06:16:00.000000000",
          "2024-01-01T06:17:00.000000000",
          "2024-01-01T06:18:00.000000000",
          "2024-01-01T06:19:00.000000000",
          "2024-01-01T06:20:00.000000000",
          "2024-01-01T06:21:00.000000000",
          "2024-01-01T06:22:00.000000000",
          "2024-01-01T06:23:00.000000000",
          "2024-01-01T06:24:00.000000000",
          "2024-01-01T06:25:00.000000000",
          "2024-01-01T06:26:00.000000000",
          "2024-01-01T06:27:00.000000000",
          "2024-01-01T06:28:00.000000000",
          "2024-01-01T06:29:00.000000000",
          "2024-01-01T06:30:00.000000000",
          "2024-01-01T06:31:00.000000000",
          "2024-01-01T06:32:00.000000000",
          "2024-01-01T06:33:00.000000000",
          "2024-01-01T06:34:00.000000000",
          "2024-01-01T06:35:00.000000000",
          "2024-01-01T06:36:00.000000000",
          "2024-01-01T06:37:00.000000000",
          "2024-01-01T06:38:00.000000000",
          "2024-01-01T06:39:00.000000000",
          "2024-01-01T06:40:00.000000000",
          "2024-01-01T06:41:00.000000000",
          "2024-01-01T06:42:00.000000000",
          "2024-01-01T06:43:00.000000000",
          "2024-01-01T06:44:00.000000000",
          "2024-01-01T06:45:00.000000000",
          "2024-01-01T06:46:00.000000000",
          "2024-01-01T06:47:00.000000000",
          "2024-01-01T06:48:00.000000000",
          "2024-01-01T06:49:00.000000000",
          "2024-01-01T06:50:00.000000000",
          "2024-01-01T06:51:00.000000000",
          "2024-01-01T06:52:00.000000000",
          "2024-01-01T06:53:00.000000000",
          "2024-01-01T06:54:00.000000000",
          "2024-01-01T06:55:00.000000000",
          "2024-01-01T06:56:00.000000000",
          "2024-01-01T06:57:00.000000000",
          "2024-01-01T06:58:00.000000000",
          "2024-01-01T06:59:00.000000000",
          "2024-01-01T07:00:00.000000000",
          "2024-01-01T07:01:00.000000000",
          "2024-01-01T07:02:00.000000000",
          "2024-01-01T07:03:00.000000000",
          "2024-01-01T07:04:00.000000000",
          "2024-01-01T07:05:00.000000000",
          "2024-01-01T07:06:00.000000000",
          "2024-01-01T07:07:00.000000000",
          "2024-01-01T07:08:00.000000000",
          "2024-01-01T07:09:00.000000000",
          "2024-01-01T07:10:00.000000000",
          "2024-01-01T07:11:00.000000000",
          "2024-01-01T07:12:00.000000000",
          "2024-01-01T07:13:00.000000000",
          "2024-01-01T07:14:00.000000000",
          "2024-01-01T07:15:00.000000000",
          "2024-01-01T07:16:00.000000000",
          "2024-01-01T07:17:00.000000000",
          "2024-01-01T07:18:00.000000000",
          "2024-01-01T07:19:00.000000000",
          "2024-01-01T07:20:00.000000000",
          "2024-01-01T07:21:00.000000000",
          "2024-01-01T07:22:00.000000000",
          "2024-01-01T07:23:00.000000000",
          "2024-01-01T07:24:00.000000000",
          "2024-01-01T07:25:00.000000000",
          "2024-01-01T07:26:00.000000000",
          "2024-01-01T07:27:00.000000000",
          "2024-01-01T07:28:00.000000000",
          "2024-01-01T07:29:00.000000000",
          "2024-01-01T07:30:00.000000000",
          "2024-01-01T07:31:00.000000000",
          "2024-01-01T07:32:00.000000000",
          "2024-01-01T07:33:00.000000000",
          "2024-01-01T07:34:00.000000000",
          "2024-01-01T07:35:00.000000000",
          "2024-01-01T07:36:00.000000000",
          "2024-01-01T07:37:00.000000000",
          "2024-01-01T07:38:00.000000000",
          "2024-01-01T07:39:00.000000000",
          "2024-01-01T07:40:00.000000000",
          "2024-01-01T07:41:00.000000000",
          "2024-01-01T07:42:00.000000000",
          "2024-01-01T07:43:00.000000000",
          "2024-01-01T07:44:00.000000000",
          "2024-01-01T07:45:00.000000000",
          "2024-01-01T07:46:00.000000000",
          "2024-01-01T07:47:00.000000000",
          "2024-01-01T07:48:00.000000000",
          "2024-01-01T07:49:00.000000000",
          "2024-01-01T07:50:00.000000000",
          "2024-01-01T07:51:00.000000000",
          "2024-01-01T07:52:00.000000000",
          "2024-01-01T07:53:00.000000000",
          "2024-01-01T07:54:00.000000000",
          "2024-01-01T07:55:00.000000000",
          "2024-01-01T07:56:00.000000000",
          "2024-01-01T07:57:00.000000000",
          "2024-01-01T07:58:00.000000000",
          "2024-01-01T07:59:00.000000000",
          "2024-01-01T08:00:00.000000000",
          "2024-01-01T08:01:00.000000000",
          "2024-01-01T08:02:00.000000000",
          "2024-01-01T08:03:00.000000000",
          "2024-01-01T08:04:00.000000000",
          "2024-01-01T08:05:00.000000000",
          "2024-01-01T08:06:00.000000000",
          "2024-01-01T08:07:00.000000000",
          "2024-01-01T08:08:00.000000000",
          "2024-01-01T08:09:00.000000000",
          "2024-01-01T08:10:00.000000000",
          "2024-01-01T08:11:00.000000000",
          "2024-01-01T08:12:00.000000000",
          "2024-01-01T08:13:00.000000000",
          "2024-01-01T08:14:00.000000000",
          "2024-01-01T08:15:00.000000000",
          "2024-01-01T08:16:00.000000000",
          "2024-01-01T08:17:00.000000000",
          "2024-01-01T08:18:00.000000000",
          "2024-01-01T08:19:00.000000000",
          "2024-01-01T08:20:00.000000000",
          "2024-01-01T08:21:00.000000000",
          "2024-01-01T08:22:00.000000000",
          "2024-01-01T08:23:00.000000000",
          "2024-01-01T08:24:00.000000000",
          "2024-01-01T08:25:00.000000000",
          "2024-01-01T08:26:00.000000000",
          "2024-01-01T08:27:00.000000000",
          "2024-01-01T08:28:00.000000000",
          "2024-01-01T08:29:00.000000000",
          "2024-01-01T08:30:00.000000000",
          "2024-01-01T08:31:00.000000000",
          "2024-01-01T08:32:00.000000000",
          "2024-01-01T08:33:00.000000000",
          "2024-01-01T08:34:00.000000000",
          "2024-01-01T08:35:00.000000000",
          "2024-01-01T08:36:00.000000000",
          "2024-01-01T08:37:00.000000000",
          "2024-01-01T08:38:00.000000000",
          "2024-01-01T08:39:00.000000000",
          "2024-01-01T08:40:00.000000000",
          "2024-01-01T08:41:00.000000000",
          "2024-01-01T08:42:00.000000000",
          "2024-01-01T08:43:00.000000000",
          "2024-01-01T08:44:00.000000000",
          "2024-01-01T08:45:00.000000000",
          "2024-01-01T08:46:00.000000000",
          "2024-01-01T08:47:00.000000000",
          "2024-01-01T08:48:00.000000000",
          "2024-01-01T08:49:00.000000000",
          "2024-01-01T08:50:00.000000000",
          "2024-01-01T08:51:00.000000000",
          "2024-01-01T08:52:00.000000000",
          "2024-01-01T08:53:00.000000000",
          "2024-01-01T08:54:00.000000000",
          "2024-01-01T08:55:00.000000000",
          "2024-01-01T08:56:00.000000000",
          "2024-01-01T08:57:00.000000000",
          "2024-01-01T08:58:00.000000000",
          "2024-01-01T08:59:00.000000000",
          "2024-01-01T09:00:00.000000000",
          "2024-01-01T09:01:00.000000000",
          "2024-01-01T09:02:00.000000000",
          "2024-01-01T09:03:00.000000000",
          "2024-01-01T09:04:00.000000000",
          "2024-01-01T09:05:00.000000000",
          "2024-01-01T09:06:00.000000000",
          "2024-01-01T09:07:00.000000000",
          "2024-01-01T09:08:00.000000000",
          "2024-01-01T09:09:00.000000000",
          "2024-01-01T09:10:00.000000000",
          "2024-01-01T09:11:00.000000000",
          "2024-01-01T09:12:00.000000000",
          "2024-01-01T09:13:00.000000000",
          "2024-01-01T09:14:00.000000000",
          "2024-01-01T09:15:00.000000000",
          "2024-01-01T09:16:00.000000000",
          "2024-01-01T09:17:00.000000000",
          "2024-01-01T09:18:00.000000000",
          "2024-01-01T09:19:00.000000000",
          "2024-01-01T09:20:00.000000000",
          "2024-01-01T09:21:00.000000000",
          "2024-01-01T09:22:00.000000000",
          "2024-01-01T09:23:00.000000000",
          "2024-01-01T09:24:00.000000000",
          "2024-01-01T09:25:00.000000000",
          "2024-01-01T09:26:00.000000000",
          "2024-01-01T09:27:00.000000000",
          "2024-01-01T09:28:00.000000000",
          "2024-01-01T09:29:00.000000000",
          "2024-01-01T09:30:00.000000000",
          "2024-01-01T09:31:00.000000000",
          "2024-01-01T09:32:00.000000000",
          "2024-01-01T09:33:00.000000000",
          "2024-01-01T09:34:00.000000000",
          "2024-01-01T09:35:00.000000000",
          "2024-01-01T09:36:00.000000000",
          "2024-01-01T09:37:00.000000000",
          "2024-01-01T09:38:00.000000000",
          "2024-01-01T09:39:00.000000000",
          "2024-01-01T09:40:00.000000000",
          "2024-01-01T09:41:00.000000000",
          "2024-01-01T09:42:00.000000000",
          "2024-01-01T09:43:00.000000000",
          "2024-01-01T09:44:00.000000000",
          "2024-01-01T09:45:00.000000000",
          "2024-01-01T09:46:00.000000000",
          "2024-01-01T09:47:00.000000000",
          "2024-01-01T09:48:00.000000000",
          "2024-01-01T09:49:00.000000000",
          "2024-01-01T09:50:00.000000000",
          "2024-01-01T09:51:00.000000000",
          "2024-01-01T09:52:00.000000000",
          "2024-01-01T09:53:00.000000000",
          "2024-01-01T09:54:00.000000000",
          "2024-01-01T09:55:00.000000000",
          "2024-01-01T09:56:00.000000000",
          "2024-01-01T09:57:00.000000000",
          "2024-01-01T09:58:00.000000000",
          "2024-01-01T09:59:00.000000000",
          "2024-01-01T10:00:00.000000000",
          "2024-01-01T10:01:00.000000000",
          "2024-01-01T10:02:00.000000000",
          "2024-01-01T10:03:00.000000000",
          "2024-01-01T10:04:00.000000000",
          "2024-01-01T10:05:00.000000000",
          "2024-01-01T10:06:00.000000000",
          "2024-01-01T10:07:00.000000000",
          "2024-01-01T10:08:00.000000000",
          "2024-01-01T10:09:00.000000000",
          "2024-01-01T10:10:00.000000000",
          "2024-01-01T10:11:00.000000000",
          "2024-01-01T10:12:00.000000000",
          "2024-01-01T10:13:00.000000000",
          "2024-01-01T10:14:00.000000000",
          "2024-01-01T10:15:00.000000000",
          "2024-01-01T10:16:00.000000000",
          "2024-01-01T10:17:00.000000000",
          "2024-01-01T10:18:00.000000000",
          "2024-01-01T10:19:00.000000000",
          "2024-01-01T10:20:00.000000000",
          "2024-01-01T10:21:00.000000000",
          "2024-01-01T10:22:00.000000000",
          "2024-01-01T10:23:00.000000000",
          "2024-01-01T10:24:00.000000000",
          "2024-01-01T10:25:00.000000000",
          "2024-01-01T10:26:00.000000000",
          "2024-01-01T10:27:00.000000000",
          "2024-01-01T10:28:00.000000000",
          "2024-01-01T10:29:00.000000000",
          "2024-01-01T10:30:00.000000000",
          "2024-01-01T10:31:00.000000000",
          "2024-01-01T10:32:00.000000000",
          "2024-01-01T10:33:00.000000000",
          "2024-01-01T10:34:00.000000000",
          "2024-01-01T10:35:00.000000000",
          "2024-01-01T10:36:00.000000000",
          "2024-01-01T10:37:00.000000000",
          "2024-01-01T10:38:00.000000000",
          "2024-01-01T10:39:00.000000000",
          "2024-01-01T10:40:00.000000000",
          "2024-01-01T10:41:00.000000000",
          "2024-01-01T10:42:00.000000000",
          "2024-01-01T10:43:00.000000000",
          "2024-01-01T10:44:00.000000000",
          "2024-01-01T10:45:00.000000000",
          "2024-01-01T10:46:00.000000000",
          "2024-01-01T10:47:00.000000000",
          "2024-01-01T10:48:00.000000000",
          "2024-01-01T10:49:00.000000000",
          "2024-01-01T10:50:00.000000000",
          "2024-01-01T10:51:00.000000000",
          "2024-01-01T10:52:00.000000000",
          "2024-01-01T10:53:00.000000000",
          "2024-01-01T10:54:00.000000000",
          "2024-01-01T10:55:00.000000000",
          "2024-01-01T10:56:00.000000000",
          "2024-01-01T10:57:00.000000000",
          "2024-01-01T10:58:00.000000000",
          "2024-01-01T10:59:00.000000000",
          "2024-01-01T11:00:00.000000000",
          "2024-01-01T11:01:00.000000000",
          "2024-01-01T11:02:00.000000000",
          "2024-01-01T11:03:00.000000000",
          "2024-01-01T11:04:00.000000000",
          "2024-01-01T11:05:00.000000000",
          "2024-01-01T11:06:00.000000000",
          "2024-01-01T11:07:00.000000000",
          "2024-01-01T11:08:00.000000000",
          "2024-01-01T11:09:00.000000000",
          "2024-01-01T11:10:00.000000000",
          "2024-01-01T11:11:00.000000000",
          "2024-01-01T11:12:00.000000000",
          "2024-01-01T11:13:00.000000000",
          "2024-01-01T11:14:00.000000000",
          "2024-01-01T11:15:00.000000000",
          "2024-01-01T11:16:00.000000000",
          "2024-01-01T11:17:00.000000000",
          "2024-01-01T11:18:00.000000000",
          "2024-01-01T11:19:00.000000000",
          "2024-01-01T11:20:00.000000000",
          "2024-01-01T11:21:00.000000000",
          "2024-01-01T11:22:00.000000000",
          "2024-01-01T11:23:00.000000000",
          "2024-01-01T11:24:00.000000000",
          "2024-01-01T11:25:00.000000000",
          "2024-01-01T11:26:00.000000000",
          "2024-01-01T11:27:00.000000000",
          "2024-01-01T11:28:00.000000000",
          "2024-01-01T11:29:00.000000000",
          "2024-01-01T11:30:00.000000000",
          "2024-01-01T11:31:00.000000000",
          "2024-01-01T11:32:00.000000000",
          "2024-01-01T11:33:00.000000000",
          "2024-01-01T11:34:00.000000000",
          "2024-01-01T11:35:00.000000000",
          "2024-01-01T11:36:00.000000000",
          "2024-01-01T11:37:00.000000000",
          "2024-01-01T11:38:00.000000000",
          "2024-01-01T11:39:00.000000000",
          "2024-01-01T11:40:00.000000000",
          "2024-01-01T11:41:00.000000000",
          "2024-01-01T11:42:00.000000000",
          "2024-01-01T11:43:00.000000000",
          "2024-01-01T11:44:00.000000000",
          "2024-01-01T11:45:00.000000000",
          "2024-01-01T11:46:00.000000000",
          "2024-01-01T11:47:00.000000000",
          "2024-01-01T11:48:00.000000000",
          "2024-01-01T11:49:00.000000000",
          "2024-01-01T11:50:00.000000000",
          "2024-01-01T11:51:00.000000000",
          "2024-01-01T11:52:00.000000000",
          "2024-01-01T11:53:00.000000000",
          "2024-01-01T11:54:00.000000000",
          "2024-01-01T11:55:00.000000000",
          "2024-01-01T11:56:00.000000000",
          "2024-01-01T11:57:00.000000000",
          "2024-01-01T11:58:00.000000000",
          "2024-01-01T11:59:00.000000000",
          "2024-01-01T12:00:00.000000000",
          "2024-01-01T12:01:00.000000000",
          "2024-01-01T12:02:00.000000000",
          "2024-01-01T12:03:00.000000000",
          "2024-01-01T12:04:00.000000000",
          "2024-01-01T12:05:00.000000000",
          "2024-01-01T12:06:00.000000000",
          "2024-01-01T12:07:00.000000000",
          "2024-01-01T12:08:00.000000000",
          "2024-01-01T12:09:00.000000000",
          "2024-01-01T12:10:00.000000000",
          "2024-01-01T12:11:00.000000000",
          "2024-01-01T12:12:00.000000000",
          "2024-01-01T12:13:00.000000000",
          "2024-01-01T12:14:00.000000000",
          "2024-01-01T12:15:00.000000000",
          "2024-01-01T12:16:00.000000000",
          "2024-01-01T12:17:00.000000000",
          "2024-01-01T12:18:00.000000000",
          "2024-01-01T12:19:00.000000000",
          "2024-01-01T12:20:00.000000000",
          "2024-01-01T12:21:00.000000000",
          "2024-01-01T12:22:00.000000000",
          "2024-01-01T12:23:00.000000000",
          "2024-01-01T12:24:00.000000000",
          "2024-01-01T12:25:00.000000000",
          "2024-01-01T12:26:00.000000000",
          "2024-01-01T12:27:00.000000000",
          "2024-01-01T12:28:00.000000000",
          "2024-01-01T12:29:00.000000000",
          "2024-01-01T12:30:00.000000000",
          "2024-01-01T12:31:00.000000000",
          "2024-01-01T12:32:00.000000000",
          "2024-01-01T12:33:00.000000000",
          "2024-01-01T12:34:00.000000000",
          "2024-01-01T12:35:00.000000000",
          "2024-01-01T12:36:00.000000000",
          "2024-01-01T12:37:00.000000000",
          "2024-01-01T12:38:00.000000000",
          "2024-01-01T12:39:00.000000000",
          "2024-01-01T12:40:00.000000000",
          "2024-01-01T12:41:00.000000000",
          "2024-01-01T12:42:00.000000000",
          "2024-01-01T12:43:00.000000000",
          "2024-01-01T12:44:00.000000000",
          "2024-01-01T12:45:00.000000000",
          "2024-01-01T12:46:00.000000000",
          "2024-01-01T12:47:00.000000000",
          "2024-01-01T12:48:00.000000000",
          "2024-01-01T12:49:00.000000000",
          "2024-01-01T12:50:00.000000000",
          "2024-01-01T12:51:00.000000000",
          "2024-01-01T12:52:00.000000000",
          "2024-01-01T12:53:00.000000000",
          "2024-01-01T12:54:00.000000000",
          "2024-01-01T12:55:00.000000000",
          "2024-01-01T12:56:00.000000000",
          "2024-01-01T12:57:00.000000000",
          "2024-01-01T12:58:00.000000000",
          "2024-01-01T12:59:00.000000000",
          "2024-01-01T13:00:00.000000000",
          "2024-01-01T13:01:00.000000000",
          "2024-01-01T13:02:00.000000000",
          "2024-01-01T13:03:00.000000000",
          "2024-01-01T13:04:00.000000000",
          "2024-01-01T13:05:00.000000000",
          "2024-01-01T13:06:00.000000000",
          "2024-01-01T13:07:00.000000000",
          "2024-01-01T13:08:00.000000000",
          "2024-01-01T13:09:00.000000000",
          "2024-01-01T13:10:00.000000000",
          "2024-01-01T13:11:00.000000000",
          "2024-01-01T13:12:00.000000000",
          "2024-01-01T13:13:00.000000000",
          "2024-01-01T13:14:00.000000000",
          "2024-01-01T13:15:00.000000000",
          "2024-01-01T13:16:00.000000000",
          "2024-01-01T13:17:00.000000000",
          "2024-01-01T13:18:00.000000000",
          "2024-01-01T13:19:00.000000000",
          "2024-01-01T13:20:00.000000000",
          "2024-01-01T13:21:00.000000000",
          "2024-01-01T13:22:00.000000000",
          "2024-01-01T13:23:00.000000000",
          "2024-01-01T13:24:00.000000000",
          "2024-01-01T13:25:00.000000000",
          "2024-01-01T13:26:00.000000000",
          "2024-01-01T13:27:00.000000000",
          "2024-01-01T13:28:00.000000000",
          "2024-01-01T13:29:00.000000000",
          "2024-01-01T13:30:00.000000000",
          "2024-01-01T13:31:00.000000000",
          "2024-01-01T13:32:00.000000000",
          "2024-01-01T13:33:00.000000000",
          "2024-01-01T13:34:00.000000000",
          "2024-01-01T13:35:00.000000000",
          "2024-01-01T13:36:00.000000000",
          "2024-01-01T13:37:00.000000000",
          "2024-01-01T13:38:00.000000000",
          "2024-01-01T13:39:00.000000000",
          "2024-01-01T13:40:00.000000000",
          "2024-01-01T13:41:00.000000000",
          "2024-01-01T13:42:00.000000000",
          "2024-01-01T13:43:00.000000000",
          "2024-01-01T13:44:00.000000000",
          "2024-01-01T13:45:00.000000000",
          "2024-01-01T13:46:00.000000000",
          "2024-01-01T13:47:00.000000000",
          "2024-01-01T13:48:00.000000000",
          "2024-01-01T13:49:00.000000000",
          "2024-01-01T13:50:00.000000000",
          "2024-01-01T13:51:00.000000000",
          "2024-01-01T13:52:00.000000000",
          "2024-01-01T13:53:00.000000000",
          "2024-01-01T13:54:00.000000000",
          "2024-01-01T13:55:00.000000000",
          "2024-01-01T13:56:00.000000000",
          "2024-01-01T13:57:00.000000000",
          "2024-01-01T13:58:00.000000000",
          "2024-01-01T13:59:00.000000000",
          "2024-01-01T14:00:00.000000000",
          "2024-01-01T14:01:00.000000000",
          "2024-01-01T14:02:00.000000000",
          "2024-01-01T14:03:00.000000000",
          "2024-01-01T14:04:00.000000000",
          "2024-01-01T14:05:00.000000000",
          "2024-01-01T14:06:00.000000000",
          "2024-01-01T14:07:00.000000000",
          "2024-01-01T14:08:00.000000000",
          "2024-01-01T14:09:00.000000000",
          "2024-01-01T14:10:00.000000000",
          "2024-01-01T14:11:00.000000000",
          "2024-01-01T14:12:00.000000000",
          "2024-01-01T14:13:00.000000000",
          "2024-01-01T14:14:00.000000000",
          "2024-01-01T14:15:00.000000000",
          "2024-01-01T14:16:00.000000000",
          "2024-01-01T14:17:00.000000000",
          "2024-01-01T14:18:00.000000000",
          "2024-01-01T14:19:00.000000000",
          "2024-01-01T14:20:00.000000000",
          "2024-01-01T14:21:00.000000000",
          "2024-01-01T14:22:00.000000000",
          "2024-01-01T14:23:00.000000000",
          "2024-01-01T14:24:00.000000000",
          "2024-01-01T14:25:00.000000000",
          "2024-01-01T14:26:00.000000000",
          "2024-01-01T14:27:00.000000000",
          "2024-01-01T14:28:00.000000000",
          "2024-01-01T14:29:00.000000000",
          "2024-01-01T14:30:00.000000000",
          "2024-01-01T14:31:00.000000000",
          "2024-01-01T14:32:00.000000000",
          "2024-01-01T14:33:00.000000000",
          "2024-01-01T14:34:00.000000000",
          "2024-01-01T14:35:00.000000000",
          "2024-01-01T14:36:00.000000000",
          "2024-01-01T14:37:00.000000000",
          "2024-01-01T14:38:00.000000000",
          "2024-01-01T14:39:00.000000000",
          "2024-01-01T14:40:00.000000000",
          "2024-01-01T14:41:00.000000000",
          "2024-01-01T14:42:00.000000000",
          "2024-01-01T14:43:00.000000000",
          "2024-01-01T14:44:00.000000000",
          "2024-01-01T14:45:00.000000000",
          "2024-01-01T14:46:00.000000000",
          "2024-01-01T14:47:00.000000000",
          "2024-01-01T14:48:00.000000000",
          "2024-01-01T14:49:00.000000000",
          "2024-01-01T14:50:00.000000000",
          "2024-01-01T14:51:00.000000000",
          "2024-01-01T14:52:00.000000000",
          "2024-01-01T14:53:00.000000000",
          "2024-01-01T14:54:00.000000000",
          "2024-01-01T14:55:00.000000000",
          "2024-01-01T14:56:00.000000000",
          "2024-01-01T14:57:00.000000000",
          "2024-01-01T14:58:00.000000000",
          "2024-01-01T14:59:00.000000000",
          "2024-01-01T15:00:00.000000000",
          "2024-01-01T15:01:00.000000000",
          "2024-01-01T15:02:00.000000000",
          "2024-01-01T15:03:00.000000000",
          "2024-01-01T15:04:00.000000000",
          "2024-01-01T15:05:00.000000000",
          "2024-01-01T15:06:00.000000000",
          "2024-01-01T15:07:00.000000000",
          "2024-01-01T15:08:00.000000000",
          "2024-01-01T15:09:00.000000000",
          "2024-01-01T15:10:00.000000000",
          "2024-01-01T15:11:00.000000000",
          "2024-01-01T15:12:00.000000000",
          "2024-01-01T15:13:00.000000000",
          "2024-01-01T15:14:00.000000000",
          "2024-01-01T15:15:00.000000000",
          "2024-01-01T15:16:00.000000000",
          "2024-01-01T15:17:00.000000000",
          "2024-01-01T15:18:00.000000000",
          "2024-01-01T15:19:00.000000000",
          "2024-01-01T15:20:00.000000000",
          "2024-01-01T15:21:00.000000000",
          "2024-01-01T15:22:00.000000000",
          "2024-01-01T15:23:00.000000000",
          "2024-01-01T15:24:00.000000000",
          "2024-01-01T15:25:00.000000000",
          "2024-01-01T15:26:00.000000000",
          "2024-01-01T15:27:00.000000000",
          "2024-01-01T15:28:00.000000000",
          "2024-01-01T15:29:00.000000000",
          "2024-01-01T15:30:00.000000000",
          "2024-01-01T15:31:00.000000000",
          "2024-01-01T15:32:00.000000000",
          "2024-01-01T15:33:00.000000000",
          "2024-01-01T15:34:00.000000000",
          "2024-01-01T15:35:00.000000000",
          "2024-01-01T15:36:00.000000000",
          "2024-01-01T15:37:00.000000000",
          "2024-01-01T15:38:00.000000000",
          "2024-01-01T15:39:00.000000000",
          "2024-01-01T15:40:00.000000000",
          "2024-01-01T15:41:00.000000000",
          "2024-01-01T15:42:00.000000000",
          "2024-01-01T15:43:00.000000000",
          "2024-01-01T15:44:00.000000000",
          "2024-01-01T15:45:00.000000000",
          "2024-01-01T15:46:00.000000000",
          "2024-01-01T15:47:00.000000000",
          "2024-01-01T15:48:00.000000000",
          "2024-01-01T15:49:00.000000000",
          "2024-01-01T15:50:00.000000000",
          "2024-01-01T15:51:00.000000000",
          "2024-01-01T15:52:00.000000000",
          "2024-01-01T15:53:00.000000000",
          "2024-01-01T15:54:00.000000000",
          "2024-01-01T15:55:00.000000000",
          "2024-01-01T15:56:00.000000000",
          "2024-01-01T15:57:00.000000000",
          "2024-01-01T15:58:00.000000000",
          "2024-01-01T15:59:00.000000000",
          "2024-01-01T16:00:00.000000000",
          "2024-01-01T16:01:00.000000000",
          "2024-01-01T16:02:00.000000000",
          "2024-01-01T16:03:00.000000000",
          "2024-01-01T16:04:00.000000000",
          "2024-01-01T16:05:00.000000000",
          "2024-01-01T16:06:00.000000000",
          "2024-01-01T16:07:00.000000000",
          "2024-01-01T16:08:00.000000000",
          "2024-01-01T16:09:00.000000000",
          "2024-01-01T16:10:00.000000000",
          "2024-01-01T16:11:00.000000000",
          "2024-01-01T16:12:00.000000000",
          "2024-01-01T16:13:00.000000000",
          "2024-01-01T16:14:00.000000000",
          "2024-01-01T16:15:00.000000000",
          "2024-01-01T16:16:00.000000000",
          "2024-01-01T16:17:00.000000000",
          "2024-01-01T16:18:00.000000000",
          "2024-01-01T16:19:00.000000000",
          "2024-01-01T16:20:00.000000000",
          "2024-01-01T16:21:00.000000000",
          "2024-01-01T16:22:00.000000000",
          "2024-01-01T16:23:00.000000000",
          "2024-01-01T16:24:00.000000000",
          "2024-01-01T16:25:00.000000000",
          "2024-01-01T16:26:00.000000000",
          "2024-01-01T16:27:00.000000000",
          "2024-01-01T16:28:00.000000000",
          "2024-01-01T16:29:00.000000000",
          "2024-01-01T16:30:00.000000000",
          "2024-01-01T16:31:00.000000000",
          "2024-01-01T16:32:00.000000000",
          "2024-01-01T16:33:00.000000000",
          "2024-01-01T16:34:00.000000000",
          "2024-01-01T16:35:00.000000000",
          "2024-01-01T16:36:00.000000000",
          "2024-01-01T16:37:00.000000000",
          "2024-01-01T16:38:00.000000000",
          "2024-01-01T16:39:00.000000000",
          "2024-01-01T16:40:00.000000000",
          "2024-01-01T16:41:00.000000000",
          "2024-01-01T16:42:00.000000000",
          "2024-01-01T16:43:00.000000000",
          "2024-01-01T16:44:00.000000000",
          "2024-01-01T16:45:00.000000000",
          "2024-01-01T16:46:00.000000000",
          "2024-01-01T16:47:00.000000000",
          "2024-01-01T16:48:00.000000000",
          "2024-01-01T16:49:00.000000000",
          "2024-01-01T16:50:00.000000000",
          "2024-01-01T16:51:00.000000000",
          "2024-01-01T16:52:00.000000000",
          "2024-01-01T16:53:00.000000000",
          "2024-01-01T16:54:00.000000000",
          "2024-01-01T16:55:00.000000000",
          "2024-01-01T16:56:00.000000000",
          "2024-01-01T16:57:00.000000000",
          "2024-01-01T16:58:00.000000000",
          "2024-01-01T16:59:00.000000000",
          "2024-01-01T17:00:00.000000000",
          "2024-01-01T17:01:00.000000000",
          "2024-01-01T17:02:00.000000000",
          "2024-01-01T17:03:00.000000000",
          "2024-01-01T17:04:00.000000000",
          "2024-01-01T17:05:00.000000000",
          "2024-01-01T17:06:00.000000000",
          "2024-01-01T17:07:00.000000000",
          "2024-01-01T17:08:00.000000000",
          "2024-01-01T17:09:00.000000000",
          "2024-01-01T17:10:00.000000000",
          "2024-01-01T17:11:00.000000000",
          "2024-01-01T17:12:00.000000000",
          "2024-01-01T17:13:00.000000000",
          "2024-01-01T17:14:00.000000000",
          "2024-01-01T17:15:00.000000000",
          "2024-01-01T17:16:00.000000000",
          "2024-01-01T17:17:00.000000000",
          "2024-01-01T17:18:00.000000000",
          "2024-01-01T17:19:00.000000000",
          "2024-01-01T17:20:00.000000000",
          "2024-01-01T17:21:00.000000000",
          "2024-01-01T17:22:00.000000000",
          "2024-01-01T17:23:00.000000000",
          "2024-01-01T17:24:00.000000000",
          "2024-01-01T17:25:00.000000000",
          "2024-01-01T17:26:00.000000000",
          "2024-01-01T17:27:00.000000000",
          "2024-01-01T17:28:00.000000000",
          "2024-01-01T17:29:00.000000000",
          "2024-01-01T17:30:00.000000000",
          "2024-01-01T17:31:00.000000000",
          "2024-01-01T17:32:00.000000000",
          "2024-01-01T17:33:00.000000000",
          "2024-01-01T17:34:00.000000000",
          "2024-01-01T17:35:00.000000000",
          "2024-01-01T17:36:00.000000000",
          "2024-01-01T17:37:00.000000000",
          "2024-01-01T17:38:00.000000000",
          "2024-01-01T17:39:00.000000000",
          "2024-01-01T17:40:00.000000000",
          "2024-01-01T17:41:00.000000000",
          "2024-01-01T17:42:00.000000000",
          "2024-01-01T17:43:00.000000000",
          "2024-01-01T17:44:00.000000000",
          "2024-01-01T17:45:00.000000000",
          "2024-01-01T17:46:00.000000000",
          "2024-01-01T17:47:00.000000000",
          "2024-01-01T17:48:00.000000000",
          "2024-01-01T17:49:00.000000000",
          "2024-01-01T17:50:00.000000000",
          "2024-01-01T17:51:00.000000000",
          "2024-01-01T17:52:00.000000000",
          "2024-01-01T17:53:00.000000000",
          "2024-01-01T17:54:00.000000000",
          "2024-01-01T17:55:00.000000000",
          "2024-01-01T17:56:00.000000000",
          "2024-01-01T17:57:00.000000000",
          "2024-01-01T17:58:00.000000000",
          "2024-01-01T17:59:00.000000000",
          "2024-01-01T18:00:00.000000000",
          "2024-01-01T18:01:00.000000000",
          "2024-01-01T18:02:00.000000000",
          "2024-01-01T18:03:00.000000000",
          "2024-01-01T18:04:00.000000000",
          "2024-01-01T18:05:00.000000000",
          "2024-01-01T18:06:00.000000000",
          "2024-01-01T18:07:00.000000000",
          "2024-01-01T18:08:00.000000000",
          "2024-01-01T18:09:00.000000000",
          "2024-01-01T18:10:00.000000000",
          "2024-01-01T18:11:00.000000000",
          "2024-01-01T18:12:00.000000000",
          "2024-01-01T18:13:00.000000000",
          "2024-01-01T18:14:00.000000000",
          "2024-01-01T18:15:00.000000000",
          "2024-01-01T18:16:00.000000000",
          "2024-01-01T18:17:00.000000000",
          "2024-01-01T18:18:00.000000000",
          "2024-01-01T18:19:00.000000000",
          "2024-01-01T18:20:00.000000000",
          "2024-01-01T18:21:00.000000000",
          "2024-01-01T18:22:00.000000000",
          "2024-01-01T18:23:00.000000000",
          "2024-01-01T18:24:00.000000000",
          "2024-01-01T18:25:00.000000000",
          "2024-01-01T18:26:00.000000000",
          "2024-01-01T18:27:00.000000000",
          "2024-01-01T18:28:00.000000000",
          "2024-01-01T18:29:00.000000000",
          "2024-01-01T18:30:00.000000000",
          "2024-01-01T18:31:00.000000000",
          "2024-01-01T18:32:00.000000000",
          "2024-01-01T18:33:00.000000000",
          "2024-01-01T18:34:00.000000000",
          "2024-01-01T18:35:00.000000000",
          "2024-01-01T18:36:00.000000000",
          "2024-01-01T18:37:00.000000000",
          "2024-01-01T18:38:00.000000000",
          "2024-01-01T18:39:00.000000000",
          "2024-01-01T18:40:00.000000000",
          "2024-01-01T18:41:00.000000000",
          "2024-01-01T18:42:00.000000000",
          "2024-01-01T18:43:00.000000000",
          "2024-01-01T18:44:00.000000000",
          "2024-01-01T18:45:00.000000000",
          "2024-01-01T18:46:00.000000000",
          "2024-01-01T18:47:00.000000000",
          "2024-01-01T18:48:00.000000000",
          "2024-01-01T18:49:00.000000000",
          "2024-01-01T18:50:00.000000000",
          "2024-01-01T18:51:00.000000000",
          "2024-01-01T18:52:00.000000000",
          "2024-01-01T18:53:00.000000000",
          "2024-01-01T18:54:00.000000000",
          "2024-01-01T18:55:00.000000000",
          "2024-01-01T18:56:00.000000000",
          "2024-01-01T18:57:00.000000000",
          "2024-01-01T18:58:00.000000000",
          "2024-01-01T18:59:00.000000000",
          "2024-01-01T19:00:00.000000000",
          "2024-01-01T19:01:00.000000000",
          "2024-01-01T19:02:00.000000000",
          "2024-01-01T19:03:00.000000000",
          "2024-01-01T19:04:00.000000000",
          "2024-01-01T19:05:00.000000000",
          "2024-01-01T19:06:00.000000000",
          "2024-01-01T19:07:00.000000000",
          "2024-01-01T19:08:00.000000000",
          "2024-01-01T19:09:00.000000000",
          "2024-01-01T19:10:00.000000000",
          "2024-01-01T19:11:00.000000000",
          "2024-01-01T19:12:00.000000000",
          "2024-01-01T19:13:00.000000000",
          "2024-01-01T19:14:00.000000000",
          "2024-01-01T19:15:00.000000000",
          "2024-01-01T19:16:00.000000000",
          "2024-01-01T19:17:00.000000000",
          "2024-01-01T19:18:00.000000000",
          "2024-01-01T19:19:00.000000000",
          "2024-01-01T19:20:00.000000000",
          "2024-01-01T19:21:00.000000000",
          "2024-01-01T19:22:00.000000000",
          "2024-01-01T19:23:00.000000000",
          "2024-01-01T19:24:00.000000000",
          "2024-01-01T19:25:00.000000000",
          "2024-01-01T19:26:00.000000000",
          "2024-01-01T19:27:00.000000000",
          "2024-01-01T19:28:00.000000000",
          "2024-01-01T19:29:00.000000000",
          "2024-01-01T19:30:00.000000000",
          "2024-01-01T19:31:00.000000000",
          "2024-01-01T19:32:00.000000000",
          "2024-01-01T19:33:00.000000000",
          "2024-01-01T19:34:00.000000000",
          "2024-01-01T19:35:00.000000000",
          "2024-01-01T19:36:00.000000000",
          "2024-01-01T19:37:00.000000000",
          "2024-01-01T19:38:00.000000000",
          "2024-01-01T19:39:00.000000000",
          "2024-01-01T19:40:00.000000000",
          "2024-01-01T19:41:00.000000000",
          "2024-01-01T19:42:00.000000000",
          "2024-01-01T19:43:00.000000000",
          "2024-01-01T19:44:00.000000000",
          "2024-01-01T19:45:00.000000000",
          "2024-01-01T19:46:00.000000000",
          "2024-01-01T19:47:00.000000000",
          "2024-01-01T19:48:00.000000000",
          "2024-01-01T19:49:00.000000000",
          "2024-01-01T19:50:00.000000000",
          "2024-01-01T19:51:00.000000000",
          "2024-01-01T19:52:00.000000000",
          "2024-01-01T19:53:00.000000000",
          "2024-01-01T19:54:00.000000000",
          "2024-01-01T19:55:00.000000000",
          "2024-01-01T19:56:00.000000000",
          "2024-01-01T19:57:00.000000000",
          "2024-01-01T19:58:00.000000000",
          "2024-01-01T19:59:00.000000000",
          "2024-01-01T20:00:00.000000000",
          "2024-01-01T20:01:00.000000000",
          "2024-01-01T20:02:00.000000000",
          "2024-01-01T20:03:00.000000000",
          "2024-01-01T20:04:00.000000000",
          "2024-01-01T20:05:00.000000000",
          "2024-01-01T20:06:00.000000000",
          "2024-01-01T20:07:00.000000000",
          "2024-01-01T20:08:00.000000000",
          "2024-01-01T20:09:00.000000000",
          "2024-01-01T20:10:00.000000000",
          "2024-01-01T20:11:00.000000000",
          "2024-01-01T20:12:00.000000000",
          "2024-01-01T20:13:00.000000000",
          "2024-01-01T20:14:00.000000000",
          "2024-01-01T20:15:00.000000000",
          "2024-01-01T20:16:00.000000000",
          "2024-01-01T20:17:00.000000000",
          "2024-01-01T20:18:00.000000000",
          "2024-01-01T20:19:00.000000000",
          "2024-01-01T20:20:00.000000000",
          "2024-01-01T20:21:00.000000000",
          "2024-01-01T20:22:00.000000000",
          "2024-01-01T20:23:00.000000000",
          "2024-01-01T20:24:00.000000000",
          "2024-01-01T20:25:00.000000000",
          "2024-01-01T20:26:00.000000000",
          "2024-01-01T20:27:00.000000000",
          "2024-01-01T20:28:00.000000000",
          "2024-01-01T20:29:00.000000000",
          "2024-01-01T20:30:00.000000000",
          "2024-01-01T20:31:00.000000000",
          "2024-01-01T20:32:00.000000000",
          "2024-01-01T20:33:00.000000000",
          "2024-01-01T20:34:00.000000000",
          "2024-01-01T20:35:00.000000000",
          "2024-01-01T20:36:00.000000000",
          "2024-01-01T20:37:00.000000000",
          "2024-01-01T20:38:00.000000000",
          "2024-01-01T20:39:00.000000000",
          "2024-01-01T20:40:00.000000000",
          "2024-01-01T20:41:00.000000000",
          "2024-01-01T20:42:00.000000000",
          "2024-01-01T20:43:00.000000000",
          "2024-01-01T20:44:00.000000000",
          "2024-01-01T20:45:00.000000000",
          "2024-01-01T20:46:00.000000000",
          "2024-01-01T20:47:00.000000000",
          "2024-01-01T20:48:00.000000000",
          "2024-01-01T20:49:00.000000000",
          "2024-01-01T20:50:00.000000000",
          "2024-01-01T20:51:00.000000000",
          "2024-01-01T20:52:00.000000000",
          "2024-01-01T20:53:00.000000000",
          "2024-01-01T20:54:00.000000000",
          "2024-01-01T20:55:00.000000000",
          "2024-01-01T20:56:00.000000000",
          "2024-01-01T20:57:00.000000000",
          "2024-01-01T20:58:00.000000000",
          "2024-01-01T20:59:00.000000000",
          "2024-01-01T21:00:00.000000000",
          "2024-01-01T21:01:00.000000000",
          "2024-01-01T21:02:00.000000000",
          "2024-01-01T21:03:00.000000000",
          "2024-01-01T21:04:00.000000000",
          "2024-01-01T21:05:00.000000000",
          "2024-01-01T21:06:00.000000000",
          "2024-01-01T21:07:00.000000000",
          "2024-01-01T21:08:00.000000000",
          "2024-01-01T21:09:00.000000000",
          "2024-01-01T21:10:00.000000000",
          "2024-01-01T21:11:00.000000000",
          "2024-01-01T21:12:00.000000000",
          "2024-01-01T21:13:00.000000000",
          "2024-01-01T21:14:00.000000000",
          "2024-01-01T21:15:00.000000000",
          "2024-01-01T21:16:00.000000000",
          "2024-01-01T21:17:00.000000000",
          "2024-01-01T21:18:00.000000000",
          "2024-01-01T21:19:00.000000000",
          "2024-01-01T21:20:00.000000000",
          "2024-01-01T21:21:00.000000000",
          "2024-01-01T21:22:00.000000000",
          "2024-01-01T21:23:00.000000000",
          "2024-01-01T21:24:00.000000000",
          "2024-01-01T21:25:00.000000000",
          "2024-01-01T21:26:00.000000000",
          "2024-01-01T21:27:00.000000000",
          "2024-01-01T21:28:00.000000000",
          "2024-01-01T21:29:00.000000000",
          "2024-01-01T21:30:00.000000000",
          "2024-01-01T21:31:00.000000000",
          "2024-01-01T21:32:00.000000000",
          "2024-01-01T21:33:00.000000000",
          "2024-01-01T21:34:00.000000000",
          "2024-01-01T21:35:00.000000000",
          "2024-01-01T21:36:00.000000000",
          "2024-01-01T21:37:00.000000000",
          "2024-01-01T21:38:00.000000000",
          "2024-01-01T21:39:00.000000000",
          "2024-01-01T21:40:00.000000000",
          "2024-01-01T21:41:00.000000000",
          "2024-01-01T21:42:00.000000000",
          "2024-01-01T21:43:00.000000000",
          "2024-01-01T21:44:00.000000000",
          "2024-01-01T21:45:00.000000000",
          "2024-01-01T21:46:00.000000000",
          "2024-01-01T21:47:00.000000000",
          "2024-01-01T21:48:00.000000000",
          "2024-01-01T21:49:00.000000000",
          "2024-01-01T21:50:00.000000000",
          "2024-01-01T21:51:00.000000000",
          "2024-01-01T21:52:00.000000000",
          "2024-01-01T21:53:00.000000000",
          "2024-01-01T21:54:00.000000000",
          "2024-01-01T21:55:00.000000000",
          "2024-01-01T21:56:00.000000000",
          "2024-01-01T21:57:00.000000000",
          "2024-01-01T21:58:00.000000000",
          "2024-01-01T21:59:00.000000000",
          "2024-01-01T22:00:00.000000000",
          "2024-01-01T22:01:00.000000000",
          "2024-01-01T22:02:00.000000000",
          "2024-01-01T22:03:00.000000000",
          "2024-01-01T22:04:00.000000000",
          "2024-01-01T22:05:00.000000000",
          "2024-01-01T22:06:00.000000000",
          "2024-01-01T22:07:00.000000000",
          "2024-01-01T22:08:00.000000000",
          "2024-01-01T22:09:00.000000000",
          "2024-01-01T22:10:00.000000000",
          "2024-01-01T22:11:00.000000000",
          "2024-01-01T22:12:00.000000000",
          "2024-01-01T22:13:00.000000000",
          "2024-01-01T22:14:00.000000000",
          "2024-01-01T22:15:00.000000000",
          "2024-01-01T22:16:00.000000000",
          "2024-01-01T22:17:00.000000000",
          "2024-01-01T22:18:00.000000000",
          "2024-01-01T22:19:00.000000000",
          "2024-01-01T22:20:00.000000000",
          "2024-01-01T22:21:00.000000000",
          "2024-01-01T22:22:00.000000000",
          "2024-01-01T22:23:00.000000000",
          "2024-01-01T22:24:00.000000000",
          "2024-01-01T22:25:00.000000000",
          "2024-01-01T22:26:00.000000000",
          "2024-01-01T22:27:00.000000000",
          "2024-01-01T22:28:00.000000000",
          "2024-01-01T22:29:00.000000000",
          "2024-01-01T22:30:00.000000000",
          "2024-01-01T22:31:00.000000000",
          "2024-01-01T22:32:00.000000000",
          "2024-01-01T22:33:00.000000000",
          "2024-01-01T22:34:00.000000000",
          "2024-01-01T22:35:00.000000000",
          "2024-01-01T22:36:00.000000000",
          "2024-01-01T22:37:00.000000000",
          "2024-01-01T22:38:00.000000000",
          "2024-01-01T22:39:00.000000000",
          "2024-01-01T22:40:00.000000000",
          "2024-01-01T22:41:00.000000000",
          "2024-01-01T22:42:00.000000000",
          "2024-01-01T22:43:00.000000000",
          "2024-01-01T22:44:00.000000000",
          "2024-01-01T22:45:00.000000000",
          "2024-01-01T22:46:00.000000000",
          "2024-01-01T22:47:00.000000000",
          "2024-01-01T22:48:00.000000000",
          "2024-01-01T22:49:00.000000000",
          "2024-01-01T22:50:00.000000000",
          "2024-01-01T22:51:00.000000000",
          "2024-01-01T22:52:00.000000000",
          "2024-01-01T22:53:00.000000000",
          "2024-01-01T22:54:00.000000000",
          "2024-01-01T22:55:00.000000000",
          "2024-01-01T22:56:00.000000000",
          "2024-01-01T22:57:00.000000000",
          "2024-01-01T22:58:00.000000000",
          "2024-01-01T22:59:00.000000000",
          "2024-01-01T23:00:00.000000000",
          "2024-01-01T23:01:00.000000000",
          "2024-01-01T23:02:00.000000000",
          "2024-01-01T23:03:00.000000000",
          "2024-01-01T23:04:00.000000000",
          "2024-01-01T23:05:00.000000000",
          "2024-01-01T23:06:00.000000000",
          "2024-01-01T23:07:00.000000000",
          "2024-01-01T23:08:00.000000000",
          "2024-01-01T23:09:00.000000000",
          "2024-01-01T23:10:00.000000000",
          "2024-01-01T23:11:00.000000000",
          "2024-01-01T23:12:00.000000000",
          "2024-01-01T23:13:00.000000000",
          "2024-01-01T23:14:00.000000000",
          "2024-01-01T23:15:00.000000000",
          "2024-01-01T23:16:00.000000000",
          "2024-01-01T23:17:00.000000000",
          "2024-01-01T23:18:00.000000000",
          "2024-01-01T23:19:00.000000000",
          "2024-01-01T23:20:00.000000000",
          "2024-01-01T23:21:00.000000000",
          "2024-01-01T23:22:00.000000000",
          "2024-01-01T23:23:00.000000000",
          "2024-01-01T23:24:00.000000000",
          "2024-01-01T23:25:00.000000000",
          "2024-01-01T23:26:00.000000000",
          "2024-01-01T23:27:00.000000000",
          "2024-01-01T23:28:00.000000000",
          "2024-01-01T23:29:00.000000000",
          "2024-01-01T23:30:00.000000000",
          "2024-01-01T23:31:00.000000000",
          "2024-01-01T23:32:00.000000000",
          "2024-01-01T23:33:00.000000000",
          "2024-01-01T23:34:00.000000000",
          "2024-01-01T23:35:00.000000000",
          "2024-01-01T23:36:00.000000000",
          "2024-01-01T23:37:00.000000000",
          "2024-01-01T23:38:00.000000000",
          "2024-01-01T23:39:00.000000000",
          "2024-01-01T23:40:00.000000000",
          "2024-01-01T23:41:00.000000000",
          "2024-01-01T23:42:00.000000000",
          "2024-01-01T23:43:00.000000000",
          "2024-01-01T23:44:00.000000000",
          "2024-01-01T23:45:00.000000000",
          "2024-01-01T23:46:00.000000000",
          "2024-01-01T23:47:00.000000000",
          "2024-01-01T23:48:00.000000000",
          "2024-01-01T23:49:00.000000000",
          "2024-01-01T23:50:00.000000000",
          "2024-01-01T23:51:00.000000000",
          "2024-01-01T23:52:00.000000000",
          "2024-01-01T23:53:00.000000000",
          "2024-01-01T23:54:00.000000000",
          "2024-01-01T23:55:00.000000000",
          "2024-01-01T23:56:00.000000000",
          "2024-01-01T23:57:00.000000000",
          "2024-01-01T23:58:00.000000000",
          "2024-01-01T23:59:00.000000000"
         ],
         "xaxis": "x3",
         "y": {
          "bdata": "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",
          "dtype": "i4"
         },
         "yaxis": "y3"
        },
        {
         "delta": {
          "reference": 85
         },
         "domain": {
          "x": [
           0.7111111111111111,
           1
          ],
          "y": [
           0,
           0.375
          ]
         },
         "mode": "number+delta",
         "title": {
          "text": "Health Score"
         },
         "type": "indicator",
         "value": 70.55550886114199
        }
       ],
       "layout": {
        "annotations": [
         {
          "font": {
           "size": 16
          },
          "showarrow": false,
          "text": "CPU Usage",
          "x": 0.14444444444444446,
          "xanchor": "center",
          "xref": "paper",
          "y": 1,
          "yanchor": "bottom",
          "yref": "paper"
         },
         {
          "font": {
           "size": 16
          },
          "showarrow": false,
          "text": "Memory Usage",
          "x": 0.5,
          "xanchor": "center",
          "xref": "paper",
          "y": 1,
          "yanchor": "bottom",
          "yref": "paper"
         },
         {
          "font": {
           "size": 16
          },
          "showarrow": false,
          "text": "Response Time",
          "x": 0.8555555555555556,
          "xanchor": "center",
          "xref": "paper",
          "y": 1,
          "yanchor": "bottom",
          "yref": "paper"
         },
         {
          "font": {
           "size": 16
          },
          "showarrow": false,
          "text": "Error Rate",
          "x": 0.14444444444444446,
          "xanchor": "center",
          "xref": "paper",
          "y": 0.375,
          "yanchor": "bottom",
          "yref": "paper"
         },
         {
          "font": {
           "size": 16
          },
          "showarrow": false,
          "text": "Request Rate",
          "x": 0.5,
          "xanchor": "center",
          "xref": "paper",
          "y": 0.375,
          "yanchor": "bottom",
          "yref": "paper"
         },
         {
          "font": {
           "size": 16
          },
          "showarrow": false,
          "text": "System Health",
          "x": 0.8555555555555556,
          "xanchor": "center",
          "xref": "paper",
          "y": 0.375,
          "yanchor": "bottom",
          "yref": "paper"
         }
        ],
        "height": 600,
        "showlegend": false,
        "template": {
         "data": {
          "bar": [
           {
            "error_x": {
             "color": "#2a3f5f"
            },
            "error_y": {
             "color": "#2a3f5f"
            },
            "marker": {
             "line": {
              "color": "#E5ECF6",
              "width": 0.5
             },
             "pattern": {
              "fillmode": "overlay",
              "size": 10,
              "solidity": 0.2
             }
            },
            "type": "bar"
           }
          ],
          "barpolar": [
           {
            "marker": {
             "line": {
              "color": "#E5ECF6",
              "width": 0.5
             },
             "pattern": {
              "fillmode": "overlay",
              "size": 10,
              "solidity": 0.2
             }
            },
            "type": "barpolar"
           }
          ],
          "carpet": [
           {
            "aaxis": {
             "endlinecolor": "#2a3f5f",
             "gridcolor": "white",
             "linecolor": "white",
             "minorgridcolor": "white",
             "startlinecolor": "#2a3f5f"
            },
            "baxis": {
             "endlinecolor": "#2a3f5f",
             "gridcolor": "white",
             "linecolor": "white",
             "minorgridcolor": "white",
             "startlinecolor": "#2a3f5f"
            },
            "type": "carpet"
           }
          ],
          "choropleth": [
           {
            "colorbar": {
             "outlinewidth": 0,
             "ticks": ""
            },
            "type": "choropleth"
           }
          ],
          "contour": [
           {
            "colorbar": {
             "outlinewidth": 0,
             "ticks": ""
            },
            "colorscale": [
             [
              0,
              "#0d0887"
             ],
             [
              0.1111111111111111,
              "#46039f"
             ],
             [
              0.2222222222222222,
              "#7201a8"
             ],
             [
              0.3333333333333333,
              "#9c179e"
             ],
             [
              0.4444444444444444,
              "#bd3786"
             ],
             [
              0.5555555555555556,
              "#d8576b"
             ],
             [
              0.6666666666666666,
              "#ed7953"
             ],
             [
              0.7777777777777778,
              "#fb9f3a"
             ],
             [
              0.8888888888888888,
              "#fdca26"
             ],
             [
              1,
              "#f0f921"
             ]
            ],
            "type": "contour"
           }
          ],
          "contourcarpet": [
           {
            "colorbar": {
             "outlinewidth": 0,
             "ticks": ""
            },
            "type": "contourcarpet"
           }
          ],
          "heatmap": [
           {
            "colorbar": {
             "outlinewidth": 0,
             "ticks": ""
            },
            "colorscale": [
             [
              0,
              "#0d0887"
             ],
             [
              0.1111111111111111,
              "#46039f"
             ],
             [
              0.2222222222222222,
              "#7201a8"
             ],
             [
              0.3333333333333333,
              "#9c179e"
             ],
             [
              0.4444444444444444,
              "#bd3786"
             ],
             [
              0.5555555555555556,
              "#d8576b"
             ],
             [
              0.6666666666666666,
              "#ed7953"
             ],
             [
              0.7777777777777778,
              "#fb9f3a"
             ],
             [
              0.8888888888888888,
              "#fdca26"
             ],
             [
              1,
              "#f0f921"
             ]
            ],
            "type": "heatmap"
           }
          ],
          "histogram": [
           {
            "marker": {
             "pattern": {
              "fillmode": "overlay",
              "size": 10,
              "solidity": 0.2
             }
            },
            "type": "histogram"
           }
          ],
          "histogram2d": [
           {
            "colorbar": {
             "outlinewidth": 0,
             "ticks": ""
            },
            "colorscale": [
             [
              0,
              "#0d0887"
             ],
             [
              0.1111111111111111,
              "#46039f"
             ],
             [
              0.2222222222222222,
              "#7201a8"
             ],
             [
              0.3333333333333333,
              "#9c179e"
             ],
             [
              0.4444444444444444,
              "#bd3786"
             ],
             [
              0.5555555555555556,
              "#d8576b"
             ],
             [
              0.6666666666666666,
              "#ed7953"
             ],
             [
              0.7777777777777778,
              "#fb9f3a"
             ],
             [
              0.8888888888888888,
              "#fdca26"
             ],
             [
              1,
              "#f0f921"
             ]
            ],
            "type": "histogram2d"
           }
          ],
          "histogram2dcontour": [
           {
            "colorbar": {
             "outlinewidth": 0,
             "ticks": ""
            },
            "colorscale": [
             [
              0,
              "#0d0887"
             ],
             [
              0.1111111111111111,
              "#46039f"
             ],
             [
              0.2222222222222222,
              "#7201a8"
             ],
             [
              0.3333333333333333,
              "#9c179e"
             ],
             [
              0.4444444444444444,
              "#bd3786"
             ],
             [
              0.5555555555555556,
              "#d8576b"
             ],
             [
              0.6666666666666666,
              "#ed7953"
             ],
             [
              0.7777777777777778,
              "#fb9f3a"
             ],
             [
              0.8888888888888888,
              "#fdca26"
             ],
             [
              1,
              "#f0f921"
             ]
            ],
            "type": "histogram2dcontour"
           }
          ],
          "mesh3d": [
           {
            "colorbar": {
             "outlinewidth": 0,
             "ticks": ""
            },
            "type": "mesh3d"
           }
          ],
          "parcoords": [
           {
            "line": {
             "colorbar": {
              "outlinewidth": 0,
              "ticks": ""
             }
            },
            "type": "parcoords"
           }
          ],
          "pie": [
           {
            "automargin": true,
            "type": "pie"
           }
          ],
          "scatter": [
           {
            "fillpattern": {
             "fillmode": "overlay",
             "size": 10,
             "solidity": 0.2
            },
            "type": "scatter"
           }
          ],
          "scatter3d": [
           {
            "line": {
             "colorbar": {
              "outlinewidth": 0,
              "ticks": ""
             }
            },
            "marker": {
             "colorbar": {
              "outlinewidth": 0,
              "ticks": ""
             }
            },
            "type": "scatter3d"
           }
          ],
          "scattercarpet": [
           {
            "marker": {
             "colorbar": {
              "outlinewidth": 0,
              "ticks": ""
             }
            },
            "type": "scattercarpet"
           }
          ],
          "scattergeo": [
           {
            "marker": {
             "colorbar": {
              "outlinewidth": 0,
              "ticks": ""
             }
            },
            "type": "scattergeo"
           }
          ],
          "scattergl": [
           {
            "marker": {
             "colorbar": {
              "outlinewidth": 0,
              "ticks": ""
             }
            },
            "type": "scattergl"
           }
          ],
          "scattermap": [
           {
            "marker": {
             "colorbar": {
              "outlinewidth": 0,
              "ticks": ""
             }
            },
            "type": "scattermap"
           }
          ],
          "scattermapbox": [
           {
            "marker": {
             "colorbar": {
              "outlinewidth": 0,
              "ticks": ""
             }
            },
            "type": "scattermapbox"
           }
          ],
          "scatterpolar": [
           {
            "marker": {
             "colorbar": {
              "outlinewidth": 0,
              "ticks": ""
             }
            },
            "type": "scatterpolar"
           }
          ],
          "scatterpolargl": [
           {
            "marker": {
             "colorbar": {
              "outlinewidth": 0,
              "ticks": ""
             }
            },
            "type": "scatterpolargl"
           }
          ],
          "scatterternary": [
           {
            "marker": {
             "colorbar": {
              "outlinewidth": 0,
              "ticks": ""
             }
            },
            "type": "scatterternary"
           }
          ],
          "surface": [
           {
            "colorbar": {
             "outlinewidth": 0,
             "ticks": ""
            },
            "colorscale": [
             [
              0,
              "#0d0887"
             ],
             [
              0.1111111111111111,
              "#46039f"
             ],
             [
              0.2222222222222222,
              "#7201a8"
             ],
             [
              0.3333333333333333,
              "#9c179e"
             ],
             [
              0.4444444444444444,
              "#bd3786"
             ],
             [
              0.5555555555555556,
              "#d8576b"
             ],
             [
              0.6666666666666666,
              "#ed7953"
             ],
             [
              0.7777777777777778,
              "#fb9f3a"
             ],
             [
              0.8888888888888888,
              "#fdca26"
             ],
             [
              1,
              "#f0f921"
             ]
            ],
            "type": "surface"
           }
          ],
          "table": [
           {
            "cells": {
             "fill": {
              "color": "#EBF0F8"
             },
             "line": {
              "color": "white"
             }
            },
            "header": {
             "fill": {
              "color": "#C8D4E3"
             },
             "line": {
              "color": "white"
             }
            },
            "type": "table"
           }
          ]
         },
         "layout": {
          "annotationdefaults": {
           "arrowcolor": "#2a3f5f",
           "arrowhead": 0,
           "arrowwidth": 1
          },
          "autotypenumbers": "strict",
          "coloraxis": {
           "colorbar": {
            "outlinewidth": 0,
            "ticks": ""
           }
          },
          "colorscale": {
           "diverging": [
            [
             0,
             "#8e0152"
            ],
            [
             0.1,
             "#c51b7d"
            ],
            [
             0.2,
             "#de77ae"
            ],
            [
             0.3,
             "#f1b6da"
            ],
            [
             0.4,
             "#fde0ef"
            ],
            [
             0.5,
             "#f7f7f7"
            ],
            [
             0.6,
             "#e6f5d0"
            ],
            [
             0.7,
             "#b8e186"
            ],
            [
             0.8,
             "#7fbc41"
            ],
            [
             0.9,
             "#4d9221"
            ],
            [
             1,
             "#276419"
            ]
           ],
           "sequential": [
            [
             0,
             "#0d0887"
            ],
            [
             0.1111111111111111,
             "#46039f"
            ],
            [
             0.2222222222222222,
             "#7201a8"
            ],
            [
             0.3333333333333333,
             "#9c179e"
            ],
            [
             0.4444444444444444,
             "#bd3786"
            ],
            [
             0.5555555555555556,
             "#d8576b"
            ],
            [
             0.6666666666666666,
             "#ed7953"
            ],
            [
             0.7777777777777778,
             "#fb9f3a"
            ],
            [
             0.8888888888888888,
             "#fdca26"
            ],
            [
             1,
             "#f0f921"
            ]
           ],
           "sequentialminus": [
            [
             0,
             "#0d0887"
            ],
            [
             0.1111111111111111,
             "#46039f"
            ],
            [
             0.2222222222222222,
             "#7201a8"
            ],
            [
             0.3333333333333333,
             "#9c179e"
            ],
            [
             0.4444444444444444,
             "#bd3786"
            ],
            [
             0.5555555555555556,
             "#d8576b"
            ],
            [
             0.6666666666666666,
             "#ed7953"
            ],
            [
             0.7777777777777778,
             "#fb9f3a"
            ],
            [
             0.8888888888888888,
             "#fdca26"
            ],
            [
             1,
             "#f0f921"
            ]
           ]
          },
          "colorway": [
           "#636efa",
           "#EF553B",
           "#00cc96",
           "#ab63fa",
           "#FFA15A",
           "#19d3f3",
           "#FF6692",
           "#B6E880",
           "#FF97FF",
           "#FECB52"
          ],
          "font": {
           "color": "#2a3f5f"
          },
          "geo": {
           "bgcolor": "white",
           "lakecolor": "white",
           "landcolor": "#E5ECF6",
           "showlakes": true,
           "showland": true,
           "subunitcolor": "white"
          },
          "hoverlabel": {
           "align": "left"
          },
          "hovermode": "closest",
          "mapbox": {
           "style": "light"
          },
          "paper_bgcolor": "white",
          "plot_bgcolor": "#E5ECF6",
          "polar": {
           "angularaxis": {
            "gridcolor": "white",
            "linecolor": "white",
            "ticks": ""
           },
           "bgcolor": "#E5ECF6",
           "radialaxis": {
            "gridcolor": "white",
            "linecolor": "white",
            "ticks": ""
           }
          },
          "scene": {
           "xaxis": {
            "backgroundcolor": "#E5ECF6",
            "gridcolor": "white",
            "gridwidth": 2,
            "linecolor": "white",
            "showbackground": true,
            "ticks": "",
            "zerolinecolor": "white"
           },
           "yaxis": {
            "backgroundcolor": "#E5ECF6",
            "gridcolor": "white",
            "gridwidth": 2,
            "linecolor": "white",
            "showbackground": true,
            "ticks": "",
            "zerolinecolor": "white"
           },
           "zaxis": {
            "backgroundcolor": "#E5ECF6",
            "gridcolor": "white",
            "gridwidth": 2,
            "linecolor": "white",
            "showbackground": true,
            "ticks": "",
            "zerolinecolor": "white"
           }
          },
          "shapedefaults": {
           "line": {
            "color": "#2a3f5f"
           }
          },
          "ternary": {
           "aaxis": {
            "gridcolor": "white",
            "linecolor": "white",
            "ticks": ""
           },
           "baxis": {
            "gridcolor": "white",
            "linecolor": "white",
            "ticks": ""
           },
           "bgcolor": "#E5ECF6",
           "caxis": {
            "gridcolor": "white",
            "linecolor": "white",
            "ticks": ""
           }
          },
          "title": {
           "x": 0.05
          },
          "xaxis": {
           "automargin": true,
           "gridcolor": "white",
           "linecolor": "white",
           "ticks": "",
           "title": {
            "standoff": 15
           },
           "zerolinecolor": "white",
           "zerolinewidth": 2
          },
          "yaxis": {
           "automargin": true,
           "gridcolor": "white",
           "linecolor": "white",
           "ticks": "",
           "title": {
            "standoff": 15
           },
           "zerolinecolor": "white",
           "zerolinewidth": 2
          }
         }
        },
        "title": {
         "text": "System Monitoring Dashboard"
        },
        "xaxis": {
         "anchor": "y",
         "domain": [
          0.7111111111111111,
          1
         ]
        },
        "xaxis2": {
         "anchor": "y2",
         "domain": [
          0,
          0.2888888888888889
         ]
        },
        "xaxis3": {
         "anchor": "y3",
         "domain": [
          0.35555555555555557,
          0.6444444444444445
         ]
        },
        "yaxis": {
         "anchor": "x",
         "domain": [
          0.625,
          1
         ]
        },
        "yaxis2": {
         "anchor": "x2",
         "domain": [
          0,
          0.375
         ]
        },
        "yaxis3": {
         "anchor": "x3",
         "domain": [
          0,
          0.375
         ]
        }
       }
      },
      "image/png": "[encoded data removed]"
     },
     "metadata": {},
     "output_type": "display_data"
    }
   ],
   "source": [
    "# Create monitoring dashboard layout\n",
    "def create_monitoring_dashboard(data):\n",
    "    \"\"\"Create a monitoring dashboard with key metrics and alerts\"\"\"\n",
    "    \n",
    "    # Create subplots\n",
    "    fig = make_subplots(\n",
    "        rows=2, cols=3,\n",
    "        subplot_titles=(\n",
    "            'CPU Usage', 'Memory Usage', 'Response Time',\n",
    "            'Error Rate', 'Request Rate', 'System Health'\n",
    "        ),\n",
    "        specs=[\n",
    "            [{'type': 'indicator'}, {'type': 'indicator'}, {'type': 'scatter'}],\n",
    "            [{'type': 'scatter'}, {'type': 'scatter'}, {'type': 'indicator'}]\n",
    "        ]\n",
    "    )\n",
    "    \n",
    "    latest = data.iloc[-1]\n",
    "    \n",
    "    # CPU Gauge\n",
    "    fig.add_trace(\n",
    "        go.Indicator(\n",
    "            mode=\"gauge+number\",\n",
    "            value=latest['cpu_usage'],\n",
    "            title={'text': 'CPU %'},\n",
    "            gauge={'axis': {'range': [0, 100]},\n",
    "                   'bar': {'color': 'darkblue'},\n",
    "                   'steps': [\n",
    "                       {'range': [0, 50], 'color': 'lightgray'},\n",
    "                       {'range': [50, 80], 'color': 'yellow'},\n",
    "                       {'range': [80, 100], 'color': 'red'}]}\n",
    "        ),\n",
    "        row=1, col=1\n",
    "    )\n",
    "    \n",
    "    # Memory Gauge\n",
    "    fig.add_trace(\n",
    "        go.Indicator(\n",
    "            mode=\"gauge+number\",\n",
    "            value=latest['memory_usage'],\n",
    "            title={'text': 'Memory %'},\n",
    "            gauge={'axis': {'range': [0, 100]},\n",
    "                   'bar': {'color': 'darkgreen'}}\n",
    "        ),\n",
    "        row=1, col=2\n",
    "    )\n",
    "    \n",
    "    # Response Time\n",
    "    fig.add_trace(\n",
    "        go.Scatter(\n",
    "            x=data['timestamp'],\n",
    "            y=data['response_time'],\n",
    "            mode='lines',\n",
    "            name='Response Time'\n",
    "        ),\n",
    "        row=1, col=3\n",
    "    )\n",
    "    \n",
    "    # Error Rate\n",
    "    fig.add_trace(\n",
    "        go.Scatter(\n",
    "            x=data['timestamp'],\n",
    "            y=data['error_rate'] * 100,\n",
    "            mode='lines',\n",
    "            name='Error Rate',\n",
    "            line=dict(color='red')\n",
    "        ),\n",
    "        row=2, col=1\n",
    "    )\n",
    "    \n",
    "    # Request Rate\n",
    "    fig.add_trace(\n",
    "        go.Scatter(\n",
    "            x=data['timestamp'],\n",
    "            y=data['requests_per_sec'],\n",
    "            mode='lines',\n",
    "            name='Requests/sec',\n",
    "            line=dict(color='green')\n",
    "        ),\n",
    "        row=2, col=2\n",
    "    )\n",
    "    \n",
    "    # Health Score\n",
    "    health_score = 100 - (data[['cpu_usage', 'memory_usage', 'error_rate']].mean().mean())\n",
    "    fig.add_trace(\n",
    "        go.Indicator(\n",
    "            mode=\"number+delta\",\n",
    "            value=health_score,\n",
    "            title={'text': 'Health Score'},\n",
    "            delta={'reference': 85}\n",
    "        ),\n",
    "        row=2, col=3\n",
    "    )\n",
    "    \n",
    "    fig.update_layout(height=600, showlegend=False, title_text=\"System Monitoring Dashboard\")\n",
    "    return fig\n",
    "\n",
    "# Display monitoring dashboard\n",
    "monitoring_dash = create_monitoring_dashboard(monitoring_data)\n",
    "monitoring_dash.show()"
   ]
  },
  {
   "cell_type": "markdown",
   "metadata": {},
   "source": [
    "### 1.2 Analytical Dashboard Pattern\n",
    "\n",
    "**Purpose:** Deep analysis and trend discovery  \n",
    "**Update Frequency:** Daily to weekly  \n",
    "**Key Elements:** Filters, drill-downs, comparisons, segments"
   ]
  },
  {
   "cell_type": "code",
   "execution_count": 4,
   "metadata": {},
   "outputs": [
    {
     "name": "stdout",
     "output_type": "stream",
     "text": [
      "Analytical data shape: (45110, 7)\n"
     ]
    },
    {
     "data": {
      "text/html": [
       "<div>\n",
       "<style scoped>\n",
       "    .dataframe tbody tr th:only-of-type {\n",
       "        vertical-align: middle;\n",
       "    }\n",
       "\n",
       "    .dataframe tbody tr th {\n",
       "        vertical-align: top;\n",
       "    }\n",
       "\n",
       "    .dataframe thead th {\n",
       "        text-align: right;\n",
       "    }\n",
       "</style>\n",
       "<table border=\"1\" class=\"dataframe\">\n",
       "  <thead>\n",
       "    <tr style=\"text-align: right;\">\n",
       "      <th></th>\n",
       "      <th>date</th>\n",
       "      <th>region</th>\n",
       "      <th>product</th>\n",
       "      <th>quantity</th>\n",
       "      <th>revenue</th>\n",
       "      <th>cost</th>\n",
       "      <th>profit</th>\n",
       "    </tr>\n",
       "  </thead>\n",
       "  <tbody>\n",
       "    <tr>\n",
       "      <th>0</th>\n",
       "      <td>2023-01-01</td>\n",
       "      <td>West</td>\n",
       "      <td>Product A</td>\n",
       "      <td>15</td>\n",
       "      <td>1490.788489</td>\n",
       "      <td>618.725560</td>\n",
       "      <td>872.062929</td>\n",
       "    </tr>\n",
       "    <tr>\n",
       "      <th>1</th>\n",
       "      <td>2023-01-01</td>\n",
       "      <td>East</td>\n",
       "      <td>Product B</td>\n",
       "      <td>19</td>\n",
       "      <td>289.952340</td>\n",
       "      <td>486.286447</td>\n",
       "      <td>-196.334107</td>\n",
       "    </tr>\n",
       "    <tr>\n",
       "      <th>2</th>\n",
       "      <td>2023-01-01</td>\n",
       "      <td>North</td>\n",
       "      <td>Product D</td>\n",
       "      <td>8</td>\n",
       "      <td>1445.337898</td>\n",
       "      <td>69.555270</td>\n",
       "      <td>1375.782628</td>\n",
       "    </tr>\n",
       "    <tr>\n",
       "      <th>3</th>\n",
       "      <td>2023-01-01</td>\n",
       "      <td>South</td>\n",
       "      <td>Product D</td>\n",
       "      <td>12</td>\n",
       "      <td>1883.250147</td>\n",
       "      <td>50.739828</td>\n",
       "      <td>1832.510320</td>\n",
       "    </tr>\n",
       "    <tr>\n",
       "      <th>4</th>\n",
       "      <td>2023-01-01</td>\n",
       "      <td>West</td>\n",
       "      <td>Product A</td>\n",
       "      <td>1</td>\n",
       "      <td>678.060262</td>\n",
       "      <td>548.518610</td>\n",
       "      <td>129.541652</td>\n",
       "    </tr>\n",
       "  </tbody>\n",
       "</table>\n",
       "</div>"
      ],
      "text/plain": [
       "        date region    product  quantity      revenue        cost       profit\n",
       "0 2023-01-01   West  Product A        15  1490.788489  618.725560   872.062929\n",
       "1 2023-01-01   East  Product B        19   289.952340  486.286447  -196.334107\n",
       "2 2023-01-01  North  Product D         8  1445.337898   69.555270  1375.782628\n",
       "3 2023-01-01  South  Product D        12  1883.250147   50.739828  1832.510320\n",
       "4 2023-01-01   West  Product A         1   678.060262  548.518610   129.541652"
      ]
     },
     "execution_count": 4,
     "metadata": {},
     "output_type": "execute_result"
    }
   ],
   "source": [
    "# Generate analytical data\n",
    "np.random.seed(42)\n",
    "\n",
    "dates = pd.date_range(start='2023-01-01', end='2023-12-31', freq='D')\n",
    "regions = ['North', 'South', 'East', 'West']\n",
    "products = ['Product A', 'Product B', 'Product C', 'Product D']\n",
    "\n",
    "analytical_data = []\n",
    "for date in dates:\n",
    "    for _ in range(np.random.randint(50, 200)):\n",
    "        analytical_data.append({\n",
    "            'date': date,\n",
    "            'region': np.random.choice(regions),\n",
    "            'product': np.random.choice(products),\n",
    "            'quantity': np.random.randint(1, 20),\n",
    "            'revenue': np.random.uniform(100, 2000),\n",
    "            'cost': np.random.uniform(50, 1000)\n",
    "        })\n",
    "\n",
    "analytical_df = pd.DataFrame(analytical_data)\n",
    "analytical_df['profit'] = analytical_df['revenue'] - analytical_df['cost']\n",
    "\n",
    "print(f\"Analytical data shape: {analytical_df.shape}\")\n",
    "analytical_df.head()"
   ]
  },
  {
   "cell_type": "code",
   "execution_count": 5,
   "metadata": {},
   "outputs": [
    {
     "data": {
      "application/vnd.plotly.v1+json": {
       "config": {
        "plotlyServerURL": "https://plot.ly"
       },
       "data": [
        {
         "mode": "lines+markers",
         "name": "Revenue",
         "type": "scatter",
         "x": [
          "2023-01-01T00:00:00.000000000",
          "2023-02-01T00:00:00.000000000",
          "2023-03-01T00:00:00.000000000",
          "2023-04-01T00:00:00.000000000",
          "2023-05-01T00:00:00.000000000",
          "2023-06-01T00:00:00.000000000",
          "2023-07-01T00:00:00.000000000",
          "2023-08-01T00:00:00.000000000",
          "2023-09-01T00:00:00.000000000",
          "2023-10-01T00:00:00.000000000",
          "2023-11-01T00:00:00.000000000",
          "2023-12-01T00:00:00.000000000"
         ],
         "xaxis": "x",
         "y": {
          "bdata": "J8gnLKA+TEGbks2RV2RMQSTrfrcHc0xBsZ+CICXZTEEysMcYx2ZQQYlg1MV4M1BBpK9GDjy3TkFWzpvWKV5NQfE82lCpw05BZAHAVWg8T0GYFnBi491MQYfnNHzJKFBB",
          "dtype": "f8"
         },
         "yaxis": "y"
        },
        {
         "name": "Revenue by Region",
         "type": "bar",
         "x": [
          "East",
          "North",
          "South",
          "West"
         ],
         "xaxis": "x2",
         "y": {
          "bdata": "IYxr3xOBZkHui9TmRbpmQeqkMSmiGGdBR63vnihGZkE=",
          "dtype": "f8"
         },
         "yaxis": "y2"
        },
        {
         "domain": {
          "x": [
           0,
           0.45
          ],
          "y": [
           0,
           0.375
          ]
         },
         "hole": 0.4,
         "labels": [
          "Product A",
          "Product B",
          "Product C",
          "Product D"
         ],
         "type": "pie",
         "values": {
          "bdata": "12SYCNnjZkE6zde7BIRmQS3mLIXfR2ZBAlLERGfqZkE=",
          "dtype": "f8"
         }
        },
        {
         "marker": {
          "size": 15
         },
         "mode": "markers+lines",
         "type": "scatter",
         "x": [
          "Product A",
          "Product B",
          "Product C",
          "Product D"
         ],
         "xaxis": "x3",
         "y": {
          "bdata": "axN6eHaaMECJpOl7VbMvQNbBu2vJaDJA2nTf7/CtMUA=",
          "dtype": "f8"
         },
         "yaxis": "y3"
        }
       ],
       "layout": {
        "annotations": [
         {
          "font": {
           "size": 16
          },
          "showarrow": false,
          "text": "Revenue Trend",
          "x": 0.225,
          "xanchor": "center",
          "xref": "paper",
          "y": 1,
          "yanchor": "bottom",
          "yref": "paper"
         },
         {
          "font": {
           "size": 16
          },
          "showarrow": false,
          "text": "Regional Performance",
          "x": 0.775,
          "xanchor": "center",
          "xref": "paper",
          "y": 1,
          "yanchor": "bottom",
          "yref": "paper"
         },
         {
          "font": {
           "size": 16
          },
          "showarrow": false,
          "text": "Product Mix",
          "x": 0.225,
          "xanchor": "center",
          "xref": "paper",
          "y": 0.375,
          "yanchor": "bottom",
          "yref": "paper"
         },
         {
          "font": {
           "size": 16
          },
          "showarrow": false,
          "text": "Profit Margins",
          "x": 0.775,
          "xanchor": "center",
          "xref": "paper",
          "y": 0.375,
          "yanchor": "bottom",
          "yref": "paper"
         }
        ],
        "height": 600,
        "showlegend": false,
        "template": {
         "data": {
          "bar": [
           {
            "error_x": {
             "color": "#2a3f5f"
            },
            "error_y": {
             "color": "#2a3f5f"
            },
            "marker": {
             "line": {
              "color": "#E5ECF6",
              "width": 0.5
             },
             "pattern": {
              "fillmode": "overlay",
              "size": 10,
              "solidity": 0.2
             }
            },
            "type": "bar"
           }
          ],
          "barpolar": [
           {
            "marker": {
             "line": {
              "color": "#E5ECF6",
              "width": 0.5
             },
             "pattern": {
              "fillmode": "overlay",
              "size": 10,
              "solidity": 0.2
             }
            },
            "type": "barpolar"
           }
          ],
          "carpet": [
           {
            "aaxis": {
             "endlinecolor": "#2a3f5f",
             "gridcolor": "white",
             "linecolor": "white",
             "minorgridcolor": "white",
             "startlinecolor": "#2a3f5f"
            },
            "baxis": {
             "endlinecolor": "#2a3f5f",
             "gridcolor": "white",
             "linecolor": "white",
             "minorgridcolor": "white",
             "startlinecolor": "#2a3f5f"
            },
            "type": "carpet"
           }
          ],
          "choropleth": [
           {
            "colorbar": {
             "outlinewidth": 0,
             "ticks": ""
            },
            "type": "choropleth"
           }
          ],
          "contour": [
           {
            "colorbar": {
             "outlinewidth": 0,
             "ticks": ""
            },
            "colorscale": [
             [
              0,
              "#0d0887"
             ],
             [
              0.1111111111111111,
              "#46039f"
             ],
             [
              0.2222222222222222,
              "#7201a8"
             ],
             [
              0.3333333333333333,
              "#9c179e"
             ],
             [
              0.4444444444444444,
              "#bd3786"
             ],
             [
              0.5555555555555556,
              "#d8576b"
             ],
             [
              0.6666666666666666,
              "#ed7953"
             ],
             [
              0.7777777777777778,
              "#fb9f3a"
             ],
             [
              0.8888888888888888,
              "#fdca26"
             ],
             [
              1,
              "#f0f921"
             ]
            ],
            "type": "contour"
           }
          ],
          "contourcarpet": [
           {
            "colorbar": {
             "outlinewidth": 0,
             "ticks": ""
            },
            "type": "contourcarpet"
           }
          ],
          "heatmap": [
           {
            "colorbar": {
             "outlinewidth": 0,
             "ticks": ""
            },
            "colorscale": [
             [
              0,
              "#0d0887"
             ],
             [
              0.1111111111111111,
              "#46039f"
             ],
             [
              0.2222222222222222,
              "#7201a8"
             ],
             [
              0.3333333333333333,
              "#9c179e"
             ],
             [
              0.4444444444444444,
              "#bd3786"
             ],
             [
              0.5555555555555556,
              "#d8576b"
             ],
             [
              0.6666666666666666,
              "#ed7953"
             ],
             [
              0.7777777777777778,
              "#fb9f3a"
             ],
             [
              0.8888888888888888,
              "#fdca26"
             ],
             [
              1,
              "#f0f921"
             ]
            ],
            "type": "heatmap"
           }
          ],
          "histogram": [
           {
            "marker": {
             "pattern": {
              "fillmode": "overlay",
              "size": 10,
              "solidity": 0.2
             }
            },
            "type": "histogram"
           }
          ],
          "histogram2d": [
           {
            "colorbar": {
             "outlinewidth": 0,
             "ticks": ""
            },
            "colorscale": [
             [
              0,
              "#0d0887"
             ],
             [
              0.1111111111111111,
              "#46039f"
             ],
             [
              0.2222222222222222,
              "#7201a8"
             ],
             [
              0.3333333333333333,
              "#9c179e"
             ],
             [
              0.4444444444444444,
              "#bd3786"
             ],
             [
              0.5555555555555556,
              "#d8576b"
             ],
             [
              0.6666666666666666,
              "#ed7953"
             ],
             [
              0.7777777777777778,
              "#fb9f3a"
             ],
             [
              0.8888888888888888,
              "#fdca26"
             ],
             [
              1,
              "#f0f921"
             ]
            ],
            "type": "histogram2d"
           }
          ],
          "histogram2dcontour": [
           {
            "colorbar": {
             "outlinewidth": 0,
             "ticks": ""
            },
            "colorscale": [
             [
              0,
              "#0d0887"
             ],
             [
              0.1111111111111111,
              "#46039f"
             ],
             [
              0.2222222222222222,
              "#7201a8"
             ],
             [
              0.3333333333333333,
              "#9c179e"
             ],
             [
              0.4444444444444444,
              "#bd3786"
             ],
             [
              0.5555555555555556,
              "#d8576b"
             ],
             [
              0.6666666666666666,
              "#ed7953"
             ],
             [
              0.7777777777777778,
              "#fb9f3a"
             ],
             [
              0.8888888888888888,
              "#fdca26"
             ],
             [
              1,
              "#f0f921"
             ]
            ],
            "type": "histogram2dcontour"
           }
          ],
          "mesh3d": [
           {
            "colorbar": {
             "outlinewidth": 0,
             "ticks": ""
            },
            "type": "mesh3d"
           }
          ],
          "parcoords": [
           {
            "line": {
             "colorbar": {
              "outlinewidth": 0,
              "ticks": ""
             }
            },
            "type": "parcoords"
           }
          ],
          "pie": [
           {
            "automargin": true,
            "type": "pie"
           }
          ],
          "scatter": [
           {
            "fillpattern": {
             "fillmode": "overlay",
             "size": 10,
             "solidity": 0.2
            },
            "type": "scatter"
           }
          ],
          "scatter3d": [
           {
            "line": {
             "colorbar": {
              "outlinewidth": 0,
              "ticks": ""
             }
            },
            "marker": {
             "colorbar": {
              "outlinewidth": 0,
              "ticks": ""
             }
            },
            "type": "scatter3d"
           }
          ],
          "scattercarpet": [
           {
            "marker": {
             "colorbar": {
              "outlinewidth": 0,
              "ticks": ""
             }
            },
            "type": "scattercarpet"
           }
          ],
          "scattergeo": [
           {
            "marker": {
             "colorbar": {
              "outlinewidth": 0,
              "ticks": ""
             }
            },
            "type": "scattergeo"
           }
          ],
          "scattergl": [
           {
            "marker": {
             "colorbar": {
              "outlinewidth": 0,
              "ticks": ""
             }
            },
            "type": "scattergl"
           }
          ],
          "scattermap": [
           {
            "marker": {
             "colorbar": {
              "outlinewidth": 0,
              "ticks": ""
             }
            },
            "type": "scattermap"
           }
          ],
          "scattermapbox": [
           {
            "marker": {
             "colorbar": {
              "outlinewidth": 0,
              "ticks": ""
             }
            },
            "type": "scattermapbox"
           }
          ],
          "scatterpolar": [
           {
            "marker": {
             "colorbar": {
              "outlinewidth": 0,
              "ticks": ""
             }
            },
            "type": "scatterpolar"
           }
          ],
          "scatterpolargl": [
           {
            "marker": {
             "colorbar": {
              "outlinewidth": 0,
              "ticks": ""
             }
            },
            "type": "scatterpolargl"
           }
          ],
          "scatterternary": [
           {
            "marker": {
             "colorbar": {
              "outlinewidth": 0,
              "ticks": ""
             }
            },
            "type": "scatterternary"
           }
          ],
          "surface": [
           {
            "colorbar": {
             "outlinewidth": 0,
             "ticks": ""
            },
            "colorscale": [
             [
              0,
              "#0d0887"
             ],
             [
              0.1111111111111111,
              "#46039f"
             ],
             [
              0.2222222222222222,
              "#7201a8"
             ],
             [
              0.3333333333333333,
              "#9c179e"
             ],
             [
              0.4444444444444444,
              "#bd3786"
             ],
             [
              0.5555555555555556,
              "#d8576b"
             ],
             [
              0.6666666666666666,
              "#ed7953"
             ],
             [
              0.7777777777777778,
              "#fb9f3a"
             ],
             [
              0.8888888888888888,
              "#fdca26"
             ],
             [
              1,
              "#f0f921"
             ]
            ],
            "type": "surface"
           }
          ],
          "table": [
           {
            "cells": {
             "fill": {
              "color": "#EBF0F8"
             },
             "line": {
              "color": "white"
             }
            },
            "header": {
             "fill": {
              "color": "#C8D4E3"
             },
             "line": {
              "color": "white"
             }
            },
            "type": "table"
           }
          ]
         },
         "layout": {
          "annotationdefaults": {
           "arrowcolor": "#2a3f5f",
           "arrowhead": 0,
           "arrowwidth": 1
          },
          "autotypenumbers": "strict",
          "coloraxis": {
           "colorbar": {
            "outlinewidth": 0,
            "ticks": ""
           }
          },
          "colorscale": {
           "diverging": [
            [
             0,
             "#8e0152"
            ],
            [
             0.1,
             "#c51b7d"
            ],
            [
             0.2,
             "#de77ae"
            ],
            [
             0.3,
             "#f1b6da"
            ],
            [
             0.4,
             "#fde0ef"
            ],
            [
             0.5,
             "#f7f7f7"
            ],
            [
             0.6,
             "#e6f5d0"
            ],
            [
             0.7,
             "#b8e186"
            ],
            [
             0.8,
             "#7fbc41"
            ],
            [
             0.9,
             "#4d9221"
            ],
            [
             1,
             "#276419"
            ]
           ],
           "sequential": [
            [
             0,
             "#0d0887"
            ],
            [
             0.1111111111111111,
             "#46039f"
            ],
            [
             0.2222222222222222,
             "#7201a8"
            ],
            [
             0.3333333333333333,
             "#9c179e"
            ],
            [
             0.4444444444444444,
             "#bd3786"
            ],
            [
             0.5555555555555556,
             "#d8576b"
            ],
            [
             0.6666666666666666,
             "#ed7953"
            ],
            [
             0.7777777777777778,
             "#fb9f3a"
            ],
            [
             0.8888888888888888,
             "#fdca26"
            ],
            [
             1,
             "#f0f921"
            ]
           ],
           "sequentialminus": [
            [
             0,
             "#0d0887"
            ],
            [
             0.1111111111111111,
             "#46039f"
            ],
            [
             0.2222222222222222,
             "#7201a8"
            ],
            [
             0.3333333333333333,
             "#9c179e"
            ],
            [
             0.4444444444444444,
             "#bd3786"
            ],
            [
             0.5555555555555556,
             "#d8576b"
            ],
            [
             0.6666666666666666,
             "#ed7953"
            ],
            [
             0.7777777777777778,
             "#fb9f3a"
            ],
            [
             0.8888888888888888,
             "#fdca26"
            ],
            [
             1,
             "#f0f921"
            ]
           ]
          },
          "colorway": [
           "#636efa",
           "#EF553B",
           "#00cc96",
           "#ab63fa",
           "#FFA15A",
           "#19d3f3",
           "#FF6692",
           "#B6E880",
           "#FF97FF",
           "#FECB52"
          ],
          "font": {
           "color": "#2a3f5f"
          },
          "geo": {
           "bgcolor": "white",
           "lakecolor": "white",
           "landcolor": "#E5ECF6",
           "showlakes": true,
           "showland": true,
           "subunitcolor": "white"
          },
          "hoverlabel": {
           "align": "left"
          },
          "hovermode": "closest",
          "mapbox": {
           "style": "light"
          },
          "paper_bgcolor": "white",
          "plot_bgcolor": "#E5ECF6",
          "polar": {
           "angularaxis": {
            "gridcolor": "white",
            "linecolor": "white",
            "ticks": ""
           },
           "bgcolor": "#E5ECF6",
           "radialaxis": {
            "gridcolor": "white",
            "linecolor": "white",
            "ticks": ""
           }
          },
          "scene": {
           "xaxis": {
            "backgroundcolor": "#E5ECF6",
            "gridcolor": "white",
            "gridwidth": 2,
            "linecolor": "white",
            "showbackground": true,
            "ticks": "",
            "zerolinecolor": "white"
           },
           "yaxis": {
            "backgroundcolor": "#E5ECF6",
            "gridcolor": "white",
            "gridwidth": 2,
            "linecolor": "white",
            "showbackground": true,
            "ticks": "",
            "zerolinecolor": "white"
           },
           "zaxis": {
            "backgroundcolor": "#E5ECF6",
            "gridcolor": "white",
            "gridwidth": 2,
            "linecolor": "white",
            "showbackground": true,
            "ticks": "",
            "zerolinecolor": "white"
           }
          },
          "shapedefaults": {
           "line": {
            "color": "#2a3f5f"
           }
          },
          "ternary": {
           "aaxis": {
            "gridcolor": "white",
            "linecolor": "white",
            "ticks": ""
           },
           "baxis": {
            "gridcolor": "white",
            "linecolor": "white",
            "ticks": ""
           },
           "bgcolor": "#E5ECF6",
           "caxis": {
            "gridcolor": "white",
            "linecolor": "white",
            "ticks": ""
           }
          },
          "title": {
           "x": 0.05
          },
          "xaxis": {
           "automargin": true,
           "gridcolor": "white",
           "linecolor": "white",
           "ticks": "",
           "title": {
            "standoff": 15
           },
           "zerolinecolor": "white",
           "zerolinewidth": 2
          },
          "yaxis": {
           "automargin": true,
           "gridcolor": "white",
           "linecolor": "white",
           "ticks": "",
           "title": {
            "standoff": 15
           },
           "zerolinecolor": "white",
           "zerolinewidth": 2
          }
         }
        },
        "title": {
         "text": "Business Analytics Dashboard"
        },
        "xaxis": {
         "anchor": "y",
         "domain": [
          0,
          0.45
         ]
        },
        "xaxis2": {
         "anchor": "y2",
         "domain": [
          0.55,
          1
         ]
        },
        "xaxis3": {
         "anchor": "y3",
         "domain": [
          0.55,
          1
         ]
        },
        "yaxis": {
         "anchor": "x",
         "domain": [
          0.625,
          1
         ]
        },
        "yaxis2": {
         "anchor": "x2",
         "domain": [
          0.625,
          1
         ]
        },
        "yaxis3": {
         "anchor": "x3",
         "domain": [
          0,
          0.375
         ]
        }
       }
      },
      "image/png": "[encoded data removed]"
     },
     "metadata": {},
     "output_type": "display_data"
    }
   ],
   "source": [
    "# Create analytical dashboard\n",
    "def create_analytical_dashboard(df):\n",
    "    \"\"\"Create an analytical dashboard for business insights\"\"\"\n",
    "    \n",
    "    # Aggregate data\n",
    "    monthly_revenue = df.groupby(df['date'].dt.to_period('M'))['revenue'].sum().reset_index()\n",
    "    monthly_revenue['date'] = monthly_revenue['date'].dt.to_timestamp()\n",
    "    \n",
    "    region_performance = df.groupby('region')['revenue'].sum().reset_index()\n",
    "    \n",
    "    # Create subplots\n",
    "    fig = make_subplots(\n",
    "        rows=2, cols=2,\n",
    "        subplot_titles=('Revenue Trend', 'Regional Performance', \n",
    "                       'Product Mix', 'Profit Margins'),\n",
    "        specs=[[{'type': 'scatter'}, {'type': 'bar'}],\n",
    "               [{'type': 'pie'}, {'type': 'scatter'}]]\n",
    "    )\n",
    "    \n",
    "    # Revenue Trend\n",
    "    fig.add_trace(\n",
    "        go.Scatter(x=monthly_revenue['date'], y=monthly_revenue['revenue'],\n",
    "                  mode='lines+markers', name='Revenue'),\n",
    "        row=1, col=1\n",
    "    )\n",
    "    \n",
    "    # Regional Performance\n",
    "    fig.add_trace(\n",
    "        go.Bar(x=region_performance['region'], y=region_performance['revenue'],\n",
    "              name='Revenue by Region'),\n",
    "        row=1, col=2\n",
    "    )\n",
    "    \n",
    "    # Product Mix\n",
    "    product_revenue = df.groupby('product')['revenue'].sum()\n",
    "    fig.add_trace(\n",
    "        go.Pie(labels=product_revenue.index, values=product_revenue.values,\n",
    "              hole=0.4),\n",
    "        row=2, col=1\n",
    "    )\n",
    "    \n",
    "    # Profit Margins\n",
    "    df['margin'] = (df['profit'] / df['revenue']) * 100\n",
    "    margin_by_product = df.groupby('product')['margin'].mean().reset_index()\n",
    "    \n",
    "    fig.add_trace(\n",
    "        go.Scatter(x=margin_by_product['product'], y=margin_by_product['margin'],\n",
    "                  mode='markers+lines', marker=dict(size=15)),\n",
    "        row=2, col=2\n",
    "    )\n",
    "    \n",
    "    fig.update_layout(height=600, showlegend=False, \n",
    "                     title_text=\"Business Analytics Dashboard\")\n",
    "    return fig\n",
    "\n",
    "# Display analytical dashboard\n",
    "analytical_dash = create_analytical_dashboard(analytical_df)\n",
    "analytical_dash.show()"
   ]
  },
  {
   "cell_type": "markdown",
   "metadata": {},
   "source": [
    "## 2. Layout Principles\n",
    "\n",
    "Understanding visual hierarchy and user attention patterns."
   ]
  },
  {
   "cell_type": "markdown",
   "metadata": {},
   "source": [
    "### 2.1 F-Pattern Layout\n",
    "\n",
    "Users scan in an F-shape: top horizontal, down left side, second horizontal scan."
   ]
  },
  {
   "cell_type": "code",
   "execution_count": 6,
   "metadata": {},
   "outputs": [
    {
     "data": {
      "application/vnd.plotly.v1+json": {
       "config": {
        "plotlyServerURL": "https://plot.ly"
       },
       "data": [
        {
         "delta": {
          "reference": 85.68
         },
         "domain": {
          "x": [
           0,
           0.2125
          ],
          "y": [
           0.8666666666666667,
           1
          ]
         },
         "mode": "number+delta",
         "title": {
          "text": "Efficiency %"
         },
         "type": "indicator",
         "value": 95.2
        },
        {
         "delta": {
          "reference": 1657.8
         },
         "domain": {
          "x": [
           0.2625,
           0.475
          ],
          "y": [
           0.8666666666666667,
           1
          ]
         },
         "mode": "number+delta",
         "title": {
          "text": "Daily Users"
         },
         "type": "indicator",
         "value": 1842
        },
        {
         "delta": {
          "reference": 70.65
         },
         "domain": {
          "x": [
           0.525,
           0.7375
          ],
          "y": [
           0.8666666666666667,
           1
          ]
         },
         "mode": "number+delta",
         "title": {
          "text": "Satisfaction"
         },
         "type": "indicator",
         "value": 78.5
        },
        {
         "delta": {
          "reference": 11.07
         },
         "domain": {
          "x": [
           0.7875,
           1
          ],
          "y": [
           0.8666666666666667,
           1
          ]
         },
         "mode": "number+delta",
         "title": {
          "text": "Growth %"
         },
         "type": "indicator",
         "value": 12.3
        },
        {
         "cells": {
          "values": [
           [
            "Task A",
            "Task B",
            "Task C"
           ],
           [
            "John",
            "Sarah",
            "Mike"
           ],
           [
            "In Progress",
            "Complete",
            "Pending"
           ],
           [
            "High",
            "Medium",
            "Low"
           ]
          ]
         },
         "domain": {
          "x": [
           0,
           0.7375
          ],
          "y": [
           0.43333333333333335,
           0.7000000000000001
          ]
         },
         "header": {
          "values": [
           "Task",
           "Owner",
           "Status",
           "Priority"
          ]
         },
         "type": "table"
        },
        {
         "mode": "lines",
         "type": "scatter",
         "x": {
          "bdata": "AAAAAAAAAACIxvrQWB/KP4jG+tBYH9o/5hS8nIKX4z+IxvrQWB/qPxW8nIKXU/A/5hS8nIKX8z+3bdu2bdv2P4jG+tBYH/o/WR8a60Nj/T8VvJyCl1MAQH5orA+N9QFA5hS8nIKXA0BOwcspeDkFQLdt27Zt2wZAIBrrQ2N9CECIxvrQWB8KQPByCl5OwQtAWR8a60NjDUDCyyl4OQUPQBW8nIKXUxBASZIkSZIkEUB+aKwPjfURQLI+NNaHxhJA5hS8nIKXE0Aa60NjfWgUQE7Byyl4ORVAg5dT8HIKFkC3bdu2bdsWQOtDY31orBdAIBrrQ2N9GEBU8HIKXk4ZQIjG+tBYHxpAvJyCl1PwGkDwcgpeTsEbQCVJkiRJkhxAWR8a60NjHUCN9aGxPjQeQMLLKXg5BR9A9qGxPjTWH0AVvJyCl1MgQC+n4OUUvCBASZIkSZIkIUBjfWisD40hQH5orA+N9SFAmFPwcgpeIkCyPjTWh8YiQMwpeDkFLyNA5hS8nIKXI0AAAAAAAAAkQA==",
          "dtype": "f8"
         },
         "xaxis": "x",
         "y": {
          "bdata": "PlwZtqhxSED4lLtG7l5JQIpCBnJNtUtAlT3VmzknTEB6V9jt4a1NQPP7dBnwJEtAGUQWNHrVTEBexgIAIUtOQI3wNRugC05AEV7XFTMkUEBfNi/ojcVMQIaMaY+ZcE5Aof4RnhehTEBdxNL/PWxJQEOjfEjOSUtA5363qdA+SEB+s7RDrDxHQMPEBLorrkhAxnS+e9c3R0CRQDPleOFFQGddN0Y6YERAW3zS5CD1R0DDndufJAREQOej5KrC5kRAofoSJidYQ0BQf75g8MRFQO2TuVK3JkNA6x5UYeZSQ0BlKIteGMZGQBhieTFyAEdA2SMhp0dXSECtzvvNGH5JQJYrhf4ZOkpAIJsPrrQ2TECeoKlH95pLQIn4NcKlmkxAV6C+G4QvTEDUS9A1cVBOQMVbgI2jWU5AUN388Q51TkAV+MVLc5JNQJNeOm3WekxAyEnnFURyTEDngmwqx1RMQMAOKlCMh0xAmj7VYqdfSkBmDhyrXXBJQEnwFKhgQUhA2rsWxaURSEAnVMgwr49EQA==",
          "dtype": "f8"
         },
         "yaxis": "y"
        },
        {
         "type": "bar",
         "x": [
          "A",
          "B",
          "C"
         ],
         "xaxis": "x2",
         "y": {
          "bdata": "WQAAAFcAAAAtAAAA",
          "dtype": "i4"
         },
         "yaxis": "y2"
        },
        {
         "type": "bar",
         "x": [
          "A",
          "B",
          "C"
         ],
         "xaxis": "x3",
         "y": {
          "bdata": "MQAAAEUAAAAlAAAA",
          "dtype": "i4"
         },
         "yaxis": "y3"
        },
        {
         "type": "bar",
         "x": [
          "A",
          "B",
          "C"
         ],
         "xaxis": "x4",
         "y": {
          "bdata": "SwAAAD8AAABdAAAA",
          "dtype": "i4"
         },
         "yaxis": "y4"
        },
        {
         "mode": "markers+lines",
         "type": "scatter",
         "x": [
          1,
          2,
          3,
          4
         ],
         "xaxis": "x5",
         "y": [
          10,
          25,
          15,
          30
         ],
         "yaxis": "y5"
        }
       ],
       "layout": {
        "annotations": [
         {
          "font": {
           "size": 16
          },
          "showarrow": false,
          "text": "KEY METRIC 1",
          "x": 0.10625,
          "xanchor": "center",
          "xref": "paper",
          "y": 1,
          "yanchor": "bottom",
          "yref": "paper"
         },
         {
          "font": {
           "size": 16
          },
          "showarrow": false,
          "text": "KEY METRIC 2",
          "x": 0.36875,
          "xanchor": "center",
          "xref": "paper",
          "y": 1,
          "yanchor": "bottom",
          "yref": "paper"
         },
         {
          "font": {
           "size": 16
          },
          "showarrow": false,
          "text": "KEY METRIC 3",
          "x": 0.6312500000000001,
          "xanchor": "center",
          "xref": "paper",
          "y": 1,
          "yanchor": "bottom",
          "yref": "paper"
         },
         {
          "font": {
           "size": 16
          },
          "showarrow": false,
          "text": "KEY METRIC 4",
          "x": 0.89375,
          "xanchor": "center",
          "xref": "paper",
          "y": 1,
          "yanchor": "bottom",
          "yref": "paper"
         },
         {
          "font": {
           "size": 16
          },
          "showarrow": false,
          "text": "Details",
          "x": 0.36875,
          "xanchor": "center",
          "xref": "paper",
          "y": 0.7000000000000001,
          "yanchor": "bottom",
          "yref": "paper"
         },
         {
          "font": {
           "size": 16
          },
          "showarrow": false,
          "text": "Trend",
          "x": 0.36875,
          "xanchor": "center",
          "xref": "paper",
          "y": 0.2666666666666667,
          "yanchor": "bottom",
          "yref": "paper"
         },
         {
          "font": {
           "size": 16
          },
          "showarrow": false,
          "text": "Supporting 1",
          "x": 0.6312500000000001,
          "xanchor": "center",
          "xref": "paper",
          "y": 0.2666666666666667,
          "yanchor": "bottom",
          "yref": "paper"
         },
         {
          "font": {
           "size": 16
          },
          "showarrow": false,
          "text": "Supporting 2",
          "x": 0.89375,
          "xanchor": "center",
          "xref": "paper",
          "y": 0.2666666666666667,
          "yanchor": "bottom",
          "yref": "paper"
         }
        ],
        "height": 800,
        "showlegend": false,
        "template": {
         "data": {
          "bar": [
           {
            "error_x": {
             "color": "#2a3f5f"
            },
            "error_y": {
             "color": "#2a3f5f"
            },
            "marker": {
             "line": {
              "color": "#E5ECF6",
              "width": 0.5
             },
             "pattern": {
              "fillmode": "overlay",
              "size": 10,
              "solidity": 0.2
             }
            },
            "type": "bar"
           }
          ],
          "barpolar": [
           {
            "marker": {
             "line": {
              "color": "#E5ECF6",
              "width": 0.5
             },
             "pattern": {
              "fillmode": "overlay",
              "size": 10,
              "solidity": 0.2
             }
            },
            "type": "barpolar"
           }
          ],
          "carpet": [
           {
            "aaxis": {
             "endlinecolor": "#2a3f5f",
             "gridcolor": "white",
             "linecolor": "white",
             "minorgridcolor": "white",
             "startlinecolor": "#2a3f5f"
            },
            "baxis": {
             "endlinecolor": "#2a3f5f",
             "gridcolor": "white",
             "linecolor": "white",
             "minorgridcolor": "white",
             "startlinecolor": "#2a3f5f"
            },
            "type": "carpet"
           }
          ],
          "choropleth": [
           {
            "colorbar": {
             "outlinewidth": 0,
             "ticks": ""
            },
            "type": "choropleth"
           }
          ],
          "contour": [
           {
            "colorbar": {
             "outlinewidth": 0,
             "ticks": ""
            },
            "colorscale": [
             [
              0,
              "#0d0887"
             ],
             [
              0.1111111111111111,
              "#46039f"
             ],
             [
              0.2222222222222222,
              "#7201a8"
             ],
             [
              0.3333333333333333,
              "#9c179e"
             ],
             [
              0.4444444444444444,
              "#bd3786"
             ],
             [
              0.5555555555555556,
              "#d8576b"
             ],
             [
              0.6666666666666666,
              "#ed7953"
             ],
             [
              0.7777777777777778,
              "#fb9f3a"
             ],
             [
              0.8888888888888888,
              "#fdca26"
             ],
             [
              1,
              "#f0f921"
             ]
            ],
            "type": "contour"
           }
          ],
          "contourcarpet": [
           {
            "colorbar": {
             "outlinewidth": 0,
             "ticks": ""
            },
            "type": "contourcarpet"
           }
          ],
          "heatmap": [
           {
            "colorbar": {
             "outlinewidth": 0,
             "ticks": ""
            },
            "colorscale": [
             [
              0,
              "#0d0887"
             ],
             [
              0.1111111111111111,
              "#46039f"
             ],
             [
              0.2222222222222222,
              "#7201a8"
             ],
             [
              0.3333333333333333,
              "#9c179e"
             ],
             [
              0.4444444444444444,
              "#bd3786"
             ],
             [
              0.5555555555555556,
              "#d8576b"
             ],
             [
              0.6666666666666666,
              "#ed7953"
             ],
             [
              0.7777777777777778,
              "#fb9f3a"
             ],
             [
              0.8888888888888888,
              "#fdca26"
             ],
             [
              1,
              "#f0f921"
             ]
            ],
            "type": "heatmap"
           }
          ],
          "histogram": [
           {
            "marker": {
             "pattern": {
              "fillmode": "overlay",
              "size": 10,
              "solidity": 0.2
             }
            },
            "type": "histogram"
           }
          ],
          "histogram2d": [
           {
            "colorbar": {
             "outlinewidth": 0,
             "ticks": ""
            },
            "colorscale": [
             [
              0,
              "#0d0887"
             ],
             [
              0.1111111111111111,
              "#46039f"
             ],
             [
              0.2222222222222222,
              "#7201a8"
             ],
             [
              0.3333333333333333,
              "#9c179e"
             ],
             [
              0.4444444444444444,
              "#bd3786"
             ],
             [
              0.5555555555555556,
              "#d8576b"
             ],
             [
              0.6666666666666666,
              "#ed7953"
             ],
             [
              0.7777777777777778,
              "#fb9f3a"
             ],
             [
              0.8888888888888888,
              "#fdca26"
             ],
             [
              1,
              "#f0f921"
             ]
            ],
            "type": "histogram2d"
           }
          ],
          "histogram2dcontour": [
           {
            "colorbar": {
             "outlinewidth": 0,
             "ticks": ""
            },
            "colorscale": [
             [
              0,
              "#0d0887"
             ],
             [
              0.1111111111111111,
              "#46039f"
             ],
             [
              0.2222222222222222,
              "#7201a8"
             ],
             [
              0.3333333333333333,
              "#9c179e"
             ],
             [
              0.4444444444444444,
              "#bd3786"
             ],
             [
              0.5555555555555556,
              "#d8576b"
             ],
             [
              0.6666666666666666,
              "#ed7953"
             ],
             [
              0.7777777777777778,
              "#fb9f3a"
             ],
             [
              0.8888888888888888,
              "#fdca26"
             ],
             [
              1,
              "#f0f921"
             ]
            ],
            "type": "histogram2dcontour"
           }
          ],
          "mesh3d": [
           {
            "colorbar": {
             "outlinewidth": 0,
             "ticks": ""
            },
            "type": "mesh3d"
           }
          ],
          "parcoords": [
           {
            "line": {
             "colorbar": {
              "outlinewidth": 0,
              "ticks": ""
             }
            },
            "type": "parcoords"
           }
          ],
          "pie": [
           {
            "automargin": true,
            "type": "pie"
           }
          ],
          "scatter": [
           {
            "fillpattern": {
             "fillmode": "overlay",
             "size": 10,
             "solidity": 0.2
            },
            "type": "scatter"
           }
          ],
          "scatter3d": [
           {
            "line": {
             "colorbar": {
              "outlinewidth": 0,
              "ticks": ""
             }
            },
            "marker": {
             "colorbar": {
              "outlinewidth": 0,
              "ticks": ""
             }
            },
            "type": "scatter3d"
           }
          ],
          "scattercarpet": [
           {
            "marker": {
             "colorbar": {
              "outlinewidth": 0,
              "ticks": ""
             }
            },
            "type": "scattercarpet"
           }
          ],
          "scattergeo": [
           {
            "marker": {
             "colorbar": {
              "outlinewidth": 0,
              "ticks": ""
             }
            },
            "type": "scattergeo"
           }
          ],
          "scattergl": [
           {
            "marker": {
             "colorbar": {
              "outlinewidth": 0,
              "ticks": ""
             }
            },
            "type": "scattergl"
           }
          ],
          "scattermap": [
           {
            "marker": {
             "colorbar": {
              "outlinewidth": 0,
              "ticks": ""
             }
            },
            "type": "scattermap"
           }
          ],
          "scattermapbox": [
           {
            "marker": {
             "colorbar": {
              "outlinewidth": 0,
              "ticks": ""
             }
            },
            "type": "scattermapbox"
           }
          ],
          "scatterpolar": [
           {
            "marker": {
             "colorbar": {
              "outlinewidth": 0,
              "ticks": ""
             }
            },
            "type": "scatterpolar"
           }
          ],
          "scatterpolargl": [
           {
            "marker": {
             "colorbar": {
              "outlinewidth": 0,
              "ticks": ""
             }
            },
            "type": "scatterpolargl"
           }
          ],
          "scatterternary": [
           {
            "marker": {
             "colorbar": {
              "outlinewidth": 0,
              "ticks": ""
             }
            },
            "type": "scatterternary"
           }
          ],
          "surface": [
           {
            "colorbar": {
             "outlinewidth": 0,
             "ticks": ""
            },
            "colorscale": [
             [
              0,
              "#0d0887"
             ],
             [
              0.1111111111111111,
              "#46039f"
             ],
             [
              0.2222222222222222,
              "#7201a8"
             ],
             [
              0.3333333333333333,
              "#9c179e"
             ],
             [
              0.4444444444444444,
              "#bd3786"
             ],
             [
              0.5555555555555556,
              "#d8576b"
             ],
             [
              0.6666666666666666,
              "#ed7953"
             ],
             [
              0.7777777777777778,
              "#fb9f3a"
             ],
             [
              0.8888888888888888,
              "#fdca26"
             ],
             [
              1,
              "#f0f921"
             ]
            ],
            "type": "surface"
           }
          ],
          "table": [
           {
            "cells": {
             "fill": {
              "color": "#EBF0F8"
             },
             "line": {
              "color": "white"
             }
            },
            "header": {
             "fill": {
              "color": "#C8D4E3"
             },
             "line": {
              "color": "white"
             }
            },
            "type": "table"
           }
          ]
         },
         "layout": {
          "annotationdefaults": {
           "arrowcolor": "#2a3f5f",
           "arrowhead": 0,
           "arrowwidth": 1
          },
          "autotypenumbers": "strict",
          "coloraxis": {
           "colorbar": {
            "outlinewidth": 0,
            "ticks": ""
           }
          },
          "colorscale": {
           "diverging": [
            [
             0,
             "#8e0152"
            ],
            [
             0.1,
             "#c51b7d"
            ],
            [
             0.2,
             "#de77ae"
            ],
            [
             0.3,
             "#f1b6da"
            ],
            [
             0.4,
             "#fde0ef"
            ],
            [
             0.5,
             "#f7f7f7"
            ],
            [
             0.6,
             "#e6f5d0"
            ],
            [
             0.7,
             "#b8e186"
            ],
            [
             0.8,
             "#7fbc41"
            ],
            [
             0.9,
             "#4d9221"
            ],
            [
             1,
             "#276419"
            ]
           ],
           "sequential": [
            [
             0,
             "#0d0887"
            ],
            [
             0.1111111111111111,
             "#46039f"
            ],
            [
             0.2222222222222222,
             "#7201a8"
            ],
            [
             0.3333333333333333,
             "#9c179e"
            ],
            [
             0.4444444444444444,
             "#bd3786"
            ],
            [
             0.5555555555555556,
             "#d8576b"
            ],
            [
             0.6666666666666666,
             "#ed7953"
            ],
            [
             0.7777777777777778,
             "#fb9f3a"
            ],
            [
             0.8888888888888888,
             "#fdca26"
            ],
            [
             1,
             "#f0f921"
            ]
           ],
           "sequentialminus": [
            [
             0,
             "#0d0887"
            ],
            [
             0.1111111111111111,
             "#46039f"
            ],
            [
             0.2222222222222222,
             "#7201a8"
            ],
            [
             0.3333333333333333,
             "#9c179e"
            ],
            [
             0.4444444444444444,
             "#bd3786"
            ],
            [
             0.5555555555555556,
             "#d8576b"
            ],
            [
             0.6666666666666666,
             "#ed7953"
            ],
            [
             0.7777777777777778,
             "#fb9f3a"
            ],
            [
             0.8888888888888888,
             "#fdca26"
            ],
            [
             1,
             "#f0f921"
            ]
           ]
          },
          "colorway": [
           "#636efa",
           "#EF553B",
           "#00cc96",
           "#ab63fa",
           "#FFA15A",
           "#19d3f3",
           "#FF6692",
           "#B6E880",
           "#FF97FF",
           "#FECB52"
          ],
          "font": {
           "color": "#2a3f5f"
          },
          "geo": {
           "bgcolor": "white",
           "lakecolor": "white",
           "landcolor": "#E5ECF6",
           "showlakes": true,
           "showland": true,
           "subunitcolor": "white"
          },
          "hoverlabel": {
           "align": "left"
          },
          "hovermode": "closest",
          "mapbox": {
           "style": "light"
          },
          "paper_bgcolor": "white",
          "plot_bgcolor": "#E5ECF6",
          "polar": {
           "angularaxis": {
            "gridcolor": "white",
            "linecolor": "white",
            "ticks": ""
           },
           "bgcolor": "#E5ECF6",
           "radialaxis": {
            "gridcolor": "white",
            "linecolor": "white",
            "ticks": ""
           }
          },
          "scene": {
           "xaxis": {
            "backgroundcolor": "#E5ECF6",
            "gridcolor": "white",
            "gridwidth": 2,
            "linecolor": "white",
            "showbackground": true,
            "ticks": "",
            "zerolinecolor": "white"
           },
           "yaxis": {
            "backgroundcolor": "#E5ECF6",
            "gridcolor": "white",
            "gridwidth": 2,
            "linecolor": "white",
            "showbackground": true,
            "ticks": "",
            "zerolinecolor": "white"
           },
           "zaxis": {
            "backgroundcolor": "#E5ECF6",
            "gridcolor": "white",
            "gridwidth": 2,
            "linecolor": "white",
            "showbackground": true,
            "ticks": "",
            "zerolinecolor": "white"
           }
          },
          "shapedefaults": {
           "line": {
            "color": "#2a3f5f"
           }
          },
          "ternary": {
           "aaxis": {
            "gridcolor": "white",
            "linecolor": "white",
            "ticks": ""
           },
           "baxis": {
            "gridcolor": "white",
            "linecolor": "white",
            "ticks": ""
           },
           "bgcolor": "#E5ECF6",
           "caxis": {
            "gridcolor": "white",
            "linecolor": "white",
            "ticks": ""
           }
          },
          "title": {
           "x": 0.05
          },
          "xaxis": {
           "automargin": true,
           "gridcolor": "white",
           "linecolor": "white",
           "ticks": "",
           "title": {
            "standoff": 15
           },
           "zerolinecolor": "white",
           "zerolinewidth": 2
          },
          "yaxis": {
           "automargin": true,
           "gridcolor": "white",
           "linecolor": "white",
           "ticks": "",
           "title": {
            "standoff": 15
           },
           "zerolinecolor": "white",
           "zerolinewidth": 2
          }
         }
        },
        "title": {
         "text": "F-Pattern Layout Example"
        },
        "xaxis": {
         "anchor": "y",
         "domain": [
          0.7875,
          1
         ]
        },
        "xaxis2": {
         "anchor": "y2",
         "domain": [
          0,
          0.2125
         ]
        },
        "xaxis3": {
         "anchor": "y3",
         "domain": [
          0.2625,
          0.475
         ]
        },
        "xaxis4": {
         "anchor": "y4",
         "domain": [
          0.525,
          0.7375
         ]
        },
        "xaxis5": {
         "anchor": "y5",
         "domain": [
          0.7875,
          1
         ]
        },
        "yaxis": {
         "anchor": "x",
         "domain": [
          0.43333333333333335,
          0.7000000000000001
         ]
        },
        "yaxis2": {
         "anchor": "x2",
         "domain": [
          0,
          0.2666666666666667
         ]
        },
        "yaxis3": {
         "anchor": "x3",
         "domain": [
          0,
          0.2666666666666667
         ]
        },
        "yaxis4": {
         "anchor": "x4",
         "domain": [
          0,
          0.2666666666666667
         ]
        },
        "yaxis5": {
         "anchor": "x5",
         "domain": [
          0,
          0.2666666666666667
         ]
        }
       }
      },
      "image/png": "[encoded data removed]"
     },
     "metadata": {},
     "output_type": "display_data"
    }
   ],
   "source": [
    "# Demonstrate F-Pattern Layout\n",
    "def create_f_pattern_layout():\n",
    "    \"\"\"Create a dashboard following F-pattern layout principles\"\"\"\n",
    "    \n",
    "    fig = make_subplots(\n",
    "        rows=3, cols=4,\n",
    "        subplot_titles=[\n",
    "            'KEY METRIC 1', 'KEY METRIC 2', 'KEY METRIC 3', 'KEY METRIC 4',\n",
    "            'Details', '', '', 'Trend',\n",
    "            'Supporting 1', 'Supporting 2', 'Supporting 3', 'Actions'\n",
    "        ],\n",
    "        specs=[\n",
    "            [{'type': 'indicator'}, {'type': 'indicator'}, \n",
    "             {'type': 'indicator'}, {'type': 'indicator'}],\n",
    "            [{'type': 'table', 'colspan': 3}, None, None, {'type': 'scatter'}],\n",
    "            [{'type': 'bar'}, {'type': 'bar'}, {'type': 'bar'}, {'type': 'scatter'}]\n",
    "        ],\n",
    "        row_heights=[0.2, 0.4, 0.4]\n",
    "    )\n",
    "    \n",
    "    # Top row - KPIs\n",
    "    kpi_values = [95.2, 1842, 78.5, 12.3]\n",
    "    kpi_titles = ['Efficiency %', 'Daily Users', 'Satisfaction', 'Growth %']\n",
    "    \n",
    "    for i, (val, title) in enumerate(zip(kpi_values, kpi_titles)):\n",
    "        fig.add_trace(\n",
    "            go.Indicator(\n",
    "                mode=\"number+delta\",\n",
    "                value=val,\n",
    "                title={'text': title},\n",
    "                delta={'reference': val * 0.9}\n",
    "            ),\n",
    "            row=1, col=i+1\n",
    "        )\n",
    "    \n",
    "    # Middle section - Table\n",
    "    fig.add_trace(\n",
    "        go.Table(\n",
    "            header=dict(values=['Task', 'Owner', 'Status', 'Priority']),\n",
    "            cells=dict(values=[\n",
    "                ['Task A', 'Task B', 'Task C'],\n",
    "                ['John', 'Sarah', 'Mike'],\n",
    "                ['In Progress', 'Complete', 'Pending'],\n",
    "                ['High', 'Medium', 'Low']\n",
    "            ])\n",
    "        ),\n",
    "        row=2, col=1\n",
    "    )\n",
    "    \n",
    "    # Trend line\n",
    "    x = np.linspace(0, 10, 50)\n",
    "    y = 50 + 10 * np.sin(x) + np.random.normal(0, 2, 50)\n",
    "    fig.add_trace(\n",
    "        go.Scatter(x=x, y=y, mode='lines'),\n",
    "        row=2, col=4\n",
    "    )\n",
    "    \n",
    "    # Bottom row - Supporting charts\n",
    "    for i in range(3):\n",
    "        fig.add_trace(\n",
    "            go.Bar(x=['A', 'B', 'C'], y=np.random.randint(10, 100, 3)),\n",
    "            row=3, col=i+1\n",
    "        )\n",
    "    \n",
    "    fig.add_trace(\n",
    "        go.Scatter(x=[1, 2, 3, 4], y=[10, 25, 15, 30], mode='markers+lines'),\n",
    "        row=3, col=4\n",
    "    )\n",
    "    \n",
    "    fig.update_layout(height=800, showlegend=False, \n",
    "                     title_text=\"F-Pattern Layout Example\")\n",
    "    return fig\n",
    "\n",
    "f_pattern = create_f_pattern_layout()\n",
    "f_pattern.show()"
   ]
  },
  {
   "cell_type": "markdown",
   "metadata": {},
   "source": [
    "## 3. Interactive Components\n",
    "\n",
    "Building dynamic dashboard elements with ipywidgets."
   ]
  },
  {
   "cell_type": "code",
   "execution_count": 7,
   "metadata": {},
   "outputs": [
    {
     "name": "stdout",
     "output_type": "stream",
     "text": [
      "Interactive data ready: (365, 6)\n"
     ]
    }
   ],
   "source": [
    "# Create sample data for interactive components\n",
    "np.random.seed(42)\n",
    "dates = pd.date_range('2023-01-01', '2023-12-31', freq='D')\n",
    "interactive_df = pd.DataFrame({\n",
    "    'date': dates,\n",
    "    'sales': 1000 + np.cumsum(np.random.randn(len(dates)) * 50),\n",
    "    'profit': 500 + np.cumsum(np.random.randn(len(dates)) * 30),\n",
    "    'customers': np.random.poisson(100, len(dates)),\n",
    "    'region': np.random.choice(['North', 'South', 'East', 'West'], len(dates)),\n",
    "    'product': np.random.choice(['A', 'B', 'C'], len(dates))\n",
    "})\n",
    "\n",
    "print(\"Interactive data ready:\", interactive_df.shape)"
   ]
  },
  {
   "cell_type": "markdown",
   "metadata": {},
   "source": [
    "### 3.1 Interactive Filters"
   ]
  },
  {
   "cell_type": "code",
   "execution_count": 8,
   "metadata": {},
   "outputs": [
    {
     "data": {
      "application/vnd.jupyter.widget-view+json": {
       "model_id": "71dd7ced2a4646f8a0b42b80af5f6f66",
       "version_major": 2,
       "version_minor": 0
      },
      "text/plain": [
       "VBox(children=(HTML(value='<h3>Dashboard Controls</h3>'), HBox(children=(Dropdown(description='Region:', optio…"
      ]
     },
     "metadata": {},
     "output_type": "display_data"
    }
   ],
   "source": [
    "# Interactive filtering with ipywidgets\n",
    "from IPython.display import clear_output\n",
    "\n",
    "def create_interactive_dashboard(df):\n",
    "    \"\"\"Create an interactive dashboard with filters\"\"\"\n",
    "    \n",
    "    # Create widgets\n",
    "    region_dropdown = widgets.Dropdown(\n",
    "        options=['All'] + df['region'].unique().tolist(),\n",
    "        value='All',\n",
    "        description='Region:'\n",
    "    )\n",
    "    \n",
    "    product_dropdown = widgets.Dropdown(\n",
    "        options=['All'] + df['product'].unique().tolist(),\n",
    "        value='All',\n",
    "        description='Product:'\n",
    "    )\n",
    "    \n",
    "    metric_radio = widgets.RadioButtons(\n",
    "        options=['sales', 'profit', 'customers'],\n",
    "        value='sales',\n",
    "        description='Metric:'\n",
    "    )\n",
    "    \n",
    "    output = widgets.Output()\n",
    "    \n",
    "    def update_dashboard(region, product, metric):\n",
    "        with output:\n",
    "            clear_output(wait=True)\n",
    "            \n",
    "            # Filter data\n",
    "            filtered_df = df.copy()\n",
    "            if region != 'All':\n",
    "                filtered_df = filtered_df[filtered_df['region'] == region]\n",
    "            if product != 'All':\n",
    "                filtered_df = filtered_df[filtered_df['product'] == product]\n",
    "            \n",
    "            # Create plot\n",
    "            fig = go.Figure()\n",
    "            fig.add_trace(go.Scatter(\n",
    "                x=filtered_df['date'],\n",
    "                y=filtered_df[metric],\n",
    "                mode='lines',\n",
    "                name=metric.capitalize()\n",
    "            ))\n",
    "            \n",
    "            fig.update_layout(\n",
    "                title=f'{metric.capitalize()} Analysis',\n",
    "                height=400\n",
    "            )\n",
    "            \n",
    "            fig.show()\n",
    "            \n",
    "            print(f\"Total {metric}: {filtered_df[metric].sum():,.0f}\")\n",
    "            print(f\"Average: {filtered_df[metric].mean():,.2f}\")\n",
    "            print(f\"Records: {len(filtered_df):,}\")\n",
    "    \n",
    "    # Create interactive widget\n",
    "    interactive_widget = widgets.interactive(\n",
    "        update_dashboard,\n",
    "        region=region_dropdown,\n",
    "        product=product_dropdown,\n",
    "        metric=metric_radio\n",
    "    )\n",
    "    \n",
    "    display(VBox([\n",
    "        widgets.HTML('<h3>Dashboard Controls</h3>'),\n",
    "        HBox([region_dropdown, product_dropdown, metric_radio]),\n",
    "        output\n",
    "    ]))\n",
    "    \n",
    "    # Initial display\n",
    "    update_dashboard('All', 'All', 'sales')\n",
    "\n",
    "create_interactive_dashboard(interactive_df)"
   ]
  },
  {
   "cell_type": "markdown",
   "metadata": {},
   "source": [
    "## 4. State Management & Callbacks"
   ]
  },
  {
   "cell_type": "code",
   "execution_count": 9,
   "metadata": {},
   "outputs": [
    {
     "name": "stdout",
     "output_type": "stream",
     "text": [
      "Initial State:\n",
      "{'current_filters': {}, 'cache_size': 0, 'history_length': 0, 'callbacks_registered': 1}\n",
      "\n",
      "Filter changed: region\n",
      "  Old: None -> New: North\n",
      "Filter changed: metric\n",
      "  Old: None -> New: profit\n",
      "\n",
      "Final State:\n",
      "{'current_filters': {'region': 'North', 'metric': 'profit'}, 'cache_size': 0, 'history_length': 2, 'callbacks_registered': 1}\n"
     ]
    }
   ],
   "source": [
    "# Dashboard State Management\n",
    "class DashboardState:\n",
    "    \"\"\"Manage dashboard state and callbacks\"\"\"\n",
    "    \n",
    "    def __init__(self):\n",
    "        self.filters = {}\n",
    "        self.cache = {}\n",
    "        self.history = []\n",
    "        self.callbacks = []\n",
    "    \n",
    "    def update_filter(self, filter_name, value):\n",
    "        \"\"\"Update a filter and trigger callbacks\"\"\"\n",
    "        old_value = self.filters.get(filter_name)\n",
    "        self.filters[filter_name] = value\n",
    "        \n",
    "        # Add to history\n",
    "        self.history.append({\n",
    "            'timestamp': datetime.now(),\n",
    "            'filter': filter_name,\n",
    "            'old_value': old_value,\n",
    "            'new_value': value\n",
    "        })\n",
    "        \n",
    "        # Trigger callbacks\n",
    "        for callback in self.callbacks:\n",
    "            callback(filter_name, old_value, value)\n",
    "        \n",
    "        # Clear cache\n",
    "        self.cache = {}\n",
    "    \n",
    "    def register_callback(self, callback):\n",
    "        \"\"\"Register a callback function\"\"\"\n",
    "        self.callbacks.append(callback)\n",
    "    \n",
    "    def get_state_summary(self):\n",
    "        \"\"\"Get current state summary\"\"\"\n",
    "        return {\n",
    "            'current_filters': self.filters,\n",
    "            'cache_size': len(self.cache),\n",
    "            'history_length': len(self.history),\n",
    "            'callbacks_registered': len(self.callbacks)\n",
    "        }\n",
    "\n",
    "# Demonstrate state management\n",
    "dashboard_state = DashboardState()\n",
    "\n",
    "# Register callbacks\n",
    "def log_filter_change(filter_name, old_value, new_value):\n",
    "    print(f\"Filter changed: {filter_name}\")\n",
    "    print(f\"  Old: {old_value} -> New: {new_value}\")\n",
    "\n",
    "dashboard_state.register_callback(log_filter_change)\n",
    "\n",
    "# Test state management\n",
    "print(\"Initial State:\")\n",
    "print(dashboard_state.get_state_summary())\n",
    "print()\n",
    "\n",
    "# Update filters\n",
    "dashboard_state.update_filter('region', 'North')\n",
    "dashboard_state.update_filter('metric', 'profit')\n",
    "\n",
    "print(\"\\nFinal State:\")\n",
    "print(dashboard_state.get_state_summary())"
   ]
  },
  {
   "cell_type": "markdown",
   "metadata": {},
   "source": [
    "## 5. Performance Optimization"
   ]
  },
  {
   "cell_type": "code",
   "execution_count": 10,
   "metadata": {},
   "outputs": [
    {
     "name": "stdout",
     "output_type": "stream",
     "text": [
      "First call (no cache):\n",
      "Computing sum of sales by region...\n",
      "Time: 0.50s\n",
      "\n",
      "Second call (cached):\n",
      "Time: 0.0000s\n"
     ]
    }
   ],
   "source": [
    "# Performance optimization with caching\n",
    "from functools import lru_cache\n",
    "import hashlib\n",
    "\n",
    "class OptimizedDashboard:\n",
    "    \"\"\"Dashboard with performance optimizations\"\"\"\n",
    "    \n",
    "    def __init__(self, data):\n",
    "        self.data = data\n",
    "        self.query_cache = {}\n",
    "        \n",
    "    @lru_cache(maxsize=128)\n",
    "    def compute_aggregation(self, group_by, metric, aggregation):\n",
    "        \"\"\"Cached aggregation computation\"\"\"\n",
    "        print(f\"Computing {aggregation} of {metric} by {group_by}...\")\n",
    "        time.sleep(0.5)  # Simulate expensive computation\n",
    "        \n",
    "        if aggregation == 'sum':\n",
    "            return self.data.groupby(group_by)[metric].sum()\n",
    "        elif aggregation == 'mean':\n",
    "            return self.data.groupby(group_by)[metric].mean()\n",
    "    \n",
    "    def get_filtered_data(self, filters):\n",
    "        \"\"\"Get filtered data with caching\"\"\"\n",
    "        # Create cache key\n",
    "        cache_key = hashlib.md5(\n",
    "            str(sorted(filters.items())).encode()\n",
    "        ).hexdigest()\n",
    "        \n",
    "        # Check cache\n",
    "        if cache_key in self.query_cache:\n",
    "            print(\"Using cached result\")\n",
    "            return self.query_cache[cache_key]\n",
    "        \n",
    "        # Apply filters\n",
    "        print(\"Computing query...\")\n",
    "        filtered = self.data.copy()\n",
    "        \n",
    "        for column, value in filters.items():\n",
    "            filtered = filtered[filtered[column] == value]\n",
    "        \n",
    "        # Cache result\n",
    "        self.query_cache[cache_key] = filtered\n",
    "        return filtered\n",
    "\n",
    "# Demonstrate optimization\n",
    "optimized_dash = OptimizedDashboard(interactive_df)\n",
    "\n",
    "# First call - slow\n",
    "print(\"First call (no cache):\")\n",
    "start = time.time()\n",
    "result1 = optimized_dash.compute_aggregation('region', 'sales', 'sum')\n",
    "print(f\"Time: {time.time() - start:.2f}s\\n\")\n",
    "\n",
    "# Second call - fast\n",
    "print(\"Second call (cached):\")\n",
    "start = time.time()\n",
    "result2 = optimized_dash.compute_aggregation('region', 'sales', 'sum')\n",
    "print(f\"Time: {time.time() - start:.4f}s\")"
   ]
  },
  {
   "cell_type": "markdown",
   "metadata": {},
   "source": [
    "## 6. Dashboard Best Practices Checklist"
   ]
  },
  {
   "cell_type": "code",
   "execution_count": 11,
   "metadata": {},
   "outputs": [
    {
     "name": "stdout",
     "output_type": "stream",
     "text": [
      "Dashboard Evaluation Report\n",
      "========================================\n",
      "\n",
      "Purpose & Audience\n",
      "  [OK] Clear purpose defined\n",
      "  [OK] Target audience identified\n",
      "  [OK] Key decisions supported\n",
      "  Score: 3/3\n",
      "\n",
      "Visual Design\n",
      "  [OK] Consistent color scheme\n",
      "  [OK] Appropriate chart types\n",
      "  [OK] Clear visual hierarchy\n",
      "  Score: 3/3\n",
      "\n",
      "Performance\n",
      "  [OK] Fast load time\n",
      "  [OK] Caching implemented\n",
      "  [X] Progressive loading\n",
      "  Score: 2/3\n",
      "\n",
      "========================================\n",
      "Overall Score: 88.9%\n"
     ]
    }
   ],
   "source": [
    "# Dashboard evaluation checklist\n",
    "def evaluate_dashboard(dashboard_config):\n",
    "    \"\"\"Evaluate dashboard against best practices\"\"\"\n",
    "    \n",
    "    checklist = {\n",
    "        'Purpose & Audience': [\n",
    "            ('Clear purpose defined', dashboard_config.get('purpose')),\n",
    "            ('Target audience identified', dashboard_config.get('audience')),\n",
    "            ('Key decisions supported', dashboard_config.get('decisions'))\n",
    "        ],\n",
    "        'Visual Design': [\n",
    "            ('Consistent color scheme', dashboard_config.get('color_scheme')),\n",
    "            ('Appropriate chart types', dashboard_config.get('chart_types')),\n",
    "            ('Clear visual hierarchy', dashboard_config.get('hierarchy'))\n",
    "        ],\n",
    "        'Performance': [\n",
    "            ('Fast load time', dashboard_config.get('load_time', 10) < 3),\n",
    "            ('Caching implemented', dashboard_config.get('caching')),\n",
    "            ('Progressive loading', dashboard_config.get('progressive_loading'))\n",
    "        ]\n",
    "    }\n",
    "    \n",
    "    print(\"Dashboard Evaluation Report\")\n",
    "    print(\"=\"*40)\n",
    "    \n",
    "    total_score = 0\n",
    "    total_items = 0\n",
    "    \n",
    "    for category, items in checklist.items():\n",
    "        print(f\"\\n{category}\")\n",
    "        category_score = 0\n",
    "        \n",
    "        for description, passed in items:\n",
    "            status = 'OK' if passed else 'X'\n",
    "            print(f\"  [{status}] {description}\")\n",
    "            if passed:\n",
    "                category_score += 1\n",
    "                total_score += 1\n",
    "            total_items += 1\n",
    "        \n",
    "        print(f\"  Score: {category_score}/{len(items)}\")\n",
    "    \n",
    "    final_score = (total_score / total_items) * 100\n",
    "    print(f\"\\n\" + \"=\"*40)\n",
    "    print(f\"Overall Score: {final_score:.1f}%\")\n",
    "\n",
    "# Example evaluation\n",
    "example_dashboard = {\n",
    "    'purpose': True,\n",
    "    'audience': True,\n",
    "    'decisions': True,\n",
    "    'color_scheme': True,\n",
    "    'chart_types': True,\n",
    "    'hierarchy': True,\n",
    "    'load_time': 2.5,\n",
    "    'caching': True,\n",
    "    'progressive_loading': False\n",
    "}\n",
    "\n",
    "evaluate_dashboard(example_dashboard)"
   ]
  },
  {
   "cell_type": "markdown",
   "metadata": {},
   "source": [
    "## Module Summary\n",
    "\n",
    "### Key Takeaways:\n",
    "\n",
    "1. **Dashboard Design Patterns**\n",
    "   - Monitoring: Real-time KPIs and alerts\n",
    "   - Analytical: Deep analysis and trends\n",
    "   - Operational: Task management and actions\n",
    "\n",
    "2. **Layout Principles**\n",
    "   - F-Pattern for content-heavy dashboards\n",
    "   - Z-Pattern for action-oriented dashboards\n",
    "   - Grid systems for organization\n",
    "\n",
    "3. **Interactive Components**\n",
    "   - Filters and controls for user interaction\n",
    "   - State management for consistency\n",
    "   - Callbacks for dynamic updates\n",
    "\n",
    "4. **Performance Optimization**\n",
    "   - Caching strategies\n",
    "   - Pre-aggregation\n",
    "   - Progressive loading\n",
    "\n",
    "5. **Best Practices**\n",
    "   - Clear purpose and audience\n",
    "   - Visual hierarchy\n",
    "   - Performance monitoring"
   ]
  },
  {
   "cell_type": "markdown",
   "metadata": {},
   "source": [
    "## Practice Exercises\n",
    "\n",
    "### Exercise 1: Design Your Dashboard\n",
    "Create a dashboard layout for a specific use case\n",
    "\n",
    "### Exercise 2: Implement Caching\n",
    "Add caching to improve dashboard performance\n",
    "\n",
    "### Exercise 3: Build Interactive Filters\n",
    "Create linked filters that update multiple visualizations"
   ]
  },
  {
   "cell_type": "code",
   "execution_count": null,
   "metadata": {},
   "outputs": [],
   "source": [
    "# Your exercise code here..."
   ]
  }
 ],
 "metadata": {
  "kernelspec": {
   "display_name": "Python (AI Tech Institute)",
   "language": "python",
   "name": "aitechinstitute"
  },
  "language_info": {
   "codemirror_mode": {
    "name": "ipython",
    "version": 3
   },
   "file_extension": ".py",
   "mimetype": "text/x-python",
   "name": "python",
   "nbconvert_exporter": "python",
   "pygments_lexer": "ipython3",
   "version": "3.11.13"
  }
 },
 "nbformat": 4,
 "nbformat_minor": 4
}
