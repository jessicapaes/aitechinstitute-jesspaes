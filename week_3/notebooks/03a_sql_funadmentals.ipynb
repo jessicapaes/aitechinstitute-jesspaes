{
 "cells": [
  {
   "cell_type": "markdown",
   "metadata": {},
   "source": [
    "# **AI TECH INSTITUTE** · *Intermediate AI & Data Science*\n",
    "### Week 3 - Notebook 01: SQL Fundamentals for Absolute Beginners\n",
    "**Instructor:** Amir Charkhi |  **Goal:** SQL Fundamentals\n",
    "\n",
    "> Format: theory → implementation → best practices → real-world application.\n",
    "\n",
    "## Your First Steps into the World of Databases\n",
    "\n",
    "**Learning Objectives:**\n",
    "- Understand what SQL is and why it's essential for data science\n",
    "- Learn how databases differ from CSV/Excel files\n",
    "- Convert pandas DataFrames to SQL databases\n",
    "- Write your first SQL queries\n",
    "- Read from and write to databases using Python\n",
    "- Master the essential SQL commands\n",
    "\n",
    "**Prerequisites:** Basic Python and pandas knowledge\n",
    "\n"
   ]
  },
  {
   "cell_type": "markdown",
   "metadata": {},
   "source": [
    "## 🤔 Why Should I Care About SQL?\n",
    "\n",
    "Imagine you work at Netflix:\n",
    "- **500 million** users\n",
    "- **50 billion** viewing events per month\n",
    "- **10 TB** of data generated daily\n",
    "\n",
    "Can you load this into pandas? **NO!** Your computer would explode! 💥\n",
    "\n",
    "This is where SQL comes in:\n",
    "- Process **billions** of rows without loading them into memory\n",
    "- Query data that's **100x larger** than your RAM\n",
    "- Share data across **teams** without sending files\n",
    "- Get results in **seconds** instead of hours\n",
    "\n",
    "**Bottom line:** If you want a data job, you NEED SQL. It's used by:\n",
    "- 🏢 **Every** tech company (Google, Meta, Amazon, Netflix)\n",
    "- 🏦 **Every** bank and financial institution\n",
    "- 🏥 **Every** healthcare organization\n",
    "- 🛍️ **Every** retail company"
   ]
  },
  {
   "cell_type": "markdown",
   "metadata": {},
   "source": [
    "## 📚 Part 0: Essential Libraries and Tools\n",
    "\n",
    "Let's understand the Python libraries for working with databases."
   ]
  },
  {
   "cell_type": "code",
   "execution_count": 60,
   "metadata": {},
   "outputs": [
    {
     "name": "stdout",
     "output_type": "stream",
     "text": [
      "📚 Library Guide:\n",
      "\n",
      "1. sqlite3: Built into Python, perfect for learning\n",
      "   - Serverless database (just a file)\n",
      "   - Great for prototypes and small projects\n",
      "\n",
      "2. pandas: Your bridge between Python and SQL\n",
      "   - pd.read_sql(): Read SQL query results into DataFrame\n",
      "   - df.to_sql(): Save DataFrame to database\n",
      "\n",
      "3. sqlalchemy: Professional database toolkit\n",
      "   - Works with any database (PostgreSQL, MySQL, etc.)\n",
      "   - Connection pooling and advanced features\n",
      "\n",
      "✅ All libraries loaded and ready!\n"
     ]
    }
   ],
   "source": [
    "# Essential imports for SQL in Python\n",
    "import pandas as pd\n",
    "import numpy as np\n",
    "import sqlite3  # Built-in SQL database\n",
    "from sqlalchemy import create_engine  # Advanced database toolkit\n",
    "import warnings\n",
    "warnings.filterwarnings('ignore')\n",
    "\n",
    "# For visualization\n",
    "import matplotlib.pyplot as plt\n",
    "import seaborn as sns\n",
    "sns.set_style('whitegrid')\n",
    "\n",
    "print(\"📚 Library Guide:\")\n",
    "print(\"\")\n",
    "print(\"1. sqlite3: Built into Python, perfect for learning\")\n",
    "print(\"   - Serverless database (just a file)\")\n",
    "print(\"   - Great for prototypes and small projects\")\n",
    "print(\"\")\n",
    "print(\"2. pandas: Your bridge between Python and SQL\")\n",
    "print(\"   - pd.read_sql(): Read SQL query results into DataFrame\")\n",
    "print(\"   - df.to_sql(): Save DataFrame to database\")\n",
    "print(\"\")\n",
    "print(\"3. sqlalchemy: Professional database toolkit\")\n",
    "print(\"   - Works with any database (PostgreSQL, MySQL, etc.)\")\n",
    "print(\"   - Connection pooling and advanced features\")\n",
    "print(\"\")\n",
    "print(\"✅ All libraries loaded and ready!\")"
   ]
  },
  {
   "cell_type": "markdown",
   "metadata": {},
   "source": [
    "---\n",
    "\n",
    "## 🗄️ Part 1: What Exactly is SQL?\n",
    "\n",
    "**SQL** = Structured Query Language (pronounced \"sequel\" or \"S-Q-L\")\n",
    "\n",
    "Think of it as **English for talking to databases**."
   ]
  },
  {
   "cell_type": "code",
   "execution_count": 61,
   "metadata": {},
   "outputs": [
    {
     "name": "stdout",
     "output_type": "stream",
     "text": [
      "🎯 SQL vs Pandas Comparison\n",
      "\n",
      "Task: Get all customers from USA\n",
      "\n",
      "PANDAS way:\n",
      "  df[df['country'] == 'USA']\n",
      "\n",
      "SQL way:\n",
      "  SELECT * FROM customers WHERE country = 'USA'\n",
      "\n",
      "💡 SQL reads almost like English!\n",
      "\n",
      "==================================================\n",
      "\n",
      "🔑 Key Concepts:\n",
      "\n",
      "1. DATABASE: A container for tables (like an Excel file)\n",
      "2. TABLE: Structured data (like an Excel sheet or pandas DataFrame)\n",
      "3. ROW: A single record (like a row in pandas)\n",
      "4. COLUMN: A field/attribute (like a column in pandas)\n",
      "5. QUERY: A question you ask the database\n"
     ]
    }
   ],
   "source": [
    "# Let's see SQL in action with a simple example\n",
    "print(\"🎯 SQL vs Pandas Comparison\\n\")\n",
    "print(\"Task: Get all customers from USA\\n\")\n",
    "\n",
    "print(\"PANDAS way:\")\n",
    "print(\"  df[df['country'] == 'USA']\")\n",
    "print(\"\")\n",
    "print(\"SQL way:\")\n",
    "print(\"  SELECT * FROM customers WHERE country = 'USA'\")\n",
    "print(\"\")\n",
    "print(\"💡 SQL reads almost like English!\")\n",
    "print(\"\")\n",
    "print(\"=\"*50)\n",
    "print(\"\")\n",
    "print(\"🔑 Key Concepts:\")\n",
    "print(\"\")\n",
    "print(\"1. DATABASE: A container for tables (like an Excel file)\")\n",
    "print(\"2. TABLE: Structured data (like an Excel sheet or pandas DataFrame)\")\n",
    "print(\"3. ROW: A single record (like a row in pandas)\")\n",
    "print(\"4. COLUMN: A field/attribute (like a column in pandas)\")\n",
    "print(\"5. QUERY: A question you ask the database\")"
   ]
  },
  {
   "cell_type": "markdown",
   "metadata": {},
   "source": [
    "### 1.1 CSV/Excel vs Database - What's the Difference?"
   ]
  },
  {
   "cell_type": "code",
   "execution_count": 62,
   "metadata": {},
   "outputs": [
    {
     "name": "stdout",
     "output_type": "stream",
     "text": [
      "📊 CSV/Excel vs SQL Database:\n",
      "\n",
      "        Aspect             CSV/Excel             SQL Database\n",
      "    Size Limit              ~1M rows         Billions of rows\n",
      "         Speed  Slow for large files         Fast at any size\n",
      "Multiple Users        File conflicts        Concurrent access\n",
      "Data Integrity         No validation      Data types enforced\n",
      " Relationships                Manual             Foreign keys\n",
      "      Querying       Load everything   Get only what you need\n",
      "       Storage Entire file in memory On disk, query in chunks\n",
      "\n",
      "💡 Rule of thumb:\n",
      "  - < 10,000 rows: CSV is fine\n",
      "  - 10,000 - 1M rows: Consider SQL\n",
      "  - > 1M rows: Definitely use SQL\n"
     ]
    }
   ],
   "source": [
    "# Create a comparison table\n",
    "comparison = pd.DataFrame({\n",
    "    'Aspect': ['Size Limit', 'Speed', 'Multiple Users', 'Data Integrity', \n",
    "               'Relationships', 'Querying', 'Storage'],\n",
    "    'CSV/Excel': ['~1M rows', 'Slow for large files', 'File conflicts', \n",
    "                  'No validation', 'Manual', 'Load everything', 'Entire file in memory'],\n",
    "    'SQL Database': ['Billions of rows', 'Fast at any size', 'Concurrent access', \n",
    "                     'Data types enforced', 'Foreign keys', 'Get only what you need', 'On disk, query in chunks']\n",
    "})\n",
    "\n",
    "print(\"📊 CSV/Excel vs SQL Database:\\n\")\n",
    "print(comparison.to_string(index=False))\n",
    "print(\"\\n💡 Rule of thumb:\")\n",
    "print(\"  - < 10,000 rows: CSV is fine\")\n",
    "print(\"  - 10,000 - 1M rows: Consider SQL\")\n",
    "print(\"  - > 1M rows: Definitely use SQL\")"
   ]
  },
  {
   "cell_type": "markdown",
   "metadata": {},
   "source": [
    "---\n",
    "\n",
    "## 🏗️ Part 2: Creating Your First Database\n",
    "\n",
    "Let's create a database from scratch and understand how it works!"
   ]
  },
  {
   "cell_type": "markdown",
   "metadata": {},
   "source": [
    "### 2.1 Creating a Database Connection"
   ]
  },
  {
   "cell_type": "code",
   "execution_count": 63,
   "metadata": {},
   "outputs": [
    {
     "name": "stdout",
     "output_type": "stream",
     "text": [
      "🏗️ Creating your first database...\n",
      "\n",
      "✅ Database created!\n",
      "📁 Check your folder - you'll see 'my_first_database.db'\n",
      "\n",
      "🔑 Key Terms:\n",
      "  - CONNECTION: Your link to the database\n",
      "  - CURSOR: Executes SQL commands\n",
      "  - .db FILE: The actual database file\n"
     ]
    }
   ],
   "source": [
    "# Create a database (it's just a file!)\n",
    "print(\"🏗️ Creating your first database...\\n\")\n",
    "\n",
    "# Method 1: Using sqlite3 directly\n",
    "conn = sqlite3.connect('my_first_database.db')  # Creates a file called my_first_database.db\n",
    "cursor = conn.cursor()  # A cursor is like a pointer to execute commands\n",
    "\n",
    "print(\"✅ Database created!\")\n",
    "print(\"📁 Check your folder - you'll see 'my_first_database.db'\")\n",
    "print(\"\")\n",
    "print(\"🔑 Key Terms:\")\n",
    "print(\"  - CONNECTION: Your link to the database\")\n",
    "print(\"  - CURSOR: Executes SQL commands\")\n",
    "print(\"  - .db FILE: The actual database file\")"
   ]
  },
  {
   "cell_type": "markdown",
   "metadata": {},
   "source": [
    "### 2.2 Creating Your First Table"
   ]
  },
  {
   "cell_type": "code",
   "execution_count": 64,
   "metadata": {},
   "outputs": [
    {
     "name": "stdout",
     "output_type": "stream",
     "text": [
      "📋 Creating a table is like defining a DataFrame structure:\n",
      "\n",
      "SQL Command:\n",
      "\n",
      "CREATE TABLE students (\n",
      "    student_id INTEGER PRIMARY KEY,\n",
      "    name TEXT NOT NULL,\n",
      "    age INTEGER,\n",
      "    grade REAL,\n",
      "    enrolled_date DATE\n",
      ")\n",
      "\n",
      "\n",
      "✅ Table 'students' created!\n",
      "\n",
      "📚 Data Types in SQL:\n",
      "  - INTEGER: Whole numbers (1, 2, 3)\n",
      "  - REAL/FLOAT: Decimal numbers (3.14, 2.5)\n",
      "  - TEXT/VARCHAR: Text strings ('Hello')\n",
      "  - DATE/DATETIME: Dates and times\n",
      "  - BOOLEAN: True/False\n",
      "\n",
      "🔑 Special Constraints:\n",
      "  - PRIMARY KEY: Unique identifier for each row\n",
      "  - NOT NULL: This field cannot be empty\n",
      "  - UNIQUE: No duplicates allowed\n",
      "  - DEFAULT: Default value if none provided\n"
     ]
    }
   ],
   "source": [
    "# Create a simple table\n",
    "print(\"📋 Creating a table is like defining a DataFrame structure:\\n\")\n",
    "\n",
    "# Drop table if it exists (for re-running)\n",
    "cursor.execute(\"DROP TABLE IF EXISTS students\")\n",
    "\n",
    "# Create table with SQL\n",
    "create_table_sql = \"\"\"\n",
    "CREATE TABLE students (\n",
    "    student_id INTEGER PRIMARY KEY,\n",
    "    name TEXT NOT NULL,\n",
    "    age INTEGER,\n",
    "    grade REAL,\n",
    "    enrolled_date DATE\n",
    ")\n",
    "\"\"\"\n",
    "\n",
    "cursor.execute(create_table_sql)\n",
    "conn.commit()  # Save changes\n",
    "\n",
    "print(\"SQL Command:\")\n",
    "print(create_table_sql)\n",
    "print(\"\")\n",
    "print(\"✅ Table 'students' created!\")\n",
    "print(\"\")\n",
    "print(\"📚 Data Types in SQL:\")\n",
    "print(\"  - INTEGER: Whole numbers (1, 2, 3)\")\n",
    "print(\"  - REAL/FLOAT: Decimal numbers (3.14, 2.5)\")\n",
    "print(\"  - TEXT/VARCHAR: Text strings ('Hello')\")\n",
    "print(\"  - DATE/DATETIME: Dates and times\")\n",
    "print(\"  - BOOLEAN: True/False\")\n",
    "print(\"\")\n",
    "print(\"🔑 Special Constraints:\")\n",
    "print(\"  - PRIMARY KEY: Unique identifier for each row\")\n",
    "print(\"  - NOT NULL: This field cannot be empty\")\n",
    "print(\"  - UNIQUE: No duplicates allowed\")\n",
    "print(\"  - DEFAULT: Default value if none provided\")"
   ]
  },
  {
   "cell_type": "markdown",
   "metadata": {},
   "source": [
    "### 2.3 Inserting Data into Tables"
   ]
  },
  {
   "cell_type": "code",
   "execution_count": 65,
   "metadata": {},
   "outputs": [
    {
     "name": "stdout",
     "output_type": "stream",
     "text": [
      "➕ INSERTING DATA\n",
      "\n",
      "Method 1: Insert one row\n",
      "SQL:\n",
      "\n",
      "INSERT INTO students (name, age, grade, enrolled_date)\n",
      "VALUES ('Alice Smith', 20, 85.5, '2024-01-15')\n",
      "\n",
      "\n",
      "Method 2: Insert multiple rows\n",
      "✅ Inserted 5 students!\n",
      "\n",
      "💡 The '?' are placeholders - this prevents SQL injection attacks!\n"
     ]
    }
   ],
   "source": [
    "# Insert data - Method 1: One row at a time\n",
    "print(\"➕ INSERTING DATA\\n\")\n",
    "print(\"Method 1: Insert one row\")\n",
    "\n",
    "insert_sql = \"\"\"\n",
    "INSERT INTO students (name, age, grade, enrolled_date)\n",
    "VALUES ('Alice Smith', 20, 85.5, '2024-01-15')\n",
    "\"\"\"\n",
    "\n",
    "cursor.execute(insert_sql)\n",
    "print(\"SQL:\")\n",
    "print(insert_sql)\n",
    "\n",
    "# Method 2: Insert multiple rows\n",
    "print(\"\\nMethod 2: Insert multiple rows\")\n",
    "\n",
    "students_data = [\n",
    "    ('Bob Johnson', 21, 92.0, '2024-01-15'),\n",
    "    ('Charlie Brown', 19, 78.5, '2024-01-16'),\n",
    "    ('Diana Prince', 22, 95.0, '2024-01-16'),\n",
    "    ('Eve Wilson', 20, 88.0, '2024-01-17')\n",
    "]\n",
    "\n",
    "cursor.executemany(\n",
    "    \"INSERT INTO students (name, age, grade, enrolled_date) VALUES (?, ?, ?, ?)\",\n",
    "    students_data\n",
    ")\n",
    "\n",
    "conn.commit()  # Don't forget to commit!\n",
    "\n",
    "print(f\"✅ Inserted {len(students_data) + 1} students!\")\n",
    "print(\"\")\n",
    "print(\"💡 The '?' are placeholders - this prevents SQL injection attacks!\")"
   ]
  },
  {
   "cell_type": "code",
   "execution_count": 66,
   "metadata": {},
   "outputs": [
    {
     "name": "stdout",
     "output_type": "stream",
     "text": [
      "SQL:\n",
      "\n",
      "INSERT INTO students (name, age, grade, enrolled_date)\n",
      "VALUES ('Jessica Paes', 35, 90, '2025-09-09')\n",
      "\n"
     ]
    }
   ],
   "source": [
    "insert_sql = \"\"\"\n",
    "INSERT INTO students (name, age, grade, enrolled_date)\n",
    "VALUES ('Jessica Paes', 35, 90, '2025-09-09')\n",
    "\"\"\"\n",
    "\n",
    "cursor.execute(insert_sql)\n",
    "conn.commit()  # Don't forget to commit!\n",
    "print(\"SQL:\")\n",
    "print(insert_sql)"
   ]
  },
  {
   "cell_type": "code",
   "execution_count": 67,
   "metadata": {},
   "outputs": [
    {
     "data": {
      "text/html": [
       "<div>\n",
       "<style scoped>\n",
       "    .dataframe tbody tr th:only-of-type {\n",
       "        vertical-align: middle;\n",
       "    }\n",
       "\n",
       "    .dataframe tbody tr th {\n",
       "        vertical-align: top;\n",
       "    }\n",
       "\n",
       "    .dataframe thead th {\n",
       "        text-align: right;\n",
       "    }\n",
       "</style>\n",
       "<table border=\"1\" class=\"dataframe\">\n",
       "  <thead>\n",
       "    <tr style=\"text-align: right;\">\n",
       "      <th></th>\n",
       "      <th>student_id</th>\n",
       "      <th>name</th>\n",
       "      <th>age</th>\n",
       "      <th>grade</th>\n",
       "      <th>enrolled_date</th>\n",
       "    </tr>\n",
       "  </thead>\n",
       "  <tbody>\n",
       "    <tr>\n",
       "      <th>0</th>\n",
       "      <td>5</td>\n",
       "      <td>Eve Wilson</td>\n",
       "      <td>20</td>\n",
       "      <td>88.0</td>\n",
       "      <td>2024-01-17</td>\n",
       "    </tr>\n",
       "    <tr>\n",
       "      <th>1</th>\n",
       "      <td>6</td>\n",
       "      <td>Jessica Paes</td>\n",
       "      <td>35</td>\n",
       "      <td>90.0</td>\n",
       "      <td>2025-09-09</td>\n",
       "    </tr>\n",
       "  </tbody>\n",
       "</table>\n",
       "</div>"
      ],
      "text/plain": [
       "   student_id          name  age  grade enrolled_date\n",
       "0           5    Eve Wilson   20   88.0    2024-01-17\n",
       "1           6  Jessica Paes   35   90.0    2025-09-09"
      ]
     },
     "execution_count": 67,
     "metadata": {},
     "output_type": "execute_result"
    }
   ],
   "source": [
    "query = \"\"\"\n",
    "SELECT * FROM students WHERE enrolled_date > '2024-01-16'\n",
    "\"\"\"\n",
    "\n",
    "pd.read_sql(query, conn)\n",
    "\n"
   ]
  },
  {
   "cell_type": "code",
   "execution_count": 68,
   "metadata": {},
   "outputs": [],
   "source": [
    "delete_sql = \"DELETE FROM students WHERE student_id IN (12, 13, 14, 20)\"\n",
    "cursor.execute(delete_sql)\n",
    "conn.commit()"
   ]
  },
  {
   "cell_type": "markdown",
   "metadata": {},
   "source": [
    "---\n",
    "\n",
    "## 🔍 Part 3: Your First SQL Queries\n",
    "\n",
    "Time to ask questions to your database!"
   ]
  },
  {
   "cell_type": "markdown",
   "metadata": {},
   "source": [
    "### 3.1 SELECT - Getting Data Out"
   ]
  },
  {
   "cell_type": "code",
   "execution_count": 69,
   "metadata": {},
   "outputs": [
    {
     "name": "stdout",
     "output_type": "stream",
     "text": [
      "🔍 SELECT QUERIES - The Foundation of SQL\n",
      "\n",
      "1️⃣ Get all data (SELECT *)\n",
      "SQL: SELECT * FROM students\n",
      "Result:\n",
      "   student_id           name  age  grade enrolled_date\n",
      "0           1    Alice Smith   20   85.5    2024-01-15\n",
      "1           2    Bob Johnson   21   92.0    2024-01-15\n",
      "2           3  Charlie Brown   19   78.5    2024-01-16\n",
      "3           4   Diana Prince   22   95.0    2024-01-16\n",
      "4           5     Eve Wilson   20   88.0    2024-01-17\n",
      "5           6   Jessica Paes   35   90.0    2025-09-09\n",
      "\n",
      "==================================================\n",
      "\n",
      "2️⃣ Get specific columns\n",
      "SQL: SELECT name, grade FROM students\n",
      "Result:\n",
      "            name  grade\n",
      "0    Alice Smith   85.5\n",
      "1    Bob Johnson   92.0\n",
      "2  Charlie Brown   78.5\n",
      "3   Diana Prince   95.0\n",
      "4     Eve Wilson   88.0\n",
      "5   Jessica Paes   90.0\n",
      "\n",
      "==================================================\n",
      "\n",
      "3️⃣ Filter with WHERE\n",
      "SQL: SELECT name, grade FROM students WHERE grade > 85\n",
      "Result:\n",
      "           name  grade\n",
      "0   Alice Smith   85.5\n",
      "1   Bob Johnson   92.0\n",
      "2  Diana Prince   95.0\n",
      "3    Eve Wilson   88.0\n",
      "4  Jessica Paes   90.0\n",
      "\n",
      "💡 SELECT is like df[columns] in pandas\n",
      "💡 WHERE is like df[df['column'] > value] in pandas\n"
     ]
    }
   ],
   "source": [
    "print(\"🔍 SELECT QUERIES - The Foundation of SQL\\n\")\n",
    "\n",
    "# Query 1: Get everything\n",
    "print(\"1️⃣ Get all data (SELECT *)\")\n",
    "query1 = \"SELECT * FROM students\"\n",
    "result1 = pd.read_sql(query1, conn)\n",
    "print(f\"SQL: {query1}\")\n",
    "print(\"Result:\")\n",
    "print(result1)\n",
    "print(\"\\n\" + \"=\"*50 + \"\\n\")\n",
    "\n",
    "# Query 2: Get specific columns\n",
    "print(\"2️⃣ Get specific columns\")\n",
    "query2 = \"SELECT name, grade FROM students\"\n",
    "result2 = pd.read_sql(query2, conn)\n",
    "print(f\"SQL: {query2}\")\n",
    "print(\"Result:\")\n",
    "print(result2)\n",
    "print(\"\\n\" + \"=\"*50 + \"\\n\")\n",
    "\n",
    "# Query 3: Get with conditions (WHERE)\n",
    "print(\"3️⃣ Filter with WHERE\")\n",
    "query3 = \"SELECT name, grade FROM students WHERE grade > 85\"\n",
    "result3 = pd.read_sql(query3, conn)\n",
    "print(f\"SQL: {query3}\")\n",
    "print(\"Result:\")\n",
    "print(result3)\n",
    "\n",
    "print(\"\\n💡 SELECT is like df[columns] in pandas\")\n",
    "print(\"💡 WHERE is like df[df['column'] > value] in pandas\")"
   ]
  },
  {
   "cell_type": "markdown",
   "metadata": {},
   "source": [
    "### 3.2 WHERE Conditions - Filtering Data"
   ]
  },
  {
   "cell_type": "code",
   "execution_count": 70,
   "metadata": {},
   "outputs": [
    {
     "name": "stdout",
     "output_type": "stream",
     "text": [
      "🎯 WHERE CLAUSE - Your Data Filter\n",
      "\n",
      "📌 Equals:\n",
      "   SQL:    SELECT * FROM students WHERE age = 20\n",
      "   Pandas: df[df['age'] == 20]\n",
      "\n",
      "📌 Not equals:\n",
      "   SQL:    SELECT * FROM students WHERE age != 20\n",
      "   Pandas: df[df['age'] != 20]\n",
      "\n",
      "📌 Greater than:\n",
      "   SQL:    SELECT * FROM students WHERE grade > 80\n",
      "   Pandas: df[df['grade'] > 80]\n",
      "\n",
      "📌 Less than:\n",
      "   SQL:    SELECT * FROM students WHERE age < 21\n",
      "   Pandas: df[df['age'] < 21]\n",
      "\n",
      "📌 BETWEEN:\n",
      "   SQL:    SELECT * FROM students WHERE grade BETWEEN 80 AND 90\n",
      "   Pandas: df[(df['grade'] >= 80) & (df['grade'] <= 90)]\n",
      "\n",
      "📌 IN list:\n",
      "   SQL:    SELECT * FROM students WHERE age IN (19, 20, 21)\n",
      "   Pandas: df[df['age'].isin([19, 20, 21])]\n",
      "\n",
      "📌 LIKE pattern:\n",
      "   SQL:    SELECT * FROM students WHERE name LIKE 'A%'\n",
      "   Pandas: df[df['name'].str.startswith('A')]\n",
      "\n",
      "📌 AND:\n",
      "   SQL:    SELECT * FROM students WHERE age > 19 AND grade > 80\n",
      "   Pandas: df[(df['age'] > 19) & (df['grade'] > 80)]\n",
      "\n",
      "📌 OR:\n",
      "   SQL:    SELECT * FROM students WHERE age < 20 OR grade > 90\n",
      "   Pandas: df[(df['age'] < 20) | (df['grade'] > 90)]\n",
      "\n",
      "\n",
      "🔥 Real Example:\n",
      "SQL:\n",
      "\n",
      "SELECT name, age, grade \n",
      "FROM students \n",
      "WHERE grade > 80 \n",
      "  AND age <= 21\n",
      "  AND name LIKE '%e%'\n",
      "\n",
      "\n",
      "Result:\n",
      "          name  age  grade\n",
      "0  Alice Smith   20   85.5\n",
      "1   Eve Wilson   20   88.0\n"
     ]
    }
   ],
   "source": [
    "print(\"🎯 WHERE CLAUSE - Your Data Filter\\n\")\n",
    "\n",
    "# Different types of conditions\n",
    "conditions = [\n",
    "    (\"Equals\", \"WHERE age = 20\", \"df[df['age'] == 20]\"),\n",
    "    (\"Not equals\", \"WHERE age != 20\", \"df[df['age'] != 20]\"),\n",
    "    (\"Greater than\", \"WHERE grade > 80\", \"df[df['grade'] > 80]\"),\n",
    "    (\"Less than\", \"WHERE age < 21\", \"df[df['age'] < 21]\"),\n",
    "    (\"BETWEEN\", \"WHERE grade BETWEEN 80 AND 90\", \"df[(df['grade'] >= 80) & (df['grade'] <= 90)]\"),\n",
    "    (\"IN list\", \"WHERE age IN (19, 20, 21)\", \"df[df['age'].isin([19, 20, 21])]\"),\n",
    "    (\"LIKE pattern\", \"WHERE name LIKE 'A%'\", \"df[df['name'].str.startswith('A')]\"),\n",
    "    (\"AND\", \"WHERE age > 19 AND grade > 80\", \"df[(df['age'] > 19) & (df['grade'] > 80)]\"),\n",
    "    (\"OR\", \"WHERE age < 20 OR grade > 90\", \"df[(df['age'] < 20) | (df['grade'] > 90)]\")\n",
    "]\n",
    "\n",
    "for condition_name, sql_example, pandas_equivalent in conditions:\n",
    "    print(f\"📌 {condition_name}:\")\n",
    "    print(f\"   SQL:    SELECT * FROM students {sql_example}\")\n",
    "    print(f\"   Pandas: {pandas_equivalent}\")\n",
    "    print()\n",
    "\n",
    "# Example with multiple conditions\n",
    "print(\"\\n🔥 Real Example:\")\n",
    "complex_query = \"\"\"\n",
    "SELECT name, age, grade \n",
    "FROM students \n",
    "WHERE grade > 80 \n",
    "  AND age <= 21\n",
    "  AND name LIKE '%e%'\n",
    "\"\"\"\n",
    "result = pd.read_sql(complex_query, conn)\n",
    "print(\"SQL:\")\n",
    "print(complex_query)\n",
    "print(\"\\nResult:\")\n",
    "print(result)"
   ]
  },
  {
   "cell_type": "markdown",
   "metadata": {},
   "source": [
    "### 3.3 ORDER BY - Sorting Results"
   ]
  },
  {
   "cell_type": "code",
   "execution_count": 71,
   "metadata": {},
   "outputs": [
    {
     "name": "stdout",
     "output_type": "stream",
     "text": [
      "📊 ORDER BY - Sorting Your Results\n",
      "\n",
      "1️⃣ Sort by grade (descending)\n",
      "SQL:\n",
      "\n",
      "SELECT name, grade \n",
      "FROM students \n",
      "ORDER BY grade DESC\n",
      "\n",
      "\n",
      "Result:\n",
      "            name  grade\n",
      "0   Diana Prince   95.0\n",
      "1    Bob Johnson   92.0\n",
      "2   Jessica Paes   90.0\n",
      "3     Eve Wilson   88.0\n",
      "4    Alice Smith   85.5\n",
      "5  Charlie Brown   78.5\n",
      "\n",
      "Pandas equivalent: df.sort_values('grade', ascending=False)\n",
      "\n",
      "==================================================\n",
      "\n",
      "2️⃣ Sort by multiple columns\n",
      "SQL:\n",
      "\n",
      "SELECT name, age, grade \n",
      "FROM students \n",
      "ORDER BY age ASC, grade DESC\n",
      "\n",
      "\n",
      "Result:\n",
      "            name  age  grade\n",
      "0  Charlie Brown   19   78.5\n",
      "1     Eve Wilson   20   88.0\n",
      "2    Alice Smith   20   85.5\n",
      "3    Bob Johnson   21   92.0\n",
      "4   Diana Prince   22   95.0\n",
      "5   Jessica Paes   35   90.0\n",
      "\n",
      "Pandas equivalent: df.sort_values(['age', 'grade'], ascending=[True, False])\n"
     ]
    }
   ],
   "source": [
    "print(\"📊 ORDER BY - Sorting Your Results\\n\")\n",
    "\n",
    "# Sort by grade (highest first)\n",
    "print(\"1️⃣ Sort by grade (descending)\")\n",
    "query1 = \"\"\"\n",
    "SELECT name, grade \n",
    "FROM students \n",
    "ORDER BY grade DESC\n",
    "\"\"\"\n",
    "result1 = pd.read_sql(query1, conn)\n",
    "print(\"SQL:\")\n",
    "print(query1)\n",
    "print(\"\\nResult:\")\n",
    "print(result1)\n",
    "print(\"\\nPandas equivalent: df.sort_values('grade', ascending=False)\")\n",
    "print(\"\\n\" + \"=\"*50 + \"\\n\")\n",
    "\n",
    "# Sort by multiple columns\n",
    "print(\"2️⃣ Sort by multiple columns\")\n",
    "query2 = \"\"\"\n",
    "SELECT name, age, grade \n",
    "FROM students \n",
    "ORDER BY age ASC, grade DESC\n",
    "\"\"\"\n",
    "result2 = pd.read_sql(query2, conn)\n",
    "print(\"SQL:\")\n",
    "print(query2)\n",
    "print(\"\\nResult:\")\n",
    "print(result2)\n",
    "print(\"\\nPandas equivalent: df.sort_values(['age', 'grade'], ascending=[True, False])\")"
   ]
  },
  {
   "cell_type": "markdown",
   "metadata": {},
   "source": [
    "### 3.4 Aggregate Functions - Summarizing Data"
   ]
  },
  {
   "cell_type": "code",
   "execution_count": 72,
   "metadata": {},
   "outputs": [
    {
     "name": "stdout",
     "output_type": "stream",
     "text": [
      "📈 AGGREGATE FUNCTIONS - Data Summaries\n",
      "\n",
      "📊 COUNT:\n",
      "   SQL: SELECT COUNT(*) as total_students FROM students\n"
     ]
    },
    {
     "ename": "ValueError",
     "evalue": "Invalid format specifier '.2f if func_name in ['AVG', 'SUM'] else result.iloc[0, 0]' for object of type 'int'",
     "output_type": "error",
     "traceback": [
      "\u001b[31m---------------------------------------------------------------------------\u001b[39m",
      "\u001b[31mValueError\u001b[39m                                Traceback (most recent call last)",
      "\u001b[36mCell\u001b[39m\u001b[36m \u001b[39m\u001b[32mIn[72]\u001b[39m\u001b[32m, line 16\u001b[39m\n\u001b[32m     14\u001b[39m \u001b[38;5;28mprint\u001b[39m(\u001b[33mf\u001b[39m\u001b[33m\"\u001b[39m\u001b[33m📊 \u001b[39m\u001b[38;5;132;01m{\u001b[39;00mfunc_name\u001b[38;5;132;01m}\u001b[39;00m\u001b[33m:\u001b[39m\u001b[33m\"\u001b[39m)\n\u001b[32m     15\u001b[39m \u001b[38;5;28mprint\u001b[39m(\u001b[33mf\u001b[39m\u001b[33m\"\u001b[39m\u001b[33m   SQL: \u001b[39m\u001b[38;5;132;01m{\u001b[39;00msql_query\u001b[38;5;132;01m}\u001b[39;00m\u001b[33m\"\u001b[39m)\n\u001b[32m---> \u001b[39m\u001b[32m16\u001b[39m \u001b[38;5;28mprint\u001b[39m(\u001b[33mf\u001b[39m\u001b[33m\"\u001b[39m\u001b[33m   Result: \u001b[39m\u001b[38;5;132;01m{\u001b[39;00mresult.iloc[\u001b[32m0\u001b[39m,\u001b[38;5;250m \u001b[39m\u001b[32m0\u001b[39m]\u001b[38;5;132;01m:\u001b[39;00m\u001b[33m.2f if func_name in [\u001b[39m\u001b[33m'\u001b[39m\u001b[33mAVG\u001b[39m\u001b[33m'\u001b[39m\u001b[33m, \u001b[39m\u001b[33m'\u001b[39m\u001b[33mSUM\u001b[39m\u001b[33m'\u001b[39m\u001b[33m] else result.iloc[0, 0]\u001b[39m\u001b[38;5;132;01m}\u001b[39;00m\u001b[33m\"\u001b[39m)\n\u001b[32m     17\u001b[39m \u001b[38;5;28mprint\u001b[39m(\u001b[33mf\u001b[39m\u001b[33m\"\u001b[39m\u001b[33m   Pandas: \u001b[39m\u001b[38;5;132;01m{\u001b[39;00mpandas_equiv\u001b[38;5;132;01m}\u001b[39;00m\u001b[33m\"\u001b[39m)\n\u001b[32m     18\u001b[39m \u001b[38;5;28mprint\u001b[39m()\n",
      "\u001b[31mValueError\u001b[39m: Invalid format specifier '.2f if func_name in ['AVG', 'SUM'] else result.iloc[0, 0]' for object of type 'int'"
     ]
    }
   ],
   "source": [
    "print(\"📈 AGGREGATE FUNCTIONS - Data Summaries\\n\")\n",
    "\n",
    "# Common aggregate functions\n",
    "aggregates = [\n",
    "    (\"COUNT\", \"SELECT COUNT(*) as total_students FROM students\", \"len(df)\"),\n",
    "    (\"SUM\", \"SELECT SUM(grade) as total_grades FROM students\", \"df['grade'].sum()\"),\n",
    "    (\"AVG\", \"SELECT AVG(grade) as average_grade FROM students\", \"df['grade'].mean()\"),\n",
    "    (\"MAX\", \"SELECT MAX(grade) as highest_grade FROM students\", \"df['grade'].max()\"),\n",
    "    (\"MIN\", \"SELECT MIN(age) as youngest_age FROM students\", \"df['age'].min()\")\n",
    "]\n",
    "\n",
    "for func_name, sql_query, pandas_equiv in aggregates:\n",
    "    result = pd.read_sql(sql_query, conn)\n",
    "    print(f\"📊 {func_name}:\")\n",
    "    print(f\"   SQL: {sql_query}\")\n",
    "    print(f\"   Result: {result.iloc[0, 0]:.2f if func_name in ['AVG', 'SUM'] else result.iloc[0, 0]}\")\n",
    "    print(f\"   Pandas: {pandas_equiv}\")\n",
    "    print()\n",
    "\n",
    "# All together\n",
    "print(\"\\n🔥 Multiple aggregations:\")\n",
    "summary_query = \"\"\"\n",
    "SELECT \n",
    "    COUNT(*) as total_students,\n",
    "    AVG(age) as avg_age,\n",
    "    AVG(grade) as avg_grade,\n",
    "    MIN(grade) as min_grade,\n",
    "    MAX(grade) as max_grade\n",
    "FROM students\n",
    "\"\"\"\n",
    "summary = pd.read_sql(summary_query, conn)\n",
    "print(\"SQL:\")\n",
    "print(summary_query)\n",
    "print(\"\\nResult:\")\n",
    "print(summary)"
   ]
  },
  {
   "cell_type": "markdown",
   "metadata": {},
   "source": [
    "### 3.5 GROUP BY - Grouping Data"
   ]
  },
  {
   "cell_type": "code",
   "execution_count": null,
   "metadata": {},
   "outputs": [
    {
     "name": "stdout",
     "output_type": "stream",
     "text": [
      "👥 GROUP BY - Analyzing Groups\n",
      "\n",
      "Average grade by department:\n",
      "SQL:\n",
      "\n",
      "SELECT \n",
      "    department,\n",
      "    COUNT(*) as student_count,\n",
      "    AVG(grade) as avg_grade,\n",
      "    MAX(grade) as top_grade\n",
      "FROM students\n",
      "GROUP BY department\n",
      "ORDER BY avg_grade DESC\n",
      "\n",
      "\n",
      "Result:\n",
      "    department  student_count  avg_grade  top_grade\n",
      "0  Engineering              2      90.25       95.0\n",
      "1      Science              2      90.00       92.0\n",
      "2         None             11      88.00       95.0\n",
      "3         Arts              1      78.50       78.5\n",
      "\n",
      "Pandas equivalent:\n",
      "df.groupby('department').agg({\n",
      "    'grade': ['count', 'mean', 'max']\n",
      "})\n"
     ]
    }
   ],
   "source": [
    "print(\"👥 GROUP BY - Analyzing Groups\\n\")\n",
    "\n",
    "# First, let's add a department column for grouping\n",
    "cursor.execute(\"ALTER TABLE students ADD COLUMN department TEXT\")\n",
    "departments = ['Engineering', 'Science', 'Arts', 'Engineering', 'Science']\n",
    "for i, dept in enumerate(departments, 1):\n",
    "    cursor.execute(f\"UPDATE students SET department = '{dept}' WHERE student_id = {i}\")\n",
    "conn.commit()\n",
    "\n",
    "# Now let's group!\n",
    "print(\"Average grade by department:\")\n",
    "group_query = \"\"\"\n",
    "SELECT \n",
    "    department,\n",
    "    COUNT(*) as student_count,\n",
    "    AVG(grade) as avg_grade,\n",
    "    MAX(grade) as top_grade\n",
    "FROM students\n",
    "GROUP BY department\n",
    "ORDER BY avg_grade DESC\n",
    "\"\"\"\n",
    "\n",
    "result = pd.read_sql(group_query, conn)\n",
    "print(\"SQL:\")\n",
    "print(group_query)\n",
    "print(\"\\nResult:\")\n",
    "print(result)\n",
    "print(\"\\nPandas equivalent:\")\n",
    "print(\"df.groupby('department').agg({\")\n",
    "print(\"    'grade': ['count', 'mean', 'max']\")\n",
    "print(\"})\")"
   ]
  },
  {
   "cell_type": "markdown",
   "metadata": {},
   "source": [
    "---\n",
    "\n",
    "## 🔄 Part 4: Converting Between Pandas and SQL\n",
    "\n",
    "The real power comes from seamlessly moving between pandas and SQL!"
   ]
  },
  {
   "cell_type": "markdown",
   "metadata": {},
   "source": [
    "### 4.1 DataFrame to SQL Database"
   ]
  },
  {
   "cell_type": "code",
   "execution_count": null,
   "metadata": {},
   "outputs": [
    {
     "name": "stdout",
     "output_type": "stream",
     "text": [
      "🔄 CONVERTING PANDAS TO SQL\n",
      "\n",
      "📊 Original DataFrame:\n",
      "        date product  quantity   price  customer_id  revenue\n",
      "0 2024-01-01  Tablet         7  108.43            2   759.01\n",
      "1 2024-01-02  Laptop         8  734.43            1  5875.44\n",
      "2 2024-01-03   Phone         8  616.30            3  4930.40\n",
      "3 2024-01-04  Laptop         6  822.63            8  4935.78\n",
      "4 2024-01-05   Phone         5  419.26            7  2096.30\n",
      "\n",
      "Shape: (30, 6)\n",
      "\n",
      "💾 Saving to SQL...\n",
      "✅ DataFrame saved to SQL!\n",
      "\n",
      "🔍 Verification: 30 rows in SQL table\n",
      "\n",
      "📝 Key Parameters for to_sql():\n",
      "  - name: Table name in database\n",
      "  - con: Database connection\n",
      "  - if_exists: 'fail', 'replace', or 'append'\n",
      "  - index: Save DataFrame index as column?\n",
      "  - dtype: Specify SQL data types\n",
      "  - method: How to insert (default is best)\n"
     ]
    }
   ],
   "source": [
    "print(\"🔄 CONVERTING PANDAS TO SQL\\n\")\n",
    "\n",
    "# Create a sample DataFrame\n",
    "sales_data = pd.DataFrame({\n",
    "    'date': pd.date_range('2024-01-01', periods=30, freq='D'),\n",
    "    'product': np.random.choice(['Laptop', 'Phone', 'Tablet'], 30),\n",
    "    'quantity': np.random.randint(1, 10, 30),\n",
    "    'price': np.random.uniform(100, 1000, 30).round(2),\n",
    "    'customer_id': np.random.randint(1, 10, 30)\n",
    "})\n",
    "\n",
    "# Calculate revenue\n",
    "sales_data['revenue'] = sales_data['quantity'] * sales_data['price']\n",
    "\n",
    "print(\"📊 Original DataFrame:\")\n",
    "print(sales_data.head())\n",
    "print(f\"\\nShape: {sales_data.shape}\")\n",
    "\n",
    "# Save to SQL database\n",
    "print(\"\\n💾 Saving to SQL...\")\n",
    "sales_data.to_sql(\n",
    "    name='sales',           # Table name\n",
    "    con=conn,               # Database connection\n",
    "    if_exists='replace',    # Replace if table exists\n",
    "    index=False            # Don't save the index\n",
    ")\n",
    "\n",
    "print(\"✅ DataFrame saved to SQL!\")\n",
    "\n",
    "# Verify it worked\n",
    "verify_query = \"SELECT COUNT(*) as row_count FROM sales\"\n",
    "result = pd.read_sql(verify_query, conn)\n",
    "print(f\"\\n🔍 Verification: {result.iloc[0, 0]} rows in SQL table\")\n",
    "\n",
    "print(\"\\n📝 Key Parameters for to_sql():\")\n",
    "print(\"  - name: Table name in database\")\n",
    "print(\"  - con: Database connection\")\n",
    "print(\"  - if_exists: 'fail', 'replace', or 'append'\")\n",
    "print(\"  - index: Save DataFrame index as column?\")\n",
    "print(\"  - dtype: Specify SQL data types\")\n",
    "print(\"  - method: How to insert (default is best)\")"
   ]
  },
  {
   "cell_type": "markdown",
   "metadata": {},
   "source": [
    "### 4.2 SQL Query Results to DataFrame"
   ]
  },
  {
   "cell_type": "code",
   "execution_count": null,
   "metadata": {},
   "outputs": [
    {
     "name": "stdout",
     "output_type": "stream",
     "text": [
      "📥 READING SQL INTO PANDAS\n",
      "\n",
      "1️⃣ Simple Query:\n",
      "Query: SELECT * FROM sales WHERE quantity > 5\n",
      "Result shape: (17, 6)\n",
      "                  date product  quantity   price  customer_id  revenue\n",
      "0  2024-01-01 00:00:00  Tablet         7  108.43            2   759.01\n",
      "1  2024-01-02 00:00:00  Laptop         8  734.43            1  5875.44\n",
      "2  2024-01-03 00:00:00   Phone         8  616.30            3  4930.40\n",
      "3  2024-01-04 00:00:00  Laptop         6  822.63            8  4935.78\n",
      "4  2024-01-06 00:00:00  Tablet         8  457.41            2  3659.28\n",
      "\n",
      "==================================================\n",
      "\n",
      "2️⃣ Complex Query:\n",
      "Query: [Complex aggregation query]\n",
      "\n",
      "Result:\n",
      "  product  total_sales  total_quantity   avg_price  total_revenue\n",
      "0  Tablet           13              74  632.766154       45174.33\n",
      "1  Laptop            9              55  621.153333       33688.80\n",
      "2   Phone            8              41  562.997500       20396.29\n",
      "\n",
      "🎯 Now we can use pandas on the SQL results:\n",
      "Most profitable product: Tablet\n",
      "Total revenue across all products: $99,259.42\n"
     ]
    }
   ],
   "source": [
    "print(\"📥 READING SQL INTO PANDAS\\n\")\n",
    "\n",
    "# Method 1: Simple query\n",
    "print(\"1️⃣ Simple Query:\")\n",
    "query = \"SELECT * FROM sales WHERE quantity > 5\"\n",
    "df1 = pd.read_sql(query, conn)\n",
    "print(f\"Query: {query}\")\n",
    "print(f\"Result shape: {df1.shape}\")\n",
    "print(df1.head())\n",
    "\n",
    "print(\"\\n\" + \"=\"*50 + \"\\n\")\n",
    "\n",
    "# Method 2: Complex query with aggregation\n",
    "print(\"2️⃣ Complex Query:\")\n",
    "complex_query = \"\"\"\n",
    "SELECT \n",
    "    product,\n",
    "    COUNT(*) as total_sales,\n",
    "    SUM(quantity) as total_quantity,\n",
    "    AVG(price) as avg_price,\n",
    "    SUM(revenue) as total_revenue\n",
    "FROM sales\n",
    "GROUP BY product\n",
    "ORDER BY total_revenue DESC\n",
    "\"\"\"\n",
    "\n",
    "df2 = pd.read_sql(complex_query, conn)\n",
    "print(\"Query: [Complex aggregation query]\")\n",
    "print(\"\\nResult:\")\n",
    "print(df2)\n",
    "\n",
    "# Now we can use pandas operations on the result!\n",
    "print(\"\\n🎯 Now we can use pandas on the SQL results:\")\n",
    "print(f\"Most profitable product: {df2.iloc[0]['product']}\")\n",
    "print(f\"Total revenue across all products: ${df2['total_revenue'].sum():,.2f}\")"
   ]
  },
  {
   "cell_type": "markdown",
   "metadata": {},
   "source": [
    "### 4.3 Updating and Deleting Data"
   ]
  },
  {
   "cell_type": "code",
   "execution_count": null,
   "metadata": {},
   "outputs": [],
   "source": [
    "print(\"✏️ UPDATING DATA IN SQL\\n\")\n",
    "\n",
    "# UPDATE: Change existing data\n",
    "print(\"Before update:\")\n",
    "before = pd.read_sql(\"SELECT * FROM students WHERE student_id = 1\", conn)\n",
    "print(before)\n",
    "\n",
    "# Update grade\n",
    "update_sql = \"\"\"\n",
    "UPDATE students \n",
    "SET grade = 90.0 \n",
    "WHERE student_id = 1\n",
    "\"\"\"\n",
    "cursor.execute(update_sql)\n",
    "conn.commit()\n",
    "\n",
    "print(\"\\nAfter update:\")\n",
    "after = pd.read_sql(\"SELECT * FROM students WHERE student_id = 1\", conn)\n",
    "print(after)\n",
    "\n",
    "print(\"\\n\" + \"=\"*50 + \"\\n\")\n",
    "\n",
    "# DELETE: Remove data\n",
    "print(\"🗑️ DELETING DATA\\n\")\n",
    "\n",
    "# Count before\n",
    "before_count = pd.read_sql(\"SELECT COUNT(*) as count FROM sales\", conn).iloc[0, 0]\n",
    "print(f\"Records before delete: {before_count}\")\n",
    "\n",
    "# Delete records with low quantity\n",
    "delete_sql = \"DELETE FROM sales WHERE quantity = 1\"\n",
    "cursor.execute(delete_sql)\n",
    "conn.commit()\n",
    "\n",
    "# Count after\n",
    "after_count = pd.read_sql(\"SELECT COUNT(*) as count FROM sales\", conn).iloc[0, 0]\n",
    "print(f\"Records after delete: {after_count}\")\n",
    "print(f\"Deleted {before_count - after_count} records\")\n",
    "\n",
    "print(\"\\n⚠️ WARNING: DELETE is permanent! Always backup important data!\")"
   ]
  },
  {
   "cell_type": "markdown",
   "metadata": {},
   "source": [
    "---\n",
    "\n",
    "## 🚀 Part 5: Essential SQL Patterns for Data Science\n",
    "\n",
    "Let's learn the SQL patterns you'll use every day as a data scientist!"
   ]
  },
  {
   "cell_type": "markdown",
   "metadata": {},
   "source": [
    "### 5.1 JOIN - Combining Tables"
   ]
  },
  {
   "cell_type": "code",
   "execution_count": null,
   "metadata": {},
   "outputs": [],
   "source": [
    "print(\"🔗 JOINS - Combining Multiple Tables\\n\")\n",
    "\n",
    "# Create related tables\n",
    "# Customers table\n",
    "customers_df = pd.DataFrame({\n",
    "    'customer_id': [1, 2, 3, 4, 5],\n",
    "    'name': ['Alice', 'Bob', 'Charlie', 'Diana', 'Eve'],\n",
    "    'city': ['NYC', 'LA', 'Chicago', 'NYC', 'Boston']\n",
    "})\n",
    "\n",
    "# Orders table\n",
    "orders_df = pd.DataFrame({\n",
    "    'order_id': [101, 102, 103, 104, 105],\n",
    "    'customer_id': [1, 2, 1, 3, 1],\n",
    "    'product': ['Laptop', 'Phone', 'Tablet', 'Laptop', 'Mouse'],\n",
    "    'amount': [1000, 800, 500, 1200, 50]\n",
    "})\n",
    "\n",
    "# Save to database\n",
    "customers_df.to_sql('customers_table', conn, if_exists='replace', index=False)\n",
    "orders_df.to_sql('orders_table', conn, if_exists='replace', index=False)\n",
    "\n",
    "print(\"📊 Customers:\")\n",
    "print(customers_df)\n",
    "print(\"\\n📊 Orders:\")\n",
    "print(orders_df)\n",
    "\n",
    "print(\"\\n\" + \"=\"*50 + \"\\n\")\n",
    "\n",
    "# JOIN them together\n",
    "join_query = \"\"\"\n",
    "SELECT \n",
    "    c.name,\n",
    "    c.city,\n",
    "    o.product,\n",
    "    o.amount\n",
    "FROM customers_table c\n",
    "JOIN orders_table o ON c.customer_id = o.customer_id\n",
    "ORDER BY c.name\n",
    "\"\"\"\n",
    "\n",
    "print(\"🔗 JOINED Result:\")\n",
    "print(\"SQL:\")\n",
    "print(join_query)\n",
    "print(\"\\nResult:\")\n",
    "joined = pd.read_sql(join_query, conn)\n",
    "print(joined)\n",
    "\n",
    "print(\"\\n💡 This is like pd.merge(customers, orders, on='customer_id') in pandas!\")"
   ]
  },
  {
   "cell_type": "markdown",
   "metadata": {},
   "source": [
    "### 5.2 Common Data Science Queries"
   ]
  },
  {
   "cell_type": "code",
   "execution_count": null,
   "metadata": {},
   "outputs": [
    {
     "name": "stdout",
     "output_type": "stream",
     "text": [
      "📊 COMMON DATA SCIENCE SQL PATTERNS\n",
      "\n",
      "1️⃣ Finding Duplicates:\n",
      "SQL: \n",
      "SELECT \n",
      "    product,\n",
      "    COUNT(*) as count\n",
      "FROM sales\n",
      "GROUP BY product\n",
      "HAVING COUNT(*) > 5\n",
      "\n"
     ]
    },
    {
     "ename": "NameError",
     "evalue": "name 'pd' is not defined",
     "output_type": "error",
     "traceback": [
      "\u001b[31m---------------------------------------------------------------------------\u001b[39m",
      "\u001b[31mNameError\u001b[39m                                 Traceback (most recent call last)",
      "\u001b[36mCell\u001b[39m\u001b[36m \u001b[39m\u001b[32mIn[12]\u001b[39m\u001b[32m, line 14\u001b[39m\n\u001b[32m      5\u001b[39m duplicate_query = \u001b[33m\"\"\"\u001b[39m\n\u001b[32m      6\u001b[39m \u001b[33mSELECT \u001b[39m\n\u001b[32m      7\u001b[39m \u001b[33m    product,\u001b[39m\n\u001b[32m   (...)\u001b[39m\u001b[32m     11\u001b[39m \u001b[33mHAVING COUNT(*) > 5\u001b[39m\n\u001b[32m     12\u001b[39m \u001b[33m\"\"\"\u001b[39m\n\u001b[32m     13\u001b[39m \u001b[38;5;28mprint\u001b[39m(\u001b[33mf\u001b[39m\u001b[33m\"\u001b[39m\u001b[33mSQL: \u001b[39m\u001b[38;5;132;01m{\u001b[39;00mduplicate_query\u001b[38;5;132;01m}\u001b[39;00m\u001b[33m\"\u001b[39m)\n\u001b[32m---> \u001b[39m\u001b[32m14\u001b[39m duplicates = \u001b[43mpd\u001b[49m.read_sql(duplicate_query, conn)\n\u001b[32m     15\u001b[39m \u001b[38;5;28mprint\u001b[39m(\u001b[33m\"\u001b[39m\u001b[33mProducts appearing more than 5 times:\u001b[39m\u001b[33m\"\u001b[39m)\n\u001b[32m     16\u001b[39m \u001b[38;5;28mprint\u001b[39m(duplicates)\n",
      "\u001b[31mNameError\u001b[39m: name 'pd' is not defined"
     ]
    }
   ],
   "source": [
    "print(\"📊 COMMON DATA SCIENCE SQL PATTERNS\\n\")\n",
    "\n",
    "# Pattern 1: Find duplicates\n",
    "print(\"1️⃣ Finding Duplicates:\")\n",
    "duplicate_query = \"\"\"\n",
    "SELECT \n",
    "    product,\n",
    "    COUNT(*) as count\n",
    "FROM sales\n",
    "GROUP BY product\n",
    "HAVING COUNT(*) > 5\n",
    "\"\"\"\n",
    "print(f\"SQL: {duplicate_query}\")\n",
    "duplicates = pd.read_sql(duplicate_query, conn)\n",
    "print(\"Products appearing more than 5 times:\")\n",
    "print(duplicates)\n",
    "\n",
    "print(\"\\n\" + \"=\"*50 + \"\\n\")\n",
    "\n",
    "# Pattern 2: Date filtering\n",
    "print(\"2️⃣ Date Range Filtering:\")\n",
    "date_query = \"\"\"\n",
    "SELECT \n",
    "    DATE(date) as sale_date,\n",
    "    SUM(revenue) as daily_revenue\n",
    "FROM sales\n",
    "WHERE date BETWEEN '2024-01-01' AND '2024-01-07'\n",
    "GROUP BY DATE(date)\n",
    "ORDER BY sale_date\n",
    "\"\"\"\n",
    "print(f\"SQL: [Date range query]\")\n",
    "date_results = pd.read_sql(date_query, conn)\n",
    "print(\"First week revenue:\")\n",
    "print(date_results.head())\n",
    "\n",
    "print(\"\\n\" + \"=\"*50 + \"\\n\")\n",
    "\n",
    "# Pattern 3: Top N per category\n",
    "print(\"3️⃣ Top N per Category:\")\n",
    "top_n_query = \"\"\"\n",
    "SELECT * FROM (\n",
    "    SELECT \n",
    "        product,\n",
    "        date,\n",
    "        revenue,\n",
    "        ROW_NUMBER() OVER (PARTITION BY product ORDER BY revenue DESC) as rank\n",
    "    FROM sales\n",
    ") ranked\n",
    "WHERE rank <= 3\n",
    "\"\"\"\n",
    "print(\"Get top 3 sales for each product\")\n",
    "print(\"(This uses window functions - advanced SQL!)\")"
   ]
  },
  {
   "cell_type": "markdown",
   "metadata": {},
   "source": [
    "---\n",
    "\n",
    "## 💪 Part 6: Practice Exercises\n",
    "\n",
    "Time to test your SQL skills!"
   ]
  },
  {
   "cell_type": "markdown",
   "metadata": {},
   "source": [
    "### Exercise 1: Basic Queries"
   ]
  },
  {
   "cell_type": "code",
   "execution_count": null,
   "metadata": {},
   "outputs": [
    {
     "name": "stdout",
     "output_type": "stream",
     "text": [
      "📝 EXERCISE 1: Write these queries\n",
      "\n",
      "1. Get all students with grade above 90\n",
      "2. Count how many sales were made for each product\n",
      "SELECT product, COUNT(*) as sales_count FROM sales GROUP BY product\n",
      "\n",
      "3. Find the average price for products sold in quantities > 5\n",
      "SELECT AVG(price) as average_price, product FROM sales WHERE quantity > 5\n",
      "\n"
     ]
    },
    {
     "data": {
      "text/plain": [
       "'\\nSolution 1:\\nsolution1 = \"SELECT * FROM students WHERE grade > 90\"\\n\\nSolution 2:\\nsolution2 = \"SELECT product, COUNT(*) as sales_count FROM sales GROUP BY product\"\\n\\nSolution 3:\\nsolution3 = \"SELECT AVG(price) as avg_price FROM sales WHERE quantity > 5\"\\n'"
      ]
     },
     "execution_count": 43,
     "metadata": {},
     "output_type": "execute_result"
    }
   ],
   "source": [
    "print(\"📝 EXERCISE 1: Write these queries\\n\")\n",
    "\n",
    "print(\"1. Get all students with grade above 90\")\n",
    "exercise_1 = \"SELECT * FROM students WHERE grade > 90\"\n",
    "pd.read_sql(exercise_1, conn)\n",
    "\n",
    "print(\"2. Count how many sales were made for each product\")\n",
    "exercise_2 = \"SELECT product, COUNT(*) as sales_count FROM sales GROUP BY product\"\n",
    "print(exercise_2)\n",
    "print(\"\")\n",
    "pd.read_sql(exercise_2, conn)\n",
    "\n",
    "print(\"3. Find the average price for products sold in quantities > 5\")\n",
    "exercise_3 = \"SELECT AVG(price) as average_price, product FROM sales WHERE quantity > 5\"\n",
    "print(exercise_3)\n",
    "print(\"\")\n",
    "pd.read_sql(exercise_3, conn)\n",
    "\n",
    "# Solutions (uncomment to see)\n",
    "\"\"\"\n",
    "Solution 1:\n",
    "solution1 = \"SELECT * FROM students WHERE grade > 90\"\n",
    "\n",
    "Solution 2:\n",
    "solution2 = \"SELECT product, COUNT(*) as sales_count FROM sales GROUP BY product\"\n",
    "\n",
    "Solution 3:\n",
    "solution3 = \"SELECT AVG(price) as avg_price FROM sales WHERE quantity > 5\"\n",
    "\"\"\""
   ]
  },
  {
   "cell_type": "code",
   "execution_count": null,
   "metadata": {},
   "outputs": [
    {
     "name": "stdout",
     "output_type": "stream",
     "text": [
      "1. Get all students with grade above 90\n",
      "SELECT * FROM students WHERE grade > 90\n",
      "\n"
     ]
    },
    {
     "data": {
      "text/html": [
       "<div>\n",
       "<style scoped>\n",
       "    .dataframe tbody tr th:only-of-type {\n",
       "        vertical-align: middle;\n",
       "    }\n",
       "\n",
       "    .dataframe tbody tr th {\n",
       "        vertical-align: top;\n",
       "    }\n",
       "\n",
       "    .dataframe thead th {\n",
       "        text-align: right;\n",
       "    }\n",
       "</style>\n",
       "<table border=\"1\" class=\"dataframe\">\n",
       "  <thead>\n",
       "    <tr style=\"text-align: right;\">\n",
       "      <th></th>\n",
       "      <th>student_id</th>\n",
       "      <th>name</th>\n",
       "      <th>age</th>\n",
       "      <th>grade</th>\n",
       "      <th>enrolled_date</th>\n",
       "      <th>department</th>\n",
       "    </tr>\n",
       "  </thead>\n",
       "  <tbody>\n",
       "    <tr>\n",
       "      <th>0</th>\n",
       "      <td>2</td>\n",
       "      <td>Bob Johnson</td>\n",
       "      <td>21</td>\n",
       "      <td>92.0</td>\n",
       "      <td>2024-01-15</td>\n",
       "      <td>Science</td>\n",
       "    </tr>\n",
       "    <tr>\n",
       "      <th>1</th>\n",
       "      <td>4</td>\n",
       "      <td>Diana Prince</td>\n",
       "      <td>22</td>\n",
       "      <td>95.0</td>\n",
       "      <td>2024-01-16</td>\n",
       "      <td>Engineering</td>\n",
       "    </tr>\n",
       "    <tr>\n",
       "      <th>2</th>\n",
       "      <td>7</td>\n",
       "      <td>Bob Johnson</td>\n",
       "      <td>21</td>\n",
       "      <td>92.0</td>\n",
       "      <td>2024-01-15</td>\n",
       "      <td>None</td>\n",
       "    </tr>\n",
       "    <tr>\n",
       "      <th>3</th>\n",
       "      <td>9</td>\n",
       "      <td>Diana Prince</td>\n",
       "      <td>22</td>\n",
       "      <td>95.0</td>\n",
       "      <td>2024-01-16</td>\n",
       "      <td>None</td>\n",
       "    </tr>\n",
       "    <tr>\n",
       "      <th>4</th>\n",
       "      <td>16</td>\n",
       "      <td>Bob Johnson</td>\n",
       "      <td>21</td>\n",
       "      <td>92.0</td>\n",
       "      <td>2024-01-15</td>\n",
       "      <td>None</td>\n",
       "    </tr>\n",
       "    <tr>\n",
       "      <th>5</th>\n",
       "      <td>18</td>\n",
       "      <td>Diana Prince</td>\n",
       "      <td>22</td>\n",
       "      <td>95.0</td>\n",
       "      <td>2024-01-16</td>\n",
       "      <td>None</td>\n",
       "    </tr>\n",
       "  </tbody>\n",
       "</table>\n",
       "</div>"
      ],
      "text/plain": [
       "   student_id          name  age  grade enrolled_date   department\n",
       "0           2   Bob Johnson   21   92.0    2024-01-15      Science\n",
       "1           4  Diana Prince   22   95.0    2024-01-16  Engineering\n",
       "2           7   Bob Johnson   21   92.0    2024-01-15         None\n",
       "3           9  Diana Prince   22   95.0    2024-01-16         None\n",
       "4          16   Bob Johnson   21   92.0    2024-01-15         None\n",
       "5          18  Diana Prince   22   95.0    2024-01-16         None"
      ]
     },
     "execution_count": 35,
     "metadata": {},
     "output_type": "execute_result"
    }
   ],
   "source": [
    "print(\"1. Get all students with grade above 90\")\n",
    "exercise_1 = \"SELECT * FROM students WHERE grade > 90\"\n",
    "print(exercise_1)\n",
    "print(\"\")\n",
    "pd.read_sql(exercise_1, conn)"
   ]
  },
  {
   "cell_type": "code",
   "execution_count": null,
   "metadata": {},
   "outputs": [
    {
     "name": "stdout",
     "output_type": "stream",
     "text": [
      "2. Count how many sales were made for each product\n",
      "SELECT product, COUNT(*) as sales_count FROM sales GROUP BY product\n",
      "\n"
     ]
    },
    {
     "data": {
      "text/html": [
       "<div>\n",
       "<style scoped>\n",
       "    .dataframe tbody tr th:only-of-type {\n",
       "        vertical-align: middle;\n",
       "    }\n",
       "\n",
       "    .dataframe tbody tr th {\n",
       "        vertical-align: top;\n",
       "    }\n",
       "\n",
       "    .dataframe thead th {\n",
       "        text-align: right;\n",
       "    }\n",
       "</style>\n",
       "<table border=\"1\" class=\"dataframe\">\n",
       "  <thead>\n",
       "    <tr style=\"text-align: right;\">\n",
       "      <th></th>\n",
       "      <th>product</th>\n",
       "      <th>sales_count</th>\n",
       "    </tr>\n",
       "  </thead>\n",
       "  <tbody>\n",
       "    <tr>\n",
       "      <th>0</th>\n",
       "      <td>Laptop</td>\n",
       "      <td>9</td>\n",
       "    </tr>\n",
       "    <tr>\n",
       "      <th>1</th>\n",
       "      <td>Phone</td>\n",
       "      <td>8</td>\n",
       "    </tr>\n",
       "    <tr>\n",
       "      <th>2</th>\n",
       "      <td>Tablet</td>\n",
       "      <td>13</td>\n",
       "    </tr>\n",
       "  </tbody>\n",
       "</table>\n",
       "</div>"
      ],
      "text/plain": [
       "  product  sales_count\n",
       "0  Laptop            9\n",
       "1   Phone            8\n",
       "2  Tablet           13"
      ]
     },
     "execution_count": 39,
     "metadata": {},
     "output_type": "execute_result"
    }
   ],
   "source": [
    "print(\"2. Count how many sales were made for each product\")\n",
    "exercise_2 = \"SELECT product, COUNT(*) as sales_count FROM sales GROUP BY product\"\n",
    "print(exercise_2)\n",
    "print(\"\")\n",
    "pd.read_sql(exercise_2, conn)"
   ]
  },
  {
   "cell_type": "code",
   "execution_count": null,
   "metadata": {},
   "outputs": [
    {
     "name": "stdout",
     "output_type": "stream",
     "text": [
      "3. Find the average price for products sold in quantities > 5\n",
      "SELECT AVG(price) as average_price, product FROM sales WHERE quantity > 5\n",
      "\n"
     ]
    },
    {
     "data": {
      "text/html": [
       "<div>\n",
       "<style scoped>\n",
       "    .dataframe tbody tr th:only-of-type {\n",
       "        vertical-align: middle;\n",
       "    }\n",
       "\n",
       "    .dataframe tbody tr th {\n",
       "        vertical-align: top;\n",
       "    }\n",
       "\n",
       "    .dataframe thead th {\n",
       "        text-align: right;\n",
       "    }\n",
       "</style>\n",
       "<table border=\"1\" class=\"dataframe\">\n",
       "  <thead>\n",
       "    <tr style=\"text-align: right;\">\n",
       "      <th></th>\n",
       "      <th>average_price</th>\n",
       "      <th>product</th>\n",
       "    </tr>\n",
       "  </thead>\n",
       "  <tbody>\n",
       "    <tr>\n",
       "      <th>0</th>\n",
       "      <td>587.798235</td>\n",
       "      <td>Tablet</td>\n",
       "    </tr>\n",
       "  </tbody>\n",
       "</table>\n",
       "</div>"
      ],
      "text/plain": [
       "   average_price product\n",
       "0     587.798235  Tablet"
      ]
     },
     "execution_count": 42,
     "metadata": {},
     "output_type": "execute_result"
    }
   ],
   "source": [
    "print(\"3. Find the average price for products sold in quantities > 5\")\n",
    "exercise_3 = \"SELECT AVG(price) as average_price, product FROM sales WHERE quantity > 5\"\n",
    "print(exercise_3)\n",
    "print(\"\")\n",
    "pd.read_sql(exercise_3, conn)"
   ]
  },
  {
   "cell_type": "markdown",
   "metadata": {},
   "source": [
    "### Exercise 2: Create Your Own Database"
   ]
  },
  {
   "cell_type": "code",
   "execution_count": 78,
   "metadata": {},
   "outputs": [
    {
     "name": "stdout",
     "output_type": "stream",
     "text": [
      "🏗️ EXERCISE 2: Create a Movie Database\n",
      "\n",
      "Your task:\n",
      "1. Create a 'movies' table with columns:\n",
      "   - movie_id (INTEGER PRIMARY KEY)\n",
      "   - title (TEXT)\n",
      "   - year (INTEGER)\n",
      "   - rating (REAL)\n",
      "\n",
      "2. Insert at least 3 movies\n",
      "\n",
      "3. Query to find movies with rating > 8.0\n",
      "\n"
     ]
    },
    {
     "ename": "OperationalError",
     "evalue": "table movies already exists",
     "output_type": "error",
     "traceback": [
      "\u001b[31m---------------------------------------------------------------------------\u001b[39m",
      "\u001b[31mOperationalError\u001b[39m                          Traceback (most recent call last)",
      "\u001b[36mCell\u001b[39m\u001b[36m \u001b[39m\u001b[32mIn[78]\u001b[39m\u001b[32m, line 27\u001b[39m\n\u001b[32m     17\u001b[39m cursor_movies = conn_movies.cursor()\n\u001b[32m     19\u001b[39m create_table_sql = \u001b[33m\"\"\"\u001b[39m\n\u001b[32m     20\u001b[39m \u001b[33mCREATE TABLE movies (\u001b[39m\n\u001b[32m     21\u001b[39m \u001b[33m    movie_id INTEGER PRIMARY KEY,\u001b[39m\n\u001b[32m   (...)\u001b[39m\u001b[32m     25\u001b[39m \u001b[33m)\u001b[39m\n\u001b[32m     26\u001b[39m \u001b[33m\"\"\"\u001b[39m\n\u001b[32m---> \u001b[39m\u001b[32m27\u001b[39m \u001b[43mcursor\u001b[49m\u001b[43m.\u001b[49m\u001b[43mexecute\u001b[49m\u001b[43m(\u001b[49m\u001b[43mcreate_table_sql\u001b[49m\u001b[43m)\u001b[49m\n\u001b[32m     28\u001b[39m conn.commit()\n",
      "\u001b[31mOperationalError\u001b[39m: table movies already exists"
     ]
    }
   ],
   "source": [
    "print(\"🏗️ EXERCISE 2: Create a Movie Database\\n\")\n",
    "\n",
    "print(\"Your task:\")\n",
    "print(\"1. Create a 'movies' table with columns:\")\n",
    "print(\"   - movie_id (INTEGER PRIMARY KEY)\")\n",
    "print(\"   - title (TEXT)\")\n",
    "print(\"   - year (INTEGER)\")\n",
    "print(\"   - rating (REAL)\")\n",
    "print(\"\")\n",
    "print(\"2. Insert at least 3 movies\")\n",
    "print(\"\")\n",
    "print(\"3. Query to find movies with rating > 8.0\")\n",
    "print(\"\")\n",
    "\n",
    "# Your code here:\n",
    "conn_movies = sqlite3.connect('movies.db')\n",
    "cursor_movies = conn_movies.cursor()\n",
    "\n",
    "create_table_sql = \"\"\"\n",
    "CREATE TABLE movies (\n",
    "    movie_id INTEGER PRIMARY KEY,\n",
    "    title TEXT,\n",
    "    year INTEGER,\n",
    "    rating REAL\n",
    ")\n",
    "\"\"\"\n",
    "cursor.execute(create_table_sql)\n",
    "conn.commit()"
   ]
  },
  {
   "cell_type": "code",
   "execution_count": null,
   "metadata": {},
   "outputs": [
    {
     "name": "stdout",
     "output_type": "stream",
     "text": [
      "Table created successfully!\n"
     ]
    }
   ],
   "source": [
    "conn_movies = sqlite3.connect('movies.db')\n",
    "cursor_movies = conn_movies.cursor()\n",
    "\n",
    "cursor_movies.execute(\"DROP TABLE IF EXISTS movies\")\n",
    "\n",
    "\n",
    "create_table_sql = \"\"\"\n",
    "CREATE TABLE movies (\n",
    "    movie_id INTEGER PRIMARY KEY,  \n",
    "    title TEXT,                   \n",
    "    year INTEGER,                  \n",
    "    rating REAL                    \n",
    ")\n",
    "\"\"\"\n",
    "\n",
    "cursor_movies.execute(create_table_sql)\n",
    "\n",
    "conn_movies.commit()\n",
    "\n",
    "print(\"Table created successfully!\")"
   ]
  },
  {
   "cell_type": "code",
   "execution_count": 80,
   "metadata": {},
   "outputs": [
    {
     "name": "stdout",
     "output_type": "stream",
     "text": [
      "Inserted 15 movies successfully!\n"
     ]
    }
   ],
   "source": [
    "movies_data = [\n",
    "    (1, 'Titanic', 1997, 7.9),\n",
    "    (2, 'Avatar', 2009, 7.8),\n",
    "    (3, 'Avengers: Endgame', 2019, 8.4),\n",
    "    (4, 'Star Wars: The Force Awakens', 2015, 7.8),\n",
    "    (5, 'Jurassic World', 2015, 7.0),\n",
    "    (6, 'The Lion King', 2019, 6.8),\n",
    "    (7, 'The Avengers', 2012, 8.0),\n",
    "    (8, 'Furious 7', 2015, 7.1),\n",
    "    (9, 'Top Gun: Maverick', 2022, 8.3),\n",
    "    (10, 'Spider-Man: No Way Home', 2021, 8.2),\n",
    "    (11, 'Inside Out', 2015, 8.1),\n",
    "    (12, 'Frozen', 2013, 7.4),\n",
    "    (13, 'Black Panther', 2018, 7.3),\n",
    "    (14, 'Harry Potter and the Deathly Hallows – Part 2', 2011, 8.1),\n",
    "    (15, 'Star Wars: The Last Jedi', 2017, 6.9)\n",
    "]\n",
    "\n",
    "cursor_movies.executemany(\n",
    "    \"INSERT INTO movies (movie_id, title, year, rating) VALUES (?, ?, ?, ?)\",\n",
    "    movies_data\n",
    ")\n",
    "\n",
    "conn_movies.commit()  \n",
    "print(f\"Inserted {len(movies_data)} movies successfully!\")"
   ]
  },
  {
   "cell_type": "code",
   "execution_count": 82,
   "metadata": {},
   "outputs": [
    {
     "name": "stdout",
     "output_type": "stream",
     "text": [
      "\n",
      "Movies with rating > 8.0:\n",
      "   movie_id                                          title  year  rating\n",
      "0         3                              Avengers: Endgame  2019     8.4\n",
      "1         9                              Top Gun: Maverick  2022     8.3\n",
      "2        10                        Spider-Man: No Way Home  2021     8.2\n",
      "3        11                                     Inside Out  2015     8.1\n",
      "4        14  Harry Potter and the Deathly Hallows – Part 2  2011     8.1\n"
     ]
    }
   ],
   "source": [
    "df_movies = pd.read_sql(\"SELECT * FROM movies WHERE rating > 8.0\", conn_movies)\n",
    "print(f\"\\nMovies with rating > 8.0:\")\n",
    "print(df_movies)"
   ]
  },
  {
   "cell_type": "markdown",
   "metadata": {},
   "source": [
    "---\n",
    "\n",
    "## 🎯 SQL Cheat Sheet\n",
    "\n",
    "Keep this handy!"
   ]
  },
  {
   "cell_type": "code",
   "execution_count": 11,
   "metadata": {},
   "outputs": [
    {
     "name": "stdout",
     "output_type": "stream",
     "text": [
      "📋 SQL CHEAT SHEET\n",
      "\n",
      "\n",
      "🔍 BASIC QUERIES:\n",
      "SELECT * FROM table                          -- Get everything\n",
      "SELECT col1, col2 FROM table                 -- Get specific columns\n",
      "SELECT DISTINCT col FROM table               -- Unique values only\n",
      "SELECT * FROM table LIMIT 10                 -- First 10 rows\n",
      "\n",
      "🎯 FILTERING:\n",
      "WHERE col = 'value'                          -- Exact match\n",
      "WHERE col != 'value'                         -- Not equal\n",
      "WHERE col > 100                              -- Greater than\n",
      "WHERE col BETWEEN 10 AND 20                  -- Range\n",
      "WHERE col IN ('A', 'B', 'C')                -- In list\n",
      "WHERE col LIKE 'A%'                          -- Starts with A\n",
      "WHERE col IS NULL                            -- Null values\n",
      "WHERE col IS NOT NULL                        -- Non-null values\n",
      "\n",
      "📊 AGGREGATION:\n",
      "COUNT(*)                                      -- Count rows\n",
      "COUNT(DISTINCT col)                          -- Count unique\n",
      "SUM(col)                                      -- Sum values\n",
      "AVG(col)                                      -- Average\n",
      "MAX(col) / MIN(col)                          -- Max/Min\n",
      "\n",
      "👥 GROUPING:\n",
      "GROUP BY col                                  -- Group rows\n",
      "HAVING COUNT(*) > 5                          -- Filter groups\n",
      "\n",
      "📈 SORTING:\n",
      "ORDER BY col ASC                             -- Sort ascending\n",
      "ORDER BY col DESC                            -- Sort descending\n",
      "ORDER BY col1, col2                          -- Multiple columns\n",
      "\n",
      "🔗 JOINING:\n",
      "JOIN table2 ON table1.col = table2.col       -- Inner join\n",
      "LEFT JOIN table2 ON ...                      -- Keep all from left\n",
      "RIGHT JOIN table2 ON ...                     -- Keep all from right\n",
      "\n",
      "✏️ MODIFYING DATA:\n",
      "INSERT INTO table (col1, col2) VALUES (?, ?) -- Insert data\n",
      "UPDATE table SET col = value WHERE ...       -- Update data\n",
      "DELETE FROM table WHERE ...                  -- Delete rows\n",
      "\n",
      "🏗️ TABLE OPERATIONS:\n",
      "CREATE TABLE name (...)                      -- Create table\n",
      "DROP TABLE name                              -- Delete table\n",
      "ALTER TABLE name ADD COLUMN col TYPE         -- Add column\n",
      "\n"
     ]
    }
   ],
   "source": [
    "print(\"📋 SQL CHEAT SHEET\\n\")\n",
    "\n",
    "cheat_sheet = \"\"\"\n",
    "🔍 BASIC QUERIES:\n",
    "SELECT * FROM table                          -- Get everything\n",
    "SELECT col1, col2 FROM table                 -- Get specific columns\n",
    "SELECT DISTINCT col FROM table               -- Unique values only\n",
    "SELECT * FROM table LIMIT 10                 -- First 10 rows\n",
    "\n",
    "🎯 FILTERING:\n",
    "WHERE col = 'value'                          -- Exact match\n",
    "WHERE col != 'value'                         -- Not equal\n",
    "WHERE col > 100                              -- Greater than\n",
    "WHERE col BETWEEN 10 AND 20                  -- Range\n",
    "WHERE col IN ('A', 'B', 'C')                -- In list\n",
    "WHERE col LIKE 'A%'                          -- Starts with A\n",
    "WHERE col IS NULL                            -- Null values\n",
    "WHERE col IS NOT NULL                        -- Non-null values\n",
    "\n",
    "📊 AGGREGATION:\n",
    "COUNT(*)                                      -- Count rows\n",
    "COUNT(DISTINCT col)                          -- Count unique\n",
    "SUM(col)                                      -- Sum values\n",
    "AVG(col)                                      -- Average\n",
    "MAX(col) / MIN(col)                          -- Max/Min\n",
    "\n",
    "👥 GROUPING:\n",
    "GROUP BY col                                  -- Group rows\n",
    "HAVING COUNT(*) > 5                          -- Filter groups\n",
    "\n",
    "📈 SORTING:\n",
    "ORDER BY col ASC                             -- Sort ascending\n",
    "ORDER BY col DESC                            -- Sort descending\n",
    "ORDER BY col1, col2                          -- Multiple columns\n",
    "\n",
    "🔗 JOINING:\n",
    "JOIN table2 ON table1.col = table2.col       -- Inner join\n",
    "LEFT JOIN table2 ON ...                      -- Keep all from left\n",
    "RIGHT JOIN table2 ON ...                     -- Keep all from right\n",
    "\n",
    "✏️ MODIFYING DATA:\n",
    "INSERT INTO table (col1, col2) VALUES (?, ?) -- Insert data\n",
    "UPDATE table SET col = value WHERE ...       -- Update data\n",
    "DELETE FROM table WHERE ...                  -- Delete rows\n",
    "\n",
    "🏗️ TABLE OPERATIONS:\n",
    "CREATE TABLE name (...)                      -- Create table\n",
    "DROP TABLE name                              -- Delete table\n",
    "ALTER TABLE name ADD COLUMN col TYPE         -- Add column\n",
    "\"\"\"\n",
    "\n",
    "print(cheat_sheet)"
   ]
  },
  {
   "cell_type": "markdown",
   "metadata": {},
   "source": [
    "---\n",
    "\n",
    "## 🎓 Key Takeaways\n",
    "\n",
    "Congratulations! You now know SQL fundamentals! Here's what you learned:\n",
    "\n",
    "1. **What SQL Is**: A language for talking to databases\n",
    "2. **Why SQL Matters**: Handle data too big for pandas\n",
    "3. **Basic Operations**: SELECT, WHERE, ORDER BY, GROUP BY\n",
    "4. **Pandas Integration**: Seamlessly convert between DataFrames and SQL\n",
    "5. **CRUD Operations**: Create, Read, Update, Delete\n",
    "6. **Joins**: Combine multiple tables\n",
    "7. **Best Practices**: Use parameters to prevent SQL injection\n",
    "\n",
    "---\n",
    "\n",
    "## 🚀 Next Steps\n",
    "\n",
    "You're ready to:\n",
    "1. Work with the other SQL notebooks (01-04)\n",
    "2. Query real databases\n",
    "3. Build data pipelines\n",
    "4. Ace SQL interview questions\n",
    "\n",
    "**Remember**: SQL + Pandas = Data Science Superpower! 💪"
   ]
  },
  {
   "cell_type": "code",
   "execution_count": null,
   "metadata": {},
   "outputs": [],
   "source": [
    "# Cleanup\n",
    "conn.close()\n",
    "print(\"✅ Database connection closed.\")\n",
    "print(\"🎉 Congratulations! You now know SQL basics!\")\n",
    "print(\"\")\n",
    "print(\"📚 Next: Try the practice exercises, then move to notebook 01!\")"
   ]
  }
 ],
 "metadata": {
  "kernelspec": {
   "display_name": "aitechinstitute",
   "language": "python",
   "name": "python3"
  },
  "language_info": {
   "codemirror_mode": {
    "name": "ipython",
    "version": 3
   },
   "file_extension": ".py",
   "mimetype": "text/x-python",
   "name": "python",
   "nbconvert_exporter": "python",
   "pygments_lexer": "ipython3",
   "version": "3.11.13"
  }
 },
 "nbformat": 4,
 "nbformat_minor": 4
}
