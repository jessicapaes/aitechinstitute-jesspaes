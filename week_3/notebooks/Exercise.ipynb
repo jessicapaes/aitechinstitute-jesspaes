{
 "cells": [
  {
   "cell_type": "code",
   "execution_count": 4,
   "id": "b2349dcd",
   "metadata": {},
   "outputs": [],
   "source": [
    "import pandas as pd\n",
    "import numpy as np\n",
    "import sqlite3  # Built-in SQL database\n",
    "from sqlalchemy import create_engine  # Advanced database toolkit\n",
    "import warnings\n",
    "warnings.filterwarnings('ignore')\n",
    "\n"
   ]
  },
  {
   "cell_type": "code",
   "execution_count": 5,
   "id": "f0ec55c2",
   "metadata": {},
   "outputs": [],
   "source": [
    "\n",
    "\n",
    "conn = sqlite3.connect('my_second_database.db')  # Creates a file called my_first_database.db\n",
    "cursor = conn.cursor()  # A cursor is like a pointer to execute commands"
   ]
  },
  {
   "cell_type": "code",
   "execution_count": 7,
   "id": "4dedfa41",
   "metadata": {},
   "outputs": [],
   "source": [
    "desk_objects = {\n",
    "    'name': ['Laptop', 'Mouse', 'Keyboard', 'Monitor', 'Desk Lamp', 'Notebook', 'Pen', 'Coffee Mug', 'Phone Stand', 'USB Hub'],\n",
    "    'color': ['Silver', 'Black', 'White', 'Black', 'Blue', 'Red', 'Blue', 'Green', 'Gray', 'Silver'],\n",
    "    'value': [1200, 25, 85, 350, 45, 10, 5, 15, 30, 60]\n",
    "}"
   ]
  },
  {
   "cell_type": "code",
   "execution_count": 8,
   "id": "5173624a",
   "metadata": {},
   "outputs": [
    {
     "name": "stdout",
     "output_type": "stream",
     "text": [
      "          name   color  value\n",
      "0       Laptop  Silver   1200\n",
      "1        Mouse   Black     25\n",
      "2     Keyboard   White     85\n",
      "3      Monitor   Black    350\n",
      "4    Desk Lamp    Blue     45\n",
      "5     Notebook     Red     10\n",
      "6          Pen    Blue      5\n",
      "7   Coffee Mug   Green     15\n",
      "8  Phone Stand    Gray     30\n",
      "9      USB Hub  Silver     60\n"
     ]
    }
   ],
   "source": [
    "df = pd.DataFrame(desk_objects)\n",
    "print(df)"
   ]
  },
  {
   "cell_type": "code",
   "execution_count": 15,
   "id": "a1c915e7",
   "metadata": {},
   "outputs": [
    {
     "data": {
      "text/plain": [
       "10"
      ]
     },
     "execution_count": 15,
     "metadata": {},
     "output_type": "execute_result"
    }
   ],
   "source": [
    "df.to_sql(\n",
    "    name='desk_objects',           # Table name\n",
    "    con=conn,               # Database connection\n",
    "    if_exists='replace',    # Replace if table exists\n",
    "    index=False\n",
    ")"
   ]
  },
  {
   "cell_type": "code",
   "execution_count": 16,
   "id": "7c5597e2",
   "metadata": {},
   "outputs": [],
   "source": [
    "delete_sql = \"DELETE FROM desk_objects WHERE value < 50\"\n",
    "cursor.execute(delete_sql)\n",
    "conn.commit()"
   ]
  },
  {
   "cell_type": "code",
   "execution_count": 17,
   "id": "bc3a8d0b",
   "metadata": {},
   "outputs": [
    {
     "data": {
      "text/html": [
       "<div>\n",
       "<style scoped>\n",
       "    .dataframe tbody tr th:only-of-type {\n",
       "        vertical-align: middle;\n",
       "    }\n",
       "\n",
       "    .dataframe tbody tr th {\n",
       "        vertical-align: top;\n",
       "    }\n",
       "\n",
       "    .dataframe thead th {\n",
       "        text-align: right;\n",
       "    }\n",
       "</style>\n",
       "<table border=\"1\" class=\"dataframe\">\n",
       "  <thead>\n",
       "    <tr style=\"text-align: right;\">\n",
       "      <th></th>\n",
       "      <th>name</th>\n",
       "      <th>color</th>\n",
       "      <th>value</th>\n",
       "    </tr>\n",
       "  </thead>\n",
       "  <tbody>\n",
       "    <tr>\n",
       "      <th>0</th>\n",
       "      <td>Laptop</td>\n",
       "      <td>Silver</td>\n",
       "      <td>1200</td>\n",
       "    </tr>\n",
       "    <tr>\n",
       "      <th>1</th>\n",
       "      <td>Keyboard</td>\n",
       "      <td>White</td>\n",
       "      <td>85</td>\n",
       "    </tr>\n",
       "    <tr>\n",
       "      <th>2</th>\n",
       "      <td>Monitor</td>\n",
       "      <td>Black</td>\n",
       "      <td>350</td>\n",
       "    </tr>\n",
       "    <tr>\n",
       "      <th>3</th>\n",
       "      <td>USB Hub</td>\n",
       "      <td>Silver</td>\n",
       "      <td>60</td>\n",
       "    </tr>\n",
       "  </tbody>\n",
       "</table>\n",
       "</div>"
      ],
      "text/plain": [
       "       name   color  value\n",
       "0    Laptop  Silver   1200\n",
       "1  Keyboard   White     85\n",
       "2   Monitor   Black    350\n",
       "3   USB Hub  Silver     60"
      ]
     },
     "execution_count": 17,
     "metadata": {},
     "output_type": "execute_result"
    }
   ],
   "source": [
    "pd.read_sql(\"SELECT * FROM desk_objects\", conn)"
   ]
  }
 ],
 "metadata": {
  "kernelspec": {
   "display_name": "Python 3",
   "language": "python",
   "name": "python3"
  },
  "language_info": {
   "codemirror_mode": {
    "name": "ipython",
    "version": 3
   },
   "file_extension": ".py",
   "mimetype": "text/x-python",
   "name": "python",
   "nbconvert_exporter": "python",
   "pygments_lexer": "ipython3",
   "version": "3.13.7"
  }
 },
 "nbformat": 4,
 "nbformat_minor": 5
}
